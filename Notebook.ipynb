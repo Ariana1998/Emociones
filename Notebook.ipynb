{
 "cells": [
  {
   "cell_type": "markdown",
   "metadata": {},
   "source": [
    "## Medici&oacute;n y An&aacute;lisis de Reacciones Emocionales a Trav&eacute;s de Estimulos Visuales"
   ]
  },
  {
   "cell_type": "markdown",
   "metadata": {},
   "source": [
    "<style>\n",
    "    .imagen-ajustada {\n",
    "        width: 900px;\n",
    "        height: 280px;\n",
    "        border-radius: 20px;\n",
    "    }\n",
    "</style>\n",
    "\n",
    "<img src=\"Emociones.jpg\" alt=\"Una imagen\" class=\"imagen-ajustada\">"
   ]
  },
  {
   "cell_type": "markdown",
   "metadata": {},
   "source": [
    "Las emociones son algo muy b&aacute;sico en el ser humano, sin embargo muchas veces no es necesario expresar la emoci&oacute;n por medio de palabras, sino que con el rostro se puede denotar lo que estas sintiendo. Basandonos en este concepto el proyecto fue planificado para ver si por medio de estimulos visuales, en este caso videos, se pueden obtener reacciones emocionales de acuerdo a lo que se le muestre.\n",
    "\n",
    "Para el estudio se utilizaron 12 sujetos de prueba, en este caso fueron 8 hombres y 4 mujeres, con un rango de edad de 22 a 56 años con el fin de ver si generaba algun tipo de reaccion emocional por su parte."
   ]
  },
  {
   "cell_type": "markdown",
   "metadata": {},
   "source": [
    "El estudio consistia en mostrar 7 videos de 30 segundos conformados de la siguiente manera:\n",
    "- Un video de relajacion, con el fin de que el sujeto este en calma.\n",
    "- Un video donde una nina juega con su perro a que es veterinaria, con el fin de tratar de obtener una reaccion de felicidad o gracia. \n",
    "- Un video de relajacion, con el fin de que el sujeto vuelva a un estado neutral.\n",
    "- Un video donde un hombre golpea a su mujer con un bebe en brazos, con el fin de tratar de obtener una reaccion de enojo, impotencia y rabia.\n",
    "- Un video de relajacion, con el fin de que el sujeto vuelva a un estado neutral.\n",
    "- Un video donde una mujer esta abrazando a su perro mientras proceden a dormirlo, con el fin de obtener una reaccion de tristeza.\n",
    "- Finalmente, un video de relajacion con el fin de que el sujeto vuelva a un estado neutral.      "
   ]
  },
  {
   "cell_type": "markdown",
   "metadata": {},
   "source": [
    "El fin de comenzar y terminar con un video de relajacion es para ver si hay algun cambio entre el estado inicial y final, como nos indican en la materia de analisis y diseno de experimentos en ciencias de la computacion, tenemos que tener un pre y un post de en el estudio."
   ]
  },
  {
   "cell_type": "markdown",
   "metadata": {},
   "source": [
    "## Librerias Importadas"
   ]
  },
  {
   "cell_type": "code",
   "execution_count": 1,
   "metadata": {},
   "outputs": [],
   "source": [
    "import os\n",
    "import warnings\n",
    "import sys\n",
    "if not sys.warnoptions:\n",
    "    warnings.simplefilter(\"ignore\")\n",
    "warnings.filterwarnings(\"ignore\", category=DeprecationWarning)\n",
    "import mediapipe as mp\n",
    "import cv2\n",
    "import matplotlib.pyplot as plt\n",
    "from pydub import AudioSegment\n",
    "import subprocess\n",
    "from moviepy.editor import VideoFileClip\n",
    "import pandas as pd"
   ]
  },
  {
   "cell_type": "markdown",
   "metadata": {},
   "source": [
    "## Procesamiento de datos"
   ]
  },
  {
   "cell_type": "markdown",
   "metadata": {},
   "source": [
    "Para poder comenzar con el tratamiento de los datos fue importante separar los videos de los audios, por lo cual se uso un script para separarlos en distintas carpetas. Despues de eso se trato de cortar los audios a una misma cantidad de tiempo como en el siguiente codigo."
   ]
  },
  {
   "cell_type": "code",
   "execution_count": 21,
   "metadata": {},
   "outputs": [
    {
     "name": "stdout",
     "output_type": "stream",
     "text": [
      "Recorte completado.\n"
     ]
    }
   ],
   "source": [
    "# Ruta a la carpeta que contiene tus archivos de audio\n",
    "carpeta_audios = './Audios/'\n",
    "\n",
    "# Ruta a la carpeta donde deseas guardar los audios recortados\n",
    "carpeta_destino = './AudiosRecortados/'\n",
    "\n",
    "# Crear la carpeta de destino si no existe\n",
    "if not os.path.exists(carpeta_destino):\n",
    "    os.makedirs(carpeta_destino)\n",
    "\n",
    "# Iterar sobre cada archivo en la carpeta\n",
    "for archivo in os.listdir(carpeta_audios):\n",
    "    ruta_archivo = os.path.join(carpeta_audios, archivo)\n",
    "    \n",
    "    # Cargar el archivo de audio\n",
    "    audio = AudioSegment.from_file(ruta_archivo)\n",
    "    \n",
    "    # Descartar los primeros 30 segundos del audio\n",
    "    audio_recortado = audio[40000:]  # 30 segundos = 30,000 milisegundos\n",
    "    \n",
    "    # Guardar el audio recortado\n",
    "    ruta_destino = os.path.join(carpeta_destino, archivo)\n",
    "    audio_recortado.export(ruta_destino, format=\"wav\")  # Cambia \"wav\" si necesitas otro formato\n",
    "\n",
    "print(\"Recorte completado.\")"
   ]
  },
  {
   "cell_type": "markdown",
   "metadata": {},
   "source": [
    "Sin embargo, no se tomo en cuenta que no todos los audios duraban la misma cantidad de tiempo, asi como las personas hablaban mas o hablaban menos, por lo cual se opto por un script para cortar de forma personalizada cada audio y asi obtener de forma precisa los comentarios de los sujetos de prueba."
   ]
  },
  {
   "cell_type": "code",
   "execution_count": 30,
   "metadata": {},
   "outputs": [
    {
     "name": "stdout",
     "output_type": "stream",
     "text": [
      "Segmento recortado y guardado.\n"
     ]
    }
   ],
   "source": [
    "# Ruta al archivo de audio específico\n",
    "ruta_audio = './Audios/SUJETO6_TRISTEZA.wav'\n",
    "\n",
    "# Puntos de inicio y fin del segmento en milisegundos\n",
    "# Por ejemplo, para comenzar en el segundo 20 y terminar en el segundo 60\n",
    "inicio_ms = 30000  # Inicio a los 20 segundos\n",
    "duracion_ms = 17000  # Duración de 40 segundos desde el punto de inicio\n",
    "\n",
    "# Cargar el archivo de audio\n",
    "audio = AudioSegment.from_file(ruta_audio)\n",
    "\n",
    "# Recortar el segmento deseado\n",
    "segmento_audio = audio[inicio_ms:inicio_ms+duracion_ms]\n",
    "\n",
    "# Ruta para guardar el segmento recortado\n",
    "ruta_destino = './AudiosRecortados/SUJETO6_TRISTEZA_R.wav'\n",
    "\n",
    "# Guardar el segmento recortado\n",
    "segmento_audio.export(ruta_destino, format=\"wav\")\n",
    "\n",
    "print(\"Segmento recortado y guardado.\")\n"
   ]
  },
  {
   "cell_type": "markdown",
   "metadata": {},
   "source": [
    "Para el siguiente caso fue recortar los videos unicamente cuando se tiene la reaccion del sujeto con el video, por lo cual se utilizo un script para cortar los primeros segundos en base a la duracion del video."
   ]
  },
  {
   "cell_type": "code",
   "execution_count": 45,
   "metadata": {},
   "outputs": [
    {
     "name": "stdout",
     "output_type": "stream",
     "text": [
      "Moviepy - Building video ./VideosRecortados/SUJETO10_N4.MOV.\n",
      "MoviePy - Writing audio in SUJETO10_N4TEMP_MPY_wvf_snd.mp4\n"
     ]
    },
    {
     "name": "stderr",
     "output_type": "stream",
     "text": [
      "                                                                    \r"
     ]
    },
    {
     "name": "stdout",
     "output_type": "stream",
     "text": [
      "MoviePy - Done.\n",
      "Moviepy - Writing video ./VideosRecortados/SUJETO10_N4.MOV\n",
      "\n"
     ]
    },
    {
     "name": "stderr",
     "output_type": "stream",
     "text": [
      "                                                              \r"
     ]
    },
    {
     "name": "stdout",
     "output_type": "stream",
     "text": [
      "Moviepy - Done !\n",
      "Moviepy - video ready ./VideosRecortados/SUJETO10_N4.MOV\n",
      "Moviepy - Building video ./VideosRecortados/SUJETO11_N4.MOV.\n",
      "MoviePy - Writing audio in SUJETO11_N4TEMP_MPY_wvf_snd.mp4\n"
     ]
    },
    {
     "name": "stderr",
     "output_type": "stream",
     "text": [
      "                                                                    \r"
     ]
    },
    {
     "name": "stdout",
     "output_type": "stream",
     "text": [
      "MoviePy - Done.\n",
      "Moviepy - Writing video ./VideosRecortados/SUJETO11_N4.MOV\n",
      "\n"
     ]
    },
    {
     "name": "stderr",
     "output_type": "stream",
     "text": [
      "                                                              \r"
     ]
    },
    {
     "name": "stdout",
     "output_type": "stream",
     "text": [
      "Moviepy - Done !\n",
      "Moviepy - video ready ./VideosRecortados/SUJETO11_N4.MOV\n",
      "Moviepy - Building video ./VideosRecortados/SUJETO12_N4.MOV.\n",
      "MoviePy - Writing audio in SUJETO12_N4TEMP_MPY_wvf_snd.mp4\n"
     ]
    },
    {
     "name": "stderr",
     "output_type": "stream",
     "text": [
      "                                                                    \r"
     ]
    },
    {
     "name": "stdout",
     "output_type": "stream",
     "text": [
      "MoviePy - Done.\n",
      "Moviepy - Writing video ./VideosRecortados/SUJETO12_N4.MOV\n",
      "\n"
     ]
    },
    {
     "name": "stderr",
     "output_type": "stream",
     "text": [
      "                                                              \r"
     ]
    },
    {
     "name": "stdout",
     "output_type": "stream",
     "text": [
      "Moviepy - Done !\n",
      "Moviepy - video ready ./VideosRecortados/SUJETO12_N4.MOV\n",
      "Moviepy - Building video ./VideosRecortados/SUJETO1_N4.MOV.\n",
      "MoviePy - Writing audio in SUJETO1_N4TEMP_MPY_wvf_snd.mp4\n"
     ]
    },
    {
     "name": "stderr",
     "output_type": "stream",
     "text": [
      "                                                                    \r"
     ]
    },
    {
     "name": "stdout",
     "output_type": "stream",
     "text": [
      "MoviePy - Done.\n",
      "Moviepy - Writing video ./VideosRecortados/SUJETO1_N4.MOV\n",
      "\n"
     ]
    },
    {
     "name": "stderr",
     "output_type": "stream",
     "text": [
      "                                                              \r"
     ]
    },
    {
     "name": "stdout",
     "output_type": "stream",
     "text": [
      "Moviepy - Done !\n",
      "Moviepy - video ready ./VideosRecortados/SUJETO1_N4.MOV\n",
      "Moviepy - Building video ./VideosRecortados/SUJETO2_N4.MOV.\n",
      "MoviePy - Writing audio in SUJETO2_N4TEMP_MPY_wvf_snd.mp4\n"
     ]
    },
    {
     "name": "stderr",
     "output_type": "stream",
     "text": [
      "                                                                    \r"
     ]
    },
    {
     "name": "stdout",
     "output_type": "stream",
     "text": [
      "MoviePy - Done.\n",
      "Moviepy - Writing video ./VideosRecortados/SUJETO2_N4.MOV\n",
      "\n"
     ]
    },
    {
     "name": "stderr",
     "output_type": "stream",
     "text": [
      "                                                              \r"
     ]
    },
    {
     "name": "stdout",
     "output_type": "stream",
     "text": [
      "Moviepy - Done !\n",
      "Moviepy - video ready ./VideosRecortados/SUJETO2_N4.MOV\n",
      "Moviepy - Building video ./VideosRecortados/SUJETO3_N4.MOV.\n",
      "MoviePy - Writing audio in SUJETO3_N4TEMP_MPY_wvf_snd.mp4\n"
     ]
    },
    {
     "name": "stderr",
     "output_type": "stream",
     "text": [
      "                                                                    \r"
     ]
    },
    {
     "name": "stdout",
     "output_type": "stream",
     "text": [
      "MoviePy - Done.\n",
      "Moviepy - Writing video ./VideosRecortados/SUJETO3_N4.MOV\n",
      "\n"
     ]
    },
    {
     "name": "stderr",
     "output_type": "stream",
     "text": [
      "                                                              \r"
     ]
    },
    {
     "name": "stdout",
     "output_type": "stream",
     "text": [
      "Moviepy - Done !\n",
      "Moviepy - video ready ./VideosRecortados/SUJETO3_N4.MOV\n",
      "Moviepy - Building video ./VideosRecortados/SUJETO4_N4.MOV.\n",
      "MoviePy - Writing audio in SUJETO4_N4TEMP_MPY_wvf_snd.mp4\n"
     ]
    },
    {
     "name": "stderr",
     "output_type": "stream",
     "text": [
      "                                                                    \r"
     ]
    },
    {
     "name": "stdout",
     "output_type": "stream",
     "text": [
      "MoviePy - Done.\n",
      "Moviepy - Writing video ./VideosRecortados/SUJETO4_N4.MOV\n",
      "\n"
     ]
    },
    {
     "name": "stderr",
     "output_type": "stream",
     "text": [
      "                                                              \r"
     ]
    },
    {
     "name": "stdout",
     "output_type": "stream",
     "text": [
      "Moviepy - Done !\n",
      "Moviepy - video ready ./VideosRecortados/SUJETO4_N4.MOV\n",
      "Moviepy - Building video ./VideosRecortados/SUJETO5_N4.MOV.\n",
      "MoviePy - Writing audio in SUJETO5_N4TEMP_MPY_wvf_snd.mp4\n"
     ]
    },
    {
     "name": "stderr",
     "output_type": "stream",
     "text": [
      "                                                                    \r"
     ]
    },
    {
     "name": "stdout",
     "output_type": "stream",
     "text": [
      "MoviePy - Done.\n",
      "Moviepy - Writing video ./VideosRecortados/SUJETO5_N4.MOV\n",
      "\n"
     ]
    },
    {
     "name": "stderr",
     "output_type": "stream",
     "text": [
      "                                                              \r"
     ]
    },
    {
     "name": "stdout",
     "output_type": "stream",
     "text": [
      "Moviepy - Done !\n",
      "Moviepy - video ready ./VideosRecortados/SUJETO5_N4.MOV\n",
      "Moviepy - Building video ./VideosRecortados/SUJETO6_N4.MOV.\n",
      "MoviePy - Writing audio in SUJETO6_N4TEMP_MPY_wvf_snd.mp4\n"
     ]
    },
    {
     "name": "stderr",
     "output_type": "stream",
     "text": [
      "                                                                    \r"
     ]
    },
    {
     "name": "stdout",
     "output_type": "stream",
     "text": [
      "MoviePy - Done.\n",
      "Moviepy - Writing video ./VideosRecortados/SUJETO6_N4.MOV\n",
      "\n"
     ]
    },
    {
     "name": "stderr",
     "output_type": "stream",
     "text": [
      "                                                              \r"
     ]
    },
    {
     "name": "stdout",
     "output_type": "stream",
     "text": [
      "Moviepy - Done !\n",
      "Moviepy - video ready ./VideosRecortados/SUJETO6_N4.MOV\n",
      "Moviepy - Building video ./VideosRecortados/SUJETO7_N4.MOV.\n",
      "MoviePy - Writing audio in SUJETO7_N4TEMP_MPY_wvf_snd.mp4\n"
     ]
    },
    {
     "name": "stderr",
     "output_type": "stream",
     "text": [
      "                                                                    \r"
     ]
    },
    {
     "name": "stdout",
     "output_type": "stream",
     "text": [
      "MoviePy - Done.\n",
      "Moviepy - Writing video ./VideosRecortados/SUJETO7_N4.MOV\n",
      "\n"
     ]
    },
    {
     "name": "stderr",
     "output_type": "stream",
     "text": [
      "                                                              \r"
     ]
    },
    {
     "name": "stdout",
     "output_type": "stream",
     "text": [
      "Moviepy - Done !\n",
      "Moviepy - video ready ./VideosRecortados/SUJETO7_N4.MOV\n",
      "Moviepy - Building video ./VideosRecortados/SUJETO8_N4.MOV.\n",
      "MoviePy - Writing audio in SUJETO8_N4TEMP_MPY_wvf_snd.mp4\n"
     ]
    },
    {
     "name": "stderr",
     "output_type": "stream",
     "text": [
      "                                                                   \r"
     ]
    },
    {
     "name": "stdout",
     "output_type": "stream",
     "text": [
      "MoviePy - Done.\n",
      "Moviepy - Writing video ./VideosRecortados/SUJETO8_N4.MOV\n",
      "\n"
     ]
    },
    {
     "name": "stderr",
     "output_type": "stream",
     "text": [
      "                                                              \r"
     ]
    },
    {
     "name": "stdout",
     "output_type": "stream",
     "text": [
      "Moviepy - Done !\n",
      "Moviepy - video ready ./VideosRecortados/SUJETO8_N4.MOV\n",
      "Moviepy - Building video ./VideosRecortados/SUJETO9_N4.MOV.\n",
      "MoviePy - Writing audio in SUJETO9_N4TEMP_MPY_wvf_snd.mp4\n"
     ]
    },
    {
     "name": "stderr",
     "output_type": "stream",
     "text": [
      "                                                                    \r"
     ]
    },
    {
     "name": "stdout",
     "output_type": "stream",
     "text": [
      "MoviePy - Done.\n",
      "Moviepy - Writing video ./VideosRecortados/SUJETO9_N4.MOV\n",
      "\n"
     ]
    },
    {
     "name": "stderr",
     "output_type": "stream",
     "text": [
      "                                                              \r"
     ]
    },
    {
     "name": "stdout",
     "output_type": "stream",
     "text": [
      "Moviepy - Done !\n",
      "Moviepy - video ready ./VideosRecortados/SUJETO9_N4.MOV\n",
      "Todos los videos han sido recortados y guardados.\n"
     ]
    }
   ],
   "source": [
    "# Define la ruta de la carpeta que contiene los videos originales\n",
    "carpeta_videos = './Videos/'\n",
    "\n",
    "# Define la ruta de la carpeta donde guardarás los videos recortados\n",
    "carpeta_destino = './VideosRecortados/'\n",
    "\n",
    "# Crea la carpeta de destino si no existe\n",
    "if not os.path.exists(carpeta_destino):\n",
    "    os.makedirs(carpeta_destino)\n",
    "\n",
    "# Itera sobre cada archivo en la carpeta de videos\n",
    "for archivo in os.listdir(carpeta_videos):\n",
    "    # Verifica si el archivo termina en '_N1.MOV'\n",
    "    if archivo.endswith('_N4.MOV'):\n",
    "        ruta_completa = os.path.join(carpeta_videos, archivo)\n",
    "        \n",
    "        # Carga el video\n",
    "        video = VideoFileClip(ruta_completa)\n",
    "        \n",
    "        # Recorta el video desde el segundo 0 hasta el segundo 31\n",
    "        video_recortado = video.subclip(0, 33)\n",
    "        \n",
    "        # Define la ruta del archivo de destino\n",
    "        ruta_destino = os.path.join(carpeta_destino, archivo)\n",
    "        \n",
    "        # Guarda el video recortado en la carpeta de destino\n",
    "        video_recortado.write_videofile(ruta_destino, codec=\"libx264\", audio_codec=\"aac\")\n",
    "\n",
    "        # Cierra el clip para liberar recursos\n",
    "        video.close()\n",
    "        video_recortado.close()\n",
    "\n",
    "print(\"Todos los videos han sido recortados y guardados.\")\n"
   ]
  },
  {
   "cell_type": "markdown",
   "metadata": {},
   "source": [
    "En el caso del participante 9 el internet estaba fallando, por lo cual el video comenzo 8 segundos despues de comenzar a grabar, por lo cual individualmente se recorto el video con el siguiente codigo:"
   ]
  },
  {
   "cell_type": "code",
   "execution_count": 46,
   "metadata": {},
   "outputs": [
    {
     "name": "stdout",
     "output_type": "stream",
     "text": [
      "Moviepy - Building video ./VideosRecortados/SUJETO9_N4.MOV.\n",
      "MoviePy - Writing audio in SUJETO9_N4TEMP_MPY_wvf_snd.mp4\n"
     ]
    },
    {
     "name": "stderr",
     "output_type": "stream",
     "text": [
      "                                                                    \r"
     ]
    },
    {
     "name": "stdout",
     "output_type": "stream",
     "text": [
      "MoviePy - Done.\n",
      "Moviepy - Writing video ./VideosRecortados/SUJETO9_N4.MOV\n",
      "\n"
     ]
    },
    {
     "name": "stderr",
     "output_type": "stream",
     "text": [
      "                                                              \r"
     ]
    },
    {
     "name": "stdout",
     "output_type": "stream",
     "text": [
      "Moviepy - Done !\n",
      "Moviepy - video ready ./VideosRecortados/SUJETO9_N4.MOV\n",
      "El video SUJETO9_N4.MOV ha sido recortado y guardado.\n"
     ]
    }
   ],
   "source": [
    "# Define la ruta completa al video que deseas recortar\n",
    "ruta_video = './Videos/SUJETO9_N4.MOV'\n",
    "\n",
    "# Define la ruta de la carpeta donde guardarás el video recortado\n",
    "carpeta_destino = './VideosRecortados/'\n",
    "\n",
    "# Crea la carpeta de destino si no existe\n",
    "if not os.path.exists(carpeta_destino):\n",
    "    os.makedirs(carpeta_destino)\n",
    "\n",
    "# Comprueba si el archivo termina en '_N1.MOV'\n",
    "if ruta_video.endswith('_N4.MOV'):\n",
    "    # Carga el video\n",
    "    video = VideoFileClip(ruta_video)\n",
    "    \n",
    "    # Recorta el video desde el segundo 0 hasta el segundo 31\n",
    "    video_recortado = video.subclip(7, 38)\n",
    "    \n",
    "    # Extrae el nombre del archivo del video original\n",
    "    nombre_archivo = os.path.basename(ruta_video)\n",
    "    \n",
    "    # Define la ruta del archivo de destino\n",
    "    ruta_destino = os.path.join(carpeta_destino, nombre_archivo)\n",
    "    \n",
    "    # Guarda el video recortado en la carpeta de destino\n",
    "    video_recortado.write_videofile(ruta_destino, codec=\"libx264\", audio_codec=\"aac\")\n",
    "    \n",
    "    # Cierra el clip para liberar recursos\n",
    "    video.close()\n",
    "    video_recortado.close()\n",
    "\n",
    "    print(f\"El video {nombre_archivo} ha sido recortado y guardado.\")\n",
    "else:\n",
    "    print(\"El archivo no termina en '_N3.MOV', por lo que no se ha recortado.\")\n"
   ]
  },
  {
   "cell_type": "markdown",
   "metadata": {},
   "source": [
    "## An&aacute;lisis Exploratorio"
   ]
  },
  {
   "cell_type": "markdown",
   "metadata": {},
   "source": [
    "No solo se busco ver que si se obtenian reacciones por medio de estimulos visuales, tambien se aplico un cuestionario donde los sujetos de prueba daban puntuacion dependiendo de cuanto sintieron la emocion del 1 al 5, donde 1 es poco y 5 es mucho.\n",
    "Por lo cual, en base a sus auto reportes se puede ver por medio de la grafica que la mayoria "
   ]
  },
  {
   "cell_type": "markdown",
   "metadata": {},
   "source": [
    "## Pruebas"
   ]
  },
  {
   "cell_type": "code",
   "execution_count": 12,
   "metadata": {},
   "outputs": [],
   "source": [
    "mp_face_mesh = mp.solutions.face_mesh\n",
    "mp_drawing = mp.solutions.drawing_utils\n",
    "drawing_spec = mp_drawing.DrawingSpec(thickness=1, circle_radius=1)\n",
    "\n",
    "# Importa las utilidades de dibujo y los estilos de dibujo de MediaPipe\n",
    "mp_drawing = mp.solutions.drawing_utils\n",
    "mp_drawing_styles = mp.solutions.drawing_styles\n",
    "\n",
    "mp_face_mesh = mp.solutions.face_mesh\n",
    "\n",
    "# Inicializa FaceMesh\n",
    "face_mesh = mp_face_mesh.FaceMesh(\n",
    "    max_num_faces=1,\n",
    "    refine_landmarks=True,\n",
    "    min_detection_confidence=0.5,\n",
    "    min_tracking_confidence=0.5)\n",
    "\n",
    "cap = cv2.VideoCapture('./Videos/SUJETO10_ENOJO.MOV')  # Reemplaza esto con la ruta a tu video\n",
    "\n",
    "while cap.isOpened():\n",
    "    success, image = cap.read()\n",
    "    if not success:\n",
    "        print(\"Fin del video o error al cargar el archivo.\")  # Finaliza el bucle si no se pudo leer el video\n",
    "        break\n",
    "    \n",
    "    # Cambia la resolución de la imagen a 640x480\n",
    "    image = cv2.resize(image, (720, 540))\n",
    "\n",
    "    # Convertir la imagen de BGR a RGB\n",
    "    image = cv2.cvtColor(image, cv2.COLOR_BGR2RGB)\n",
    "    image.flags.writeable = False\n",
    "    \n",
    "    # Detección de puntos de referencia faciales\n",
    "    results = face_mesh.process(image)\n",
    "\n",
    "    image.flags.writeable = True\n",
    "    image = cv2.cvtColor(image, cv2.COLOR_RGB2BGR)\n",
    "\n",
    "    if results.multi_face_landmarks:\n",
    "        for face_landmarks in results.multi_face_landmarks:\n",
    "            mp_drawing.draw_landmarks(\n",
    "                image=image,\n",
    "                landmark_list=face_landmarks,\n",
    "                connections=mp_face_mesh.FACEMESH_TESSELATION,\n",
    "                landmark_drawing_spec=None,\n",
    "                connection_drawing_spec=mp_drawing_styles.get_default_face_mesh_tesselation_style())\n",
    "\n",
    "    cv2.imshow('Face Landmark Detection', image)\n",
    "    if cv2.waitKey(1) & 0xFF == 27:  # Presiona ESC para salir\n",
    "        break\n",
    "\n",
    "cap.release()\n",
    "cv2.destroyAllWindows()"
   ]
  },
  {
   "cell_type": "code",
   "execution_count": 3,
   "metadata": {},
   "outputs": [
    {
     "name": "stdout",
     "output_type": "stream",
     "text": [
      "Fin del video o error al cargar el archivo.\n"
     ]
    }
   ],
   "source": [
    "import cv2\n",
    "import mediapipe as mp\n",
    "\n",
    "mp_drawing = mp.solutions.drawing_utils\n",
    "mp_drawing_styles = mp.solutions.drawing_styles\n",
    "mp_face_mesh = mp.solutions.face_mesh\n",
    "\n",
    "# Inicializa FaceMesh con las opciones deseadas\n",
    "face_mesh = mp_face_mesh.FaceMesh(\n",
    "    max_num_faces=1,\n",
    "    refine_landmarks=True,\n",
    "    min_detection_confidence=0.5,\n",
    "    min_tracking_confidence=0.5)\n",
    "\n",
    "cap = cv2.VideoCapture('./Videos/SUJETO5_ENOJO.MOV')  # Asegúrate de que la ruta al video es correcta\n",
    "\n",
    "while cap.isOpened():\n",
    "    success, image = cap.read()\n",
    "    if not success:\n",
    "        print(\"Fin del video o error al cargar el archivo.\")\n",
    "        break\n",
    "    \n",
    "    # Cambia la resolución de la imagen a 640x480\n",
    "    image = cv2.resize(image, (720, 540))\n",
    "\n",
    "    # Convertir la imagen de BGR a RGB\n",
    "    image = cv2.cvtColor(image, cv2.COLOR_BGR2RGB)\n",
    "    image.flags.writeable = False\n",
    "    \n",
    "    # Detección de puntos de referencia faciales\n",
    "    results = face_mesh.process(image)\n",
    "\n",
    "    image.flags.writeable = True\n",
    "    image = cv2.cvtColor(image, cv2.COLOR_RGB2BGR)\n",
    "\n",
    "    if results.multi_face_landmarks:\n",
    "        for face_landmarks in results.multi_face_landmarks:\n",
    "            # Dibuja las áreas de los ojos\n",
    "            mp_drawing.draw_landmarks(\n",
    "                image=image,\n",
    "                landmark_list=face_landmarks,\n",
    "                connections=mp_face_mesh.FACEMESH_LEFT_EYE,\n",
    "                landmark_drawing_spec=None,\n",
    "                connection_drawing_spec=mp_drawing_styles.get_default_face_mesh_tesselation_style())\n",
    "            mp_drawing.draw_landmarks(\n",
    "                image=image,\n",
    "                landmark_list=face_landmarks,\n",
    "                connections=mp_face_mesh.FACEMESH_RIGHT_EYE,\n",
    "                landmark_drawing_spec=None,\n",
    "                connection_drawing_spec=mp_drawing_styles.get_default_face_mesh_tesselation_style())\n",
    "\n",
    "            # Dibuja las cejas\n",
    "            mp_drawing.draw_landmarks(\n",
    "                image=image,\n",
    "                landmark_list=face_landmarks,\n",
    "                connections=mp_face_mesh.FACEMESH_LEFT_EYEBROW,\n",
    "                landmark_drawing_spec=None,\n",
    "                connection_drawing_spec=mp_drawing_styles.get_default_face_mesh_tesselation_style())\n",
    "            mp_drawing.draw_landmarks(\n",
    "                image=image,\n",
    "                landmark_list=face_landmarks,\n",
    "                connections=mp_face_mesh.FACEMESH_RIGHT_EYEBROW,\n",
    "                landmark_drawing_spec=None,\n",
    "                connection_drawing_spec=mp_drawing_styles.get_default_face_mesh_tesselation_style())\n",
    "\n",
    "            # Dibuja la nariz\n",
    "            mp_drawing.draw_landmarks(\n",
    "                image=image,\n",
    "                landmark_list=face_landmarks,\n",
    "                connections=mp_face_mesh.FACEMESH_NOSE,\n",
    "                landmark_drawing_spec=None,\n",
    "                connection_drawing_spec=mp_drawing_styles.get_default_face_mesh_tesselation_style())\n",
    "\n",
    "            # Dibuja los labios\n",
    "            mp_drawing.draw_landmarks(\n",
    "                image=image,\n",
    "                landmark_list=face_landmarks,\n",
    "                connections=mp_face_mesh.FACEMESH_LIPS,\n",
    "                landmark_drawing_spec=None,\n",
    "                connection_drawing_spec=mp_drawing_styles.get_default_face_mesh_tesselation_style())\n",
    "\n",
    "    cv2.imshow('Face Landmark Detection', image)\n",
    "    if cv2.waitKey(5) & 0xFF == 27:  # Presiona ESC para salir\n",
    "        break\n",
    "\n",
    "cap.release()\n",
    "cv2.destroyAllWindows()\n"
   ]
  },
  {
   "cell_type": "markdown",
   "metadata": {},
   "source": [
    "## Extracci&oacute;n de Caracter&iacute;sticas "
   ]
  },
  {
   "cell_type": "code",
   "execution_count": 25,
   "metadata": {},
   "outputs": [
    {
     "name": "stdout",
     "output_type": "stream",
     "text": [
      "                  SUJETO INICIO   FIN      LABEL\n",
      "0      SUJETO1_ENOJO.MOV   0:03  0:14      ENOJO\n",
      "1         SUJETO1_N1.MOV   0:10  0:20    NEUTRAL\n",
      "2  SUJETO1_FELICIDAD.MOV   0:07  0:14  FELICIDAD\n",
      "3   SUJETO1_TRISTEZA.MOV   0:03  0:13   TRISTEZA\n",
      "4      SUJETO2_ENOJO.MOV   0:05  0:15      ENOJO\n"
     ]
    }
   ],
   "source": [
    "path = './VideosSegmentados.csv'\n",
    "segmentado_df = pd.read_csv(path)\n",
    "print(segmentado_df.head())\n"
   ]
  },
  {
   "cell_type": "code",
   "execution_count": 37,
   "metadata": {},
   "outputs": [
    {
     "name": "stdout",
     "output_type": "stream",
     "text": [
      "Moviepy - Building video ./VideosSegmentados\\SUJETO1_ENOJO_segmentado.mp4.\n",
      "MoviePy - Writing audio in SUJETO1_ENOJO_segmentadoTEMP_MPY_wvf_snd.mp4\n"
     ]
    },
    {
     "name": "stderr",
     "output_type": "stream",
     "text": [
      "                                                                   \r"
     ]
    },
    {
     "name": "stdout",
     "output_type": "stream",
     "text": [
      "MoviePy - Done.\n",
      "Moviepy - Writing video ./VideosSegmentados\\SUJETO1_ENOJO_segmentado.mp4\n",
      "\n"
     ]
    },
    {
     "name": "stderr",
     "output_type": "stream",
     "text": [
      "                                                              \r"
     ]
    },
    {
     "name": "stdout",
     "output_type": "stream",
     "text": [
      "Moviepy - Done !\n",
      "Moviepy - video ready ./VideosSegmentados\\SUJETO1_ENOJO_segmentado.mp4\n",
      "Moviepy - Building video ./VideosSegmentados\\SUJETO1_N1_segmentado.mp4.\n",
      "MoviePy - Writing audio in SUJETO1_N1_segmentadoTEMP_MPY_wvf_snd.mp4\n"
     ]
    },
    {
     "name": "stderr",
     "output_type": "stream",
     "text": [
      "                                                                   \r"
     ]
    },
    {
     "name": "stdout",
     "output_type": "stream",
     "text": [
      "MoviePy - Done.\n",
      "Moviepy - Writing video ./VideosSegmentados\\SUJETO1_N1_segmentado.mp4\n",
      "\n"
     ]
    },
    {
     "name": "stderr",
     "output_type": "stream",
     "text": [
      "                                                              \r"
     ]
    },
    {
     "name": "stdout",
     "output_type": "stream",
     "text": [
      "Moviepy - Done !\n",
      "Moviepy - video ready ./VideosSegmentados\\SUJETO1_N1_segmentado.mp4\n",
      "Moviepy - Building video ./VideosSegmentados\\SUJETO1_FELICIDAD_segmentado.mp4.\n",
      "MoviePy - Writing audio in SUJETO1_FELICIDAD_segmentadoTEMP_MPY_wvf_snd.mp4\n"
     ]
    },
    {
     "name": "stderr",
     "output_type": "stream",
     "text": [
      "                                                                  \r"
     ]
    },
    {
     "name": "stdout",
     "output_type": "stream",
     "text": [
      "MoviePy - Done.\n",
      "Moviepy - Writing video ./VideosSegmentados\\SUJETO1_FELICIDAD_segmentado.mp4\n",
      "\n"
     ]
    },
    {
     "name": "stderr",
     "output_type": "stream",
     "text": [
      "                                                              \r"
     ]
    },
    {
     "name": "stdout",
     "output_type": "stream",
     "text": [
      "Moviepy - Done !\n",
      "Moviepy - video ready ./VideosSegmentados\\SUJETO1_FELICIDAD_segmentado.mp4\n",
      "Moviepy - Building video ./VideosSegmentados\\SUJETO1_TRISTEZA_segmentado.mp4.\n",
      "MoviePy - Writing audio in SUJETO1_TRISTEZA_segmentadoTEMP_MPY_wvf_snd.mp4\n"
     ]
    },
    {
     "name": "stderr",
     "output_type": "stream",
     "text": [
      "                                                                   \r"
     ]
    },
    {
     "name": "stdout",
     "output_type": "stream",
     "text": [
      "MoviePy - Done.\n",
      "Moviepy - Writing video ./VideosSegmentados\\SUJETO1_TRISTEZA_segmentado.mp4\n",
      "\n"
     ]
    },
    {
     "name": "stderr",
     "output_type": "stream",
     "text": [
      "                                                              \r"
     ]
    },
    {
     "name": "stdout",
     "output_type": "stream",
     "text": [
      "Moviepy - Done !\n",
      "Moviepy - video ready ./VideosSegmentados\\SUJETO1_TRISTEZA_segmentado.mp4\n",
      "Moviepy - Building video ./VideosSegmentados\\SUJETO2_ENOJO_segmentado.mp4.\n",
      "MoviePy - Writing audio in SUJETO2_ENOJO_segmentadoTEMP_MPY_wvf_snd.mp4\n"
     ]
    },
    {
     "name": "stderr",
     "output_type": "stream",
     "text": [
      "                                                                   \r"
     ]
    },
    {
     "name": "stdout",
     "output_type": "stream",
     "text": [
      "MoviePy - Done.\n",
      "Moviepy - Writing video ./VideosSegmentados\\SUJETO2_ENOJO_segmentado.mp4\n",
      "\n"
     ]
    },
    {
     "name": "stderr",
     "output_type": "stream",
     "text": [
      "                                                              \r"
     ]
    },
    {
     "name": "stdout",
     "output_type": "stream",
     "text": [
      "Moviepy - Done !\n",
      "Moviepy - video ready ./VideosSegmentados\\SUJETO2_ENOJO_segmentado.mp4\n",
      "Moviepy - Building video ./VideosSegmentados\\SUJETO2_N1_segmentado.mp4.\n",
      "MoviePy - Writing audio in SUJETO2_N1_segmentadoTEMP_MPY_wvf_snd.mp4\n"
     ]
    },
    {
     "name": "stderr",
     "output_type": "stream",
     "text": [
      "                                                                   \r"
     ]
    },
    {
     "name": "stdout",
     "output_type": "stream",
     "text": [
      "MoviePy - Done.\n",
      "Moviepy - Writing video ./VideosSegmentados\\SUJETO2_N1_segmentado.mp4\n",
      "\n"
     ]
    },
    {
     "name": "stderr",
     "output_type": "stream",
     "text": [
      "                                                              \r"
     ]
    },
    {
     "name": "stdout",
     "output_type": "stream",
     "text": [
      "Moviepy - Done !\n",
      "Moviepy - video ready ./VideosSegmentados\\SUJETO2_N1_segmentado.mp4\n",
      "Moviepy - Building video ./VideosSegmentados\\SUJETO2_FELICIDAD_segmentado.mp4.\n",
      "MoviePy - Writing audio in SUJETO2_FELICIDAD_segmentadoTEMP_MPY_wvf_snd.mp4\n"
     ]
    },
    {
     "name": "stderr",
     "output_type": "stream",
     "text": [
      "                                                                   \r"
     ]
    },
    {
     "name": "stdout",
     "output_type": "stream",
     "text": [
      "MoviePy - Done.\n",
      "Moviepy - Writing video ./VideosSegmentados\\SUJETO2_FELICIDAD_segmentado.mp4\n",
      "\n"
     ]
    },
    {
     "name": "stderr",
     "output_type": "stream",
     "text": [
      "                                                              \r"
     ]
    },
    {
     "name": "stdout",
     "output_type": "stream",
     "text": [
      "Moviepy - Done !\n",
      "Moviepy - video ready ./VideosSegmentados\\SUJETO2_FELICIDAD_segmentado.mp4\n",
      "Moviepy - Building video ./VideosSegmentados\\SUJETO2_TRISTEZA_segmentado.mp4.\n",
      "MoviePy - Writing audio in SUJETO2_TRISTEZA_segmentadoTEMP_MPY_wvf_snd.mp4\n"
     ]
    },
    {
     "name": "stderr",
     "output_type": "stream",
     "text": [
      "                                                                   \r"
     ]
    },
    {
     "name": "stdout",
     "output_type": "stream",
     "text": [
      "MoviePy - Done.\n",
      "Moviepy - Writing video ./VideosSegmentados\\SUJETO2_TRISTEZA_segmentado.mp4\n",
      "\n"
     ]
    },
    {
     "name": "stderr",
     "output_type": "stream",
     "text": [
      "                                                              \r"
     ]
    },
    {
     "name": "stdout",
     "output_type": "stream",
     "text": [
      "Moviepy - Done !\n",
      "Moviepy - video ready ./VideosSegmentados\\SUJETO2_TRISTEZA_segmentado.mp4\n",
      "Moviepy - Building video ./VideosSegmentados\\SUJETO3_ENOJO_segmentado.mp4.\n",
      "MoviePy - Writing audio in SUJETO3_ENOJO_segmentadoTEMP_MPY_wvf_snd.mp4\n"
     ]
    },
    {
     "name": "stderr",
     "output_type": "stream",
     "text": [
      "                                                                   \r"
     ]
    },
    {
     "name": "stdout",
     "output_type": "stream",
     "text": [
      "MoviePy - Done.\n",
      "Moviepy - Writing video ./VideosSegmentados\\SUJETO3_ENOJO_segmentado.mp4\n",
      "\n"
     ]
    },
    {
     "name": "stderr",
     "output_type": "stream",
     "text": [
      "                                                              \r"
     ]
    },
    {
     "name": "stdout",
     "output_type": "stream",
     "text": [
      "Moviepy - Done !\n",
      "Moviepy - video ready ./VideosSegmentados\\SUJETO3_ENOJO_segmentado.mp4\n",
      "Moviepy - Building video ./VideosSegmentados\\SUJETO3_N1_segmentado.mp4.\n",
      "MoviePy - Writing audio in SUJETO3_N1_segmentadoTEMP_MPY_wvf_snd.mp4\n"
     ]
    },
    {
     "name": "stderr",
     "output_type": "stream",
     "text": [
      "                                                                   \r"
     ]
    },
    {
     "name": "stdout",
     "output_type": "stream",
     "text": [
      "MoviePy - Done.\n",
      "Moviepy - Writing video ./VideosSegmentados\\SUJETO3_N1_segmentado.mp4\n",
      "\n"
     ]
    },
    {
     "name": "stderr",
     "output_type": "stream",
     "text": [
      "                                                              \r"
     ]
    },
    {
     "name": "stdout",
     "output_type": "stream",
     "text": [
      "Moviepy - Done !\n",
      "Moviepy - video ready ./VideosSegmentados\\SUJETO3_N1_segmentado.mp4\n",
      "Moviepy - Building video ./VideosSegmentados\\SUJETO3_FELICIDAD_segmentado.mp4.\n",
      "MoviePy - Writing audio in SUJETO3_FELICIDAD_segmentadoTEMP_MPY_wvf_snd.mp4\n"
     ]
    },
    {
     "name": "stderr",
     "output_type": "stream",
     "text": [
      "                                                                   \r"
     ]
    },
    {
     "name": "stdout",
     "output_type": "stream",
     "text": [
      "MoviePy - Done.\n",
      "Moviepy - Writing video ./VideosSegmentados\\SUJETO3_FELICIDAD_segmentado.mp4\n",
      "\n"
     ]
    },
    {
     "name": "stderr",
     "output_type": "stream",
     "text": [
      "                                                              \r"
     ]
    },
    {
     "name": "stdout",
     "output_type": "stream",
     "text": [
      "Moviepy - Done !\n",
      "Moviepy - video ready ./VideosSegmentados\\SUJETO3_FELICIDAD_segmentado.mp4\n",
      "Moviepy - Building video ./VideosSegmentados\\SUJETO3_TRISTEZA_segmentado.mp4.\n",
      "MoviePy - Writing audio in SUJETO3_TRISTEZA_segmentadoTEMP_MPY_wvf_snd.mp4\n"
     ]
    },
    {
     "name": "stderr",
     "output_type": "stream",
     "text": [
      "                                                                   \r"
     ]
    },
    {
     "name": "stdout",
     "output_type": "stream",
     "text": [
      "MoviePy - Done.\n",
      "Moviepy - Writing video ./VideosSegmentados\\SUJETO3_TRISTEZA_segmentado.mp4\n",
      "\n"
     ]
    },
    {
     "name": "stderr",
     "output_type": "stream",
     "text": [
      "                                                              \r"
     ]
    },
    {
     "name": "stdout",
     "output_type": "stream",
     "text": [
      "Moviepy - Done !\n",
      "Moviepy - video ready ./VideosSegmentados\\SUJETO3_TRISTEZA_segmentado.mp4\n",
      "Moviepy - Building video ./VideosSegmentados\\SUJETO4_ENOJO_segmentado.mp4.\n",
      "MoviePy - Writing audio in SUJETO4_ENOJO_segmentadoTEMP_MPY_wvf_snd.mp4\n"
     ]
    },
    {
     "name": "stderr",
     "output_type": "stream",
     "text": [
      "                                                                   \r"
     ]
    },
    {
     "name": "stdout",
     "output_type": "stream",
     "text": [
      "MoviePy - Done.\n",
      "Moviepy - Writing video ./VideosSegmentados\\SUJETO4_ENOJO_segmentado.mp4\n",
      "\n"
     ]
    },
    {
     "name": "stderr",
     "output_type": "stream",
     "text": [
      "                                                              \r"
     ]
    },
    {
     "name": "stdout",
     "output_type": "stream",
     "text": [
      "Moviepy - Done !\n",
      "Moviepy - video ready ./VideosSegmentados\\SUJETO4_ENOJO_segmentado.mp4\n",
      "Moviepy - Building video ./VideosSegmentados\\SUJETO4_N1_segmentado.mp4.\n",
      "MoviePy - Writing audio in SUJETO4_N1_segmentadoTEMP_MPY_wvf_snd.mp4\n"
     ]
    },
    {
     "name": "stderr",
     "output_type": "stream",
     "text": [
      "                                                                   \r"
     ]
    },
    {
     "name": "stdout",
     "output_type": "stream",
     "text": [
      "MoviePy - Done.\n",
      "Moviepy - Writing video ./VideosSegmentados\\SUJETO4_N1_segmentado.mp4\n",
      "\n"
     ]
    },
    {
     "name": "stderr",
     "output_type": "stream",
     "text": [
      "                                                              \r"
     ]
    },
    {
     "name": "stdout",
     "output_type": "stream",
     "text": [
      "Moviepy - Done !\n",
      "Moviepy - video ready ./VideosSegmentados\\SUJETO4_N1_segmentado.mp4\n",
      "Moviepy - Building video ./VideosSegmentados\\SUJETO4_FELICIDAD_segmentado.mp4.\n",
      "MoviePy - Writing audio in SUJETO4_FELICIDAD_segmentadoTEMP_MPY_wvf_snd.mp4\n"
     ]
    },
    {
     "name": "stderr",
     "output_type": "stream",
     "text": [
      "                                                                   \r"
     ]
    },
    {
     "name": "stdout",
     "output_type": "stream",
     "text": [
      "MoviePy - Done.\n",
      "Moviepy - Writing video ./VideosSegmentados\\SUJETO4_FELICIDAD_segmentado.mp4\n",
      "\n"
     ]
    },
    {
     "name": "stderr",
     "output_type": "stream",
     "text": [
      "                                                              \r"
     ]
    },
    {
     "name": "stdout",
     "output_type": "stream",
     "text": [
      "Moviepy - Done !\n",
      "Moviepy - video ready ./VideosSegmentados\\SUJETO4_FELICIDAD_segmentado.mp4\n",
      "Moviepy - Building video ./VideosSegmentados\\SUJETO4_TRISTEZA_segmentado.mp4.\n",
      "MoviePy - Writing audio in SUJETO4_TRISTEZA_segmentadoTEMP_MPY_wvf_snd.mp4\n"
     ]
    },
    {
     "name": "stderr",
     "output_type": "stream",
     "text": [
      "                                                                   \r"
     ]
    },
    {
     "name": "stdout",
     "output_type": "stream",
     "text": [
      "MoviePy - Done.\n",
      "Moviepy - Writing video ./VideosSegmentados\\SUJETO4_TRISTEZA_segmentado.mp4\n",
      "\n"
     ]
    },
    {
     "name": "stderr",
     "output_type": "stream",
     "text": [
      "                                                              \r"
     ]
    },
    {
     "name": "stdout",
     "output_type": "stream",
     "text": [
      "Moviepy - Done !\n",
      "Moviepy - video ready ./VideosSegmentados\\SUJETO4_TRISTEZA_segmentado.mp4\n",
      "Moviepy - Building video ./VideosSegmentados\\SUJETO5_ENOJO_segmentado.mp4.\n",
      "MoviePy - Writing audio in SUJETO5_ENOJO_segmentadoTEMP_MPY_wvf_snd.mp4\n"
     ]
    },
    {
     "name": "stderr",
     "output_type": "stream",
     "text": [
      "                                                                   \r"
     ]
    },
    {
     "name": "stdout",
     "output_type": "stream",
     "text": [
      "MoviePy - Done.\n",
      "Moviepy - Writing video ./VideosSegmentados\\SUJETO5_ENOJO_segmentado.mp4\n",
      "\n"
     ]
    },
    {
     "name": "stderr",
     "output_type": "stream",
     "text": [
      "                                                              \r"
     ]
    },
    {
     "name": "stdout",
     "output_type": "stream",
     "text": [
      "Moviepy - Done !\n",
      "Moviepy - video ready ./VideosSegmentados\\SUJETO5_ENOJO_segmentado.mp4\n",
      "Moviepy - Building video ./VideosSegmentados\\SUJETO5_N1_segmentado.mp4.\n",
      "MoviePy - Writing audio in SUJETO5_N1_segmentadoTEMP_MPY_wvf_snd.mp4\n"
     ]
    },
    {
     "name": "stderr",
     "output_type": "stream",
     "text": [
      "                                                                   \r"
     ]
    },
    {
     "name": "stdout",
     "output_type": "stream",
     "text": [
      "MoviePy - Done.\n",
      "Moviepy - Writing video ./VideosSegmentados\\SUJETO5_N1_segmentado.mp4\n",
      "\n"
     ]
    },
    {
     "name": "stderr",
     "output_type": "stream",
     "text": [
      "                                                              \r"
     ]
    },
    {
     "name": "stdout",
     "output_type": "stream",
     "text": [
      "Moviepy - Done !\n",
      "Moviepy - video ready ./VideosSegmentados\\SUJETO5_N1_segmentado.mp4\n",
      "Moviepy - Building video ./VideosSegmentados\\SUJETO5_FELICIDAD_segmentado.mp4.\n",
      "MoviePy - Writing audio in SUJETO5_FELICIDAD_segmentadoTEMP_MPY_wvf_snd.mp4\n"
     ]
    },
    {
     "name": "stderr",
     "output_type": "stream",
     "text": [
      "                                                                   \r"
     ]
    },
    {
     "name": "stdout",
     "output_type": "stream",
     "text": [
      "MoviePy - Done.\n",
      "Moviepy - Writing video ./VideosSegmentados\\SUJETO5_FELICIDAD_segmentado.mp4\n",
      "\n"
     ]
    },
    {
     "name": "stderr",
     "output_type": "stream",
     "text": [
      "                                                              \r"
     ]
    },
    {
     "name": "stdout",
     "output_type": "stream",
     "text": [
      "Moviepy - Done !\n",
      "Moviepy - video ready ./VideosSegmentados\\SUJETO5_FELICIDAD_segmentado.mp4\n",
      "Moviepy - Building video ./VideosSegmentados\\SUJETO5_TRISTEZA_segmentado.mp4.\n",
      "MoviePy - Writing audio in SUJETO5_TRISTEZA_segmentadoTEMP_MPY_wvf_snd.mp4\n"
     ]
    },
    {
     "name": "stderr",
     "output_type": "stream",
     "text": [
      "                                                                   \r"
     ]
    },
    {
     "name": "stdout",
     "output_type": "stream",
     "text": [
      "MoviePy - Done.\n",
      "Moviepy - Writing video ./VideosSegmentados\\SUJETO5_TRISTEZA_segmentado.mp4\n",
      "\n"
     ]
    },
    {
     "name": "stderr",
     "output_type": "stream",
     "text": [
      "                                                              \r"
     ]
    },
    {
     "name": "stdout",
     "output_type": "stream",
     "text": [
      "Moviepy - Done !\n",
      "Moviepy - video ready ./VideosSegmentados\\SUJETO5_TRISTEZA_segmentado.mp4\n",
      "Moviepy - Building video ./VideosSegmentados\\SUJETO6_ENOJO_segmentado.mp4.\n",
      "MoviePy - Writing audio in SUJETO6_ENOJO_segmentadoTEMP_MPY_wvf_snd.mp4\n"
     ]
    },
    {
     "name": "stderr",
     "output_type": "stream",
     "text": [
      "                                                                   \r"
     ]
    },
    {
     "name": "stdout",
     "output_type": "stream",
     "text": [
      "MoviePy - Done.\n",
      "Moviepy - Writing video ./VideosSegmentados\\SUJETO6_ENOJO_segmentado.mp4\n",
      "\n"
     ]
    },
    {
     "name": "stderr",
     "output_type": "stream",
     "text": [
      "                                                              \r"
     ]
    },
    {
     "name": "stdout",
     "output_type": "stream",
     "text": [
      "Moviepy - Done !\n",
      "Moviepy - video ready ./VideosSegmentados\\SUJETO6_ENOJO_segmentado.mp4\n",
      "Moviepy - Building video ./VideosSegmentados\\SUJETO6_N1_segmentado.mp4.\n",
      "MoviePy - Writing audio in SUJETO6_N1_segmentadoTEMP_MPY_wvf_snd.mp4\n"
     ]
    },
    {
     "name": "stderr",
     "output_type": "stream",
     "text": [
      "                                                                   \r"
     ]
    },
    {
     "name": "stdout",
     "output_type": "stream",
     "text": [
      "MoviePy - Done.\n",
      "Moviepy - Writing video ./VideosSegmentados\\SUJETO6_N1_segmentado.mp4\n",
      "\n"
     ]
    },
    {
     "name": "stderr",
     "output_type": "stream",
     "text": [
      "                                                              \r"
     ]
    },
    {
     "name": "stdout",
     "output_type": "stream",
     "text": [
      "Moviepy - Done !\n",
      "Moviepy - video ready ./VideosSegmentados\\SUJETO6_N1_segmentado.mp4\n",
      "Moviepy - Building video ./VideosSegmentados\\SUJETO6_FELICIDAD_segmentado.mp4.\n",
      "MoviePy - Writing audio in SUJETO6_FELICIDAD_segmentadoTEMP_MPY_wvf_snd.mp4\n"
     ]
    },
    {
     "name": "stderr",
     "output_type": "stream",
     "text": [
      "                                                                   \r"
     ]
    },
    {
     "name": "stdout",
     "output_type": "stream",
     "text": [
      "MoviePy - Done.\n",
      "Moviepy - Writing video ./VideosSegmentados\\SUJETO6_FELICIDAD_segmentado.mp4\n",
      "\n"
     ]
    },
    {
     "name": "stderr",
     "output_type": "stream",
     "text": [
      "                                                              \r"
     ]
    },
    {
     "name": "stdout",
     "output_type": "stream",
     "text": [
      "Moviepy - Done !\n",
      "Moviepy - video ready ./VideosSegmentados\\SUJETO6_FELICIDAD_segmentado.mp4\n",
      "Moviepy - Building video ./VideosSegmentados\\SUJETO6_TRISTEZA_segmentado.mp4.\n",
      "MoviePy - Writing audio in SUJETO6_TRISTEZA_segmentadoTEMP_MPY_wvf_snd.mp4\n"
     ]
    },
    {
     "name": "stderr",
     "output_type": "stream",
     "text": [
      "                                                                   \r"
     ]
    },
    {
     "name": "stdout",
     "output_type": "stream",
     "text": [
      "MoviePy - Done.\n",
      "Moviepy - Writing video ./VideosSegmentados\\SUJETO6_TRISTEZA_segmentado.mp4\n",
      "\n"
     ]
    },
    {
     "name": "stderr",
     "output_type": "stream",
     "text": [
      "                                                              \r"
     ]
    },
    {
     "name": "stdout",
     "output_type": "stream",
     "text": [
      "Moviepy - Done !\n",
      "Moviepy - video ready ./VideosSegmentados\\SUJETO6_TRISTEZA_segmentado.mp4\n",
      "Moviepy - Building video ./VideosSegmentados\\SUJETO7_ENOJO_segmentado.mp4.\n",
      "MoviePy - Writing audio in SUJETO7_ENOJO_segmentadoTEMP_MPY_wvf_snd.mp4\n"
     ]
    },
    {
     "name": "stderr",
     "output_type": "stream",
     "text": [
      "                                                                   \r"
     ]
    },
    {
     "name": "stdout",
     "output_type": "stream",
     "text": [
      "MoviePy - Done.\n",
      "Moviepy - Writing video ./VideosSegmentados\\SUJETO7_ENOJO_segmentado.mp4\n",
      "\n"
     ]
    },
    {
     "name": "stderr",
     "output_type": "stream",
     "text": [
      "                                                              \r"
     ]
    },
    {
     "name": "stdout",
     "output_type": "stream",
     "text": [
      "Moviepy - Done !\n",
      "Moviepy - video ready ./VideosSegmentados\\SUJETO7_ENOJO_segmentado.mp4\n",
      "Moviepy - Building video ./VideosSegmentados\\SUJETO7_N1_segmentado.mp4.\n",
      "MoviePy - Writing audio in SUJETO7_N1_segmentadoTEMP_MPY_wvf_snd.mp4\n"
     ]
    },
    {
     "name": "stderr",
     "output_type": "stream",
     "text": [
      "                                                                   \r"
     ]
    },
    {
     "name": "stdout",
     "output_type": "stream",
     "text": [
      "MoviePy - Done.\n",
      "Moviepy - Writing video ./VideosSegmentados\\SUJETO7_N1_segmentado.mp4\n",
      "\n"
     ]
    },
    {
     "name": "stderr",
     "output_type": "stream",
     "text": [
      "                                                              \r"
     ]
    },
    {
     "name": "stdout",
     "output_type": "stream",
     "text": [
      "Moviepy - Done !\n",
      "Moviepy - video ready ./VideosSegmentados\\SUJETO7_N1_segmentado.mp4\n",
      "Moviepy - Building video ./VideosSegmentados\\SUJETO7_FELICIDAD_segmentado.mp4.\n",
      "MoviePy - Writing audio in SUJETO7_FELICIDAD_segmentadoTEMP_MPY_wvf_snd.mp4\n"
     ]
    },
    {
     "name": "stderr",
     "output_type": "stream",
     "text": [
      "                                                                  \r"
     ]
    },
    {
     "name": "stdout",
     "output_type": "stream",
     "text": [
      "MoviePy - Done.\n",
      "Moviepy - Writing video ./VideosSegmentados\\SUJETO7_FELICIDAD_segmentado.mp4\n",
      "\n"
     ]
    },
    {
     "name": "stderr",
     "output_type": "stream",
     "text": [
      "                                                              \r"
     ]
    },
    {
     "name": "stdout",
     "output_type": "stream",
     "text": [
      "Moviepy - Done !\n",
      "Moviepy - video ready ./VideosSegmentados\\SUJETO7_FELICIDAD_segmentado.mp4\n",
      "Moviepy - Building video ./VideosSegmentados\\SUJETO7_TRISTEZA_segmentado.mp4.\n",
      "MoviePy - Writing audio in SUJETO7_TRISTEZA_segmentadoTEMP_MPY_wvf_snd.mp4\n"
     ]
    },
    {
     "name": "stderr",
     "output_type": "stream",
     "text": [
      "                                                                   \r"
     ]
    },
    {
     "name": "stdout",
     "output_type": "stream",
     "text": [
      "MoviePy - Done.\n",
      "Moviepy - Writing video ./VideosSegmentados\\SUJETO7_TRISTEZA_segmentado.mp4\n",
      "\n"
     ]
    },
    {
     "name": "stderr",
     "output_type": "stream",
     "text": [
      "                                                              \r"
     ]
    },
    {
     "name": "stdout",
     "output_type": "stream",
     "text": [
      "Moviepy - Done !\n",
      "Moviepy - video ready ./VideosSegmentados\\SUJETO7_TRISTEZA_segmentado.mp4\n",
      "Moviepy - Building video ./VideosSegmentados\\SUJETO8_ENOJO_segmentado.mp4.\n",
      "MoviePy - Writing audio in SUJETO8_ENOJO_segmentadoTEMP_MPY_wvf_snd.mp4\n"
     ]
    },
    {
     "name": "stderr",
     "output_type": "stream",
     "text": [
      "                                                                   \r"
     ]
    },
    {
     "name": "stdout",
     "output_type": "stream",
     "text": [
      "MoviePy - Done.\n",
      "Moviepy - Writing video ./VideosSegmentados\\SUJETO8_ENOJO_segmentado.mp4\n",
      "\n"
     ]
    },
    {
     "name": "stderr",
     "output_type": "stream",
     "text": [
      "                                                              \r"
     ]
    },
    {
     "name": "stdout",
     "output_type": "stream",
     "text": [
      "Moviepy - Done !\n",
      "Moviepy - video ready ./VideosSegmentados\\SUJETO8_ENOJO_segmentado.mp4\n",
      "Moviepy - Building video ./VideosSegmentados\\SUJETO8_N1_segmentado.mp4.\n",
      "MoviePy - Writing audio in SUJETO8_N1_segmentadoTEMP_MPY_wvf_snd.mp4\n"
     ]
    },
    {
     "name": "stderr",
     "output_type": "stream",
     "text": [
      "                                                                   \r"
     ]
    },
    {
     "name": "stdout",
     "output_type": "stream",
     "text": [
      "MoviePy - Done.\n",
      "Moviepy - Writing video ./VideosSegmentados\\SUJETO8_N1_segmentado.mp4\n",
      "\n"
     ]
    },
    {
     "name": "stderr",
     "output_type": "stream",
     "text": [
      "                                                              \r"
     ]
    },
    {
     "name": "stdout",
     "output_type": "stream",
     "text": [
      "Moviepy - Done !\n",
      "Moviepy - video ready ./VideosSegmentados\\SUJETO8_N1_segmentado.mp4\n",
      "Moviepy - Building video ./VideosSegmentados\\SUJETO8_FELICIDAD_segmentado.mp4.\n",
      "MoviePy - Writing audio in SUJETO8_FELICIDAD_segmentadoTEMP_MPY_wvf_snd.mp4\n"
     ]
    },
    {
     "name": "stderr",
     "output_type": "stream",
     "text": [
      "                                                                   \r"
     ]
    },
    {
     "name": "stdout",
     "output_type": "stream",
     "text": [
      "MoviePy - Done.\n",
      "Moviepy - Writing video ./VideosSegmentados\\SUJETO8_FELICIDAD_segmentado.mp4\n",
      "\n"
     ]
    },
    {
     "name": "stderr",
     "output_type": "stream",
     "text": [
      "                                                              \r"
     ]
    },
    {
     "name": "stdout",
     "output_type": "stream",
     "text": [
      "Moviepy - Done !\n",
      "Moviepy - video ready ./VideosSegmentados\\SUJETO8_FELICIDAD_segmentado.mp4\n",
      "Moviepy - Building video ./VideosSegmentados\\SUJETO8_TRISTEZA_segmentado.mp4.\n",
      "MoviePy - Writing audio in SUJETO8_TRISTEZA_segmentadoTEMP_MPY_wvf_snd.mp4\n"
     ]
    },
    {
     "name": "stderr",
     "output_type": "stream",
     "text": [
      "                                                                   \r"
     ]
    },
    {
     "name": "stdout",
     "output_type": "stream",
     "text": [
      "MoviePy - Done.\n",
      "Moviepy - Writing video ./VideosSegmentados\\SUJETO8_TRISTEZA_segmentado.mp4\n",
      "\n"
     ]
    },
    {
     "name": "stderr",
     "output_type": "stream",
     "text": [
      "                                                              \r"
     ]
    },
    {
     "name": "stdout",
     "output_type": "stream",
     "text": [
      "Moviepy - Done !\n",
      "Moviepy - video ready ./VideosSegmentados\\SUJETO8_TRISTEZA_segmentado.mp4\n",
      "Moviepy - Building video ./VideosSegmentados\\SUJETO9_ENOJO_segmentado.mp4.\n",
      "MoviePy - Writing audio in SUJETO9_ENOJO_segmentadoTEMP_MPY_wvf_snd.mp4\n"
     ]
    },
    {
     "name": "stderr",
     "output_type": "stream",
     "text": [
      "                                                                   \r"
     ]
    },
    {
     "name": "stdout",
     "output_type": "stream",
     "text": [
      "MoviePy - Done.\n",
      "Moviepy - Writing video ./VideosSegmentados\\SUJETO9_ENOJO_segmentado.mp4\n",
      "\n"
     ]
    },
    {
     "name": "stderr",
     "output_type": "stream",
     "text": [
      "                                                              \r"
     ]
    },
    {
     "name": "stdout",
     "output_type": "stream",
     "text": [
      "Moviepy - Done !\n",
      "Moviepy - video ready ./VideosSegmentados\\SUJETO9_ENOJO_segmentado.mp4\n",
      "Moviepy - Building video ./VideosSegmentados\\SUJETO9_N1_segmentado.mp4.\n",
      "MoviePy - Writing audio in SUJETO9_N1_segmentadoTEMP_MPY_wvf_snd.mp4\n"
     ]
    },
    {
     "name": "stderr",
     "output_type": "stream",
     "text": [
      "                                                                   \r"
     ]
    },
    {
     "name": "stdout",
     "output_type": "stream",
     "text": [
      "MoviePy - Done.\n",
      "Moviepy - Writing video ./VideosSegmentados\\SUJETO9_N1_segmentado.mp4\n",
      "\n"
     ]
    },
    {
     "name": "stderr",
     "output_type": "stream",
     "text": [
      "                                                              \r"
     ]
    },
    {
     "name": "stdout",
     "output_type": "stream",
     "text": [
      "Moviepy - Done !\n",
      "Moviepy - video ready ./VideosSegmentados\\SUJETO9_N1_segmentado.mp4\n",
      "Moviepy - Building video ./VideosSegmentados\\SUJETO9_FELICIDAD_segmentado.mp4.\n",
      "MoviePy - Writing audio in SUJETO9_FELICIDAD_segmentadoTEMP_MPY_wvf_snd.mp4\n"
     ]
    },
    {
     "name": "stderr",
     "output_type": "stream",
     "text": [
      "                                                                   \r"
     ]
    },
    {
     "name": "stdout",
     "output_type": "stream",
     "text": [
      "MoviePy - Done.\n",
      "Moviepy - Writing video ./VideosSegmentados\\SUJETO9_FELICIDAD_segmentado.mp4\n",
      "\n"
     ]
    },
    {
     "name": "stderr",
     "output_type": "stream",
     "text": [
      "                                                              \r"
     ]
    },
    {
     "name": "stdout",
     "output_type": "stream",
     "text": [
      "Moviepy - Done !\n",
      "Moviepy - video ready ./VideosSegmentados\\SUJETO9_FELICIDAD_segmentado.mp4\n",
      "Moviepy - Building video ./VideosSegmentados\\SUJETO9_TRISTEZA_segmentado.mp4.\n",
      "MoviePy - Writing audio in SUJETO9_TRISTEZA_segmentadoTEMP_MPY_wvf_snd.mp4\n"
     ]
    },
    {
     "name": "stderr",
     "output_type": "stream",
     "text": [
      "                                                                   \r"
     ]
    },
    {
     "name": "stdout",
     "output_type": "stream",
     "text": [
      "MoviePy - Done.\n",
      "Moviepy - Writing video ./VideosSegmentados\\SUJETO9_TRISTEZA_segmentado.mp4\n",
      "\n"
     ]
    },
    {
     "name": "stderr",
     "output_type": "stream",
     "text": [
      "                                                              \r"
     ]
    },
    {
     "name": "stdout",
     "output_type": "stream",
     "text": [
      "Moviepy - Done !\n",
      "Moviepy - video ready ./VideosSegmentados\\SUJETO9_TRISTEZA_segmentado.mp4\n",
      "Moviepy - Building video ./VideosSegmentados\\SUJETO10_ENOJO_segmentado.mp4.\n",
      "MoviePy - Writing audio in SUJETO10_ENOJO_segmentadoTEMP_MPY_wvf_snd.mp4\n"
     ]
    },
    {
     "name": "stderr",
     "output_type": "stream",
     "text": [
      "                                                                   \r"
     ]
    },
    {
     "name": "stdout",
     "output_type": "stream",
     "text": [
      "MoviePy - Done.\n",
      "Moviepy - Writing video ./VideosSegmentados\\SUJETO10_ENOJO_segmentado.mp4\n",
      "\n"
     ]
    },
    {
     "name": "stderr",
     "output_type": "stream",
     "text": [
      "                                                              \r"
     ]
    },
    {
     "name": "stdout",
     "output_type": "stream",
     "text": [
      "Moviepy - Done !\n",
      "Moviepy - video ready ./VideosSegmentados\\SUJETO10_ENOJO_segmentado.mp4\n",
      "Moviepy - Building video ./VideosSegmentados\\SUJETO10_N1_segmentado.mp4.\n",
      "MoviePy - Writing audio in SUJETO10_N1_segmentadoTEMP_MPY_wvf_snd.mp4\n"
     ]
    },
    {
     "name": "stderr",
     "output_type": "stream",
     "text": [
      "                                                                   \r"
     ]
    },
    {
     "name": "stdout",
     "output_type": "stream",
     "text": [
      "MoviePy - Done.\n",
      "Moviepy - Writing video ./VideosSegmentados\\SUJETO10_N1_segmentado.mp4\n",
      "\n"
     ]
    },
    {
     "name": "stderr",
     "output_type": "stream",
     "text": [
      "                                                              \r"
     ]
    },
    {
     "name": "stdout",
     "output_type": "stream",
     "text": [
      "Moviepy - Done !\n",
      "Moviepy - video ready ./VideosSegmentados\\SUJETO10_N1_segmentado.mp4\n",
      "Moviepy - Building video ./VideosSegmentados\\SUJETO10_FELICIDAD_segmentado.mp4.\n",
      "MoviePy - Writing audio in SUJETO10_FELICIDAD_segmentadoTEMP_MPY_wvf_snd.mp4\n"
     ]
    },
    {
     "name": "stderr",
     "output_type": "stream",
     "text": [
      "                                                                   \r"
     ]
    },
    {
     "name": "stdout",
     "output_type": "stream",
     "text": [
      "MoviePy - Done.\n",
      "Moviepy - Writing video ./VideosSegmentados\\SUJETO10_FELICIDAD_segmentado.mp4\n",
      "\n"
     ]
    },
    {
     "name": "stderr",
     "output_type": "stream",
     "text": [
      "                                                              \r"
     ]
    },
    {
     "name": "stdout",
     "output_type": "stream",
     "text": [
      "Moviepy - Done !\n",
      "Moviepy - video ready ./VideosSegmentados\\SUJETO10_FELICIDAD_segmentado.mp4\n",
      "Moviepy - Building video ./VideosSegmentados\\SUJETO10_TRISTEZA_segmentado.mp4.\n",
      "MoviePy - Writing audio in SUJETO10_TRISTEZA_segmentadoTEMP_MPY_wvf_snd.mp4\n"
     ]
    },
    {
     "name": "stderr",
     "output_type": "stream",
     "text": [
      "                                                                   \r"
     ]
    },
    {
     "name": "stdout",
     "output_type": "stream",
     "text": [
      "MoviePy - Done.\n",
      "Moviepy - Writing video ./VideosSegmentados\\SUJETO10_TRISTEZA_segmentado.mp4\n",
      "\n"
     ]
    },
    {
     "name": "stderr",
     "output_type": "stream",
     "text": [
      "                                                              \r"
     ]
    },
    {
     "name": "stdout",
     "output_type": "stream",
     "text": [
      "Moviepy - Done !\n",
      "Moviepy - video ready ./VideosSegmentados\\SUJETO10_TRISTEZA_segmentado.mp4\n",
      "Moviepy - Building video ./VideosSegmentados\\SUJETO11_ENOJO_segmentado.mp4.\n",
      "MoviePy - Writing audio in SUJETO11_ENOJO_segmentadoTEMP_MPY_wvf_snd.mp4\n"
     ]
    },
    {
     "name": "stderr",
     "output_type": "stream",
     "text": [
      "                                                                   \r"
     ]
    },
    {
     "name": "stdout",
     "output_type": "stream",
     "text": [
      "MoviePy - Done.\n",
      "Moviepy - Writing video ./VideosSegmentados\\SUJETO11_ENOJO_segmentado.mp4\n",
      "\n"
     ]
    },
    {
     "name": "stderr",
     "output_type": "stream",
     "text": [
      "                                                              \r"
     ]
    },
    {
     "name": "stdout",
     "output_type": "stream",
     "text": [
      "Moviepy - Done !\n",
      "Moviepy - video ready ./VideosSegmentados\\SUJETO11_ENOJO_segmentado.mp4\n",
      "Moviepy - Building video ./VideosSegmentados\\SUJETO11_N1_segmentado.mp4.\n",
      "MoviePy - Writing audio in SUJETO11_N1_segmentadoTEMP_MPY_wvf_snd.mp4\n"
     ]
    },
    {
     "name": "stderr",
     "output_type": "stream",
     "text": [
      "                                                                   \r"
     ]
    },
    {
     "name": "stdout",
     "output_type": "stream",
     "text": [
      "MoviePy - Done.\n",
      "Moviepy - Writing video ./VideosSegmentados\\SUJETO11_N1_segmentado.mp4\n",
      "\n"
     ]
    },
    {
     "name": "stderr",
     "output_type": "stream",
     "text": [
      "                                                              \r"
     ]
    },
    {
     "name": "stdout",
     "output_type": "stream",
     "text": [
      "Moviepy - Done !\n",
      "Moviepy - video ready ./VideosSegmentados\\SUJETO11_N1_segmentado.mp4\n",
      "Moviepy - Building video ./VideosSegmentados\\SUJETO11_FELICIDAD_segmentado.mp4.\n",
      "MoviePy - Writing audio in SUJETO11_FELICIDAD_segmentadoTEMP_MPY_wvf_snd.mp4\n"
     ]
    },
    {
     "name": "stderr",
     "output_type": "stream",
     "text": [
      "                                                                  \r"
     ]
    },
    {
     "name": "stdout",
     "output_type": "stream",
     "text": [
      "MoviePy - Done.\n",
      "Moviepy - Writing video ./VideosSegmentados\\SUJETO11_FELICIDAD_segmentado.mp4\n",
      "\n"
     ]
    },
    {
     "name": "stderr",
     "output_type": "stream",
     "text": [
      "                                                              \r"
     ]
    },
    {
     "name": "stdout",
     "output_type": "stream",
     "text": [
      "Moviepy - Done !\n",
      "Moviepy - video ready ./VideosSegmentados\\SUJETO11_FELICIDAD_segmentado.mp4\n",
      "Moviepy - Building video ./VideosSegmentados\\SUJETO11_TRISTEZA_segmentado.mp4.\n",
      "MoviePy - Writing audio in SUJETO11_TRISTEZA_segmentadoTEMP_MPY_wvf_snd.mp4\n"
     ]
    },
    {
     "name": "stderr",
     "output_type": "stream",
     "text": [
      "                                                                   \r"
     ]
    },
    {
     "name": "stdout",
     "output_type": "stream",
     "text": [
      "MoviePy - Done.\n",
      "Moviepy - Writing video ./VideosSegmentados\\SUJETO11_TRISTEZA_segmentado.mp4\n",
      "\n"
     ]
    },
    {
     "name": "stderr",
     "output_type": "stream",
     "text": [
      "                                                              \r"
     ]
    },
    {
     "name": "stdout",
     "output_type": "stream",
     "text": [
      "Moviepy - Done !\n",
      "Moviepy - video ready ./VideosSegmentados\\SUJETO11_TRISTEZA_segmentado.mp4\n",
      "Moviepy - Building video ./VideosSegmentados\\SUJETO12_ENOJO_segmentado.mp4.\n",
      "MoviePy - Writing audio in SUJETO12_ENOJO_segmentadoTEMP_MPY_wvf_snd.mp4\n"
     ]
    },
    {
     "name": "stderr",
     "output_type": "stream",
     "text": [
      "                                                                   \r"
     ]
    },
    {
     "name": "stdout",
     "output_type": "stream",
     "text": [
      "MoviePy - Done.\n",
      "Moviepy - Writing video ./VideosSegmentados\\SUJETO12_ENOJO_segmentado.mp4\n",
      "\n"
     ]
    },
    {
     "name": "stderr",
     "output_type": "stream",
     "text": [
      "                                                              \r"
     ]
    },
    {
     "name": "stdout",
     "output_type": "stream",
     "text": [
      "Moviepy - Done !\n",
      "Moviepy - video ready ./VideosSegmentados\\SUJETO12_ENOJO_segmentado.mp4\n",
      "Moviepy - Building video ./VideosSegmentados\\SUJETO12_N1_segmentado.mp4.\n",
      "MoviePy - Writing audio in SUJETO12_N1_segmentadoTEMP_MPY_wvf_snd.mp4\n"
     ]
    },
    {
     "name": "stderr",
     "output_type": "stream",
     "text": [
      "                                                                   \r"
     ]
    },
    {
     "name": "stdout",
     "output_type": "stream",
     "text": [
      "MoviePy - Done.\n",
      "Moviepy - Writing video ./VideosSegmentados\\SUJETO12_N1_segmentado.mp4\n",
      "\n"
     ]
    },
    {
     "name": "stderr",
     "output_type": "stream",
     "text": [
      "                                                              \r"
     ]
    },
    {
     "name": "stdout",
     "output_type": "stream",
     "text": [
      "Moviepy - Done !\n",
      "Moviepy - video ready ./VideosSegmentados\\SUJETO12_N1_segmentado.mp4\n",
      "Moviepy - Building video ./VideosSegmentados\\SUJETO12_FELICIDAD_segmentado.mp4.\n",
      "MoviePy - Writing audio in SUJETO12_FELICIDAD_segmentadoTEMP_MPY_wvf_snd.mp4\n"
     ]
    },
    {
     "name": "stderr",
     "output_type": "stream",
     "text": [
      "                                                                   \r"
     ]
    },
    {
     "name": "stdout",
     "output_type": "stream",
     "text": [
      "MoviePy - Done.\n",
      "Moviepy - Writing video ./VideosSegmentados\\SUJETO12_FELICIDAD_segmentado.mp4\n",
      "\n"
     ]
    },
    {
     "name": "stderr",
     "output_type": "stream",
     "text": [
      "                                                              \r"
     ]
    },
    {
     "name": "stdout",
     "output_type": "stream",
     "text": [
      "Moviepy - Done !\n",
      "Moviepy - video ready ./VideosSegmentados\\SUJETO12_FELICIDAD_segmentado.mp4\n",
      "Moviepy - Building video ./VideosSegmentados\\SUJETO12_TRISTEZA_segmentado.mp4.\n",
      "MoviePy - Writing audio in SUJETO12_TRISTEZA_segmentadoTEMP_MPY_wvf_snd.mp4\n"
     ]
    },
    {
     "name": "stderr",
     "output_type": "stream",
     "text": [
      "                                                                   \r"
     ]
    },
    {
     "name": "stdout",
     "output_type": "stream",
     "text": [
      "MoviePy - Done.\n",
      "Moviepy - Writing video ./VideosSegmentados\\SUJETO12_TRISTEZA_segmentado.mp4\n",
      "\n"
     ]
    },
    {
     "name": "stderr",
     "output_type": "stream",
     "text": [
      "                                                              \r"
     ]
    },
    {
     "name": "stdout",
     "output_type": "stream",
     "text": [
      "Moviepy - Done !\n",
      "Moviepy - video ready ./VideosSegmentados\\SUJETO12_TRISTEZA_segmentado.mp4\n"
     ]
    }
   ],
   "source": [
    "import pandas as pd\n",
    "from moviepy.editor import VideoFileClip\n",
    "import os\n",
    "\n",
    "# Cambia esta variable por la ruta a tu archivo CSV\n",
    "csv_file = './VideosSegmentados.csv'\n",
    "\n",
    "# Cambia esta variable por la ruta a la carpeta donde están tus videos originales\n",
    "videos_folder = './Videos/'\n",
    "\n",
    "# Ruta a la carpeta donde quieres guardar los videos segmentados\n",
    "segmented_videos_folder = './VideosSegmentados'\n",
    "\n",
    "# Crea la carpeta para los videos segmentados si no existe\n",
    "if not os.path.exists(segmented_videos_folder):\n",
    "    os.makedirs(segmented_videos_folder)\n",
    "\n",
    "df = pd.read_csv(csv_file)\n",
    "\n",
    "# Itera sobre cada fila del DataFrame\n",
    "for index, row in df.iterrows():\n",
    "    video_path = os.path.join(videos_folder, row['SUJETO'])\n",
    "    inicio = row['INICIO']\n",
    "    fin = row['FIN']\n",
    "    \n",
    "    # Carga el video\n",
    "    clip = VideoFileClip(video_path)\n",
    "    \n",
    "    # Convierte los tiempos de inicio y fin a segundos\n",
    "    start_seconds = int(inicio.split(':')[0]) * 60 + int(inicio.split(':')[1])\n",
    "    end_seconds = int(fin.split(':')[0]) * 60 + int(fin.split(':')[1])\n",
    "    \n",
    "    # Verifica que el tiempo de inicio y fin estén dentro de la duración del video\n",
    "    if start_seconds >= clip.duration or end_seconds > clip.duration:\n",
    "        print(f\"Error en {video_path}: El tiempo de inicio o fin está fuera de la duración del video.\")\n",
    "        continue  # Salta este video y continúa con el siguiente\n",
    "\n",
    "    # Segmenta el video\n",
    "    new_clip = clip.subclip(start_seconds, end_seconds)\n",
    "    \n",
    "    # Segmenta el video\n",
    "    new_clip = clip.subclip(start_seconds, end_seconds)\n",
    "    \n",
    "    # Define la ruta del nuevo video segmentado, incluyendo la carpeta VideosSegmentados\n",
    "    new_video_filename = os.path.splitext(row['SUJETO'])[0] + '_segmentado.mp4'\n",
    "    new_video_path = os.path.join(segmented_videos_folder, new_video_filename)\n",
    "    \n",
    "    # Escribe el video segmentado en el disco\n",
    "    new_clip.write_videofile(new_video_path, codec='libx264', audio_codec='aac')\n",
    "\n",
    "    # Libera recursos\n",
    "    clip.close()\n",
    "    new_clip.close()\n"
   ]
  },
  {
   "cell_type": "code",
   "execution_count": 38,
   "metadata": {},
   "outputs": [
    {
     "name": "stdout",
     "output_type": "stream",
     "text": [
      "Frame guardado: SUJETO10_ENOJO_segmentado_frame0.jpg\n",
      "Frame guardado: SUJETO10_ENOJO_segmentado_frame30.jpg\n",
      "Frame guardado: SUJETO10_ENOJO_segmentado_frame60.jpg\n",
      "Frame guardado: SUJETO10_ENOJO_segmentado_frame90.jpg\n",
      "Frame guardado: SUJETO10_ENOJO_segmentado_frame120.jpg\n",
      "Frame guardado: SUJETO10_ENOJO_segmentado_frame150.jpg\n",
      "Frame guardado: SUJETO10_ENOJO_segmentado_frame180.jpg\n",
      "Frame guardado: SUJETO10_ENOJO_segmentado_frame210.jpg\n",
      "Frame guardado: SUJETO10_ENOJO_segmentado_frame240.jpg\n",
      "Frame guardado: SUJETO10_ENOJO_segmentado_frame270.jpg\n",
      "Frame guardado: SUJETO10_ENOJO_segmentado_frame300.jpg\n",
      "Frame guardado: SUJETO10_FELICIDAD_segmentado_frame0.jpg\n",
      "Frame guardado: SUJETO10_FELICIDAD_segmentado_frame30.jpg\n",
      "Frame guardado: SUJETO10_FELICIDAD_segmentado_frame60.jpg\n",
      "Frame guardado: SUJETO10_FELICIDAD_segmentado_frame90.jpg\n",
      "Frame guardado: SUJETO10_FELICIDAD_segmentado_frame120.jpg\n",
      "Frame guardado: SUJETO10_FELICIDAD_segmentado_frame150.jpg\n",
      "Frame guardado: SUJETO10_FELICIDAD_segmentado_frame180.jpg\n",
      "Frame guardado: SUJETO10_FELICIDAD_segmentado_frame210.jpg\n",
      "Frame guardado: SUJETO10_FELICIDAD_segmentado_frame240.jpg\n",
      "Frame guardado: SUJETO10_FELICIDAD_segmentado_frame270.jpg\n",
      "Frame guardado: SUJETO10_N1_segmentado_frame0.jpg\n",
      "Frame guardado: SUJETO10_N1_segmentado_frame30.jpg\n",
      "Frame guardado: SUJETO10_N1_segmentado_frame60.jpg\n",
      "Frame guardado: SUJETO10_N1_segmentado_frame90.jpg\n",
      "Frame guardado: SUJETO10_N1_segmentado_frame120.jpg\n",
      "Frame guardado: SUJETO10_N1_segmentado_frame150.jpg\n",
      "Frame guardado: SUJETO10_N1_segmentado_frame180.jpg\n",
      "Frame guardado: SUJETO10_N1_segmentado_frame210.jpg\n",
      "Frame guardado: SUJETO10_N1_segmentado_frame240.jpg\n",
      "Frame guardado: SUJETO10_N1_segmentado_frame270.jpg\n",
      "Frame guardado: SUJETO10_TRISTEZA_segmentado_frame0.jpg\n",
      "Frame guardado: SUJETO10_TRISTEZA_segmentado_frame30.jpg\n",
      "Frame guardado: SUJETO10_TRISTEZA_segmentado_frame60.jpg\n",
      "Frame guardado: SUJETO10_TRISTEZA_segmentado_frame90.jpg\n",
      "Frame guardado: SUJETO10_TRISTEZA_segmentado_frame120.jpg\n",
      "Frame guardado: SUJETO10_TRISTEZA_segmentado_frame150.jpg\n",
      "Frame guardado: SUJETO10_TRISTEZA_segmentado_frame180.jpg\n",
      "Frame guardado: SUJETO10_TRISTEZA_segmentado_frame210.jpg\n",
      "Frame guardado: SUJETO10_TRISTEZA_segmentado_frame240.jpg\n",
      "Frame guardado: SUJETO10_TRISTEZA_segmentado_frame270.jpg\n",
      "Frame guardado: SUJETO11_ENOJO_segmentado_frame0.jpg\n",
      "Frame guardado: SUJETO11_ENOJO_segmentado_frame30.jpg\n",
      "Frame guardado: SUJETO11_ENOJO_segmentado_frame60.jpg\n",
      "Frame guardado: SUJETO11_ENOJO_segmentado_frame90.jpg\n",
      "Frame guardado: SUJETO11_ENOJO_segmentado_frame120.jpg\n",
      "Frame guardado: SUJETO11_ENOJO_segmentado_frame150.jpg\n",
      "Frame guardado: SUJETO11_ENOJO_segmentado_frame180.jpg\n",
      "Frame guardado: SUJETO11_ENOJO_segmentado_frame210.jpg\n",
      "Frame guardado: SUJETO11_ENOJO_segmentado_frame240.jpg\n",
      "Frame guardado: SUJETO11_ENOJO_segmentado_frame270.jpg\n",
      "Frame guardado: SUJETO11_ENOJO_segmentado_frame300.jpg\n",
      "Frame guardado: SUJETO11_ENOJO_segmentado_frame330.jpg\n",
      "Frame guardado: SUJETO11_FELICIDAD_segmentado_frame0.jpg\n",
      "Frame guardado: SUJETO11_FELICIDAD_segmentado_frame30.jpg\n",
      "Frame guardado: SUJETO11_FELICIDAD_segmentado_frame60.jpg\n",
      "Frame guardado: SUJETO11_FELICIDAD_segmentado_frame90.jpg\n",
      "Frame guardado: SUJETO11_FELICIDAD_segmentado_frame120.jpg\n",
      "Frame guardado: SUJETO11_FELICIDAD_segmentado_frame150.jpg\n",
      "Frame guardado: SUJETO11_FELICIDAD_segmentado_frame180.jpg\n",
      "Frame guardado: SUJETO11_N1_segmentado_frame0.jpg\n",
      "Frame guardado: SUJETO11_N1_segmentado_frame30.jpg\n",
      "Frame guardado: SUJETO11_N1_segmentado_frame60.jpg\n",
      "Frame guardado: SUJETO11_N1_segmentado_frame90.jpg\n",
      "Frame guardado: SUJETO11_N1_segmentado_frame120.jpg\n",
      "Frame guardado: SUJETO11_N1_segmentado_frame150.jpg\n",
      "Frame guardado: SUJETO11_N1_segmentado_frame180.jpg\n",
      "Frame guardado: SUJETO11_N1_segmentado_frame210.jpg\n",
      "Frame guardado: SUJETO11_N1_segmentado_frame240.jpg\n",
      "Frame guardado: SUJETO11_N1_segmentado_frame270.jpg\n",
      "Frame guardado: SUJETO11_TRISTEZA_segmentado_frame0.jpg\n",
      "Frame guardado: SUJETO11_TRISTEZA_segmentado_frame30.jpg\n",
      "Frame guardado: SUJETO11_TRISTEZA_segmentado_frame60.jpg\n",
      "Frame guardado: SUJETO11_TRISTEZA_segmentado_frame90.jpg\n",
      "Frame guardado: SUJETO11_TRISTEZA_segmentado_frame120.jpg\n",
      "Frame guardado: SUJETO11_TRISTEZA_segmentado_frame150.jpg\n",
      "Frame guardado: SUJETO11_TRISTEZA_segmentado_frame180.jpg\n",
      "Frame guardado: SUJETO11_TRISTEZA_segmentado_frame210.jpg\n",
      "Frame guardado: SUJETO11_TRISTEZA_segmentado_frame240.jpg\n",
      "Frame guardado: SUJETO11_TRISTEZA_segmentado_frame270.jpg\n",
      "Frame guardado: SUJETO12_ENOJO_segmentado_frame0.jpg\n",
      "Frame guardado: SUJETO12_ENOJO_segmentado_frame30.jpg\n",
      "Frame guardado: SUJETO12_ENOJO_segmentado_frame60.jpg\n",
      "Frame guardado: SUJETO12_ENOJO_segmentado_frame90.jpg\n",
      "Frame guardado: SUJETO12_ENOJO_segmentado_frame120.jpg\n",
      "Frame guardado: SUJETO12_ENOJO_segmentado_frame150.jpg\n",
      "Frame guardado: SUJETO12_ENOJO_segmentado_frame180.jpg\n",
      "Frame guardado: SUJETO12_ENOJO_segmentado_frame210.jpg\n",
      "Frame guardado: SUJETO12_ENOJO_segmentado_frame240.jpg\n",
      "Frame guardado: SUJETO12_ENOJO_segmentado_frame270.jpg\n",
      "Frame guardado: SUJETO12_FELICIDAD_segmentado_frame0.jpg\n",
      "Frame guardado: SUJETO12_FELICIDAD_segmentado_frame30.jpg\n",
      "Frame guardado: SUJETO12_FELICIDAD_segmentado_frame60.jpg\n",
      "Frame guardado: SUJETO12_FELICIDAD_segmentado_frame90.jpg\n",
      "Frame guardado: SUJETO12_FELICIDAD_segmentado_frame120.jpg\n",
      "Frame guardado: SUJETO12_FELICIDAD_segmentado_frame150.jpg\n",
      "Frame guardado: SUJETO12_FELICIDAD_segmentado_frame180.jpg\n",
      "Frame guardado: SUJETO12_FELICIDAD_segmentado_frame210.jpg\n",
      "Frame guardado: SUJETO12_FELICIDAD_segmentado_frame240.jpg\n",
      "Frame guardado: SUJETO12_FELICIDAD_segmentado_frame270.jpg\n",
      "Frame guardado: SUJETO12_N1_segmentado_frame0.jpg\n",
      "Frame guardado: SUJETO12_N1_segmentado_frame30.jpg\n",
      "Frame guardado: SUJETO12_N1_segmentado_frame60.jpg\n",
      "Frame guardado: SUJETO12_N1_segmentado_frame90.jpg\n",
      "Frame guardado: SUJETO12_N1_segmentado_frame120.jpg\n",
      "Frame guardado: SUJETO12_N1_segmentado_frame150.jpg\n",
      "Frame guardado: SUJETO12_N1_segmentado_frame180.jpg\n",
      "Frame guardado: SUJETO12_N1_segmentado_frame210.jpg\n",
      "Frame guardado: SUJETO12_N1_segmentado_frame240.jpg\n",
      "Frame guardado: SUJETO12_N1_segmentado_frame270.jpg\n",
      "Frame guardado: SUJETO12_TRISTEZA_segmentado_frame0.jpg\n",
      "Frame guardado: SUJETO12_TRISTEZA_segmentado_frame30.jpg\n",
      "Frame guardado: SUJETO12_TRISTEZA_segmentado_frame60.jpg\n",
      "Frame guardado: SUJETO12_TRISTEZA_segmentado_frame90.jpg\n",
      "Frame guardado: SUJETO12_TRISTEZA_segmentado_frame120.jpg\n",
      "Frame guardado: SUJETO12_TRISTEZA_segmentado_frame150.jpg\n",
      "Frame guardado: SUJETO12_TRISTEZA_segmentado_frame180.jpg\n",
      "Frame guardado: SUJETO12_TRISTEZA_segmentado_frame210.jpg\n",
      "Frame guardado: SUJETO12_TRISTEZA_segmentado_frame240.jpg\n",
      "Frame guardado: SUJETO12_TRISTEZA_segmentado_frame270.jpg\n",
      "Frame guardado: SUJETO1_ENOJO_segmentado_frame0.jpg\n",
      "Frame guardado: SUJETO1_ENOJO_segmentado_frame30.jpg\n",
      "Frame guardado: SUJETO1_ENOJO_segmentado_frame60.jpg\n",
      "Frame guardado: SUJETO1_ENOJO_segmentado_frame90.jpg\n",
      "Frame guardado: SUJETO1_ENOJO_segmentado_frame120.jpg\n",
      "Frame guardado: SUJETO1_ENOJO_segmentado_frame150.jpg\n",
      "Frame guardado: SUJETO1_ENOJO_segmentado_frame180.jpg\n",
      "Frame guardado: SUJETO1_ENOJO_segmentado_frame210.jpg\n",
      "Frame guardado: SUJETO1_ENOJO_segmentado_frame240.jpg\n",
      "Frame guardado: SUJETO1_ENOJO_segmentado_frame270.jpg\n",
      "Frame guardado: SUJETO1_ENOJO_segmentado_frame300.jpg\n",
      "Frame guardado: SUJETO1_FELICIDAD_segmentado_frame0.jpg\n",
      "Frame guardado: SUJETO1_FELICIDAD_segmentado_frame30.jpg\n",
      "Frame guardado: SUJETO1_FELICIDAD_segmentado_frame60.jpg\n",
      "Frame guardado: SUJETO1_FELICIDAD_segmentado_frame90.jpg\n",
      "Frame guardado: SUJETO1_FELICIDAD_segmentado_frame120.jpg\n",
      "Frame guardado: SUJETO1_FELICIDAD_segmentado_frame150.jpg\n",
      "Frame guardado: SUJETO1_FELICIDAD_segmentado_frame180.jpg\n",
      "Frame guardado: SUJETO1_N1_segmentado_frame0.jpg\n",
      "Frame guardado: SUJETO1_N1_segmentado_frame30.jpg\n",
      "Frame guardado: SUJETO1_N1_segmentado_frame60.jpg\n",
      "Frame guardado: SUJETO1_N1_segmentado_frame90.jpg\n",
      "Frame guardado: SUJETO1_N1_segmentado_frame120.jpg\n",
      "Frame guardado: SUJETO1_N1_segmentado_frame150.jpg\n",
      "Frame guardado: SUJETO1_N1_segmentado_frame180.jpg\n",
      "Frame guardado: SUJETO1_N1_segmentado_frame210.jpg\n",
      "Frame guardado: SUJETO1_N1_segmentado_frame240.jpg\n",
      "Frame guardado: SUJETO1_N1_segmentado_frame270.jpg\n",
      "Frame guardado: SUJETO1_TRISTEZA_segmentado_frame0.jpg\n",
      "Frame guardado: SUJETO1_TRISTEZA_segmentado_frame30.jpg\n",
      "Frame guardado: SUJETO1_TRISTEZA_segmentado_frame60.jpg\n",
      "Frame guardado: SUJETO1_TRISTEZA_segmentado_frame90.jpg\n",
      "Frame guardado: SUJETO1_TRISTEZA_segmentado_frame120.jpg\n",
      "Frame guardado: SUJETO1_TRISTEZA_segmentado_frame150.jpg\n",
      "Frame guardado: SUJETO1_TRISTEZA_segmentado_frame180.jpg\n",
      "Frame guardado: SUJETO1_TRISTEZA_segmentado_frame210.jpg\n",
      "Frame guardado: SUJETO1_TRISTEZA_segmentado_frame240.jpg\n",
      "Frame guardado: SUJETO1_TRISTEZA_segmentado_frame270.jpg\n",
      "Frame guardado: SUJETO2_ENOJO_segmentado_frame0.jpg\n",
      "Frame guardado: SUJETO2_ENOJO_segmentado_frame30.jpg\n",
      "Frame guardado: SUJETO2_ENOJO_segmentado_frame60.jpg\n",
      "Frame guardado: SUJETO2_ENOJO_segmentado_frame90.jpg\n",
      "Frame guardado: SUJETO2_ENOJO_segmentado_frame120.jpg\n",
      "Frame guardado: SUJETO2_ENOJO_segmentado_frame150.jpg\n",
      "Frame guardado: SUJETO2_ENOJO_segmentado_frame180.jpg\n",
      "Frame guardado: SUJETO2_ENOJO_segmentado_frame210.jpg\n",
      "Frame guardado: SUJETO2_ENOJO_segmentado_frame240.jpg\n",
      "Frame guardado: SUJETO2_ENOJO_segmentado_frame270.jpg\n",
      "Frame guardado: SUJETO2_FELICIDAD_segmentado_frame0.jpg\n",
      "Frame guardado: SUJETO2_FELICIDAD_segmentado_frame30.jpg\n",
      "Frame guardado: SUJETO2_FELICIDAD_segmentado_frame60.jpg\n",
      "Frame guardado: SUJETO2_FELICIDAD_segmentado_frame90.jpg\n",
      "Frame guardado: SUJETO2_FELICIDAD_segmentado_frame120.jpg\n",
      "Frame guardado: SUJETO2_FELICIDAD_segmentado_frame150.jpg\n",
      "Frame guardado: SUJETO2_FELICIDAD_segmentado_frame180.jpg\n",
      "Frame guardado: SUJETO2_FELICIDAD_segmentado_frame210.jpg\n",
      "Frame guardado: SUJETO2_FELICIDAD_segmentado_frame240.jpg\n",
      "Frame guardado: SUJETO2_N1_segmentado_frame0.jpg\n",
      "Frame guardado: SUJETO2_N1_segmentado_frame30.jpg\n",
      "Frame guardado: SUJETO2_N1_segmentado_frame60.jpg\n",
      "Frame guardado: SUJETO2_N1_segmentado_frame90.jpg\n",
      "Frame guardado: SUJETO2_N1_segmentado_frame120.jpg\n",
      "Frame guardado: SUJETO2_N1_segmentado_frame150.jpg\n",
      "Frame guardado: SUJETO2_N1_segmentado_frame180.jpg\n",
      "Frame guardado: SUJETO2_N1_segmentado_frame210.jpg\n",
      "Frame guardado: SUJETO2_N1_segmentado_frame240.jpg\n",
      "Frame guardado: SUJETO2_N1_segmentado_frame270.jpg\n",
      "Frame guardado: SUJETO2_TRISTEZA_segmentado_frame0.jpg\n",
      "Frame guardado: SUJETO2_TRISTEZA_segmentado_frame30.jpg\n",
      "Frame guardado: SUJETO2_TRISTEZA_segmentado_frame60.jpg\n",
      "Frame guardado: SUJETO2_TRISTEZA_segmentado_frame90.jpg\n",
      "Frame guardado: SUJETO2_TRISTEZA_segmentado_frame120.jpg\n",
      "Frame guardado: SUJETO2_TRISTEZA_segmentado_frame150.jpg\n",
      "Frame guardado: SUJETO2_TRISTEZA_segmentado_frame180.jpg\n",
      "Frame guardado: SUJETO2_TRISTEZA_segmentado_frame210.jpg\n",
      "Frame guardado: SUJETO2_TRISTEZA_segmentado_frame240.jpg\n",
      "Frame guardado: SUJETO2_TRISTEZA_segmentado_frame270.jpg\n",
      "Frame guardado: SUJETO3_ENOJO_segmentado_frame0.jpg\n",
      "Frame guardado: SUJETO3_ENOJO_segmentado_frame30.jpg\n",
      "Frame guardado: SUJETO3_ENOJO_segmentado_frame60.jpg\n",
      "Frame guardado: SUJETO3_ENOJO_segmentado_frame90.jpg\n",
      "Frame guardado: SUJETO3_ENOJO_segmentado_frame120.jpg\n",
      "Frame guardado: SUJETO3_ENOJO_segmentado_frame150.jpg\n",
      "Frame guardado: SUJETO3_ENOJO_segmentado_frame180.jpg\n",
      "Frame guardado: SUJETO3_ENOJO_segmentado_frame210.jpg\n",
      "Frame guardado: SUJETO3_ENOJO_segmentado_frame240.jpg\n",
      "Frame guardado: SUJETO3_ENOJO_segmentado_frame270.jpg\n",
      "Frame guardado: SUJETO3_FELICIDAD_segmentado_frame0.jpg\n",
      "Frame guardado: SUJETO3_FELICIDAD_segmentado_frame30.jpg\n",
      "Frame guardado: SUJETO3_FELICIDAD_segmentado_frame60.jpg\n",
      "Frame guardado: SUJETO3_FELICIDAD_segmentado_frame90.jpg\n",
      "Frame guardado: SUJETO3_FELICIDAD_segmentado_frame120.jpg\n",
      "Frame guardado: SUJETO3_FELICIDAD_segmentado_frame150.jpg\n",
      "Frame guardado: SUJETO3_FELICIDAD_segmentado_frame180.jpg\n",
      "Frame guardado: SUJETO3_FELICIDAD_segmentado_frame210.jpg\n",
      "Frame guardado: SUJETO3_FELICIDAD_segmentado_frame240.jpg\n",
      "Frame guardado: SUJETO3_N1_segmentado_frame0.jpg\n",
      "Frame guardado: SUJETO3_N1_segmentado_frame30.jpg\n",
      "Frame guardado: SUJETO3_N1_segmentado_frame60.jpg\n",
      "Frame guardado: SUJETO3_N1_segmentado_frame90.jpg\n",
      "Frame guardado: SUJETO3_N1_segmentado_frame120.jpg\n",
      "Frame guardado: SUJETO3_N1_segmentado_frame150.jpg\n",
      "Frame guardado: SUJETO3_N1_segmentado_frame180.jpg\n",
      "Frame guardado: SUJETO3_N1_segmentado_frame210.jpg\n",
      "Frame guardado: SUJETO3_N1_segmentado_frame240.jpg\n",
      "Frame guardado: SUJETO3_N1_segmentado_frame270.jpg\n",
      "Frame guardado: SUJETO3_TRISTEZA_segmentado_frame0.jpg\n",
      "Frame guardado: SUJETO3_TRISTEZA_segmentado_frame30.jpg\n",
      "Frame guardado: SUJETO3_TRISTEZA_segmentado_frame60.jpg\n",
      "Frame guardado: SUJETO3_TRISTEZA_segmentado_frame90.jpg\n",
      "Frame guardado: SUJETO3_TRISTEZA_segmentado_frame120.jpg\n",
      "Frame guardado: SUJETO3_TRISTEZA_segmentado_frame150.jpg\n",
      "Frame guardado: SUJETO3_TRISTEZA_segmentado_frame180.jpg\n",
      "Frame guardado: SUJETO3_TRISTEZA_segmentado_frame210.jpg\n",
      "Frame guardado: SUJETO3_TRISTEZA_segmentado_frame240.jpg\n",
      "Frame guardado: SUJETO3_TRISTEZA_segmentado_frame270.jpg\n",
      "Frame guardado: SUJETO4_ENOJO_segmentado_frame0.jpg\n",
      "Frame guardado: SUJETO4_ENOJO_segmentado_frame30.jpg\n",
      "Frame guardado: SUJETO4_ENOJO_segmentado_frame60.jpg\n",
      "Frame guardado: SUJETO4_ENOJO_segmentado_frame90.jpg\n",
      "Frame guardado: SUJETO4_ENOJO_segmentado_frame120.jpg\n",
      "Frame guardado: SUJETO4_ENOJO_segmentado_frame150.jpg\n",
      "Frame guardado: SUJETO4_ENOJO_segmentado_frame180.jpg\n",
      "Frame guardado: SUJETO4_ENOJO_segmentado_frame210.jpg\n",
      "Frame guardado: SUJETO4_ENOJO_segmentado_frame240.jpg\n",
      "Frame guardado: SUJETO4_ENOJO_segmentado_frame270.jpg\n",
      "Frame guardado: SUJETO4_ENOJO_segmentado_frame300.jpg\n",
      "Frame guardado: SUJETO4_FELICIDAD_segmentado_frame0.jpg\n",
      "Frame guardado: SUJETO4_FELICIDAD_segmentado_frame30.jpg\n",
      "Frame guardado: SUJETO4_FELICIDAD_segmentado_frame60.jpg\n",
      "Frame guardado: SUJETO4_FELICIDAD_segmentado_frame90.jpg\n",
      "Frame guardado: SUJETO4_FELICIDAD_segmentado_frame120.jpg\n",
      "Frame guardado: SUJETO4_FELICIDAD_segmentado_frame150.jpg\n",
      "Frame guardado: SUJETO4_FELICIDAD_segmentado_frame180.jpg\n",
      "Frame guardado: SUJETO4_FELICIDAD_segmentado_frame210.jpg\n",
      "Frame guardado: SUJETO4_FELICIDAD_segmentado_frame240.jpg\n",
      "Frame guardado: SUJETO4_N1_segmentado_frame0.jpg\n",
      "Frame guardado: SUJETO4_N1_segmentado_frame30.jpg\n",
      "Frame guardado: SUJETO4_N1_segmentado_frame60.jpg\n",
      "Frame guardado: SUJETO4_N1_segmentado_frame90.jpg\n",
      "Frame guardado: SUJETO4_N1_segmentado_frame120.jpg\n",
      "Frame guardado: SUJETO4_N1_segmentado_frame150.jpg\n",
      "Frame guardado: SUJETO4_N1_segmentado_frame180.jpg\n",
      "Frame guardado: SUJETO4_N1_segmentado_frame210.jpg\n",
      "Frame guardado: SUJETO4_N1_segmentado_frame240.jpg\n",
      "Frame guardado: SUJETO4_N1_segmentado_frame270.jpg\n",
      "Frame guardado: SUJETO4_TRISTEZA_segmentado_frame0.jpg\n",
      "Frame guardado: SUJETO4_TRISTEZA_segmentado_frame30.jpg\n",
      "Frame guardado: SUJETO4_TRISTEZA_segmentado_frame60.jpg\n",
      "Frame guardado: SUJETO4_TRISTEZA_segmentado_frame90.jpg\n",
      "Frame guardado: SUJETO4_TRISTEZA_segmentado_frame120.jpg\n",
      "Frame guardado: SUJETO4_TRISTEZA_segmentado_frame150.jpg\n",
      "Frame guardado: SUJETO4_TRISTEZA_segmentado_frame180.jpg\n",
      "Frame guardado: SUJETO4_TRISTEZA_segmentado_frame210.jpg\n",
      "Frame guardado: SUJETO4_TRISTEZA_segmentado_frame240.jpg\n",
      "Frame guardado: SUJETO4_TRISTEZA_segmentado_frame270.jpg\n",
      "Frame guardado: SUJETO5_ENOJO_segmentado_frame0.jpg\n",
      "Frame guardado: SUJETO5_ENOJO_segmentado_frame30.jpg\n",
      "Frame guardado: SUJETO5_ENOJO_segmentado_frame60.jpg\n",
      "Frame guardado: SUJETO5_ENOJO_segmentado_frame90.jpg\n",
      "Frame guardado: SUJETO5_ENOJO_segmentado_frame120.jpg\n",
      "Frame guardado: SUJETO5_ENOJO_segmentado_frame150.jpg\n",
      "Frame guardado: SUJETO5_ENOJO_segmentado_frame180.jpg\n",
      "Frame guardado: SUJETO5_ENOJO_segmentado_frame210.jpg\n",
      "Frame guardado: SUJETO5_ENOJO_segmentado_frame240.jpg\n",
      "Frame guardado: SUJETO5_ENOJO_segmentado_frame270.jpg\n",
      "Frame guardado: SUJETO5_ENOJO_segmentado_frame300.jpg\n",
      "Frame guardado: SUJETO5_FELICIDAD_segmentado_frame0.jpg\n",
      "Frame guardado: SUJETO5_FELICIDAD_segmentado_frame30.jpg\n",
      "Frame guardado: SUJETO5_FELICIDAD_segmentado_frame60.jpg\n",
      "Frame guardado: SUJETO5_FELICIDAD_segmentado_frame90.jpg\n",
      "Frame guardado: SUJETO5_FELICIDAD_segmentado_frame120.jpg\n",
      "Frame guardado: SUJETO5_FELICIDAD_segmentado_frame150.jpg\n",
      "Frame guardado: SUJETO5_FELICIDAD_segmentado_frame180.jpg\n",
      "Frame guardado: SUJETO5_FELICIDAD_segmentado_frame210.jpg\n",
      "Frame guardado: SUJETO5_FELICIDAD_segmentado_frame240.jpg\n",
      "Frame guardado: SUJETO5_FELICIDAD_segmentado_frame270.jpg\n",
      "Frame guardado: SUJETO5_N1_segmentado_frame0.jpg\n",
      "Frame guardado: SUJETO5_N1_segmentado_frame30.jpg\n",
      "Frame guardado: SUJETO5_N1_segmentado_frame60.jpg\n",
      "Frame guardado: SUJETO5_N1_segmentado_frame90.jpg\n",
      "Frame guardado: SUJETO5_N1_segmentado_frame120.jpg\n",
      "Frame guardado: SUJETO5_N1_segmentado_frame150.jpg\n",
      "Frame guardado: SUJETO5_N1_segmentado_frame180.jpg\n",
      "Frame guardado: SUJETO5_N1_segmentado_frame210.jpg\n",
      "Frame guardado: SUJETO5_N1_segmentado_frame240.jpg\n",
      "Frame guardado: SUJETO5_N1_segmentado_frame270.jpg\n",
      "Frame guardado: SUJETO5_TRISTEZA_segmentado_frame0.jpg\n",
      "Frame guardado: SUJETO5_TRISTEZA_segmentado_frame30.jpg\n",
      "Frame guardado: SUJETO5_TRISTEZA_segmentado_frame60.jpg\n",
      "Frame guardado: SUJETO5_TRISTEZA_segmentado_frame90.jpg\n",
      "Frame guardado: SUJETO5_TRISTEZA_segmentado_frame120.jpg\n",
      "Frame guardado: SUJETO5_TRISTEZA_segmentado_frame150.jpg\n",
      "Frame guardado: SUJETO5_TRISTEZA_segmentado_frame180.jpg\n",
      "Frame guardado: SUJETO5_TRISTEZA_segmentado_frame210.jpg\n",
      "Frame guardado: SUJETO5_TRISTEZA_segmentado_frame240.jpg\n",
      "Frame guardado: SUJETO6_ENOJO_segmentado_frame0.jpg\n",
      "Frame guardado: SUJETO6_ENOJO_segmentado_frame30.jpg\n",
      "Frame guardado: SUJETO6_ENOJO_segmentado_frame60.jpg\n",
      "Frame guardado: SUJETO6_ENOJO_segmentado_frame90.jpg\n",
      "Frame guardado: SUJETO6_ENOJO_segmentado_frame120.jpg\n",
      "Frame guardado: SUJETO6_ENOJO_segmentado_frame150.jpg\n",
      "Frame guardado: SUJETO6_ENOJO_segmentado_frame180.jpg\n",
      "Frame guardado: SUJETO6_ENOJO_segmentado_frame210.jpg\n",
      "Frame guardado: SUJETO6_ENOJO_segmentado_frame240.jpg\n",
      "Frame guardado: SUJETO6_ENOJO_segmentado_frame270.jpg\n",
      "Frame guardado: SUJETO6_ENOJO_segmentado_frame300.jpg\n",
      "Frame guardado: SUJETO6_ENOJO_segmentado_frame330.jpg\n",
      "Frame guardado: SUJETO6_FELICIDAD_segmentado_frame0.jpg\n",
      "Frame guardado: SUJETO6_FELICIDAD_segmentado_frame30.jpg\n",
      "Frame guardado: SUJETO6_FELICIDAD_segmentado_frame60.jpg\n",
      "Frame guardado: SUJETO6_FELICIDAD_segmentado_frame90.jpg\n",
      "Frame guardado: SUJETO6_FELICIDAD_segmentado_frame120.jpg\n",
      "Frame guardado: SUJETO6_FELICIDAD_segmentado_frame150.jpg\n",
      "Frame guardado: SUJETO6_FELICIDAD_segmentado_frame180.jpg\n",
      "Frame guardado: SUJETO6_FELICIDAD_segmentado_frame210.jpg\n",
      "Frame guardado: SUJETO6_FELICIDAD_segmentado_frame240.jpg\n",
      "Frame guardado: SUJETO6_FELICIDAD_segmentado_frame270.jpg\n",
      "Frame guardado: SUJETO6_N1_segmentado_frame0.jpg\n",
      "Frame guardado: SUJETO6_N1_segmentado_frame30.jpg\n",
      "Frame guardado: SUJETO6_N1_segmentado_frame60.jpg\n",
      "Frame guardado: SUJETO6_N1_segmentado_frame90.jpg\n",
      "Frame guardado: SUJETO6_N1_segmentado_frame120.jpg\n",
      "Frame guardado: SUJETO6_N1_segmentado_frame150.jpg\n",
      "Frame guardado: SUJETO6_N1_segmentado_frame180.jpg\n",
      "Frame guardado: SUJETO6_N1_segmentado_frame210.jpg\n",
      "Frame guardado: SUJETO6_N1_segmentado_frame240.jpg\n",
      "Frame guardado: SUJETO6_N1_segmentado_frame270.jpg\n",
      "Frame guardado: SUJETO6_TRISTEZA_segmentado_frame0.jpg\n",
      "Frame guardado: SUJETO6_TRISTEZA_segmentado_frame30.jpg\n",
      "Frame guardado: SUJETO6_TRISTEZA_segmentado_frame60.jpg\n",
      "Frame guardado: SUJETO6_TRISTEZA_segmentado_frame90.jpg\n",
      "Frame guardado: SUJETO6_TRISTEZA_segmentado_frame120.jpg\n",
      "Frame guardado: SUJETO7_ENOJO_segmentado_frame0.jpg\n",
      "Frame guardado: SUJETO7_ENOJO_segmentado_frame30.jpg\n",
      "Frame guardado: SUJETO7_ENOJO_segmentado_frame60.jpg\n",
      "Frame guardado: SUJETO7_ENOJO_segmentado_frame90.jpg\n",
      "Frame guardado: SUJETO7_ENOJO_segmentado_frame120.jpg\n",
      "Frame guardado: SUJETO7_ENOJO_segmentado_frame150.jpg\n",
      "Frame guardado: SUJETO7_ENOJO_segmentado_frame180.jpg\n",
      "Frame guardado: SUJETO7_ENOJO_segmentado_frame210.jpg\n",
      "Frame guardado: SUJETO7_ENOJO_segmentado_frame240.jpg\n",
      "Frame guardado: SUJETO7_ENOJO_segmentado_frame270.jpg\n",
      "Frame guardado: SUJETO7_ENOJO_segmentado_frame300.jpg\n",
      "Frame guardado: SUJETO7_FELICIDAD_segmentado_frame0.jpg\n",
      "Frame guardado: SUJETO7_FELICIDAD_segmentado_frame30.jpg\n",
      "Frame guardado: SUJETO7_FELICIDAD_segmentado_frame60.jpg\n",
      "Frame guardado: SUJETO7_FELICIDAD_segmentado_frame90.jpg\n",
      "Frame guardado: SUJETO7_FELICIDAD_segmentado_frame120.jpg\n",
      "Frame guardado: SUJETO7_N1_segmentado_frame0.jpg\n",
      "Frame guardado: SUJETO7_N1_segmentado_frame30.jpg\n",
      "Frame guardado: SUJETO7_N1_segmentado_frame60.jpg\n",
      "Frame guardado: SUJETO7_N1_segmentado_frame90.jpg\n",
      "Frame guardado: SUJETO7_N1_segmentado_frame120.jpg\n",
      "Frame guardado: SUJETO7_N1_segmentado_frame150.jpg\n",
      "Frame guardado: SUJETO7_N1_segmentado_frame180.jpg\n",
      "Frame guardado: SUJETO7_N1_segmentado_frame210.jpg\n",
      "Frame guardado: SUJETO7_N1_segmentado_frame240.jpg\n",
      "Frame guardado: SUJETO7_N1_segmentado_frame270.jpg\n",
      "Frame guardado: SUJETO7_TRISTEZA_segmentado_frame0.jpg\n",
      "Frame guardado: SUJETO7_TRISTEZA_segmentado_frame30.jpg\n",
      "Frame guardado: SUJETO7_TRISTEZA_segmentado_frame60.jpg\n",
      "Frame guardado: SUJETO7_TRISTEZA_segmentado_frame90.jpg\n",
      "Frame guardado: SUJETO7_TRISTEZA_segmentado_frame120.jpg\n",
      "Frame guardado: SUJETO7_TRISTEZA_segmentado_frame150.jpg\n",
      "Frame guardado: SUJETO7_TRISTEZA_segmentado_frame180.jpg\n",
      "Frame guardado: SUJETO7_TRISTEZA_segmentado_frame210.jpg\n",
      "Frame guardado: SUJETO7_TRISTEZA_segmentado_frame240.jpg\n",
      "Frame guardado: SUJETO7_TRISTEZA_segmentado_frame270.jpg\n",
      "Frame guardado: SUJETO8_ENOJO_segmentado_frame0.jpg\n",
      "Frame guardado: SUJETO8_ENOJO_segmentado_frame30.jpg\n",
      "Frame guardado: SUJETO8_ENOJO_segmentado_frame60.jpg\n",
      "Frame guardado: SUJETO8_ENOJO_segmentado_frame90.jpg\n",
      "Frame guardado: SUJETO8_ENOJO_segmentado_frame120.jpg\n",
      "Frame guardado: SUJETO8_ENOJO_segmentado_frame150.jpg\n",
      "Frame guardado: SUJETO8_ENOJO_segmentado_frame180.jpg\n",
      "Frame guardado: SUJETO8_ENOJO_segmentado_frame210.jpg\n",
      "Frame guardado: SUJETO8_ENOJO_segmentado_frame240.jpg\n",
      "Frame guardado: SUJETO8_ENOJO_segmentado_frame270.jpg\n",
      "Frame guardado: SUJETO8_ENOJO_segmentado_frame300.jpg\n",
      "Frame guardado: SUJETO8_ENOJO_segmentado_frame330.jpg\n",
      "Frame guardado: SUJETO8_FELICIDAD_segmentado_frame0.jpg\n",
      "Frame guardado: SUJETO8_FELICIDAD_segmentado_frame30.jpg\n",
      "Frame guardado: SUJETO8_FELICIDAD_segmentado_frame60.jpg\n",
      "Frame guardado: SUJETO8_FELICIDAD_segmentado_frame90.jpg\n",
      "Frame guardado: SUJETO8_FELICIDAD_segmentado_frame120.jpg\n",
      "Frame guardado: SUJETO8_FELICIDAD_segmentado_frame150.jpg\n",
      "Frame guardado: SUJETO8_FELICIDAD_segmentado_frame180.jpg\n",
      "Frame guardado: SUJETO8_FELICIDAD_segmentado_frame210.jpg\n",
      "Frame guardado: SUJETO8_FELICIDAD_segmentado_frame240.jpg\n",
      "Frame guardado: SUJETO8_FELICIDAD_segmentado_frame270.jpg\n",
      "Frame guardado: SUJETO8_N1_segmentado_frame0.jpg\n",
      "Frame guardado: SUJETO8_N1_segmentado_frame30.jpg\n",
      "Frame guardado: SUJETO8_N1_segmentado_frame60.jpg\n",
      "Frame guardado: SUJETO8_N1_segmentado_frame90.jpg\n",
      "Frame guardado: SUJETO8_N1_segmentado_frame120.jpg\n",
      "Frame guardado: SUJETO8_N1_segmentado_frame150.jpg\n",
      "Frame guardado: SUJETO8_N1_segmentado_frame180.jpg\n",
      "Frame guardado: SUJETO8_N1_segmentado_frame210.jpg\n",
      "Frame guardado: SUJETO8_N1_segmentado_frame240.jpg\n",
      "Frame guardado: SUJETO8_N1_segmentado_frame270.jpg\n",
      "Frame guardado: SUJETO8_TRISTEZA_segmentado_frame0.jpg\n",
      "Frame guardado: SUJETO8_TRISTEZA_segmentado_frame30.jpg\n",
      "Frame guardado: SUJETO8_TRISTEZA_segmentado_frame60.jpg\n",
      "Frame guardado: SUJETO8_TRISTEZA_segmentado_frame90.jpg\n",
      "Frame guardado: SUJETO8_TRISTEZA_segmentado_frame120.jpg\n",
      "Frame guardado: SUJETO8_TRISTEZA_segmentado_frame150.jpg\n",
      "Frame guardado: SUJETO8_TRISTEZA_segmentado_frame180.jpg\n",
      "Frame guardado: SUJETO8_TRISTEZA_segmentado_frame210.jpg\n",
      "Frame guardado: SUJETO8_TRISTEZA_segmentado_frame240.jpg\n",
      "Frame guardado: SUJETO8_TRISTEZA_segmentado_frame270.jpg\n",
      "Frame guardado: SUJETO9_ENOJO_segmentado_frame0.jpg\n",
      "Frame guardado: SUJETO9_ENOJO_segmentado_frame30.jpg\n",
      "Frame guardado: SUJETO9_ENOJO_segmentado_frame60.jpg\n",
      "Frame guardado: SUJETO9_ENOJO_segmentado_frame90.jpg\n",
      "Frame guardado: SUJETO9_ENOJO_segmentado_frame120.jpg\n",
      "Frame guardado: SUJETO9_ENOJO_segmentado_frame150.jpg\n",
      "Frame guardado: SUJETO9_ENOJO_segmentado_frame180.jpg\n",
      "Frame guardado: SUJETO9_ENOJO_segmentado_frame210.jpg\n",
      "Frame guardado: SUJETO9_ENOJO_segmentado_frame240.jpg\n",
      "Frame guardado: SUJETO9_ENOJO_segmentado_frame270.jpg\n",
      "Frame guardado: SUJETO9_ENOJO_segmentado_frame300.jpg\n",
      "Frame guardado: SUJETO9_ENOJO_segmentado_frame330.jpg\n",
      "Frame guardado: SUJETO9_FELICIDAD_segmentado_frame0.jpg\n",
      "Frame guardado: SUJETO9_FELICIDAD_segmentado_frame30.jpg\n",
      "Frame guardado: SUJETO9_FELICIDAD_segmentado_frame60.jpg\n",
      "Frame guardado: SUJETO9_FELICIDAD_segmentado_frame90.jpg\n",
      "Frame guardado: SUJETO9_FELICIDAD_segmentado_frame120.jpg\n",
      "Frame guardado: SUJETO9_FELICIDAD_segmentado_frame150.jpg\n",
      "Frame guardado: SUJETO9_FELICIDAD_segmentado_frame180.jpg\n",
      "Frame guardado: SUJETO9_FELICIDAD_segmentado_frame210.jpg\n",
      "Frame guardado: SUJETO9_FELICIDAD_segmentado_frame240.jpg\n",
      "Frame guardado: SUJETO9_FELICIDAD_segmentado_frame270.jpg\n",
      "Frame guardado: SUJETO9_N1_segmentado_frame0.jpg\n",
      "Frame guardado: SUJETO9_N1_segmentado_frame30.jpg\n",
      "Frame guardado: SUJETO9_N1_segmentado_frame60.jpg\n",
      "Frame guardado: SUJETO9_N1_segmentado_frame90.jpg\n",
      "Frame guardado: SUJETO9_N1_segmentado_frame120.jpg\n",
      "Frame guardado: SUJETO9_N1_segmentado_frame150.jpg\n",
      "Frame guardado: SUJETO9_N1_segmentado_frame180.jpg\n",
      "Frame guardado: SUJETO9_N1_segmentado_frame210.jpg\n",
      "Frame guardado: SUJETO9_N1_segmentado_frame240.jpg\n",
      "Frame guardado: SUJETO9_N1_segmentado_frame270.jpg\n",
      "Frame guardado: SUJETO9_TRISTEZA_segmentado_frame0.jpg\n",
      "Frame guardado: SUJETO9_TRISTEZA_segmentado_frame30.jpg\n",
      "Frame guardado: SUJETO9_TRISTEZA_segmentado_frame60.jpg\n",
      "Frame guardado: SUJETO9_TRISTEZA_segmentado_frame90.jpg\n",
      "Frame guardado: SUJETO9_TRISTEZA_segmentado_frame120.jpg\n",
      "Frame guardado: SUJETO9_TRISTEZA_segmentado_frame150.jpg\n",
      "Frame guardado: SUJETO9_TRISTEZA_segmentado_frame180.jpg\n",
      "Frame guardado: SUJETO9_TRISTEZA_segmentado_frame210.jpg\n",
      "Frame guardado: SUJETO9_TRISTEZA_segmentado_frame240.jpg\n",
      "Frame guardado: SUJETO9_TRISTEZA_segmentado_frame270.jpg\n"
     ]
    }
   ],
   "source": [
    "import cv2\n",
    "import os\n",
    "\n",
    "# Ruta a la carpeta que contiene los videos\n",
    "videos_folder = './VideosSegmentados/'\n",
    "\n",
    "# Ruta a la carpeta donde se guardarán las imágenes\n",
    "images_folder = './Imagenes/'\n",
    "\n",
    "# Crea la carpeta para las imágenes si no existe\n",
    "if not os.path.exists(images_folder):\n",
    "    os.makedirs(images_folder)\n",
    "\n",
    "# Recorre todos los archivos en la carpeta de videos\n",
    "for video_file in os.listdir(videos_folder):\n",
    "    video_path = os.path.join(videos_folder, video_file)\n",
    "    \n",
    "    # Verifica si el archivo es un video abriéndolo con OpenCV\n",
    "    cap = cv2.VideoCapture(video_path)\n",
    "    if not cap.isOpened():\n",
    "        print(f\"No se pudo abrir el video {video_file}\")\n",
    "        continue\n",
    "\n",
    "    frame_count = 0\n",
    "    while cap.isOpened():\n",
    "        ret, frame = cap.read()\n",
    "        if not ret:\n",
    "            break\n",
    "\n",
    "        # Extrae un frame cada 30 frames\n",
    "        if frame_count % 30 == 0:\n",
    "            frame_filename = f\"{os.path.splitext(video_file)[0]}_frame{frame_count}.jpg\"\n",
    "            frame_path = os.path.join(images_folder, frame_filename)\n",
    "            cv2.imwrite(frame_path, frame)\n",
    "            print(f\"Frame guardado: {frame_filename}\")\n",
    "\n",
    "        frame_count += 1\n",
    "\n",
    "    # Libera el objeto cap y cierra todas las ventanas de OpenCV\n",
    "    cap.release()\n",
    "\n",
    "cv2.destroyAllWindows()\n"
   ]
  },
  {
   "cell_type": "code",
   "execution_count": 18,
   "metadata": {},
   "outputs": [
    {
     "ename": "KeyboardInterrupt",
     "evalue": "",
     "output_type": "error",
     "traceback": [
      "\u001b[1;31m---------------------------------------------------------------------------\u001b[0m",
      "\u001b[1;31mKeyboardInterrupt\u001b[0m                         Traceback (most recent call last)",
      "Cell \u001b[1;32mIn[18], line 64\u001b[0m\n\u001b[0;32m     61\u001b[0m         temp_df \u001b[38;5;241m=\u001b[39m pd\u001b[38;5;241m.\u001b[39mDataFrame([landmark_dict])\n\u001b[0;32m     63\u001b[0m         \u001b[38;5;66;03m# Concatenar el DataFrame temporal con el DataFrame principal\u001b[39;00m\n\u001b[1;32m---> 64\u001b[0m         landmarks_filter_data \u001b[38;5;241m=\u001b[39m \u001b[43mpd\u001b[49m\u001b[38;5;241;43m.\u001b[39;49m\u001b[43mconcat\u001b[49m\u001b[43m(\u001b[49m\u001b[43m[\u001b[49m\u001b[43mlandmarks_filter_data\u001b[49m\u001b[43m,\u001b[49m\u001b[43m \u001b[49m\u001b[43mtemp_df\u001b[49m\u001b[43m]\u001b[49m\u001b[43m,\u001b[49m\u001b[43m \u001b[49m\u001b[43mignore_index\u001b[49m\u001b[38;5;241;43m=\u001b[39;49m\u001b[38;5;28;43;01mTrue\u001b[39;49;00m\u001b[43m)\u001b[49m\n\u001b[0;32m     66\u001b[0m cap\u001b[38;5;241m.\u001b[39mrelease()\n",
      "File \u001b[1;32mc:\\Users\\ages0\\AppData\\Local\\Programs\\Python\\Python311\\Lib\\site-packages\\pandas\\core\\reshape\\concat.py:395\u001b[0m, in \u001b[0;36mconcat\u001b[1;34m(objs, axis, join, ignore_index, keys, levels, names, verify_integrity, sort, copy)\u001b[0m\n\u001b[0;32m    380\u001b[0m     copy \u001b[38;5;241m=\u001b[39m \u001b[38;5;28;01mFalse\u001b[39;00m\n\u001b[0;32m    382\u001b[0m op \u001b[38;5;241m=\u001b[39m _Concatenator(\n\u001b[0;32m    383\u001b[0m     objs,\n\u001b[0;32m    384\u001b[0m     axis\u001b[38;5;241m=\u001b[39maxis,\n\u001b[1;32m   (...)\u001b[0m\n\u001b[0;32m    392\u001b[0m     sort\u001b[38;5;241m=\u001b[39msort,\n\u001b[0;32m    393\u001b[0m )\n\u001b[1;32m--> 395\u001b[0m \u001b[38;5;28;01mreturn\u001b[39;00m \u001b[43mop\u001b[49m\u001b[38;5;241;43m.\u001b[39;49m\u001b[43mget_result\u001b[49m\u001b[43m(\u001b[49m\u001b[43m)\u001b[49m\n",
      "File \u001b[1;32mc:\\Users\\ages0\\AppData\\Local\\Programs\\Python\\Python311\\Lib\\site-packages\\pandas\\core\\reshape\\concat.py:684\u001b[0m, in \u001b[0;36m_Concatenator.get_result\u001b[1;34m(self)\u001b[0m\n\u001b[0;32m    680\u001b[0m             indexers[ax] \u001b[38;5;241m=\u001b[39m obj_labels\u001b[38;5;241m.\u001b[39mget_indexer(new_labels)\n\u001b[0;32m    682\u001b[0m     mgrs_indexers\u001b[38;5;241m.\u001b[39mappend((obj\u001b[38;5;241m.\u001b[39m_mgr, indexers))\n\u001b[1;32m--> 684\u001b[0m new_data \u001b[38;5;241m=\u001b[39m \u001b[43mconcatenate_managers\u001b[49m\u001b[43m(\u001b[49m\n\u001b[0;32m    685\u001b[0m \u001b[43m    \u001b[49m\u001b[43mmgrs_indexers\u001b[49m\u001b[43m,\u001b[49m\u001b[43m \u001b[49m\u001b[38;5;28;43mself\u001b[39;49m\u001b[38;5;241;43m.\u001b[39;49m\u001b[43mnew_axes\u001b[49m\u001b[43m,\u001b[49m\u001b[43m \u001b[49m\u001b[43mconcat_axis\u001b[49m\u001b[38;5;241;43m=\u001b[39;49m\u001b[38;5;28;43mself\u001b[39;49m\u001b[38;5;241;43m.\u001b[39;49m\u001b[43mbm_axis\u001b[49m\u001b[43m,\u001b[49m\u001b[43m \u001b[49m\u001b[43mcopy\u001b[49m\u001b[38;5;241;43m=\u001b[39;49m\u001b[38;5;28;43mself\u001b[39;49m\u001b[38;5;241;43m.\u001b[39;49m\u001b[43mcopy\u001b[49m\n\u001b[0;32m    686\u001b[0m \u001b[43m\u001b[49m\u001b[43m)\u001b[49m\n\u001b[0;32m    687\u001b[0m \u001b[38;5;28;01mif\u001b[39;00m \u001b[38;5;129;01mnot\u001b[39;00m \u001b[38;5;28mself\u001b[39m\u001b[38;5;241m.\u001b[39mcopy \u001b[38;5;129;01mand\u001b[39;00m \u001b[38;5;129;01mnot\u001b[39;00m using_copy_on_write():\n\u001b[0;32m    688\u001b[0m     new_data\u001b[38;5;241m.\u001b[39m_consolidate_inplace()\n",
      "File \u001b[1;32mc:\\Users\\ages0\\AppData\\Local\\Programs\\Python\\Python311\\Lib\\site-packages\\pandas\\core\\internals\\concat.py:149\u001b[0m, in \u001b[0;36mconcatenate_managers\u001b[1;34m(mgrs_indexers, axes, concat_axis, copy)\u001b[0m\n\u001b[0;32m    146\u001b[0m             nb \u001b[38;5;241m=\u001b[39m _concat_homogeneous_fastpath(mgrs_indexers, shape, first_dtype)\n\u001b[0;32m    147\u001b[0m             \u001b[38;5;28;01mreturn\u001b[39;00m BlockManager((nb,), axes)\n\u001b[1;32m--> 149\u001b[0m mgrs \u001b[38;5;241m=\u001b[39m \u001b[43m_maybe_reindex_columns_na_proxy\u001b[49m\u001b[43m(\u001b[49m\u001b[43maxes\u001b[49m\u001b[43m,\u001b[49m\u001b[43m \u001b[49m\u001b[43mmgrs_indexers\u001b[49m\u001b[43m,\u001b[49m\u001b[43m \u001b[49m\u001b[43mneeds_copy\u001b[49m\u001b[43m)\u001b[49m\n\u001b[0;32m    151\u001b[0m \u001b[38;5;28;01mif\u001b[39;00m \u001b[38;5;28mlen\u001b[39m(mgrs) \u001b[38;5;241m==\u001b[39m \u001b[38;5;241m1\u001b[39m:\n\u001b[0;32m    152\u001b[0m     mgr \u001b[38;5;241m=\u001b[39m mgrs[\u001b[38;5;241m0\u001b[39m]\n",
      "File \u001b[1;32mc:\\Users\\ages0\\AppData\\Local\\Programs\\Python\\Python311\\Lib\\site-packages\\pandas\\core\\internals\\concat.py:220\u001b[0m, in \u001b[0;36m_maybe_reindex_columns_na_proxy\u001b[1;34m(axes, mgrs_indexers, needs_copy)\u001b[0m\n\u001b[0;32m    216\u001b[0m \u001b[38;5;28;01mfor\u001b[39;00m mgr, indexers \u001b[38;5;129;01min\u001b[39;00m mgrs_indexers:\n\u001b[0;32m    217\u001b[0m     \u001b[38;5;66;03m# For axis=0 (i.e. columns) we use_na_proxy and only_slice, so this\u001b[39;00m\n\u001b[0;32m    218\u001b[0m     \u001b[38;5;66;03m#  is a cheap reindexing.\u001b[39;00m\n\u001b[0;32m    219\u001b[0m     \u001b[38;5;28;01mfor\u001b[39;00m i, indexer \u001b[38;5;129;01min\u001b[39;00m indexers\u001b[38;5;241m.\u001b[39mitems():\n\u001b[1;32m--> 220\u001b[0m         mgr \u001b[38;5;241m=\u001b[39m \u001b[43mmgr\u001b[49m\u001b[38;5;241;43m.\u001b[39;49m\u001b[43mreindex_indexer\u001b[49m\u001b[43m(\u001b[49m\n\u001b[0;32m    221\u001b[0m \u001b[43m            \u001b[49m\u001b[43maxes\u001b[49m\u001b[43m[\u001b[49m\u001b[43mi\u001b[49m\u001b[43m]\u001b[49m\u001b[43m,\u001b[49m\n\u001b[0;32m    222\u001b[0m \u001b[43m            \u001b[49m\u001b[43mindexers\u001b[49m\u001b[43m[\u001b[49m\u001b[43mi\u001b[49m\u001b[43m]\u001b[49m\u001b[43m,\u001b[49m\n\u001b[0;32m    223\u001b[0m \u001b[43m            \u001b[49m\u001b[43maxis\u001b[49m\u001b[38;5;241;43m=\u001b[39;49m\u001b[43mi\u001b[49m\u001b[43m,\u001b[49m\n\u001b[0;32m    224\u001b[0m \u001b[43m            \u001b[49m\u001b[43mcopy\u001b[49m\u001b[38;5;241;43m=\u001b[39;49m\u001b[38;5;28;43;01mFalse\u001b[39;49;00m\u001b[43m,\u001b[49m\n\u001b[0;32m    225\u001b[0m \u001b[43m            \u001b[49m\u001b[43monly_slice\u001b[49m\u001b[38;5;241;43m=\u001b[39;49m\u001b[38;5;28;43;01mTrue\u001b[39;49;00m\u001b[43m,\u001b[49m\u001b[43m  \u001b[49m\u001b[38;5;66;43;03m# only relevant for i==0\u001b[39;49;00m\n\u001b[0;32m    226\u001b[0m \u001b[43m            \u001b[49m\u001b[43mallow_dups\u001b[49m\u001b[38;5;241;43m=\u001b[39;49m\u001b[38;5;28;43;01mTrue\u001b[39;49;00m\u001b[43m,\u001b[49m\n\u001b[0;32m    227\u001b[0m \u001b[43m            \u001b[49m\u001b[43muse_na_proxy\u001b[49m\u001b[38;5;241;43m=\u001b[39;49m\u001b[38;5;28;43;01mTrue\u001b[39;49;00m\u001b[43m,\u001b[49m\u001b[43m  \u001b[49m\u001b[38;5;66;43;03m# only relevant for i==0\u001b[39;49;00m\n\u001b[0;32m    228\u001b[0m \u001b[43m        \u001b[49m\u001b[43m)\u001b[49m\n\u001b[0;32m    229\u001b[0m     \u001b[38;5;28;01mif\u001b[39;00m needs_copy \u001b[38;5;129;01mand\u001b[39;00m \u001b[38;5;129;01mnot\u001b[39;00m indexers:\n\u001b[0;32m    230\u001b[0m         mgr \u001b[38;5;241m=\u001b[39m mgr\u001b[38;5;241m.\u001b[39mcopy()\n",
      "File \u001b[1;32mc:\\Users\\ages0\\AppData\\Local\\Programs\\Python\\Python311\\Lib\\site-packages\\pandas\\core\\internals\\managers.py:680\u001b[0m, in \u001b[0;36mBaseBlockManager.reindex_indexer\u001b[1;34m(self, new_axis, indexer, axis, fill_value, allow_dups, copy, only_slice, use_na_proxy)\u001b[0m\n\u001b[0;32m    677\u001b[0m     \u001b[38;5;28;01mraise\u001b[39;00m \u001b[38;5;167;01mIndexError\u001b[39;00m(\u001b[38;5;124m\"\u001b[39m\u001b[38;5;124mRequested axis not found in manager\u001b[39m\u001b[38;5;124m\"\u001b[39m)\n\u001b[0;32m    679\u001b[0m \u001b[38;5;28;01mif\u001b[39;00m axis \u001b[38;5;241m==\u001b[39m \u001b[38;5;241m0\u001b[39m:\n\u001b[1;32m--> 680\u001b[0m     new_blocks \u001b[38;5;241m=\u001b[39m \u001b[38;5;28;43mself\u001b[39;49m\u001b[38;5;241;43m.\u001b[39;49m\u001b[43m_slice_take_blocks_ax0\u001b[49m\u001b[43m(\u001b[49m\n\u001b[0;32m    681\u001b[0m \u001b[43m        \u001b[49m\u001b[43mindexer\u001b[49m\u001b[43m,\u001b[49m\n\u001b[0;32m    682\u001b[0m \u001b[43m        \u001b[49m\u001b[43mfill_value\u001b[49m\u001b[38;5;241;43m=\u001b[39;49m\u001b[43mfill_value\u001b[49m\u001b[43m,\u001b[49m\n\u001b[0;32m    683\u001b[0m \u001b[43m        \u001b[49m\u001b[43monly_slice\u001b[49m\u001b[38;5;241;43m=\u001b[39;49m\u001b[43monly_slice\u001b[49m\u001b[43m,\u001b[49m\n\u001b[0;32m    684\u001b[0m \u001b[43m        \u001b[49m\u001b[43muse_na_proxy\u001b[49m\u001b[38;5;241;43m=\u001b[39;49m\u001b[43muse_na_proxy\u001b[49m\u001b[43m,\u001b[49m\n\u001b[0;32m    685\u001b[0m \u001b[43m    \u001b[49m\u001b[43m)\u001b[49m\n\u001b[0;32m    686\u001b[0m \u001b[38;5;28;01melse\u001b[39;00m:\n\u001b[0;32m    687\u001b[0m     new_blocks \u001b[38;5;241m=\u001b[39m [\n\u001b[0;32m    688\u001b[0m         blk\u001b[38;5;241m.\u001b[39mtake_nd(\n\u001b[0;32m    689\u001b[0m             indexer,\n\u001b[1;32m   (...)\u001b[0m\n\u001b[0;32m    695\u001b[0m         \u001b[38;5;28;01mfor\u001b[39;00m blk \u001b[38;5;129;01min\u001b[39;00m \u001b[38;5;28mself\u001b[39m\u001b[38;5;241m.\u001b[39mblocks\n\u001b[0;32m    696\u001b[0m     ]\n",
      "File \u001b[1;32mc:\\Users\\ages0\\AppData\\Local\\Programs\\Python\\Python311\\Lib\\site-packages\\pandas\\core\\internals\\managers.py:838\u001b[0m, in \u001b[0;36mBaseBlockManager._slice_take_blocks_ax0\u001b[1;34m(self, slice_or_indexer, fill_value, only_slice, use_na_proxy, ref_inplace_op)\u001b[0m\n\u001b[0;32m    836\u001b[0m \u001b[38;5;28;01mfor\u001b[39;00m i, ml \u001b[38;5;129;01min\u001b[39;00m \u001b[38;5;28mzip\u001b[39m(taker, mgr_locs):\n\u001b[0;32m    837\u001b[0m     slc \u001b[38;5;241m=\u001b[39m \u001b[38;5;28mslice\u001b[39m(i, i \u001b[38;5;241m+\u001b[39m \u001b[38;5;241m1\u001b[39m)\n\u001b[1;32m--> 838\u001b[0m     bp \u001b[38;5;241m=\u001b[39m \u001b[43mBlockPlacement\u001b[49m\u001b[43m(\u001b[49m\u001b[43mml\u001b[49m\u001b[43m)\u001b[49m\n\u001b[0;32m    839\u001b[0m     nb \u001b[38;5;241m=\u001b[39m blk\u001b[38;5;241m.\u001b[39mgetitem_block_columns(slc, new_mgr_locs\u001b[38;5;241m=\u001b[39mbp)\n\u001b[0;32m    840\u001b[0m     \u001b[38;5;66;03m# We have np.shares_memory(nb.values, blk.values)\u001b[39;00m\n",
      "\u001b[1;31mKeyboardInterrupt\u001b[0m: "
     ]
    }
   ],
   "source": [
    "import cv2\n",
    "import mediapipe as mp\n",
    "import pandas as pd\n",
    "import os\n",
    "\n",
    "# Definir la función para extraer landmarks faciales de un fotograma\n",
    "def extract_landmarks(frame):\n",
    "    # Inicializar MediaPipe Face Mesh cada vez que se llama a la función\n",
    "    with mp.solutions.face_mesh.FaceMesh(\n",
    "        static_image_mode=True,\n",
    "        max_num_faces=1,\n",
    "        min_detection_confidence=0.5) as face_mesh:\n",
    "\n",
    "        # Convertir la imagen a RGB\n",
    "        image_rgb = cv2.cvtColor(frame, cv2.COLOR_BGR2RGB)\n",
    "        \n",
    "        # Procesar la imagen y obtener los resultados de los landmarks faciales\n",
    "        results = face_mesh.process(image_rgb)\n",
    "        \n",
    "        # Verificar si se detectaron landmarks faciales\n",
    "        if results.multi_face_landmarks:\n",
    "            # Obtener los landmarks faciales del primer rostro detectado\n",
    "            face_landmarks = results.multi_face_landmarks[0]\n",
    "            \n",
    "            # Convertir los landmarks a una lista de tuplas de coordenadas (x, y, z)\n",
    "            landmarks = [(lm.x, lm.y, lm.z) for lm in face_landmarks.landmark]\n",
    "            \n",
    "            return landmarks  # Devolver la lista de landmarks faciales\n",
    "\n",
    "    return None\n",
    "\n",
    "path = \"./Videos/\"\n",
    "list_dir = os.listdir(path)\n",
    "df_all_data_landmarks = pd.DataFrame(columns=['Video', 'Frame', 'Landmarks'])  # Asegúrate de usar el nombre correcto de DataFrame aquí\n",
    "landmarks_filter_data = pd.DataFrame(columns=['filename'] + [f\"x_{i}\" for i in range(468)] + [f\"y_{i}\" for i in range(468)] + [f\"z_{i}\" for i in range(468)] + ['label'])\n",
    "\n",
    "for file in list_dir:\n",
    "    cap = cv2.VideoCapture(path + file)\n",
    "    if not cap.isOpened():\n",
    "        print(f\"Error al abrir el video: {file}\")\n",
    "        continue\n",
    "\n",
    "    while True:\n",
    "        success, frame = cap.read()\n",
    "        if not success:\n",
    "            break\n",
    "\n",
    "        landmarks = extract_landmarks(frame)\n",
    "        \n",
    "        if landmarks:\n",
    "            landmark_dict = {\"filename\": file}\n",
    "            for i, lm in enumerate(landmarks):\n",
    "                landmark_dict[f\"x_{i}\"] = lm[0]\n",
    "                landmark_dict[f\"y_{i}\"] = lm[1]\n",
    "                landmark_dict[f\"z_{i}\"] = lm[2]\n",
    "\n",
    "            label = file.split('_')[1]\n",
    "            landmark_dict['label'] = label\n",
    "\n",
    "            # Crear un DataFrame temporal con los datos de esta fila\n",
    "            temp_df = pd.DataFrame([landmark_dict])\n",
    "\n",
    "            # Concatenar el DataFrame temporal con el DataFrame principal\n",
    "            landmarks_filter_data = pd.concat([landmarks_filter_data, temp_df], ignore_index=True)\n",
    "\n",
    "    cap.release()\n"
   ]
  },
  {
   "cell_type": "code",
   "execution_count": 12,
   "metadata": {},
   "outputs": [],
   "source": [
    "df_all_data_landmarks = landmarks_data\n",
    "# Guardar el DataFrame con los landmarks de todos los videos como un archivo CSV\n",
    "df_all_data_landmarks.to_csv('df_all_data_landmarks.csv', index=False)"
   ]
  },
  {
   "cell_type": "code",
   "execution_count": 19,
   "metadata": {},
   "outputs": [
    {
     "name": "stdout",
     "output_type": "stream",
     "text": [
      "             Video  Landmark_ID         x         y         z\n",
      "0  SUJETO10_N1.MOV            0  0.535982  0.731780 -0.037235\n",
      "1  SUJETO10_N1.MOV            1  0.538623  0.643297 -0.072559\n",
      "2  SUJETO10_N1.MOV            2  0.535853  0.665372 -0.038538\n",
      "3  SUJETO10_N1.MOV            3  0.532896  0.566527 -0.055616\n",
      "4  SUJETO10_N1.MOV            4  0.540620  0.620441 -0.077139\n"
     ]
    }
   ],
   "source": [
    "\n",
    "\n",
    "# Inicializa MediaPipe FaceMesh\n",
    "mp_face_mesh = mp.solutions.face_mesh\n",
    "mp_drawing = mp.solutions.drawing_utils\n",
    "mp_drawing_styles = mp.solutions.drawing_styles\n",
    "\n",
    "# Lista para almacenar los datos de los landmarks\n",
    "landmarks_data = []\n",
    "\n",
    "# Carpeta que contiene los videos\n",
    "videos_folder = './Videos/'\n",
    "\n",
    "# Lista todos los archivos en la carpeta que terminan con _N1.MOV\n",
    "video_files = [f for f in os.listdir(videos_folder) if f.endswith('_N1.MOV')]\n",
    "\n",
    "# Procesa cada video que cumple con el criterio\n",
    "for video_file in video_files:\n",
    "    video_path = os.path.join(videos_folder, video_file)\n",
    "    cap = cv2.VideoCapture(video_path)\n",
    "\n",
    "    with mp_face_mesh.FaceMesh(\n",
    "        max_num_faces=1,\n",
    "        refine_landmarks=True,\n",
    "        min_detection_confidence=0.5,\n",
    "        min_tracking_confidence=0.5) as face_mesh:\n",
    "\n",
    "        while cap.isOpened():\n",
    "            success, image = cap.read()\n",
    "            if not success:\n",
    "                break  # Fin del video\n",
    "\n",
    "            # Preprocesa la imagen\n",
    "            image = cv2.resize(image, (720, 540))\n",
    "            image_rgb = cv2.cvtColor(image, cv2.COLOR_BGR2RGB)\n",
    "            results = face_mesh.process(image_rgb)\n",
    "\n",
    "            # Extrae landmarks faciales si están disponibles\n",
    "            if results.multi_face_landmarks:\n",
    "                for face_landmarks in results.multi_face_landmarks:\n",
    "                    # Extrae landmarks y los almacena en la lista\n",
    "                    for idx, landmark in enumerate(face_landmarks.landmark):\n",
    "                        landmarks_data.append({\n",
    "                            'Video': video_file,\n",
    "                            'Landmark_ID': idx,\n",
    "                            'x': landmark.x,\n",
    "                            'y': landmark.y,\n",
    "                            'z': landmark.z\n",
    "                        })\n",
    "\n",
    "    cap.release()\n",
    "\n",
    "# Crea un DataFrame a partir de la lista de datos\n",
    "df_all_videos_landmarks = pd.DataFrame(landmarks_data)\n",
    "\n",
    "cv2.destroyAllWindows()\n",
    "\n",
    "# Muestra los primeros registros del DataFrame\n",
    "print(df_all_videos_landmarks.head())\n",
    "\n",
    "# Opcional: Guarda el DataFrame a un archivo CSV\n",
    "# df_all_videos_landmarks.to_csv('video_landmarks_N1.csv', index=False)\n"
   ]
  },
  {
   "cell_type": "code",
   "execution_count": 7,
   "metadata": {},
   "outputs": [
    {
     "data": {
      "text/html": [
       "<div>\n",
       "<style scoped>\n",
       "    .dataframe tbody tr th:only-of-type {\n",
       "        vertical-align: middle;\n",
       "    }\n",
       "\n",
       "    .dataframe tbody tr th {\n",
       "        vertical-align: top;\n",
       "    }\n",
       "\n",
       "    .dataframe thead th {\n",
       "        text-align: right;\n",
       "    }\n",
       "</style>\n",
       "<table border=\"1\" class=\"dataframe\">\n",
       "  <thead>\n",
       "    <tr style=\"text-align: right;\">\n",
       "      <th></th>\n",
       "      <th>K1X</th>\n",
       "      <th>K2X</th>\n",
       "      <th>K3X</th>\n",
       "      <th>K4X</th>\n",
       "      <th>K5X</th>\n",
       "      <th>K6X</th>\n",
       "      <th>K7X</th>\n",
       "      <th>K8X</th>\n",
       "      <th>K9X</th>\n",
       "      <th>K10X</th>\n",
       "      <th>...</th>\n",
       "      <th>K459Y</th>\n",
       "      <th>K460Y</th>\n",
       "      <th>K461Y</th>\n",
       "      <th>K462Y</th>\n",
       "      <th>K463Y</th>\n",
       "      <th>K464Y</th>\n",
       "      <th>K465Y</th>\n",
       "      <th>K466Y</th>\n",
       "      <th>K467Y</th>\n",
       "      <th>K468Y</th>\n",
       "    </tr>\n",
       "  </thead>\n",
       "  <tbody>\n",
       "  </tbody>\n",
       "</table>\n",
       "<p>0 rows × 936 columns</p>\n",
       "</div>"
      ],
      "text/plain": [
       "Empty DataFrame\n",
       "Columns: [K1X, K2X, K3X, K4X, K5X, K6X, K7X, K8X, K9X, K10X, K11X, K12X, K13X, K14X, K15X, K16X, K17X, K18X, K19X, K20X, K21X, K22X, K23X, K24X, K25X, K26X, K27X, K28X, K29X, K30X, K31X, K32X, K33X, K34X, K35X, K36X, K37X, K38X, K39X, K40X, K41X, K42X, K43X, K44X, K45X, K46X, K47X, K48X, K49X, K50X, K51X, K52X, K53X, K54X, K55X, K56X, K57X, K58X, K59X, K60X, K61X, K62X, K63X, K64X, K65X, K66X, K67X, K68X, K69X, K70X, K71X, K72X, K73X, K74X, K75X, K76X, K77X, K78X, K79X, K80X, K81X, K82X, K83X, K84X, K85X, K86X, K87X, K88X, K89X, K90X, K91X, K92X, K93X, K94X, K95X, K96X, K97X, K98X, K99X, K100X, ...]\n",
       "Index: []\n",
       "\n",
       "[0 rows x 936 columns]"
      ]
     },
     "execution_count": 7,
     "metadata": {},
     "output_type": "execute_result"
    }
   ],
   "source": [
    "df"
   ]
  },
  {
   "cell_type": "markdown",
   "metadata": {},
   "source": [
    "## Modelos a Evaluar"
   ]
  },
  {
   "cell_type": "markdown",
   "metadata": {},
   "source": [
    "## Evaluando los modelos"
   ]
  },
  {
   "cell_type": "markdown",
   "metadata": {},
   "source": [
    "## Seleccionando el mejor modelo"
   ]
  },
  {
   "cell_type": "markdown",
   "metadata": {},
   "source": [
    "## Validaci&oacute;n"
   ]
  },
  {
   "cell_type": "markdown",
   "metadata": {},
   "source": [
    "## Conclusiones"
   ]
  }
 ],
 "metadata": {
  "kernelspec": {
   "display_name": "Python 3",
   "language": "python",
   "name": "python3"
  },
  "language_info": {
   "codemirror_mode": {
    "name": "ipython",
    "version": 3
   },
   "file_extension": ".py",
   "mimetype": "text/x-python",
   "name": "python",
   "nbconvert_exporter": "python",
   "pygments_lexer": "ipython3",
   "version": "3.11.5"
  }
 },
 "nbformat": 4,
 "nbformat_minor": 2
}
