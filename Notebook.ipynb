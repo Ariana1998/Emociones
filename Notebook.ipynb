{
 "cells": [
  {
   "cell_type": "markdown",
   "metadata": {},
   "source": [
    "## Medici&oacute;n y An&aacute;lisis de Reacciones Emocionales a Trav&eacute;s de Estimulos Visuales"
   ]
  },
  {
   "cell_type": "markdown",
   "metadata": {},
   "source": [
    "<style>\n",
    "    .imagen-ajustada {\n",
    "        width: 900px;\n",
    "        height: 280px;\n",
    "        border-radius: 20px;\n",
    "    }\n",
    "</style>\n",
    "\n",
    "<img src=\"Emociones.jpg\" alt=\"Una imagen\" class=\"imagen-ajustada\">"
   ]
  },
  {
   "cell_type": "markdown",
   "metadata": {},
   "source": [
    "Las emociones constituyen un aspecto fundamental de la experiencia humana y, frecuentemente, se manifiestan no solo a través de la verbalización sino mediante la expresión facial. Por lo cual, el diseño del presente estudio busca explorar la hipótesis de que estímulos visuales específicos, en este caso, vídeos, pueden evocar respuestas emocionales congruentes en los observadores.\n",
    "\n",
    "Para la realización del estudio, se seleccionó una muestra diversa de 12 participantes, compuesta por 8 hombres y 4 mujeres, con edades comprendidas entre los 22 y los 56 años. El objetivo fue examinar la consistencia de las reacciones emocionales provocadas, independientemente de las variables demográficas de los sujetos."
   ]
  },
  {
   "cell_type": "markdown",
   "metadata": {},
   "source": [
    "La metodología del estudio implicó la presentación secuencial de siete videos, cada uno con una duración de treinta segundos, estructurados para inducir y luego neutralizar estados emocionales específicos en los participantes. El protocolo fue como sigue:\n",
    "\n",
    "1. Video con el fin de inducir un estado de relajación, con el propósito de establecer una línea de base emocional neutra en el sujeto.\n",
    "2. Video que mostraba a una niña interactuando por medio del juego con su perro, asumiendo el rol de veterinaria, buscando suscitar una respuesta emocional de felicidad o diversión.\n",
    "3. Video de relajación fue mostrado con el objetivo de reconducir al sujeto a un estado neutral.\n",
    "4. Video donde un hombre mostraba una conducta violenta hacia una mujer sosteniendo a un bebé, con la intención de provocar una reacción emocional de enojo, impotencia y frustración.\n",
    "5. Video de relajación que sirvió para neutralizar nuevamente el estado emocional del sujeto.\n",
    "6. Video en el que se observaba a una mujer en el acto de despedirse de su perro mientras era eutanasiado, con el propósito de elicitar una respuesta de tristeza.\n",
    "7. El último video de relajación, destinado a retornar al sujeto a un estado emocional neutro.\n",
    "\n",
    "Este diseño experimental fue cuidadosamente elaborado para evaluar la capacidad de estímulos audiovisuales para evocar emociones definidas y para facilitar el retorno a un estado de equilibrio emocional a través de la relajación entre los estímulos.   "
   ]
  },
  {
   "cell_type": "markdown",
   "metadata": {},
   "source": [
    "El propósito de iniciar y concluir la secuencia experimental con una intervención de relajación radica en la necesidad de establecer y comparar los estados emocionales pre y post experimentales de los participantes.  Esto permite una evaluación cuantitativa del cambio en la respuesta emocional inducida por los estímulos visuales presentados durante el estudio, facilitando así la distinción entre las variaciones naturales del estado emocional y aquellas provocadas por los estímulos experimentales."
   ]
  },
  {
   "cell_type": "markdown",
   "metadata": {},
   "source": [
    "## Librerias Importadas"
   ]
  },
  {
   "cell_type": "code",
   "execution_count": 1,
   "metadata": {},
   "outputs": [],
   "source": [
    "# Se implementan las librerias correspondientes para el comienzo del proyecto\n",
    "\n",
    "import os\n",
    "import warnings\n",
    "import sys\n",
    "if not sys.warnoptions:\n",
    "    warnings.simplefilter(\"ignore\")\n",
    "warnings.filterwarnings(\"ignore\", category=DeprecationWarning)\n",
    "import mediapipe as mp\n",
    "import cv2\n",
    "import matplotlib.pyplot as plt\n",
    "from pydub import AudioSegment\n",
    "import subprocess\n",
    "from moviepy.editor import VideoFileClip\n",
    "import pandas as pd\n",
    "from sklearn.feature_selection import mutual_info_classif\n",
    "import numpy as np\n",
    "import seaborn as sns\n",
    "from sklearn.preprocessing import LabelEncoder\n",
    "from sklearn.naive_bayes import GaussianNB\n",
    "from sklearn.model_selection import KFold\n",
    "from sklearn.neighbors import KNeighborsClassifier\n",
    "from sklearn.ensemble import AdaBoostClassifier\n",
    "from sklearn.metrics import f1_score, recall_score, accuracy_score, confusion_matrix, precision_score\n",
    "from sklearn.model_selection import train_test_split\n",
    "from sklearn.ensemble import AdaBoostClassifier, RandomForestClassifier\n",
    "from sklearn.ensemble import GradientBoostingClassifier\n",
    "from sklearn.neighbors import KNeighborsClassifier"
   ]
  },
  {
   "cell_type": "markdown",
   "metadata": {},
   "source": [
    "## Procesamiento y Segmentacion de datos"
   ]
  },
  {
   "cell_type": "markdown",
   "metadata": {},
   "source": [
    "Durante la fase de recolección de datos, se implementó una estrategia que incluía la captura de vídeo, audio y autoinformes, con la intención de disponer de un conjunto de datos para su aplicación en el proyecto. No obstante, se decidió priorizar el análisis de vídeo y autoinformes como consecuencia de restricciones temporales que impidieron la integración efectiva de las grabaciones de audio.\n",
    "\n",
    "En consecuencia, para el procesamiento de los datos de vídeo, se llevó a cabo una selección enfocada en las respuestas visuales de los sujetos, excluyendo los componentes de audio de su reacción ante los estímulos. Este procedimiento implicó una edición de los videos, con el fin de aislar y conservar únicamente las respuestas emocionales no verbales manifestadas por los participantes."
   ]
  },
  {
   "cell_type": "code",
   "execution_count": 45,
   "metadata": {},
   "outputs": [
    {
     "name": "stdout",
     "output_type": "stream",
     "text": [
      "Moviepy - Building video ./VideosRecortados/SUJETO10_N4.MOV.\n",
      "MoviePy - Writing audio in SUJETO10_N4TEMP_MPY_wvf_snd.mp4\n"
     ]
    },
    {
     "name": "stderr",
     "output_type": "stream",
     "text": [
      "                                                                    \r"
     ]
    },
    {
     "name": "stdout",
     "output_type": "stream",
     "text": [
      "MoviePy - Done.\n",
      "Moviepy - Writing video ./VideosRecortados/SUJETO10_N4.MOV\n",
      "\n"
     ]
    },
    {
     "name": "stderr",
     "output_type": "stream",
     "text": [
      "                                                              \r"
     ]
    },
    {
     "name": "stdout",
     "output_type": "stream",
     "text": [
      "Moviepy - Done !\n",
      "Moviepy - video ready ./VideosRecortados/SUJETO10_N4.MOV\n",
      "Moviepy - Building video ./VideosRecortados/SUJETO11_N4.MOV.\n",
      "MoviePy - Writing audio in SUJETO11_N4TEMP_MPY_wvf_snd.mp4\n"
     ]
    },
    {
     "name": "stderr",
     "output_type": "stream",
     "text": [
      "                                                                    \r"
     ]
    },
    {
     "name": "stdout",
     "output_type": "stream",
     "text": [
      "MoviePy - Done.\n",
      "Moviepy - Writing video ./VideosRecortados/SUJETO11_N4.MOV\n",
      "\n"
     ]
    },
    {
     "name": "stderr",
     "output_type": "stream",
     "text": [
      "                                                              \r"
     ]
    },
    {
     "name": "stdout",
     "output_type": "stream",
     "text": [
      "Moviepy - Done !\n",
      "Moviepy - video ready ./VideosRecortados/SUJETO11_N4.MOV\n",
      "Moviepy - Building video ./VideosRecortados/SUJETO12_N4.MOV.\n",
      "MoviePy - Writing audio in SUJETO12_N4TEMP_MPY_wvf_snd.mp4\n"
     ]
    },
    {
     "name": "stderr",
     "output_type": "stream",
     "text": [
      "                                                                    \r"
     ]
    },
    {
     "name": "stdout",
     "output_type": "stream",
     "text": [
      "MoviePy - Done.\n",
      "Moviepy - Writing video ./VideosRecortados/SUJETO12_N4.MOV\n",
      "\n"
     ]
    },
    {
     "name": "stderr",
     "output_type": "stream",
     "text": [
      "                                                              \r"
     ]
    },
    {
     "name": "stdout",
     "output_type": "stream",
     "text": [
      "Moviepy - Done !\n",
      "Moviepy - video ready ./VideosRecortados/SUJETO12_N4.MOV\n",
      "Moviepy - Building video ./VideosRecortados/SUJETO1_N4.MOV.\n",
      "MoviePy - Writing audio in SUJETO1_N4TEMP_MPY_wvf_snd.mp4\n"
     ]
    },
    {
     "name": "stderr",
     "output_type": "stream",
     "text": [
      "                                                                    \r"
     ]
    },
    {
     "name": "stdout",
     "output_type": "stream",
     "text": [
      "MoviePy - Done.\n",
      "Moviepy - Writing video ./VideosRecortados/SUJETO1_N4.MOV\n",
      "\n"
     ]
    },
    {
     "name": "stderr",
     "output_type": "stream",
     "text": [
      "                                                              \r"
     ]
    },
    {
     "name": "stdout",
     "output_type": "stream",
     "text": [
      "Moviepy - Done !\n",
      "Moviepy - video ready ./VideosRecortados/SUJETO1_N4.MOV\n",
      "Moviepy - Building video ./VideosRecortados/SUJETO2_N4.MOV.\n",
      "MoviePy - Writing audio in SUJETO2_N4TEMP_MPY_wvf_snd.mp4\n"
     ]
    },
    {
     "name": "stderr",
     "output_type": "stream",
     "text": [
      "                                                                    \r"
     ]
    },
    {
     "name": "stdout",
     "output_type": "stream",
     "text": [
      "MoviePy - Done.\n",
      "Moviepy - Writing video ./VideosRecortados/SUJETO2_N4.MOV\n",
      "\n"
     ]
    },
    {
     "name": "stderr",
     "output_type": "stream",
     "text": [
      "                                                              \r"
     ]
    },
    {
     "name": "stdout",
     "output_type": "stream",
     "text": [
      "Moviepy - Done !\n",
      "Moviepy - video ready ./VideosRecortados/SUJETO2_N4.MOV\n",
      "Moviepy - Building video ./VideosRecortados/SUJETO3_N4.MOV.\n",
      "MoviePy - Writing audio in SUJETO3_N4TEMP_MPY_wvf_snd.mp4\n"
     ]
    },
    {
     "name": "stderr",
     "output_type": "stream",
     "text": [
      "                                                                    \r"
     ]
    },
    {
     "name": "stdout",
     "output_type": "stream",
     "text": [
      "MoviePy - Done.\n",
      "Moviepy - Writing video ./VideosRecortados/SUJETO3_N4.MOV\n",
      "\n"
     ]
    },
    {
     "name": "stderr",
     "output_type": "stream",
     "text": [
      "                                                              \r"
     ]
    },
    {
     "name": "stdout",
     "output_type": "stream",
     "text": [
      "Moviepy - Done !\n",
      "Moviepy - video ready ./VideosRecortados/SUJETO3_N4.MOV\n",
      "Moviepy - Building video ./VideosRecortados/SUJETO4_N4.MOV.\n",
      "MoviePy - Writing audio in SUJETO4_N4TEMP_MPY_wvf_snd.mp4\n"
     ]
    },
    {
     "name": "stderr",
     "output_type": "stream",
     "text": [
      "                                                                    \r"
     ]
    },
    {
     "name": "stdout",
     "output_type": "stream",
     "text": [
      "MoviePy - Done.\n",
      "Moviepy - Writing video ./VideosRecortados/SUJETO4_N4.MOV\n",
      "\n"
     ]
    },
    {
     "name": "stderr",
     "output_type": "stream",
     "text": [
      "                                                              \r"
     ]
    },
    {
     "name": "stdout",
     "output_type": "stream",
     "text": [
      "Moviepy - Done !\n",
      "Moviepy - video ready ./VideosRecortados/SUJETO4_N4.MOV\n",
      "Moviepy - Building video ./VideosRecortados/SUJETO5_N4.MOV.\n",
      "MoviePy - Writing audio in SUJETO5_N4TEMP_MPY_wvf_snd.mp4\n"
     ]
    },
    {
     "name": "stderr",
     "output_type": "stream",
     "text": [
      "                                                                    \r"
     ]
    },
    {
     "name": "stdout",
     "output_type": "stream",
     "text": [
      "MoviePy - Done.\n",
      "Moviepy - Writing video ./VideosRecortados/SUJETO5_N4.MOV\n",
      "\n"
     ]
    },
    {
     "name": "stderr",
     "output_type": "stream",
     "text": [
      "                                                              \r"
     ]
    },
    {
     "name": "stdout",
     "output_type": "stream",
     "text": [
      "Moviepy - Done !\n",
      "Moviepy - video ready ./VideosRecortados/SUJETO5_N4.MOV\n",
      "Moviepy - Building video ./VideosRecortados/SUJETO6_N4.MOV.\n",
      "MoviePy - Writing audio in SUJETO6_N4TEMP_MPY_wvf_snd.mp4\n"
     ]
    },
    {
     "name": "stderr",
     "output_type": "stream",
     "text": [
      "                                                                    \r"
     ]
    },
    {
     "name": "stdout",
     "output_type": "stream",
     "text": [
      "MoviePy - Done.\n",
      "Moviepy - Writing video ./VideosRecortados/SUJETO6_N4.MOV\n",
      "\n"
     ]
    },
    {
     "name": "stderr",
     "output_type": "stream",
     "text": [
      "                                                              \r"
     ]
    },
    {
     "name": "stdout",
     "output_type": "stream",
     "text": [
      "Moviepy - Done !\n",
      "Moviepy - video ready ./VideosRecortados/SUJETO6_N4.MOV\n",
      "Moviepy - Building video ./VideosRecortados/SUJETO7_N4.MOV.\n",
      "MoviePy - Writing audio in SUJETO7_N4TEMP_MPY_wvf_snd.mp4\n"
     ]
    },
    {
     "name": "stderr",
     "output_type": "stream",
     "text": [
      "                                                                    \r"
     ]
    },
    {
     "name": "stdout",
     "output_type": "stream",
     "text": [
      "MoviePy - Done.\n",
      "Moviepy - Writing video ./VideosRecortados/SUJETO7_N4.MOV\n",
      "\n"
     ]
    },
    {
     "name": "stderr",
     "output_type": "stream",
     "text": [
      "                                                              \r"
     ]
    },
    {
     "name": "stdout",
     "output_type": "stream",
     "text": [
      "Moviepy - Done !\n",
      "Moviepy - video ready ./VideosRecortados/SUJETO7_N4.MOV\n",
      "Moviepy - Building video ./VideosRecortados/SUJETO8_N4.MOV.\n",
      "MoviePy - Writing audio in SUJETO8_N4TEMP_MPY_wvf_snd.mp4\n"
     ]
    },
    {
     "name": "stderr",
     "output_type": "stream",
     "text": [
      "                                                                   \r"
     ]
    },
    {
     "name": "stdout",
     "output_type": "stream",
     "text": [
      "MoviePy - Done.\n",
      "Moviepy - Writing video ./VideosRecortados/SUJETO8_N4.MOV\n",
      "\n"
     ]
    },
    {
     "name": "stderr",
     "output_type": "stream",
     "text": [
      "                                                              \r"
     ]
    },
    {
     "name": "stdout",
     "output_type": "stream",
     "text": [
      "Moviepy - Done !\n",
      "Moviepy - video ready ./VideosRecortados/SUJETO8_N4.MOV\n",
      "Moviepy - Building video ./VideosRecortados/SUJETO9_N4.MOV.\n",
      "MoviePy - Writing audio in SUJETO9_N4TEMP_MPY_wvf_snd.mp4\n"
     ]
    },
    {
     "name": "stderr",
     "output_type": "stream",
     "text": [
      "                                                                    \r"
     ]
    },
    {
     "name": "stdout",
     "output_type": "stream",
     "text": [
      "MoviePy - Done.\n",
      "Moviepy - Writing video ./VideosRecortados/SUJETO9_N4.MOV\n",
      "\n"
     ]
    },
    {
     "name": "stderr",
     "output_type": "stream",
     "text": [
      "                                                              \r"
     ]
    },
    {
     "name": "stdout",
     "output_type": "stream",
     "text": [
      "Moviepy - Done !\n",
      "Moviepy - video ready ./VideosRecortados/SUJETO9_N4.MOV\n",
      "Todos los videos han sido recortados y guardados.\n"
     ]
    }
   ],
   "source": [
    "# Define la ruta de la carpeta que contiene los videos originales\n",
    "carpeta_videos = './Videos/'\n",
    "\n",
    "# Define la ruta de la carpeta donde guardarás los videos recortados\n",
    "carpeta_destino = './VideosRecortados/'\n",
    "\n",
    "# Crea la carpeta de destino si no existe\n",
    "if not os.path.exists(carpeta_destino):\n",
    "    os.makedirs(carpeta_destino)\n",
    "\n",
    "# Itera sobre cada archivo en la carpeta de videos\n",
    "for archivo in os.listdir(carpeta_videos):\n",
    "    # Verifica si el archivo termina en '_N1.MOV'\n",
    "    if archivo.endswith('_N4.MOV'):\n",
    "        ruta_completa = os.path.join(carpeta_videos, archivo)\n",
    "        \n",
    "        # Carga el video\n",
    "        video = VideoFileClip(ruta_completa)\n",
    "        \n",
    "        # Recorta el video desde el segundo 0 hasta el segundo 31\n",
    "        video_recortado = video.subclip(0, 33)\n",
    "        \n",
    "        # Define la ruta del archivo de destino\n",
    "        ruta_destino = os.path.join(carpeta_destino, archivo)\n",
    "        \n",
    "        # Guarda el video recortado en la carpeta de destino\n",
    "        video_recortado.write_videofile(ruta_destino, codec=\"libx264\", audio_codec=\"aac\")\n",
    "\n",
    "        # Cierra el clip para liberar recursos\n",
    "        video.close()\n",
    "        video_recortado.close()\n",
    "\n",
    "print(\"Todos los videos han sido recortados y guardados.\")\n"
   ]
  },
  {
   "cell_type": "markdown",
   "metadata": {},
   "source": [
    "Con respecto al participante número nueve, se enfrentó con problemas relacionados a la conectividad a internet. Esto ocasionó un retardo de ocho segundos en la reproducción inicial del vídeo correspondiente a la secuencia experimental. Para remediar esto y preservar la integridad metodológica del estudio, se procedió a una edición personalizada del video de dicho participante. El proceso de edición se llevó a cabo utilizando el siguiente código específico:"
   ]
  },
  {
   "cell_type": "code",
   "execution_count": 46,
   "metadata": {},
   "outputs": [
    {
     "name": "stdout",
     "output_type": "stream",
     "text": [
      "Moviepy - Building video ./VideosRecortados/SUJETO9_N4.MOV.\n",
      "MoviePy - Writing audio in SUJETO9_N4TEMP_MPY_wvf_snd.mp4\n"
     ]
    },
    {
     "name": "stderr",
     "output_type": "stream",
     "text": [
      "                                                                    \r"
     ]
    },
    {
     "name": "stdout",
     "output_type": "stream",
     "text": [
      "MoviePy - Done.\n",
      "Moviepy - Writing video ./VideosRecortados/SUJETO9_N4.MOV\n",
      "\n"
     ]
    },
    {
     "name": "stderr",
     "output_type": "stream",
     "text": [
      "                                                              \r"
     ]
    },
    {
     "name": "stdout",
     "output_type": "stream",
     "text": [
      "Moviepy - Done !\n",
      "Moviepy - video ready ./VideosRecortados/SUJETO9_N4.MOV\n",
      "El video SUJETO9_N4.MOV ha sido recortado y guardado.\n"
     ]
    }
   ],
   "source": [
    "# Define la ruta completa al video que deseas recortar\n",
    "ruta_video = './Videos/SUJETO9_N4.MOV'\n",
    "\n",
    "# Define la ruta de la carpeta donde guardarás el video recortado\n",
    "carpeta_destino = './VideosRecortados/'\n",
    "\n",
    "# Crea la carpeta de destino si no existe\n",
    "if not os.path.exists(carpeta_destino):\n",
    "    os.makedirs(carpeta_destino)\n",
    "\n",
    "# Comprueba si el archivo termina en '_N1.MOV'\n",
    "if ruta_video.endswith('_N4.MOV'):\n",
    "    # Carga el video\n",
    "    video = VideoFileClip(ruta_video)\n",
    "    \n",
    "    # Recorta el video desde el segundo 0 hasta el segundo 31\n",
    "    video_recortado = video.subclip(7, 38)\n",
    "    \n",
    "    # Extrae el nombre del archivo del video original\n",
    "    nombre_archivo = os.path.basename(ruta_video)\n",
    "    \n",
    "    # Define la ruta del archivo de destino\n",
    "    ruta_destino = os.path.join(carpeta_destino, nombre_archivo)\n",
    "    \n",
    "    # Guarda el video recortado en la carpeta de destino\n",
    "    video_recortado.write_videofile(ruta_destino, codec=\"libx264\", audio_codec=\"aac\")\n",
    "    \n",
    "    # Cierra el clip para liberar recursos\n",
    "    video.close()\n",
    "    video_recortado.close()\n",
    "\n",
    "    print(f\"El video {nombre_archivo} ha sido recortado y guardado.\")\n",
    "else:\n",
    "    print(\"El archivo no termina en '_N3.MOV', por lo que no se ha recortado.\")\n"
   ]
  },
  {
   "cell_type": "markdown",
   "metadata": {},
   "source": [
    "Ahora se procederá a construir un dataframe que sistematice las respuestas autoinformadas por los sujetos de estudio en relación con los vídeos observados. Con el objetivo de proporcionar una mayor claridad respecto a la metodología de recopilación de datos autoinformados, se adjunta a continuación la plantilla utilizada para la recolección de respuestas de los participantes:"
   ]
  },
  {
   "cell_type": "markdown",
   "metadata": {},
   "source": [
    "<style>\n",
    "    .imagen-ajustada {\n",
    "        width: 900px;\n",
    "        height: 280px;\n",
    "        \n",
    "    }\n",
    "</style>\n",
    "\n",
    "<img src=\"ExperimentoImagen.png\" alt=\"Una imagen\" class=\"imagen-ajustada\">"
   ]
  },
  {
   "cell_type": "code",
   "execution_count": 3,
   "metadata": {},
   "outputs": [],
   "source": [
    "data = [\n",
    "    # Sujeto 1\n",
    "    {'Sujeto': 1, 'Emoción': 'Neutral', 'Calificación': 2},\n",
    "    {'Sujeto': 1, 'Emoción': 'Felicidad', 'Calificación': 4},\n",
    "    {'Sujeto': 1, 'Emoción': 'Neutral', 'Calificación': 2},\n",
    "    {'Sujeto': 1, 'Emoción': 'Enojo', 'Calificación': 5},\n",
    "    {'Sujeto': 1, 'Emoción': 'Neutral', 'Calificación': 1},\n",
    "    {'Sujeto': 1, 'Emoción': 'Tristeza', 'Calificación': 4},\n",
    "    {'Sujeto': 1, 'Emoción': 'Neutral', 'Calificación': 1},\n",
    "    #Sujeto 2\n",
    "    {'Sujeto': 2, 'Emoción': 'Neutral', 'Calificación': 2},\n",
    "    {'Sujeto': 2, 'Emoción': 'Felicidad', 'Calificación': 5},\n",
    "    {'Sujeto': 2, 'Emoción': 'Neutral', 'Calificación': 1},\n",
    "    {'Sujeto': 2, 'Emoción': 'Enojo', 'Calificación': 5},\n",
    "    {'Sujeto': 2, 'Emoción': 'Neutral', 'Calificación': 1},\n",
    "    {'Sujeto': 2, 'Emoción': 'Tristeza', 'Calificación': 5},\n",
    "    {'Sujeto': 2, 'Emoción': 'Neutral', 'Calificación': 4},\n",
    "    #Sujeto 3\n",
    "    {'Sujeto': 3, 'Emoción': 'Neutral', 'Calificación': 5},\n",
    "    {'Sujeto': 3, 'Emoción': 'Felicidad', 'Calificación': 4},\n",
    "    {'Sujeto': 3, 'Emoción': 'Neutral', 'Calificación': 5},\n",
    "    {'Sujeto': 3, 'Emoción': 'Enojo', 'Calificación': 4},\n",
    "    {'Sujeto': 3, 'Emoción': 'Neutral', 'Calificación': 3},\n",
    "    {'Sujeto': 3, 'Emoción': 'Tristeza', 'Calificación': 5},\n",
    "    {'Sujeto': 3, 'Emoción': 'Neutral', 'Calificación': 2},\n",
    "    # Sujeto 4\n",
    "    {'Sujeto': 4, 'Emoción': 'Neutral', 'Calificación': 1},\n",
    "    {'Sujeto': 4, 'Emoción': 'Felicidad', 'Calificación': 5},\n",
    "    {'Sujeto': 4, 'Emoción': 'Neutral', 'Calificación': 5},\n",
    "    {'Sujeto': 4, 'Emoción': 'Enojo', 'Calificación': 5},\n",
    "    {'Sujeto': 4, 'Emoción': 'Neutral', 'Calificación': 1},\n",
    "    {'Sujeto': 4, 'Emoción': 'Tristeza', 'Calificación': 5},\n",
    "    {'Sujeto': 4, 'Emoción': 'Neutral', 'Calificación': 1},\n",
    "    # Sujeto 5\n",
    "    {'Sujeto': 5, 'Emoción': 'Neutral', 'Calificación': 2},\n",
    "    {'Sujeto': 5, 'Emoción': 'Felicidad', 'Calificación': 5},\n",
    "    {'Sujeto': 5, 'Emoción': 'Neutral', 'Calificación': 3},\n",
    "    {'Sujeto': 5, 'Emoción': 'Enojo', 'Calificación': 5},\n",
    "    {'Sujeto': 5, 'Emoción': 'Neutral', 'Calificación': 5},\n",
    "    {'Sujeto': 5, 'Emoción': 'Tristeza', 'Calificación': 5},\n",
    "    {'Sujeto': 5, 'Emoción': 'Neutral', 'Calificación': 1},\n",
    "    # Sujeto 6\n",
    "    {'Sujeto': 6, 'Emoción': 'Neutral', 'Calificación': 2},\n",
    "    {'Sujeto': 6, 'Emoción': 'Felicidad', 'Calificación': 4},\n",
    "    {'Sujeto': 6, 'Emoción': 'Neutral', 'Calificación': 5},\n",
    "    {'Sujeto': 6, 'Emoción': 'Enojo', 'Calificación': 5},\n",
    "    {'Sujeto': 6, 'Emoción': 'Neutral', 'Calificación': 5},\n",
    "    {'Sujeto': 6, 'Emoción': 'Tristeza', 'Calificación': 5},\n",
    "    {'Sujeto': 6, 'Emoción': 'Neutral', 'Calificación': 4},\n",
    "    # Sujeto 7\n",
    "    {'Sujeto': 7, 'Emoción': 'Neutral', 'Calificación': 5},\n",
    "    {'Sujeto': 7, 'Emoción': 'Felicidad', 'Calificación': 4},\n",
    "    {'Sujeto': 7, 'Emoción': 'Neutral', 'Calificación': 5},\n",
    "    {'Sujeto': 7, 'Emoción': 'Enojo', 'Calificación': 5},\n",
    "    {'Sujeto': 7, 'Emoción': 'Neutral', 'Calificación': 4},\n",
    "    {'Sujeto': 7, 'Emoción': 'Tristeza', 'Calificación': 5},\n",
    "    {'Sujeto': 7, 'Emoción': 'Neutral', 'Calificación': 4},\n",
    "    # Sujeto 8\n",
    "    {'Sujeto': 8, 'Emoción': 'Neutral', 'Calificación': 2},\n",
    "    {'Sujeto': 8, 'Emoción': 'Felicidad', 'Calificación': 1},\n",
    "    {'Sujeto': 8, 'Emoción': 'Neutral', 'Calificación': 3},\n",
    "    {'Sujeto': 8, 'Emoción': 'Enojo', 'Calificación': 1},\n",
    "    {'Sujeto': 8, 'Emoción': 'Neutral', 'Calificación': 1},\n",
    "    {'Sujeto': 8, 'Emoción': 'Tristeza', 'Calificación': 1},\n",
    "    {'Sujeto': 8, 'Emoción': 'Neutral', 'Calificación': 1},\n",
    "    # Sujeto 9\n",
    "    {'Sujeto': 9, 'Emoción': 'Neutral', 'Calificación': 4},\n",
    "    {'Sujeto': 9, 'Emoción': 'Felicidad', 'Calificación': 4},\n",
    "    {'Sujeto': 9, 'Emoción': 'Neutral', 'Calificación': 4},\n",
    "    {'Sujeto': 9, 'Emoción': 'Enojo', 'Calificación': 5},\n",
    "    {'Sujeto': 9, 'Emoción': 'Neutral', 'Calificación': 4},\n",
    "    {'Sujeto': 9, 'Emoción': 'Tristeza', 'Calificación': 5},\n",
    "    {'Sujeto': 9, 'Emoción': 'Neutral', 'Calificación': 4},\n",
    "    # Sujeto 10\n",
    "    {'Sujeto': 10, 'Emoción': 'Neutral', 'Calificación': 3},\n",
    "    {'Sujeto': 10, 'Emoción': 'Felicidad', 'Calificación': 5},\n",
    "    {'Sujeto': 10, 'Emoción': 'Neutral', 'Calificación': 2},\n",
    "    {'Sujeto': 10, 'Emoción': 'Enojo', 'Calificación': 4},\n",
    "    {'Sujeto': 10, 'Emoción': 'Neutral', 'Calificación': 5},\n",
    "    {'Sujeto': 10, 'Emoción': 'Tristeza', 'Calificación': 5},\n",
    "    {'Sujeto': 10, 'Emoción': 'Neutral', 'Calificación': 3},\n",
    "    # Sujeto 11\n",
    "    {'Sujeto': 11, 'Emoción': 'Neutral', 'Calificación': 5},\n",
    "    {'Sujeto': 11, 'Emoción': 'Felicidad', 'Calificación': 5},\n",
    "    {'Sujeto': 11, 'Emoción': 'Neutral', 'Calificación': 1},\n",
    "    {'Sujeto': 11, 'Emoción': 'Enojo', 'Calificación': 5},\n",
    "    {'Sujeto': 11, 'Emoción': 'Neutral', 'Calificación': 5},\n",
    "    {'Sujeto': 11, 'Emoción': 'Tristeza', 'Calificación': 5},\n",
    "    {'Sujeto': 11, 'Emoción': 'Neutral', 'Calificación': 3},\n",
    "    # Sujeto 12\n",
    "    {'Sujeto': 12, 'Emoción': 'Neutral', 'Calificación': 2},\n",
    "    {'Sujeto': 12, 'Emoción': 'Felicidad', 'Calificación': 5},\n",
    "    {'Sujeto': 12, 'Emoción': 'Neutral', 'Calificación': 5},\n",
    "    {'Sujeto': 12, 'Emoción': 'Enojo', 'Calificación': 5},\n",
    "    {'Sujeto': 12, 'Emoción': 'Neutral', 'Calificación': 4},\n",
    "    {'Sujeto': 12, 'Emoción': 'Tristeza', 'Calificación': 5},\n",
    "    {'Sujeto': 12, 'Emoción': 'Neutral', 'Calificación': 3}\n",
    "]\n"
   ]
  },
  {
   "cell_type": "markdown",
   "metadata": {},
   "source": [
    "## An&aacute;lisis Exploratorio"
   ]
  },
  {
   "cell_type": "markdown",
   "metadata": {},
   "source": [
    "No solo se busco ver que si se obtenian reacciones por medio de estimulos visuales, tambien se aplico un cuestionario donde los sujetos de prueba daban puntuacion dependiendo de cuanto sintieron la emocion del 1 al 5, donde 1 es poco y 5 es mucho.\n",
    "Por lo cual, en base a sus auto reportes se puede ver por medio de la grafica que la mayoria "
   ]
  },
  {
   "cell_type": "markdown",
   "metadata": {},
   "source": [
    "## Extracci&oacute;n de Caracter&iacute;sticas "
   ]
  },
  {
   "cell_type": "markdown",
   "metadata": {},
   "source": [
    "Los vídeos implementados en el estudio tienen una duración aproximada de treinta segundos. Sin embargo, durante la fase de extracción de características, se identificó que la temporalidad completa de los vídeos generaría una cantidad excesiva de datos. Para optimizar el análisis, se decidió proceder con la truncación de los segmentos de vídeo a duraciones de entre cinco y doce segundos. La selección de estos intervalos específicos se basó en una evaluación rigurosa de los momentos en los que cada participante demostró la reacción más pronunciada y pertinente al estímulo visual presentado. "
   ]
  },
  {
   "cell_type": "code",
   "execution_count": 25,
   "metadata": {},
   "outputs": [
    {
     "name": "stdout",
     "output_type": "stream",
     "text": [
      "                  SUJETO INICIO   FIN      LABEL\n",
      "0      SUJETO1_ENOJO.MOV   0:03  0:14      ENOJO\n",
      "1         SUJETO1_N1.MOV   0:10  0:20    NEUTRAL\n",
      "2  SUJETO1_FELICIDAD.MOV   0:07  0:14  FELICIDAD\n",
      "3   SUJETO1_TRISTEZA.MOV   0:03  0:13   TRISTEZA\n",
      "4      SUJETO2_ENOJO.MOV   0:05  0:15      ENOJO\n"
     ]
    }
   ],
   "source": [
    "# En este apartado se hizo un archivo .csv para ver en que momento se presento la emocion en base al estimulo visual.\n",
    "\n",
    "path = './VideosSegmentados.csv'\n",
    "segmentado_df = pd.read_csv(path)\n",
    "print(segmentado_df.head())\n"
   ]
  },
  {
   "cell_type": "markdown",
   "metadata": {},
   "source": [
    "El fragmento de código que se presenta a continuación está diseñado para ejecutar el procedimiento de segmentación de los archivos de vídeo de manera automatizada, utilizando como referencia el documento en formato CSV anterior."
   ]
  },
  {
   "cell_type": "code",
   "execution_count": 37,
   "metadata": {},
   "outputs": [
    {
     "name": "stdout",
     "output_type": "stream",
     "text": [
      "Moviepy - Building video ./VideosSegmentados\\SUJETO1_ENOJO_segmentado.mp4.\n",
      "MoviePy - Writing audio in SUJETO1_ENOJO_segmentadoTEMP_MPY_wvf_snd.mp4\n"
     ]
    },
    {
     "name": "stderr",
     "output_type": "stream",
     "text": [
      "                                                                   \r"
     ]
    },
    {
     "name": "stdout",
     "output_type": "stream",
     "text": [
      "MoviePy - Done.\n",
      "Moviepy - Writing video ./VideosSegmentados\\SUJETO1_ENOJO_segmentado.mp4\n",
      "\n"
     ]
    },
    {
     "name": "stderr",
     "output_type": "stream",
     "text": [
      "                                                              \r"
     ]
    },
    {
     "name": "stdout",
     "output_type": "stream",
     "text": [
      "Moviepy - Done !\n",
      "Moviepy - video ready ./VideosSegmentados\\SUJETO1_ENOJO_segmentado.mp4\n",
      "Moviepy - Building video ./VideosSegmentados\\SUJETO1_N1_segmentado.mp4.\n",
      "MoviePy - Writing audio in SUJETO1_N1_segmentadoTEMP_MPY_wvf_snd.mp4\n"
     ]
    },
    {
     "name": "stderr",
     "output_type": "stream",
     "text": [
      "                                                                   \r"
     ]
    },
    {
     "name": "stdout",
     "output_type": "stream",
     "text": [
      "MoviePy - Done.\n",
      "Moviepy - Writing video ./VideosSegmentados\\SUJETO1_N1_segmentado.mp4\n",
      "\n"
     ]
    },
    {
     "name": "stderr",
     "output_type": "stream",
     "text": [
      "                                                              \r"
     ]
    },
    {
     "name": "stdout",
     "output_type": "stream",
     "text": [
      "Moviepy - Done !\n",
      "Moviepy - video ready ./VideosSegmentados\\SUJETO1_N1_segmentado.mp4\n",
      "Moviepy - Building video ./VideosSegmentados\\SUJETO1_FELICIDAD_segmentado.mp4.\n",
      "MoviePy - Writing audio in SUJETO1_FELICIDAD_segmentadoTEMP_MPY_wvf_snd.mp4\n"
     ]
    },
    {
     "name": "stderr",
     "output_type": "stream",
     "text": [
      "                                                                  \r"
     ]
    },
    {
     "name": "stdout",
     "output_type": "stream",
     "text": [
      "MoviePy - Done.\n",
      "Moviepy - Writing video ./VideosSegmentados\\SUJETO1_FELICIDAD_segmentado.mp4\n",
      "\n"
     ]
    },
    {
     "name": "stderr",
     "output_type": "stream",
     "text": [
      "                                                              \r"
     ]
    },
    {
     "name": "stdout",
     "output_type": "stream",
     "text": [
      "Moviepy - Done !\n",
      "Moviepy - video ready ./VideosSegmentados\\SUJETO1_FELICIDAD_segmentado.mp4\n",
      "Moviepy - Building video ./VideosSegmentados\\SUJETO1_TRISTEZA_segmentado.mp4.\n",
      "MoviePy - Writing audio in SUJETO1_TRISTEZA_segmentadoTEMP_MPY_wvf_snd.mp4\n"
     ]
    },
    {
     "name": "stderr",
     "output_type": "stream",
     "text": [
      "                                                                   \r"
     ]
    },
    {
     "name": "stdout",
     "output_type": "stream",
     "text": [
      "MoviePy - Done.\n",
      "Moviepy - Writing video ./VideosSegmentados\\SUJETO1_TRISTEZA_segmentado.mp4\n",
      "\n"
     ]
    },
    {
     "name": "stderr",
     "output_type": "stream",
     "text": [
      "                                                              \r"
     ]
    },
    {
     "name": "stdout",
     "output_type": "stream",
     "text": [
      "Moviepy - Done !\n",
      "Moviepy - video ready ./VideosSegmentados\\SUJETO1_TRISTEZA_segmentado.mp4\n",
      "Moviepy - Building video ./VideosSegmentados\\SUJETO2_ENOJO_segmentado.mp4.\n",
      "MoviePy - Writing audio in SUJETO2_ENOJO_segmentadoTEMP_MPY_wvf_snd.mp4\n"
     ]
    },
    {
     "name": "stderr",
     "output_type": "stream",
     "text": [
      "                                                                   \r"
     ]
    },
    {
     "name": "stdout",
     "output_type": "stream",
     "text": [
      "MoviePy - Done.\n",
      "Moviepy - Writing video ./VideosSegmentados\\SUJETO2_ENOJO_segmentado.mp4\n",
      "\n"
     ]
    },
    {
     "name": "stderr",
     "output_type": "stream",
     "text": [
      "                                                              \r"
     ]
    },
    {
     "name": "stdout",
     "output_type": "stream",
     "text": [
      "Moviepy - Done !\n",
      "Moviepy - video ready ./VideosSegmentados\\SUJETO2_ENOJO_segmentado.mp4\n",
      "Moviepy - Building video ./VideosSegmentados\\SUJETO2_N1_segmentado.mp4.\n",
      "MoviePy - Writing audio in SUJETO2_N1_segmentadoTEMP_MPY_wvf_snd.mp4\n"
     ]
    },
    {
     "name": "stderr",
     "output_type": "stream",
     "text": [
      "                                                                   \r"
     ]
    },
    {
     "name": "stdout",
     "output_type": "stream",
     "text": [
      "MoviePy - Done.\n",
      "Moviepy - Writing video ./VideosSegmentados\\SUJETO2_N1_segmentado.mp4\n",
      "\n"
     ]
    },
    {
     "name": "stderr",
     "output_type": "stream",
     "text": [
      "                                                              \r"
     ]
    },
    {
     "name": "stdout",
     "output_type": "stream",
     "text": [
      "Moviepy - Done !\n",
      "Moviepy - video ready ./VideosSegmentados\\SUJETO2_N1_segmentado.mp4\n",
      "Moviepy - Building video ./VideosSegmentados\\SUJETO2_FELICIDAD_segmentado.mp4.\n",
      "MoviePy - Writing audio in SUJETO2_FELICIDAD_segmentadoTEMP_MPY_wvf_snd.mp4\n"
     ]
    },
    {
     "name": "stderr",
     "output_type": "stream",
     "text": [
      "                                                                   \r"
     ]
    },
    {
     "name": "stdout",
     "output_type": "stream",
     "text": [
      "MoviePy - Done.\n",
      "Moviepy - Writing video ./VideosSegmentados\\SUJETO2_FELICIDAD_segmentado.mp4\n",
      "\n"
     ]
    },
    {
     "name": "stderr",
     "output_type": "stream",
     "text": [
      "                                                              \r"
     ]
    },
    {
     "name": "stdout",
     "output_type": "stream",
     "text": [
      "Moviepy - Done !\n",
      "Moviepy - video ready ./VideosSegmentados\\SUJETO2_FELICIDAD_segmentado.mp4\n",
      "Moviepy - Building video ./VideosSegmentados\\SUJETO2_TRISTEZA_segmentado.mp4.\n",
      "MoviePy - Writing audio in SUJETO2_TRISTEZA_segmentadoTEMP_MPY_wvf_snd.mp4\n"
     ]
    },
    {
     "name": "stderr",
     "output_type": "stream",
     "text": [
      "                                                                   \r"
     ]
    },
    {
     "name": "stdout",
     "output_type": "stream",
     "text": [
      "MoviePy - Done.\n",
      "Moviepy - Writing video ./VideosSegmentados\\SUJETO2_TRISTEZA_segmentado.mp4\n",
      "\n"
     ]
    },
    {
     "name": "stderr",
     "output_type": "stream",
     "text": [
      "                                                              \r"
     ]
    },
    {
     "name": "stdout",
     "output_type": "stream",
     "text": [
      "Moviepy - Done !\n",
      "Moviepy - video ready ./VideosSegmentados\\SUJETO2_TRISTEZA_segmentado.mp4\n",
      "Moviepy - Building video ./VideosSegmentados\\SUJETO3_ENOJO_segmentado.mp4.\n",
      "MoviePy - Writing audio in SUJETO3_ENOJO_segmentadoTEMP_MPY_wvf_snd.mp4\n"
     ]
    },
    {
     "name": "stderr",
     "output_type": "stream",
     "text": [
      "                                                                   \r"
     ]
    },
    {
     "name": "stdout",
     "output_type": "stream",
     "text": [
      "MoviePy - Done.\n",
      "Moviepy - Writing video ./VideosSegmentados\\SUJETO3_ENOJO_segmentado.mp4\n",
      "\n"
     ]
    },
    {
     "name": "stderr",
     "output_type": "stream",
     "text": [
      "                                                              \r"
     ]
    },
    {
     "name": "stdout",
     "output_type": "stream",
     "text": [
      "Moviepy - Done !\n",
      "Moviepy - video ready ./VideosSegmentados\\SUJETO3_ENOJO_segmentado.mp4\n",
      "Moviepy - Building video ./VideosSegmentados\\SUJETO3_N1_segmentado.mp4.\n",
      "MoviePy - Writing audio in SUJETO3_N1_segmentadoTEMP_MPY_wvf_snd.mp4\n"
     ]
    },
    {
     "name": "stderr",
     "output_type": "stream",
     "text": [
      "                                                                   \r"
     ]
    },
    {
     "name": "stdout",
     "output_type": "stream",
     "text": [
      "MoviePy - Done.\n",
      "Moviepy - Writing video ./VideosSegmentados\\SUJETO3_N1_segmentado.mp4\n",
      "\n"
     ]
    },
    {
     "name": "stderr",
     "output_type": "stream",
     "text": [
      "                                                              \r"
     ]
    },
    {
     "name": "stdout",
     "output_type": "stream",
     "text": [
      "Moviepy - Done !\n",
      "Moviepy - video ready ./VideosSegmentados\\SUJETO3_N1_segmentado.mp4\n",
      "Moviepy - Building video ./VideosSegmentados\\SUJETO3_FELICIDAD_segmentado.mp4.\n",
      "MoviePy - Writing audio in SUJETO3_FELICIDAD_segmentadoTEMP_MPY_wvf_snd.mp4\n"
     ]
    },
    {
     "name": "stderr",
     "output_type": "stream",
     "text": [
      "                                                                   \r"
     ]
    },
    {
     "name": "stdout",
     "output_type": "stream",
     "text": [
      "MoviePy - Done.\n",
      "Moviepy - Writing video ./VideosSegmentados\\SUJETO3_FELICIDAD_segmentado.mp4\n",
      "\n"
     ]
    },
    {
     "name": "stderr",
     "output_type": "stream",
     "text": [
      "                                                              \r"
     ]
    },
    {
     "name": "stdout",
     "output_type": "stream",
     "text": [
      "Moviepy - Done !\n",
      "Moviepy - video ready ./VideosSegmentados\\SUJETO3_FELICIDAD_segmentado.mp4\n",
      "Moviepy - Building video ./VideosSegmentados\\SUJETO3_TRISTEZA_segmentado.mp4.\n",
      "MoviePy - Writing audio in SUJETO3_TRISTEZA_segmentadoTEMP_MPY_wvf_snd.mp4\n"
     ]
    },
    {
     "name": "stderr",
     "output_type": "stream",
     "text": [
      "                                                                   \r"
     ]
    },
    {
     "name": "stdout",
     "output_type": "stream",
     "text": [
      "MoviePy - Done.\n",
      "Moviepy - Writing video ./VideosSegmentados\\SUJETO3_TRISTEZA_segmentado.mp4\n",
      "\n"
     ]
    },
    {
     "name": "stderr",
     "output_type": "stream",
     "text": [
      "                                                              \r"
     ]
    },
    {
     "name": "stdout",
     "output_type": "stream",
     "text": [
      "Moviepy - Done !\n",
      "Moviepy - video ready ./VideosSegmentados\\SUJETO3_TRISTEZA_segmentado.mp4\n",
      "Moviepy - Building video ./VideosSegmentados\\SUJETO4_ENOJO_segmentado.mp4.\n",
      "MoviePy - Writing audio in SUJETO4_ENOJO_segmentadoTEMP_MPY_wvf_snd.mp4\n"
     ]
    },
    {
     "name": "stderr",
     "output_type": "stream",
     "text": [
      "                                                                   \r"
     ]
    },
    {
     "name": "stdout",
     "output_type": "stream",
     "text": [
      "MoviePy - Done.\n",
      "Moviepy - Writing video ./VideosSegmentados\\SUJETO4_ENOJO_segmentado.mp4\n",
      "\n"
     ]
    },
    {
     "name": "stderr",
     "output_type": "stream",
     "text": [
      "                                                              \r"
     ]
    },
    {
     "name": "stdout",
     "output_type": "stream",
     "text": [
      "Moviepy - Done !\n",
      "Moviepy - video ready ./VideosSegmentados\\SUJETO4_ENOJO_segmentado.mp4\n",
      "Moviepy - Building video ./VideosSegmentados\\SUJETO4_N1_segmentado.mp4.\n",
      "MoviePy - Writing audio in SUJETO4_N1_segmentadoTEMP_MPY_wvf_snd.mp4\n"
     ]
    },
    {
     "name": "stderr",
     "output_type": "stream",
     "text": [
      "                                                                   \r"
     ]
    },
    {
     "name": "stdout",
     "output_type": "stream",
     "text": [
      "MoviePy - Done.\n",
      "Moviepy - Writing video ./VideosSegmentados\\SUJETO4_N1_segmentado.mp4\n",
      "\n"
     ]
    },
    {
     "name": "stderr",
     "output_type": "stream",
     "text": [
      "                                                              \r"
     ]
    },
    {
     "name": "stdout",
     "output_type": "stream",
     "text": [
      "Moviepy - Done !\n",
      "Moviepy - video ready ./VideosSegmentados\\SUJETO4_N1_segmentado.mp4\n",
      "Moviepy - Building video ./VideosSegmentados\\SUJETO4_FELICIDAD_segmentado.mp4.\n",
      "MoviePy - Writing audio in SUJETO4_FELICIDAD_segmentadoTEMP_MPY_wvf_snd.mp4\n"
     ]
    },
    {
     "name": "stderr",
     "output_type": "stream",
     "text": [
      "                                                                   \r"
     ]
    },
    {
     "name": "stdout",
     "output_type": "stream",
     "text": [
      "MoviePy - Done.\n",
      "Moviepy - Writing video ./VideosSegmentados\\SUJETO4_FELICIDAD_segmentado.mp4\n",
      "\n"
     ]
    },
    {
     "name": "stderr",
     "output_type": "stream",
     "text": [
      "                                                              \r"
     ]
    },
    {
     "name": "stdout",
     "output_type": "stream",
     "text": [
      "Moviepy - Done !\n",
      "Moviepy - video ready ./VideosSegmentados\\SUJETO4_FELICIDAD_segmentado.mp4\n",
      "Moviepy - Building video ./VideosSegmentados\\SUJETO4_TRISTEZA_segmentado.mp4.\n",
      "MoviePy - Writing audio in SUJETO4_TRISTEZA_segmentadoTEMP_MPY_wvf_snd.mp4\n"
     ]
    },
    {
     "name": "stderr",
     "output_type": "stream",
     "text": [
      "                                                                   \r"
     ]
    },
    {
     "name": "stdout",
     "output_type": "stream",
     "text": [
      "MoviePy - Done.\n",
      "Moviepy - Writing video ./VideosSegmentados\\SUJETO4_TRISTEZA_segmentado.mp4\n",
      "\n"
     ]
    },
    {
     "name": "stderr",
     "output_type": "stream",
     "text": [
      "                                                              \r"
     ]
    },
    {
     "name": "stdout",
     "output_type": "stream",
     "text": [
      "Moviepy - Done !\n",
      "Moviepy - video ready ./VideosSegmentados\\SUJETO4_TRISTEZA_segmentado.mp4\n",
      "Moviepy - Building video ./VideosSegmentados\\SUJETO5_ENOJO_segmentado.mp4.\n",
      "MoviePy - Writing audio in SUJETO5_ENOJO_segmentadoTEMP_MPY_wvf_snd.mp4\n"
     ]
    },
    {
     "name": "stderr",
     "output_type": "stream",
     "text": [
      "                                                                   \r"
     ]
    },
    {
     "name": "stdout",
     "output_type": "stream",
     "text": [
      "MoviePy - Done.\n",
      "Moviepy - Writing video ./VideosSegmentados\\SUJETO5_ENOJO_segmentado.mp4\n",
      "\n"
     ]
    },
    {
     "name": "stderr",
     "output_type": "stream",
     "text": [
      "                                                              \r"
     ]
    },
    {
     "name": "stdout",
     "output_type": "stream",
     "text": [
      "Moviepy - Done !\n",
      "Moviepy - video ready ./VideosSegmentados\\SUJETO5_ENOJO_segmentado.mp4\n",
      "Moviepy - Building video ./VideosSegmentados\\SUJETO5_N1_segmentado.mp4.\n",
      "MoviePy - Writing audio in SUJETO5_N1_segmentadoTEMP_MPY_wvf_snd.mp4\n"
     ]
    },
    {
     "name": "stderr",
     "output_type": "stream",
     "text": [
      "                                                                   \r"
     ]
    },
    {
     "name": "stdout",
     "output_type": "stream",
     "text": [
      "MoviePy - Done.\n",
      "Moviepy - Writing video ./VideosSegmentados\\SUJETO5_N1_segmentado.mp4\n",
      "\n"
     ]
    },
    {
     "name": "stderr",
     "output_type": "stream",
     "text": [
      "                                                              \r"
     ]
    },
    {
     "name": "stdout",
     "output_type": "stream",
     "text": [
      "Moviepy - Done !\n",
      "Moviepy - video ready ./VideosSegmentados\\SUJETO5_N1_segmentado.mp4\n",
      "Moviepy - Building video ./VideosSegmentados\\SUJETO5_FELICIDAD_segmentado.mp4.\n",
      "MoviePy - Writing audio in SUJETO5_FELICIDAD_segmentadoTEMP_MPY_wvf_snd.mp4\n"
     ]
    },
    {
     "name": "stderr",
     "output_type": "stream",
     "text": [
      "                                                                   \r"
     ]
    },
    {
     "name": "stdout",
     "output_type": "stream",
     "text": [
      "MoviePy - Done.\n",
      "Moviepy - Writing video ./VideosSegmentados\\SUJETO5_FELICIDAD_segmentado.mp4\n",
      "\n"
     ]
    },
    {
     "name": "stderr",
     "output_type": "stream",
     "text": [
      "                                                              \r"
     ]
    },
    {
     "name": "stdout",
     "output_type": "stream",
     "text": [
      "Moviepy - Done !\n",
      "Moviepy - video ready ./VideosSegmentados\\SUJETO5_FELICIDAD_segmentado.mp4\n",
      "Moviepy - Building video ./VideosSegmentados\\SUJETO5_TRISTEZA_segmentado.mp4.\n",
      "MoviePy - Writing audio in SUJETO5_TRISTEZA_segmentadoTEMP_MPY_wvf_snd.mp4\n"
     ]
    },
    {
     "name": "stderr",
     "output_type": "stream",
     "text": [
      "                                                                   \r"
     ]
    },
    {
     "name": "stdout",
     "output_type": "stream",
     "text": [
      "MoviePy - Done.\n",
      "Moviepy - Writing video ./VideosSegmentados\\SUJETO5_TRISTEZA_segmentado.mp4\n",
      "\n"
     ]
    },
    {
     "name": "stderr",
     "output_type": "stream",
     "text": [
      "                                                              \r"
     ]
    },
    {
     "name": "stdout",
     "output_type": "stream",
     "text": [
      "Moviepy - Done !\n",
      "Moviepy - video ready ./VideosSegmentados\\SUJETO5_TRISTEZA_segmentado.mp4\n",
      "Moviepy - Building video ./VideosSegmentados\\SUJETO6_ENOJO_segmentado.mp4.\n",
      "MoviePy - Writing audio in SUJETO6_ENOJO_segmentadoTEMP_MPY_wvf_snd.mp4\n"
     ]
    },
    {
     "name": "stderr",
     "output_type": "stream",
     "text": [
      "                                                                   \r"
     ]
    },
    {
     "name": "stdout",
     "output_type": "stream",
     "text": [
      "MoviePy - Done.\n",
      "Moviepy - Writing video ./VideosSegmentados\\SUJETO6_ENOJO_segmentado.mp4\n",
      "\n"
     ]
    },
    {
     "name": "stderr",
     "output_type": "stream",
     "text": [
      "                                                              \r"
     ]
    },
    {
     "name": "stdout",
     "output_type": "stream",
     "text": [
      "Moviepy - Done !\n",
      "Moviepy - video ready ./VideosSegmentados\\SUJETO6_ENOJO_segmentado.mp4\n",
      "Moviepy - Building video ./VideosSegmentados\\SUJETO6_N1_segmentado.mp4.\n",
      "MoviePy - Writing audio in SUJETO6_N1_segmentadoTEMP_MPY_wvf_snd.mp4\n"
     ]
    },
    {
     "name": "stderr",
     "output_type": "stream",
     "text": [
      "                                                                   \r"
     ]
    },
    {
     "name": "stdout",
     "output_type": "stream",
     "text": [
      "MoviePy - Done.\n",
      "Moviepy - Writing video ./VideosSegmentados\\SUJETO6_N1_segmentado.mp4\n",
      "\n"
     ]
    },
    {
     "name": "stderr",
     "output_type": "stream",
     "text": [
      "                                                              \r"
     ]
    },
    {
     "name": "stdout",
     "output_type": "stream",
     "text": [
      "Moviepy - Done !\n",
      "Moviepy - video ready ./VideosSegmentados\\SUJETO6_N1_segmentado.mp4\n",
      "Moviepy - Building video ./VideosSegmentados\\SUJETO6_FELICIDAD_segmentado.mp4.\n",
      "MoviePy - Writing audio in SUJETO6_FELICIDAD_segmentadoTEMP_MPY_wvf_snd.mp4\n"
     ]
    },
    {
     "name": "stderr",
     "output_type": "stream",
     "text": [
      "                                                                   \r"
     ]
    },
    {
     "name": "stdout",
     "output_type": "stream",
     "text": [
      "MoviePy - Done.\n",
      "Moviepy - Writing video ./VideosSegmentados\\SUJETO6_FELICIDAD_segmentado.mp4\n",
      "\n"
     ]
    },
    {
     "name": "stderr",
     "output_type": "stream",
     "text": [
      "                                                              \r"
     ]
    },
    {
     "name": "stdout",
     "output_type": "stream",
     "text": [
      "Moviepy - Done !\n",
      "Moviepy - video ready ./VideosSegmentados\\SUJETO6_FELICIDAD_segmentado.mp4\n",
      "Moviepy - Building video ./VideosSegmentados\\SUJETO6_TRISTEZA_segmentado.mp4.\n",
      "MoviePy - Writing audio in SUJETO6_TRISTEZA_segmentadoTEMP_MPY_wvf_snd.mp4\n"
     ]
    },
    {
     "name": "stderr",
     "output_type": "stream",
     "text": [
      "                                                                   \r"
     ]
    },
    {
     "name": "stdout",
     "output_type": "stream",
     "text": [
      "MoviePy - Done.\n",
      "Moviepy - Writing video ./VideosSegmentados\\SUJETO6_TRISTEZA_segmentado.mp4\n",
      "\n"
     ]
    },
    {
     "name": "stderr",
     "output_type": "stream",
     "text": [
      "                                                              \r"
     ]
    },
    {
     "name": "stdout",
     "output_type": "stream",
     "text": [
      "Moviepy - Done !\n",
      "Moviepy - video ready ./VideosSegmentados\\SUJETO6_TRISTEZA_segmentado.mp4\n",
      "Moviepy - Building video ./VideosSegmentados\\SUJETO7_ENOJO_segmentado.mp4.\n",
      "MoviePy - Writing audio in SUJETO7_ENOJO_segmentadoTEMP_MPY_wvf_snd.mp4\n"
     ]
    },
    {
     "name": "stderr",
     "output_type": "stream",
     "text": [
      "                                                                   \r"
     ]
    },
    {
     "name": "stdout",
     "output_type": "stream",
     "text": [
      "MoviePy - Done.\n",
      "Moviepy - Writing video ./VideosSegmentados\\SUJETO7_ENOJO_segmentado.mp4\n",
      "\n"
     ]
    },
    {
     "name": "stderr",
     "output_type": "stream",
     "text": [
      "                                                              \r"
     ]
    },
    {
     "name": "stdout",
     "output_type": "stream",
     "text": [
      "Moviepy - Done !\n",
      "Moviepy - video ready ./VideosSegmentados\\SUJETO7_ENOJO_segmentado.mp4\n",
      "Moviepy - Building video ./VideosSegmentados\\SUJETO7_N1_segmentado.mp4.\n",
      "MoviePy - Writing audio in SUJETO7_N1_segmentadoTEMP_MPY_wvf_snd.mp4\n"
     ]
    },
    {
     "name": "stderr",
     "output_type": "stream",
     "text": [
      "                                                                   \r"
     ]
    },
    {
     "name": "stdout",
     "output_type": "stream",
     "text": [
      "MoviePy - Done.\n",
      "Moviepy - Writing video ./VideosSegmentados\\SUJETO7_N1_segmentado.mp4\n",
      "\n"
     ]
    },
    {
     "name": "stderr",
     "output_type": "stream",
     "text": [
      "                                                              \r"
     ]
    },
    {
     "name": "stdout",
     "output_type": "stream",
     "text": [
      "Moviepy - Done !\n",
      "Moviepy - video ready ./VideosSegmentados\\SUJETO7_N1_segmentado.mp4\n",
      "Moviepy - Building video ./VideosSegmentados\\SUJETO7_FELICIDAD_segmentado.mp4.\n",
      "MoviePy - Writing audio in SUJETO7_FELICIDAD_segmentadoTEMP_MPY_wvf_snd.mp4\n"
     ]
    },
    {
     "name": "stderr",
     "output_type": "stream",
     "text": [
      "                                                                  \r"
     ]
    },
    {
     "name": "stdout",
     "output_type": "stream",
     "text": [
      "MoviePy - Done.\n",
      "Moviepy - Writing video ./VideosSegmentados\\SUJETO7_FELICIDAD_segmentado.mp4\n",
      "\n"
     ]
    },
    {
     "name": "stderr",
     "output_type": "stream",
     "text": [
      "                                                              \r"
     ]
    },
    {
     "name": "stdout",
     "output_type": "stream",
     "text": [
      "Moviepy - Done !\n",
      "Moviepy - video ready ./VideosSegmentados\\SUJETO7_FELICIDAD_segmentado.mp4\n",
      "Moviepy - Building video ./VideosSegmentados\\SUJETO7_TRISTEZA_segmentado.mp4.\n",
      "MoviePy - Writing audio in SUJETO7_TRISTEZA_segmentadoTEMP_MPY_wvf_snd.mp4\n"
     ]
    },
    {
     "name": "stderr",
     "output_type": "stream",
     "text": [
      "                                                                   \r"
     ]
    },
    {
     "name": "stdout",
     "output_type": "stream",
     "text": [
      "MoviePy - Done.\n",
      "Moviepy - Writing video ./VideosSegmentados\\SUJETO7_TRISTEZA_segmentado.mp4\n",
      "\n"
     ]
    },
    {
     "name": "stderr",
     "output_type": "stream",
     "text": [
      "                                                              \r"
     ]
    },
    {
     "name": "stdout",
     "output_type": "stream",
     "text": [
      "Moviepy - Done !\n",
      "Moviepy - video ready ./VideosSegmentados\\SUJETO7_TRISTEZA_segmentado.mp4\n",
      "Moviepy - Building video ./VideosSegmentados\\SUJETO8_ENOJO_segmentado.mp4.\n",
      "MoviePy - Writing audio in SUJETO8_ENOJO_segmentadoTEMP_MPY_wvf_snd.mp4\n"
     ]
    },
    {
     "name": "stderr",
     "output_type": "stream",
     "text": [
      "                                                                   \r"
     ]
    },
    {
     "name": "stdout",
     "output_type": "stream",
     "text": [
      "MoviePy - Done.\n",
      "Moviepy - Writing video ./VideosSegmentados\\SUJETO8_ENOJO_segmentado.mp4\n",
      "\n"
     ]
    },
    {
     "name": "stderr",
     "output_type": "stream",
     "text": [
      "                                                              \r"
     ]
    },
    {
     "name": "stdout",
     "output_type": "stream",
     "text": [
      "Moviepy - Done !\n",
      "Moviepy - video ready ./VideosSegmentados\\SUJETO8_ENOJO_segmentado.mp4\n",
      "Moviepy - Building video ./VideosSegmentados\\SUJETO8_N1_segmentado.mp4.\n",
      "MoviePy - Writing audio in SUJETO8_N1_segmentadoTEMP_MPY_wvf_snd.mp4\n"
     ]
    },
    {
     "name": "stderr",
     "output_type": "stream",
     "text": [
      "                                                                   \r"
     ]
    },
    {
     "name": "stdout",
     "output_type": "stream",
     "text": [
      "MoviePy - Done.\n",
      "Moviepy - Writing video ./VideosSegmentados\\SUJETO8_N1_segmentado.mp4\n",
      "\n"
     ]
    },
    {
     "name": "stderr",
     "output_type": "stream",
     "text": [
      "                                                              \r"
     ]
    },
    {
     "name": "stdout",
     "output_type": "stream",
     "text": [
      "Moviepy - Done !\n",
      "Moviepy - video ready ./VideosSegmentados\\SUJETO8_N1_segmentado.mp4\n",
      "Moviepy - Building video ./VideosSegmentados\\SUJETO8_FELICIDAD_segmentado.mp4.\n",
      "MoviePy - Writing audio in SUJETO8_FELICIDAD_segmentadoTEMP_MPY_wvf_snd.mp4\n"
     ]
    },
    {
     "name": "stderr",
     "output_type": "stream",
     "text": [
      "                                                                   \r"
     ]
    },
    {
     "name": "stdout",
     "output_type": "stream",
     "text": [
      "MoviePy - Done.\n",
      "Moviepy - Writing video ./VideosSegmentados\\SUJETO8_FELICIDAD_segmentado.mp4\n",
      "\n"
     ]
    },
    {
     "name": "stderr",
     "output_type": "stream",
     "text": [
      "                                                              \r"
     ]
    },
    {
     "name": "stdout",
     "output_type": "stream",
     "text": [
      "Moviepy - Done !\n",
      "Moviepy - video ready ./VideosSegmentados\\SUJETO8_FELICIDAD_segmentado.mp4\n",
      "Moviepy - Building video ./VideosSegmentados\\SUJETO8_TRISTEZA_segmentado.mp4.\n",
      "MoviePy - Writing audio in SUJETO8_TRISTEZA_segmentadoTEMP_MPY_wvf_snd.mp4\n"
     ]
    },
    {
     "name": "stderr",
     "output_type": "stream",
     "text": [
      "                                                                   \r"
     ]
    },
    {
     "name": "stdout",
     "output_type": "stream",
     "text": [
      "MoviePy - Done.\n",
      "Moviepy - Writing video ./VideosSegmentados\\SUJETO8_TRISTEZA_segmentado.mp4\n",
      "\n"
     ]
    },
    {
     "name": "stderr",
     "output_type": "stream",
     "text": [
      "                                                              \r"
     ]
    },
    {
     "name": "stdout",
     "output_type": "stream",
     "text": [
      "Moviepy - Done !\n",
      "Moviepy - video ready ./VideosSegmentados\\SUJETO8_TRISTEZA_segmentado.mp4\n",
      "Moviepy - Building video ./VideosSegmentados\\SUJETO9_ENOJO_segmentado.mp4.\n",
      "MoviePy - Writing audio in SUJETO9_ENOJO_segmentadoTEMP_MPY_wvf_snd.mp4\n"
     ]
    },
    {
     "name": "stderr",
     "output_type": "stream",
     "text": [
      "                                                                   \r"
     ]
    },
    {
     "name": "stdout",
     "output_type": "stream",
     "text": [
      "MoviePy - Done.\n",
      "Moviepy - Writing video ./VideosSegmentados\\SUJETO9_ENOJO_segmentado.mp4\n",
      "\n"
     ]
    },
    {
     "name": "stderr",
     "output_type": "stream",
     "text": [
      "                                                              \r"
     ]
    },
    {
     "name": "stdout",
     "output_type": "stream",
     "text": [
      "Moviepy - Done !\n",
      "Moviepy - video ready ./VideosSegmentados\\SUJETO9_ENOJO_segmentado.mp4\n",
      "Moviepy - Building video ./VideosSegmentados\\SUJETO9_N1_segmentado.mp4.\n",
      "MoviePy - Writing audio in SUJETO9_N1_segmentadoTEMP_MPY_wvf_snd.mp4\n"
     ]
    },
    {
     "name": "stderr",
     "output_type": "stream",
     "text": [
      "                                                                   \r"
     ]
    },
    {
     "name": "stdout",
     "output_type": "stream",
     "text": [
      "MoviePy - Done.\n",
      "Moviepy - Writing video ./VideosSegmentados\\SUJETO9_N1_segmentado.mp4\n",
      "\n"
     ]
    },
    {
     "name": "stderr",
     "output_type": "stream",
     "text": [
      "                                                              \r"
     ]
    },
    {
     "name": "stdout",
     "output_type": "stream",
     "text": [
      "Moviepy - Done !\n",
      "Moviepy - video ready ./VideosSegmentados\\SUJETO9_N1_segmentado.mp4\n",
      "Moviepy - Building video ./VideosSegmentados\\SUJETO9_FELICIDAD_segmentado.mp4.\n",
      "MoviePy - Writing audio in SUJETO9_FELICIDAD_segmentadoTEMP_MPY_wvf_snd.mp4\n"
     ]
    },
    {
     "name": "stderr",
     "output_type": "stream",
     "text": [
      "                                                                   \r"
     ]
    },
    {
     "name": "stdout",
     "output_type": "stream",
     "text": [
      "MoviePy - Done.\n",
      "Moviepy - Writing video ./VideosSegmentados\\SUJETO9_FELICIDAD_segmentado.mp4\n",
      "\n"
     ]
    },
    {
     "name": "stderr",
     "output_type": "stream",
     "text": [
      "                                                              \r"
     ]
    },
    {
     "name": "stdout",
     "output_type": "stream",
     "text": [
      "Moviepy - Done !\n",
      "Moviepy - video ready ./VideosSegmentados\\SUJETO9_FELICIDAD_segmentado.mp4\n",
      "Moviepy - Building video ./VideosSegmentados\\SUJETO9_TRISTEZA_segmentado.mp4.\n",
      "MoviePy - Writing audio in SUJETO9_TRISTEZA_segmentadoTEMP_MPY_wvf_snd.mp4\n"
     ]
    },
    {
     "name": "stderr",
     "output_type": "stream",
     "text": [
      "                                                                   \r"
     ]
    },
    {
     "name": "stdout",
     "output_type": "stream",
     "text": [
      "MoviePy - Done.\n",
      "Moviepy - Writing video ./VideosSegmentados\\SUJETO9_TRISTEZA_segmentado.mp4\n",
      "\n"
     ]
    },
    {
     "name": "stderr",
     "output_type": "stream",
     "text": [
      "                                                              \r"
     ]
    },
    {
     "name": "stdout",
     "output_type": "stream",
     "text": [
      "Moviepy - Done !\n",
      "Moviepy - video ready ./VideosSegmentados\\SUJETO9_TRISTEZA_segmentado.mp4\n",
      "Moviepy - Building video ./VideosSegmentados\\SUJETO10_ENOJO_segmentado.mp4.\n",
      "MoviePy - Writing audio in SUJETO10_ENOJO_segmentadoTEMP_MPY_wvf_snd.mp4\n"
     ]
    },
    {
     "name": "stderr",
     "output_type": "stream",
     "text": [
      "                                                                   \r"
     ]
    },
    {
     "name": "stdout",
     "output_type": "stream",
     "text": [
      "MoviePy - Done.\n",
      "Moviepy - Writing video ./VideosSegmentados\\SUJETO10_ENOJO_segmentado.mp4\n",
      "\n"
     ]
    },
    {
     "name": "stderr",
     "output_type": "stream",
     "text": [
      "                                                              \r"
     ]
    },
    {
     "name": "stdout",
     "output_type": "stream",
     "text": [
      "Moviepy - Done !\n",
      "Moviepy - video ready ./VideosSegmentados\\SUJETO10_ENOJO_segmentado.mp4\n",
      "Moviepy - Building video ./VideosSegmentados\\SUJETO10_N1_segmentado.mp4.\n",
      "MoviePy - Writing audio in SUJETO10_N1_segmentadoTEMP_MPY_wvf_snd.mp4\n"
     ]
    },
    {
     "name": "stderr",
     "output_type": "stream",
     "text": [
      "                                                                   \r"
     ]
    },
    {
     "name": "stdout",
     "output_type": "stream",
     "text": [
      "MoviePy - Done.\n",
      "Moviepy - Writing video ./VideosSegmentados\\SUJETO10_N1_segmentado.mp4\n",
      "\n"
     ]
    },
    {
     "name": "stderr",
     "output_type": "stream",
     "text": [
      "                                                              \r"
     ]
    },
    {
     "name": "stdout",
     "output_type": "stream",
     "text": [
      "Moviepy - Done !\n",
      "Moviepy - video ready ./VideosSegmentados\\SUJETO10_N1_segmentado.mp4\n",
      "Moviepy - Building video ./VideosSegmentados\\SUJETO10_FELICIDAD_segmentado.mp4.\n",
      "MoviePy - Writing audio in SUJETO10_FELICIDAD_segmentadoTEMP_MPY_wvf_snd.mp4\n"
     ]
    },
    {
     "name": "stderr",
     "output_type": "stream",
     "text": [
      "                                                                   \r"
     ]
    },
    {
     "name": "stdout",
     "output_type": "stream",
     "text": [
      "MoviePy - Done.\n",
      "Moviepy - Writing video ./VideosSegmentados\\SUJETO10_FELICIDAD_segmentado.mp4\n",
      "\n"
     ]
    },
    {
     "name": "stderr",
     "output_type": "stream",
     "text": [
      "                                                              \r"
     ]
    },
    {
     "name": "stdout",
     "output_type": "stream",
     "text": [
      "Moviepy - Done !\n",
      "Moviepy - video ready ./VideosSegmentados\\SUJETO10_FELICIDAD_segmentado.mp4\n",
      "Moviepy - Building video ./VideosSegmentados\\SUJETO10_TRISTEZA_segmentado.mp4.\n",
      "MoviePy - Writing audio in SUJETO10_TRISTEZA_segmentadoTEMP_MPY_wvf_snd.mp4\n"
     ]
    },
    {
     "name": "stderr",
     "output_type": "stream",
     "text": [
      "                                                                   \r"
     ]
    },
    {
     "name": "stdout",
     "output_type": "stream",
     "text": [
      "MoviePy - Done.\n",
      "Moviepy - Writing video ./VideosSegmentados\\SUJETO10_TRISTEZA_segmentado.mp4\n",
      "\n"
     ]
    },
    {
     "name": "stderr",
     "output_type": "stream",
     "text": [
      "                                                              \r"
     ]
    },
    {
     "name": "stdout",
     "output_type": "stream",
     "text": [
      "Moviepy - Done !\n",
      "Moviepy - video ready ./VideosSegmentados\\SUJETO10_TRISTEZA_segmentado.mp4\n",
      "Moviepy - Building video ./VideosSegmentados\\SUJETO11_ENOJO_segmentado.mp4.\n",
      "MoviePy - Writing audio in SUJETO11_ENOJO_segmentadoTEMP_MPY_wvf_snd.mp4\n"
     ]
    },
    {
     "name": "stderr",
     "output_type": "stream",
     "text": [
      "                                                                   \r"
     ]
    },
    {
     "name": "stdout",
     "output_type": "stream",
     "text": [
      "MoviePy - Done.\n",
      "Moviepy - Writing video ./VideosSegmentados\\SUJETO11_ENOJO_segmentado.mp4\n",
      "\n"
     ]
    },
    {
     "name": "stderr",
     "output_type": "stream",
     "text": [
      "                                                              \r"
     ]
    },
    {
     "name": "stdout",
     "output_type": "stream",
     "text": [
      "Moviepy - Done !\n",
      "Moviepy - video ready ./VideosSegmentados\\SUJETO11_ENOJO_segmentado.mp4\n",
      "Moviepy - Building video ./VideosSegmentados\\SUJETO11_N1_segmentado.mp4.\n",
      "MoviePy - Writing audio in SUJETO11_N1_segmentadoTEMP_MPY_wvf_snd.mp4\n"
     ]
    },
    {
     "name": "stderr",
     "output_type": "stream",
     "text": [
      "                                                                   \r"
     ]
    },
    {
     "name": "stdout",
     "output_type": "stream",
     "text": [
      "MoviePy - Done.\n",
      "Moviepy - Writing video ./VideosSegmentados\\SUJETO11_N1_segmentado.mp4\n",
      "\n"
     ]
    },
    {
     "name": "stderr",
     "output_type": "stream",
     "text": [
      "                                                              \r"
     ]
    },
    {
     "name": "stdout",
     "output_type": "stream",
     "text": [
      "Moviepy - Done !\n",
      "Moviepy - video ready ./VideosSegmentados\\SUJETO11_N1_segmentado.mp4\n",
      "Moviepy - Building video ./VideosSegmentados\\SUJETO11_FELICIDAD_segmentado.mp4.\n",
      "MoviePy - Writing audio in SUJETO11_FELICIDAD_segmentadoTEMP_MPY_wvf_snd.mp4\n"
     ]
    },
    {
     "name": "stderr",
     "output_type": "stream",
     "text": [
      "                                                                  \r"
     ]
    },
    {
     "name": "stdout",
     "output_type": "stream",
     "text": [
      "MoviePy - Done.\n",
      "Moviepy - Writing video ./VideosSegmentados\\SUJETO11_FELICIDAD_segmentado.mp4\n",
      "\n"
     ]
    },
    {
     "name": "stderr",
     "output_type": "stream",
     "text": [
      "                                                              \r"
     ]
    },
    {
     "name": "stdout",
     "output_type": "stream",
     "text": [
      "Moviepy - Done !\n",
      "Moviepy - video ready ./VideosSegmentados\\SUJETO11_FELICIDAD_segmentado.mp4\n",
      "Moviepy - Building video ./VideosSegmentados\\SUJETO11_TRISTEZA_segmentado.mp4.\n",
      "MoviePy - Writing audio in SUJETO11_TRISTEZA_segmentadoTEMP_MPY_wvf_snd.mp4\n"
     ]
    },
    {
     "name": "stderr",
     "output_type": "stream",
     "text": [
      "                                                                   \r"
     ]
    },
    {
     "name": "stdout",
     "output_type": "stream",
     "text": [
      "MoviePy - Done.\n",
      "Moviepy - Writing video ./VideosSegmentados\\SUJETO11_TRISTEZA_segmentado.mp4\n",
      "\n"
     ]
    },
    {
     "name": "stderr",
     "output_type": "stream",
     "text": [
      "                                                              \r"
     ]
    },
    {
     "name": "stdout",
     "output_type": "stream",
     "text": [
      "Moviepy - Done !\n",
      "Moviepy - video ready ./VideosSegmentados\\SUJETO11_TRISTEZA_segmentado.mp4\n",
      "Moviepy - Building video ./VideosSegmentados\\SUJETO12_ENOJO_segmentado.mp4.\n",
      "MoviePy - Writing audio in SUJETO12_ENOJO_segmentadoTEMP_MPY_wvf_snd.mp4\n"
     ]
    },
    {
     "name": "stderr",
     "output_type": "stream",
     "text": [
      "                                                                   \r"
     ]
    },
    {
     "name": "stdout",
     "output_type": "stream",
     "text": [
      "MoviePy - Done.\n",
      "Moviepy - Writing video ./VideosSegmentados\\SUJETO12_ENOJO_segmentado.mp4\n",
      "\n"
     ]
    },
    {
     "name": "stderr",
     "output_type": "stream",
     "text": [
      "                                                              \r"
     ]
    },
    {
     "name": "stdout",
     "output_type": "stream",
     "text": [
      "Moviepy - Done !\n",
      "Moviepy - video ready ./VideosSegmentados\\SUJETO12_ENOJO_segmentado.mp4\n",
      "Moviepy - Building video ./VideosSegmentados\\SUJETO12_N1_segmentado.mp4.\n",
      "MoviePy - Writing audio in SUJETO12_N1_segmentadoTEMP_MPY_wvf_snd.mp4\n"
     ]
    },
    {
     "name": "stderr",
     "output_type": "stream",
     "text": [
      "                                                                   \r"
     ]
    },
    {
     "name": "stdout",
     "output_type": "stream",
     "text": [
      "MoviePy - Done.\n",
      "Moviepy - Writing video ./VideosSegmentados\\SUJETO12_N1_segmentado.mp4\n",
      "\n"
     ]
    },
    {
     "name": "stderr",
     "output_type": "stream",
     "text": [
      "                                                              \r"
     ]
    },
    {
     "name": "stdout",
     "output_type": "stream",
     "text": [
      "Moviepy - Done !\n",
      "Moviepy - video ready ./VideosSegmentados\\SUJETO12_N1_segmentado.mp4\n",
      "Moviepy - Building video ./VideosSegmentados\\SUJETO12_FELICIDAD_segmentado.mp4.\n",
      "MoviePy - Writing audio in SUJETO12_FELICIDAD_segmentadoTEMP_MPY_wvf_snd.mp4\n"
     ]
    },
    {
     "name": "stderr",
     "output_type": "stream",
     "text": [
      "                                                                   \r"
     ]
    },
    {
     "name": "stdout",
     "output_type": "stream",
     "text": [
      "MoviePy - Done.\n",
      "Moviepy - Writing video ./VideosSegmentados\\SUJETO12_FELICIDAD_segmentado.mp4\n",
      "\n"
     ]
    },
    {
     "name": "stderr",
     "output_type": "stream",
     "text": [
      "                                                              \r"
     ]
    },
    {
     "name": "stdout",
     "output_type": "stream",
     "text": [
      "Moviepy - Done !\n",
      "Moviepy - video ready ./VideosSegmentados\\SUJETO12_FELICIDAD_segmentado.mp4\n",
      "Moviepy - Building video ./VideosSegmentados\\SUJETO12_TRISTEZA_segmentado.mp4.\n",
      "MoviePy - Writing audio in SUJETO12_TRISTEZA_segmentadoTEMP_MPY_wvf_snd.mp4\n"
     ]
    },
    {
     "name": "stderr",
     "output_type": "stream",
     "text": [
      "                                                                   \r"
     ]
    },
    {
     "name": "stdout",
     "output_type": "stream",
     "text": [
      "MoviePy - Done.\n",
      "Moviepy - Writing video ./VideosSegmentados\\SUJETO12_TRISTEZA_segmentado.mp4\n",
      "\n"
     ]
    },
    {
     "name": "stderr",
     "output_type": "stream",
     "text": [
      "                                                              \r"
     ]
    },
    {
     "name": "stdout",
     "output_type": "stream",
     "text": [
      "Moviepy - Done !\n",
      "Moviepy - video ready ./VideosSegmentados\\SUJETO12_TRISTEZA_segmentado.mp4\n"
     ]
    }
   ],
   "source": [
    "import pandas as pd\n",
    "from moviepy.editor import VideoFileClip\n",
    "import os\n",
    "\n",
    "# Cambia esta variable por la ruta a tu archivo CSV\n",
    "csv_file = './VideosSegmentados.csv'\n",
    "\n",
    "# Cambia esta variable por la ruta a la carpeta donde están tus videos originales\n",
    "videos_folder = './Videos/'\n",
    "\n",
    "# Ruta a la carpeta donde quieres guardar los videos segmentados\n",
    "segmented_videos_folder = './VideosSegmentados'\n",
    "\n",
    "# Crea la carpeta para los videos segmentados si no existe\n",
    "if not os.path.exists(segmented_videos_folder):\n",
    "    os.makedirs(segmented_videos_folder)\n",
    "\n",
    "df = pd.read_csv(csv_file)\n",
    "\n",
    "# Itera sobre cada fila del DataFrame\n",
    "for index, row in df.iterrows():\n",
    "    video_path = os.path.join(videos_folder, row['SUJETO'])\n",
    "    inicio = row['INICIO']\n",
    "    fin = row['FIN']\n",
    "    \n",
    "    # Carga el video\n",
    "    clip = VideoFileClip(video_path)\n",
    "    \n",
    "    # Convierte los tiempos de inicio y fin a segundos\n",
    "    start_seconds = int(inicio.split(':')[0]) * 60 + int(inicio.split(':')[1])\n",
    "    end_seconds = int(fin.split(':')[0]) * 60 + int(fin.split(':')[1])\n",
    "    \n",
    "    # Verifica que el tiempo de inicio y fin estén dentro de la duración del video\n",
    "    if start_seconds >= clip.duration or end_seconds > clip.duration:\n",
    "        print(f\"Error en {video_path}: El tiempo de inicio o fin está fuera de la duración del video.\")\n",
    "        continue  # Salta este video y continúa con el siguiente\n",
    "\n",
    "    # Segmenta el video\n",
    "    new_clip = clip.subclip(start_seconds, end_seconds)\n",
    "    \n",
    "    # Segmenta el video\n",
    "    new_clip = clip.subclip(start_seconds, end_seconds)\n",
    "    \n",
    "    # Define la ruta del nuevo video segmentado, incluyendo la carpeta VideosSegmentados\n",
    "    new_video_filename = os.path.splitext(row['SUJETO'])[0] + '_segmentado.mp4'\n",
    "    new_video_path = os.path.join(segmented_videos_folder, new_video_filename)\n",
    "    \n",
    "    # Escribe el video segmentado en el disco\n",
    "    new_clip.write_videofile(new_video_path, codec='libx264', audio_codec='aac')\n",
    "\n",
    "    # Libera recursos\n",
    "    clip.close()\n",
    "    new_clip.close()\n"
   ]
  },
  {
   "cell_type": "markdown",
   "metadata": {},
   "source": [
    "Considerando la implementación de la segmentación de los vídeos, se observa que la tasa de captura es de 30 fotogramas por segundo, resultando en un total de 150 a 360 fotogramas para segmentos de duración comprendida entre 5 y 12 segundos, respectivamente. Para optimizar el análisis y manejar eficientemente la magnitud de los datos, se adoptó una metodología selectiva de extracción de fotogramas. Esta consistió en la retención de un único fotograma por cada conjunto de 30 de forma secuencial, disminuyendo la cantidad total de fotogramas a ser evaluados. Este criterio se aplicó a todos los vídeos segmentados, estableciendo así un paradigma estandarizado para el procesamiento preliminar de los datos visuales."
   ]
  },
  {
   "cell_type": "code",
   "execution_count": 38,
   "metadata": {},
   "outputs": [
    {
     "name": "stdout",
     "output_type": "stream",
     "text": [
      "Frame guardado: SUJETO10_ENOJO_segmentado_frame0.jpg\n",
      "Frame guardado: SUJETO10_ENOJO_segmentado_frame30.jpg\n",
      "Frame guardado: SUJETO10_ENOJO_segmentado_frame60.jpg\n",
      "Frame guardado: SUJETO10_ENOJO_segmentado_frame90.jpg\n",
      "Frame guardado: SUJETO10_ENOJO_segmentado_frame120.jpg\n",
      "Frame guardado: SUJETO10_ENOJO_segmentado_frame150.jpg\n",
      "Frame guardado: SUJETO10_ENOJO_segmentado_frame180.jpg\n",
      "Frame guardado: SUJETO10_ENOJO_segmentado_frame210.jpg\n",
      "Frame guardado: SUJETO10_ENOJO_segmentado_frame240.jpg\n",
      "Frame guardado: SUJETO10_ENOJO_segmentado_frame270.jpg\n",
      "Frame guardado: SUJETO10_ENOJO_segmentado_frame300.jpg\n",
      "Frame guardado: SUJETO10_FELICIDAD_segmentado_frame0.jpg\n",
      "Frame guardado: SUJETO10_FELICIDAD_segmentado_frame30.jpg\n",
      "Frame guardado: SUJETO10_FELICIDAD_segmentado_frame60.jpg\n",
      "Frame guardado: SUJETO10_FELICIDAD_segmentado_frame90.jpg\n",
      "Frame guardado: SUJETO10_FELICIDAD_segmentado_frame120.jpg\n",
      "Frame guardado: SUJETO10_FELICIDAD_segmentado_frame150.jpg\n",
      "Frame guardado: SUJETO10_FELICIDAD_segmentado_frame180.jpg\n",
      "Frame guardado: SUJETO10_FELICIDAD_segmentado_frame210.jpg\n",
      "Frame guardado: SUJETO10_FELICIDAD_segmentado_frame240.jpg\n",
      "Frame guardado: SUJETO10_FELICIDAD_segmentado_frame270.jpg\n",
      "Frame guardado: SUJETO10_N1_segmentado_frame0.jpg\n",
      "Frame guardado: SUJETO10_N1_segmentado_frame30.jpg\n",
      "Frame guardado: SUJETO10_N1_segmentado_frame60.jpg\n",
      "Frame guardado: SUJETO10_N1_segmentado_frame90.jpg\n",
      "Frame guardado: SUJETO10_N1_segmentado_frame120.jpg\n",
      "Frame guardado: SUJETO10_N1_segmentado_frame150.jpg\n",
      "Frame guardado: SUJETO10_N1_segmentado_frame180.jpg\n",
      "Frame guardado: SUJETO10_N1_segmentado_frame210.jpg\n",
      "Frame guardado: SUJETO10_N1_segmentado_frame240.jpg\n",
      "Frame guardado: SUJETO10_N1_segmentado_frame270.jpg\n",
      "Frame guardado: SUJETO10_TRISTEZA_segmentado_frame0.jpg\n",
      "Frame guardado: SUJETO10_TRISTEZA_segmentado_frame30.jpg\n",
      "Frame guardado: SUJETO10_TRISTEZA_segmentado_frame60.jpg\n",
      "Frame guardado: SUJETO10_TRISTEZA_segmentado_frame90.jpg\n",
      "Frame guardado: SUJETO10_TRISTEZA_segmentado_frame120.jpg\n",
      "Frame guardado: SUJETO10_TRISTEZA_segmentado_frame150.jpg\n",
      "Frame guardado: SUJETO10_TRISTEZA_segmentado_frame180.jpg\n",
      "Frame guardado: SUJETO10_TRISTEZA_segmentado_frame210.jpg\n",
      "Frame guardado: SUJETO10_TRISTEZA_segmentado_frame240.jpg\n",
      "Frame guardado: SUJETO10_TRISTEZA_segmentado_frame270.jpg\n",
      "Frame guardado: SUJETO11_ENOJO_segmentado_frame0.jpg\n",
      "Frame guardado: SUJETO11_ENOJO_segmentado_frame30.jpg\n",
      "Frame guardado: SUJETO11_ENOJO_segmentado_frame60.jpg\n",
      "Frame guardado: SUJETO11_ENOJO_segmentado_frame90.jpg\n",
      "Frame guardado: SUJETO11_ENOJO_segmentado_frame120.jpg\n",
      "Frame guardado: SUJETO11_ENOJO_segmentado_frame150.jpg\n",
      "Frame guardado: SUJETO11_ENOJO_segmentado_frame180.jpg\n",
      "Frame guardado: SUJETO11_ENOJO_segmentado_frame210.jpg\n",
      "Frame guardado: SUJETO11_ENOJO_segmentado_frame240.jpg\n",
      "Frame guardado: SUJETO11_ENOJO_segmentado_frame270.jpg\n",
      "Frame guardado: SUJETO11_ENOJO_segmentado_frame300.jpg\n",
      "Frame guardado: SUJETO11_ENOJO_segmentado_frame330.jpg\n",
      "Frame guardado: SUJETO11_FELICIDAD_segmentado_frame0.jpg\n",
      "Frame guardado: SUJETO11_FELICIDAD_segmentado_frame30.jpg\n",
      "Frame guardado: SUJETO11_FELICIDAD_segmentado_frame60.jpg\n",
      "Frame guardado: SUJETO11_FELICIDAD_segmentado_frame90.jpg\n",
      "Frame guardado: SUJETO11_FELICIDAD_segmentado_frame120.jpg\n",
      "Frame guardado: SUJETO11_FELICIDAD_segmentado_frame150.jpg\n",
      "Frame guardado: SUJETO11_FELICIDAD_segmentado_frame180.jpg\n",
      "Frame guardado: SUJETO11_N1_segmentado_frame0.jpg\n",
      "Frame guardado: SUJETO11_N1_segmentado_frame30.jpg\n",
      "Frame guardado: SUJETO11_N1_segmentado_frame60.jpg\n",
      "Frame guardado: SUJETO11_N1_segmentado_frame90.jpg\n",
      "Frame guardado: SUJETO11_N1_segmentado_frame120.jpg\n",
      "Frame guardado: SUJETO11_N1_segmentado_frame150.jpg\n",
      "Frame guardado: SUJETO11_N1_segmentado_frame180.jpg\n",
      "Frame guardado: SUJETO11_N1_segmentado_frame210.jpg\n",
      "Frame guardado: SUJETO11_N1_segmentado_frame240.jpg\n",
      "Frame guardado: SUJETO11_N1_segmentado_frame270.jpg\n",
      "Frame guardado: SUJETO11_TRISTEZA_segmentado_frame0.jpg\n",
      "Frame guardado: SUJETO11_TRISTEZA_segmentado_frame30.jpg\n",
      "Frame guardado: SUJETO11_TRISTEZA_segmentado_frame60.jpg\n",
      "Frame guardado: SUJETO11_TRISTEZA_segmentado_frame90.jpg\n",
      "Frame guardado: SUJETO11_TRISTEZA_segmentado_frame120.jpg\n",
      "Frame guardado: SUJETO11_TRISTEZA_segmentado_frame150.jpg\n",
      "Frame guardado: SUJETO11_TRISTEZA_segmentado_frame180.jpg\n",
      "Frame guardado: SUJETO11_TRISTEZA_segmentado_frame210.jpg\n",
      "Frame guardado: SUJETO11_TRISTEZA_segmentado_frame240.jpg\n",
      "Frame guardado: SUJETO11_TRISTEZA_segmentado_frame270.jpg\n",
      "Frame guardado: SUJETO12_ENOJO_segmentado_frame0.jpg\n",
      "Frame guardado: SUJETO12_ENOJO_segmentado_frame30.jpg\n",
      "Frame guardado: SUJETO12_ENOJO_segmentado_frame60.jpg\n",
      "Frame guardado: SUJETO12_ENOJO_segmentado_frame90.jpg\n",
      "Frame guardado: SUJETO12_ENOJO_segmentado_frame120.jpg\n",
      "Frame guardado: SUJETO12_ENOJO_segmentado_frame150.jpg\n",
      "Frame guardado: SUJETO12_ENOJO_segmentado_frame180.jpg\n",
      "Frame guardado: SUJETO12_ENOJO_segmentado_frame210.jpg\n",
      "Frame guardado: SUJETO12_ENOJO_segmentado_frame240.jpg\n",
      "Frame guardado: SUJETO12_ENOJO_segmentado_frame270.jpg\n",
      "Frame guardado: SUJETO12_FELICIDAD_segmentado_frame0.jpg\n",
      "Frame guardado: SUJETO12_FELICIDAD_segmentado_frame30.jpg\n",
      "Frame guardado: SUJETO12_FELICIDAD_segmentado_frame60.jpg\n",
      "Frame guardado: SUJETO12_FELICIDAD_segmentado_frame90.jpg\n",
      "Frame guardado: SUJETO12_FELICIDAD_segmentado_frame120.jpg\n",
      "Frame guardado: SUJETO12_FELICIDAD_segmentado_frame150.jpg\n",
      "Frame guardado: SUJETO12_FELICIDAD_segmentado_frame180.jpg\n",
      "Frame guardado: SUJETO12_FELICIDAD_segmentado_frame210.jpg\n",
      "Frame guardado: SUJETO12_FELICIDAD_segmentado_frame240.jpg\n",
      "Frame guardado: SUJETO12_FELICIDAD_segmentado_frame270.jpg\n",
      "Frame guardado: SUJETO12_N1_segmentado_frame0.jpg\n",
      "Frame guardado: SUJETO12_N1_segmentado_frame30.jpg\n",
      "Frame guardado: SUJETO12_N1_segmentado_frame60.jpg\n",
      "Frame guardado: SUJETO12_N1_segmentado_frame90.jpg\n",
      "Frame guardado: SUJETO12_N1_segmentado_frame120.jpg\n",
      "Frame guardado: SUJETO12_N1_segmentado_frame150.jpg\n",
      "Frame guardado: SUJETO12_N1_segmentado_frame180.jpg\n",
      "Frame guardado: SUJETO12_N1_segmentado_frame210.jpg\n",
      "Frame guardado: SUJETO12_N1_segmentado_frame240.jpg\n",
      "Frame guardado: SUJETO12_N1_segmentado_frame270.jpg\n",
      "Frame guardado: SUJETO12_TRISTEZA_segmentado_frame0.jpg\n",
      "Frame guardado: SUJETO12_TRISTEZA_segmentado_frame30.jpg\n",
      "Frame guardado: SUJETO12_TRISTEZA_segmentado_frame60.jpg\n",
      "Frame guardado: SUJETO12_TRISTEZA_segmentado_frame90.jpg\n",
      "Frame guardado: SUJETO12_TRISTEZA_segmentado_frame120.jpg\n",
      "Frame guardado: SUJETO12_TRISTEZA_segmentado_frame150.jpg\n",
      "Frame guardado: SUJETO12_TRISTEZA_segmentado_frame180.jpg\n",
      "Frame guardado: SUJETO12_TRISTEZA_segmentado_frame210.jpg\n",
      "Frame guardado: SUJETO12_TRISTEZA_segmentado_frame240.jpg\n",
      "Frame guardado: SUJETO12_TRISTEZA_segmentado_frame270.jpg\n",
      "Frame guardado: SUJETO1_ENOJO_segmentado_frame0.jpg\n",
      "Frame guardado: SUJETO1_ENOJO_segmentado_frame30.jpg\n",
      "Frame guardado: SUJETO1_ENOJO_segmentado_frame60.jpg\n",
      "Frame guardado: SUJETO1_ENOJO_segmentado_frame90.jpg\n",
      "Frame guardado: SUJETO1_ENOJO_segmentado_frame120.jpg\n",
      "Frame guardado: SUJETO1_ENOJO_segmentado_frame150.jpg\n",
      "Frame guardado: SUJETO1_ENOJO_segmentado_frame180.jpg\n",
      "Frame guardado: SUJETO1_ENOJO_segmentado_frame210.jpg\n",
      "Frame guardado: SUJETO1_ENOJO_segmentado_frame240.jpg\n",
      "Frame guardado: SUJETO1_ENOJO_segmentado_frame270.jpg\n",
      "Frame guardado: SUJETO1_ENOJO_segmentado_frame300.jpg\n",
      "Frame guardado: SUJETO1_FELICIDAD_segmentado_frame0.jpg\n",
      "Frame guardado: SUJETO1_FELICIDAD_segmentado_frame30.jpg\n",
      "Frame guardado: SUJETO1_FELICIDAD_segmentado_frame60.jpg\n",
      "Frame guardado: SUJETO1_FELICIDAD_segmentado_frame90.jpg\n",
      "Frame guardado: SUJETO1_FELICIDAD_segmentado_frame120.jpg\n",
      "Frame guardado: SUJETO1_FELICIDAD_segmentado_frame150.jpg\n",
      "Frame guardado: SUJETO1_FELICIDAD_segmentado_frame180.jpg\n",
      "Frame guardado: SUJETO1_N1_segmentado_frame0.jpg\n",
      "Frame guardado: SUJETO1_N1_segmentado_frame30.jpg\n",
      "Frame guardado: SUJETO1_N1_segmentado_frame60.jpg\n",
      "Frame guardado: SUJETO1_N1_segmentado_frame90.jpg\n",
      "Frame guardado: SUJETO1_N1_segmentado_frame120.jpg\n",
      "Frame guardado: SUJETO1_N1_segmentado_frame150.jpg\n",
      "Frame guardado: SUJETO1_N1_segmentado_frame180.jpg\n",
      "Frame guardado: SUJETO1_N1_segmentado_frame210.jpg\n",
      "Frame guardado: SUJETO1_N1_segmentado_frame240.jpg\n",
      "Frame guardado: SUJETO1_N1_segmentado_frame270.jpg\n",
      "Frame guardado: SUJETO1_TRISTEZA_segmentado_frame0.jpg\n",
      "Frame guardado: SUJETO1_TRISTEZA_segmentado_frame30.jpg\n",
      "Frame guardado: SUJETO1_TRISTEZA_segmentado_frame60.jpg\n",
      "Frame guardado: SUJETO1_TRISTEZA_segmentado_frame90.jpg\n",
      "Frame guardado: SUJETO1_TRISTEZA_segmentado_frame120.jpg\n",
      "Frame guardado: SUJETO1_TRISTEZA_segmentado_frame150.jpg\n",
      "Frame guardado: SUJETO1_TRISTEZA_segmentado_frame180.jpg\n",
      "Frame guardado: SUJETO1_TRISTEZA_segmentado_frame210.jpg\n",
      "Frame guardado: SUJETO1_TRISTEZA_segmentado_frame240.jpg\n",
      "Frame guardado: SUJETO1_TRISTEZA_segmentado_frame270.jpg\n",
      "Frame guardado: SUJETO2_ENOJO_segmentado_frame0.jpg\n",
      "Frame guardado: SUJETO2_ENOJO_segmentado_frame30.jpg\n",
      "Frame guardado: SUJETO2_ENOJO_segmentado_frame60.jpg\n",
      "Frame guardado: SUJETO2_ENOJO_segmentado_frame90.jpg\n",
      "Frame guardado: SUJETO2_ENOJO_segmentado_frame120.jpg\n",
      "Frame guardado: SUJETO2_ENOJO_segmentado_frame150.jpg\n",
      "Frame guardado: SUJETO2_ENOJO_segmentado_frame180.jpg\n",
      "Frame guardado: SUJETO2_ENOJO_segmentado_frame210.jpg\n",
      "Frame guardado: SUJETO2_ENOJO_segmentado_frame240.jpg\n",
      "Frame guardado: SUJETO2_ENOJO_segmentado_frame270.jpg\n",
      "Frame guardado: SUJETO2_FELICIDAD_segmentado_frame0.jpg\n",
      "Frame guardado: SUJETO2_FELICIDAD_segmentado_frame30.jpg\n",
      "Frame guardado: SUJETO2_FELICIDAD_segmentado_frame60.jpg\n",
      "Frame guardado: SUJETO2_FELICIDAD_segmentado_frame90.jpg\n",
      "Frame guardado: SUJETO2_FELICIDAD_segmentado_frame120.jpg\n",
      "Frame guardado: SUJETO2_FELICIDAD_segmentado_frame150.jpg\n",
      "Frame guardado: SUJETO2_FELICIDAD_segmentado_frame180.jpg\n",
      "Frame guardado: SUJETO2_FELICIDAD_segmentado_frame210.jpg\n",
      "Frame guardado: SUJETO2_FELICIDAD_segmentado_frame240.jpg\n",
      "Frame guardado: SUJETO2_N1_segmentado_frame0.jpg\n",
      "Frame guardado: SUJETO2_N1_segmentado_frame30.jpg\n",
      "Frame guardado: SUJETO2_N1_segmentado_frame60.jpg\n",
      "Frame guardado: SUJETO2_N1_segmentado_frame90.jpg\n",
      "Frame guardado: SUJETO2_N1_segmentado_frame120.jpg\n",
      "Frame guardado: SUJETO2_N1_segmentado_frame150.jpg\n",
      "Frame guardado: SUJETO2_N1_segmentado_frame180.jpg\n",
      "Frame guardado: SUJETO2_N1_segmentado_frame210.jpg\n",
      "Frame guardado: SUJETO2_N1_segmentado_frame240.jpg\n",
      "Frame guardado: SUJETO2_N1_segmentado_frame270.jpg\n",
      "Frame guardado: SUJETO2_TRISTEZA_segmentado_frame0.jpg\n",
      "Frame guardado: SUJETO2_TRISTEZA_segmentado_frame30.jpg\n",
      "Frame guardado: SUJETO2_TRISTEZA_segmentado_frame60.jpg\n",
      "Frame guardado: SUJETO2_TRISTEZA_segmentado_frame90.jpg\n",
      "Frame guardado: SUJETO2_TRISTEZA_segmentado_frame120.jpg\n",
      "Frame guardado: SUJETO2_TRISTEZA_segmentado_frame150.jpg\n",
      "Frame guardado: SUJETO2_TRISTEZA_segmentado_frame180.jpg\n",
      "Frame guardado: SUJETO2_TRISTEZA_segmentado_frame210.jpg\n",
      "Frame guardado: SUJETO2_TRISTEZA_segmentado_frame240.jpg\n",
      "Frame guardado: SUJETO2_TRISTEZA_segmentado_frame270.jpg\n",
      "Frame guardado: SUJETO3_ENOJO_segmentado_frame0.jpg\n",
      "Frame guardado: SUJETO3_ENOJO_segmentado_frame30.jpg\n",
      "Frame guardado: SUJETO3_ENOJO_segmentado_frame60.jpg\n",
      "Frame guardado: SUJETO3_ENOJO_segmentado_frame90.jpg\n",
      "Frame guardado: SUJETO3_ENOJO_segmentado_frame120.jpg\n",
      "Frame guardado: SUJETO3_ENOJO_segmentado_frame150.jpg\n",
      "Frame guardado: SUJETO3_ENOJO_segmentado_frame180.jpg\n",
      "Frame guardado: SUJETO3_ENOJO_segmentado_frame210.jpg\n",
      "Frame guardado: SUJETO3_ENOJO_segmentado_frame240.jpg\n",
      "Frame guardado: SUJETO3_ENOJO_segmentado_frame270.jpg\n",
      "Frame guardado: SUJETO3_FELICIDAD_segmentado_frame0.jpg\n",
      "Frame guardado: SUJETO3_FELICIDAD_segmentado_frame30.jpg\n",
      "Frame guardado: SUJETO3_FELICIDAD_segmentado_frame60.jpg\n",
      "Frame guardado: SUJETO3_FELICIDAD_segmentado_frame90.jpg\n",
      "Frame guardado: SUJETO3_FELICIDAD_segmentado_frame120.jpg\n",
      "Frame guardado: SUJETO3_FELICIDAD_segmentado_frame150.jpg\n",
      "Frame guardado: SUJETO3_FELICIDAD_segmentado_frame180.jpg\n",
      "Frame guardado: SUJETO3_FELICIDAD_segmentado_frame210.jpg\n",
      "Frame guardado: SUJETO3_FELICIDAD_segmentado_frame240.jpg\n",
      "Frame guardado: SUJETO3_N1_segmentado_frame0.jpg\n",
      "Frame guardado: SUJETO3_N1_segmentado_frame30.jpg\n",
      "Frame guardado: SUJETO3_N1_segmentado_frame60.jpg\n",
      "Frame guardado: SUJETO3_N1_segmentado_frame90.jpg\n",
      "Frame guardado: SUJETO3_N1_segmentado_frame120.jpg\n",
      "Frame guardado: SUJETO3_N1_segmentado_frame150.jpg\n",
      "Frame guardado: SUJETO3_N1_segmentado_frame180.jpg\n",
      "Frame guardado: SUJETO3_N1_segmentado_frame210.jpg\n",
      "Frame guardado: SUJETO3_N1_segmentado_frame240.jpg\n",
      "Frame guardado: SUJETO3_N1_segmentado_frame270.jpg\n",
      "Frame guardado: SUJETO3_TRISTEZA_segmentado_frame0.jpg\n",
      "Frame guardado: SUJETO3_TRISTEZA_segmentado_frame30.jpg\n",
      "Frame guardado: SUJETO3_TRISTEZA_segmentado_frame60.jpg\n",
      "Frame guardado: SUJETO3_TRISTEZA_segmentado_frame90.jpg\n",
      "Frame guardado: SUJETO3_TRISTEZA_segmentado_frame120.jpg\n",
      "Frame guardado: SUJETO3_TRISTEZA_segmentado_frame150.jpg\n",
      "Frame guardado: SUJETO3_TRISTEZA_segmentado_frame180.jpg\n",
      "Frame guardado: SUJETO3_TRISTEZA_segmentado_frame210.jpg\n",
      "Frame guardado: SUJETO3_TRISTEZA_segmentado_frame240.jpg\n",
      "Frame guardado: SUJETO3_TRISTEZA_segmentado_frame270.jpg\n",
      "Frame guardado: SUJETO4_ENOJO_segmentado_frame0.jpg\n",
      "Frame guardado: SUJETO4_ENOJO_segmentado_frame30.jpg\n",
      "Frame guardado: SUJETO4_ENOJO_segmentado_frame60.jpg\n",
      "Frame guardado: SUJETO4_ENOJO_segmentado_frame90.jpg\n",
      "Frame guardado: SUJETO4_ENOJO_segmentado_frame120.jpg\n",
      "Frame guardado: SUJETO4_ENOJO_segmentado_frame150.jpg\n",
      "Frame guardado: SUJETO4_ENOJO_segmentado_frame180.jpg\n",
      "Frame guardado: SUJETO4_ENOJO_segmentado_frame210.jpg\n",
      "Frame guardado: SUJETO4_ENOJO_segmentado_frame240.jpg\n",
      "Frame guardado: SUJETO4_ENOJO_segmentado_frame270.jpg\n",
      "Frame guardado: SUJETO4_ENOJO_segmentado_frame300.jpg\n",
      "Frame guardado: SUJETO4_FELICIDAD_segmentado_frame0.jpg\n",
      "Frame guardado: SUJETO4_FELICIDAD_segmentado_frame30.jpg\n",
      "Frame guardado: SUJETO4_FELICIDAD_segmentado_frame60.jpg\n",
      "Frame guardado: SUJETO4_FELICIDAD_segmentado_frame90.jpg\n",
      "Frame guardado: SUJETO4_FELICIDAD_segmentado_frame120.jpg\n",
      "Frame guardado: SUJETO4_FELICIDAD_segmentado_frame150.jpg\n",
      "Frame guardado: SUJETO4_FELICIDAD_segmentado_frame180.jpg\n",
      "Frame guardado: SUJETO4_FELICIDAD_segmentado_frame210.jpg\n",
      "Frame guardado: SUJETO4_FELICIDAD_segmentado_frame240.jpg\n",
      "Frame guardado: SUJETO4_N1_segmentado_frame0.jpg\n",
      "Frame guardado: SUJETO4_N1_segmentado_frame30.jpg\n",
      "Frame guardado: SUJETO4_N1_segmentado_frame60.jpg\n",
      "Frame guardado: SUJETO4_N1_segmentado_frame90.jpg\n",
      "Frame guardado: SUJETO4_N1_segmentado_frame120.jpg\n",
      "Frame guardado: SUJETO4_N1_segmentado_frame150.jpg\n",
      "Frame guardado: SUJETO4_N1_segmentado_frame180.jpg\n",
      "Frame guardado: SUJETO4_N1_segmentado_frame210.jpg\n",
      "Frame guardado: SUJETO4_N1_segmentado_frame240.jpg\n",
      "Frame guardado: SUJETO4_N1_segmentado_frame270.jpg\n",
      "Frame guardado: SUJETO4_TRISTEZA_segmentado_frame0.jpg\n",
      "Frame guardado: SUJETO4_TRISTEZA_segmentado_frame30.jpg\n",
      "Frame guardado: SUJETO4_TRISTEZA_segmentado_frame60.jpg\n",
      "Frame guardado: SUJETO4_TRISTEZA_segmentado_frame90.jpg\n",
      "Frame guardado: SUJETO4_TRISTEZA_segmentado_frame120.jpg\n",
      "Frame guardado: SUJETO4_TRISTEZA_segmentado_frame150.jpg\n",
      "Frame guardado: SUJETO4_TRISTEZA_segmentado_frame180.jpg\n",
      "Frame guardado: SUJETO4_TRISTEZA_segmentado_frame210.jpg\n",
      "Frame guardado: SUJETO4_TRISTEZA_segmentado_frame240.jpg\n",
      "Frame guardado: SUJETO4_TRISTEZA_segmentado_frame270.jpg\n",
      "Frame guardado: SUJETO5_ENOJO_segmentado_frame0.jpg\n",
      "Frame guardado: SUJETO5_ENOJO_segmentado_frame30.jpg\n",
      "Frame guardado: SUJETO5_ENOJO_segmentado_frame60.jpg\n",
      "Frame guardado: SUJETO5_ENOJO_segmentado_frame90.jpg\n",
      "Frame guardado: SUJETO5_ENOJO_segmentado_frame120.jpg\n",
      "Frame guardado: SUJETO5_ENOJO_segmentado_frame150.jpg\n",
      "Frame guardado: SUJETO5_ENOJO_segmentado_frame180.jpg\n",
      "Frame guardado: SUJETO5_ENOJO_segmentado_frame210.jpg\n",
      "Frame guardado: SUJETO5_ENOJO_segmentado_frame240.jpg\n",
      "Frame guardado: SUJETO5_ENOJO_segmentado_frame270.jpg\n",
      "Frame guardado: SUJETO5_ENOJO_segmentado_frame300.jpg\n",
      "Frame guardado: SUJETO5_FELICIDAD_segmentado_frame0.jpg\n",
      "Frame guardado: SUJETO5_FELICIDAD_segmentado_frame30.jpg\n",
      "Frame guardado: SUJETO5_FELICIDAD_segmentado_frame60.jpg\n",
      "Frame guardado: SUJETO5_FELICIDAD_segmentado_frame90.jpg\n",
      "Frame guardado: SUJETO5_FELICIDAD_segmentado_frame120.jpg\n",
      "Frame guardado: SUJETO5_FELICIDAD_segmentado_frame150.jpg\n",
      "Frame guardado: SUJETO5_FELICIDAD_segmentado_frame180.jpg\n",
      "Frame guardado: SUJETO5_FELICIDAD_segmentado_frame210.jpg\n",
      "Frame guardado: SUJETO5_FELICIDAD_segmentado_frame240.jpg\n",
      "Frame guardado: SUJETO5_FELICIDAD_segmentado_frame270.jpg\n",
      "Frame guardado: SUJETO5_N1_segmentado_frame0.jpg\n",
      "Frame guardado: SUJETO5_N1_segmentado_frame30.jpg\n",
      "Frame guardado: SUJETO5_N1_segmentado_frame60.jpg\n",
      "Frame guardado: SUJETO5_N1_segmentado_frame90.jpg\n",
      "Frame guardado: SUJETO5_N1_segmentado_frame120.jpg\n",
      "Frame guardado: SUJETO5_N1_segmentado_frame150.jpg\n",
      "Frame guardado: SUJETO5_N1_segmentado_frame180.jpg\n",
      "Frame guardado: SUJETO5_N1_segmentado_frame210.jpg\n",
      "Frame guardado: SUJETO5_N1_segmentado_frame240.jpg\n",
      "Frame guardado: SUJETO5_N1_segmentado_frame270.jpg\n",
      "Frame guardado: SUJETO5_TRISTEZA_segmentado_frame0.jpg\n",
      "Frame guardado: SUJETO5_TRISTEZA_segmentado_frame30.jpg\n",
      "Frame guardado: SUJETO5_TRISTEZA_segmentado_frame60.jpg\n",
      "Frame guardado: SUJETO5_TRISTEZA_segmentado_frame90.jpg\n",
      "Frame guardado: SUJETO5_TRISTEZA_segmentado_frame120.jpg\n",
      "Frame guardado: SUJETO5_TRISTEZA_segmentado_frame150.jpg\n",
      "Frame guardado: SUJETO5_TRISTEZA_segmentado_frame180.jpg\n",
      "Frame guardado: SUJETO5_TRISTEZA_segmentado_frame210.jpg\n",
      "Frame guardado: SUJETO5_TRISTEZA_segmentado_frame240.jpg\n",
      "Frame guardado: SUJETO6_ENOJO_segmentado_frame0.jpg\n",
      "Frame guardado: SUJETO6_ENOJO_segmentado_frame30.jpg\n",
      "Frame guardado: SUJETO6_ENOJO_segmentado_frame60.jpg\n",
      "Frame guardado: SUJETO6_ENOJO_segmentado_frame90.jpg\n",
      "Frame guardado: SUJETO6_ENOJO_segmentado_frame120.jpg\n",
      "Frame guardado: SUJETO6_ENOJO_segmentado_frame150.jpg\n",
      "Frame guardado: SUJETO6_ENOJO_segmentado_frame180.jpg\n",
      "Frame guardado: SUJETO6_ENOJO_segmentado_frame210.jpg\n",
      "Frame guardado: SUJETO6_ENOJO_segmentado_frame240.jpg\n",
      "Frame guardado: SUJETO6_ENOJO_segmentado_frame270.jpg\n",
      "Frame guardado: SUJETO6_ENOJO_segmentado_frame300.jpg\n",
      "Frame guardado: SUJETO6_ENOJO_segmentado_frame330.jpg\n",
      "Frame guardado: SUJETO6_FELICIDAD_segmentado_frame0.jpg\n",
      "Frame guardado: SUJETO6_FELICIDAD_segmentado_frame30.jpg\n",
      "Frame guardado: SUJETO6_FELICIDAD_segmentado_frame60.jpg\n",
      "Frame guardado: SUJETO6_FELICIDAD_segmentado_frame90.jpg\n",
      "Frame guardado: SUJETO6_FELICIDAD_segmentado_frame120.jpg\n",
      "Frame guardado: SUJETO6_FELICIDAD_segmentado_frame150.jpg\n",
      "Frame guardado: SUJETO6_FELICIDAD_segmentado_frame180.jpg\n",
      "Frame guardado: SUJETO6_FELICIDAD_segmentado_frame210.jpg\n",
      "Frame guardado: SUJETO6_FELICIDAD_segmentado_frame240.jpg\n",
      "Frame guardado: SUJETO6_FELICIDAD_segmentado_frame270.jpg\n",
      "Frame guardado: SUJETO6_N1_segmentado_frame0.jpg\n",
      "Frame guardado: SUJETO6_N1_segmentado_frame30.jpg\n",
      "Frame guardado: SUJETO6_N1_segmentado_frame60.jpg\n",
      "Frame guardado: SUJETO6_N1_segmentado_frame90.jpg\n",
      "Frame guardado: SUJETO6_N1_segmentado_frame120.jpg\n",
      "Frame guardado: SUJETO6_N1_segmentado_frame150.jpg\n",
      "Frame guardado: SUJETO6_N1_segmentado_frame180.jpg\n",
      "Frame guardado: SUJETO6_N1_segmentado_frame210.jpg\n",
      "Frame guardado: SUJETO6_N1_segmentado_frame240.jpg\n",
      "Frame guardado: SUJETO6_N1_segmentado_frame270.jpg\n",
      "Frame guardado: SUJETO6_TRISTEZA_segmentado_frame0.jpg\n",
      "Frame guardado: SUJETO6_TRISTEZA_segmentado_frame30.jpg\n",
      "Frame guardado: SUJETO6_TRISTEZA_segmentado_frame60.jpg\n",
      "Frame guardado: SUJETO6_TRISTEZA_segmentado_frame90.jpg\n",
      "Frame guardado: SUJETO6_TRISTEZA_segmentado_frame120.jpg\n",
      "Frame guardado: SUJETO7_ENOJO_segmentado_frame0.jpg\n",
      "Frame guardado: SUJETO7_ENOJO_segmentado_frame30.jpg\n",
      "Frame guardado: SUJETO7_ENOJO_segmentado_frame60.jpg\n",
      "Frame guardado: SUJETO7_ENOJO_segmentado_frame90.jpg\n",
      "Frame guardado: SUJETO7_ENOJO_segmentado_frame120.jpg\n",
      "Frame guardado: SUJETO7_ENOJO_segmentado_frame150.jpg\n",
      "Frame guardado: SUJETO7_ENOJO_segmentado_frame180.jpg\n",
      "Frame guardado: SUJETO7_ENOJO_segmentado_frame210.jpg\n",
      "Frame guardado: SUJETO7_ENOJO_segmentado_frame240.jpg\n",
      "Frame guardado: SUJETO7_ENOJO_segmentado_frame270.jpg\n",
      "Frame guardado: SUJETO7_ENOJO_segmentado_frame300.jpg\n",
      "Frame guardado: SUJETO7_FELICIDAD_segmentado_frame0.jpg\n",
      "Frame guardado: SUJETO7_FELICIDAD_segmentado_frame30.jpg\n",
      "Frame guardado: SUJETO7_FELICIDAD_segmentado_frame60.jpg\n",
      "Frame guardado: SUJETO7_FELICIDAD_segmentado_frame90.jpg\n",
      "Frame guardado: SUJETO7_FELICIDAD_segmentado_frame120.jpg\n",
      "Frame guardado: SUJETO7_N1_segmentado_frame0.jpg\n",
      "Frame guardado: SUJETO7_N1_segmentado_frame30.jpg\n",
      "Frame guardado: SUJETO7_N1_segmentado_frame60.jpg\n",
      "Frame guardado: SUJETO7_N1_segmentado_frame90.jpg\n",
      "Frame guardado: SUJETO7_N1_segmentado_frame120.jpg\n",
      "Frame guardado: SUJETO7_N1_segmentado_frame150.jpg\n",
      "Frame guardado: SUJETO7_N1_segmentado_frame180.jpg\n",
      "Frame guardado: SUJETO7_N1_segmentado_frame210.jpg\n",
      "Frame guardado: SUJETO7_N1_segmentado_frame240.jpg\n",
      "Frame guardado: SUJETO7_N1_segmentado_frame270.jpg\n",
      "Frame guardado: SUJETO7_TRISTEZA_segmentado_frame0.jpg\n",
      "Frame guardado: SUJETO7_TRISTEZA_segmentado_frame30.jpg\n",
      "Frame guardado: SUJETO7_TRISTEZA_segmentado_frame60.jpg\n",
      "Frame guardado: SUJETO7_TRISTEZA_segmentado_frame90.jpg\n",
      "Frame guardado: SUJETO7_TRISTEZA_segmentado_frame120.jpg\n",
      "Frame guardado: SUJETO7_TRISTEZA_segmentado_frame150.jpg\n",
      "Frame guardado: SUJETO7_TRISTEZA_segmentado_frame180.jpg\n",
      "Frame guardado: SUJETO7_TRISTEZA_segmentado_frame210.jpg\n",
      "Frame guardado: SUJETO7_TRISTEZA_segmentado_frame240.jpg\n",
      "Frame guardado: SUJETO7_TRISTEZA_segmentado_frame270.jpg\n",
      "Frame guardado: SUJETO8_ENOJO_segmentado_frame0.jpg\n",
      "Frame guardado: SUJETO8_ENOJO_segmentado_frame30.jpg\n",
      "Frame guardado: SUJETO8_ENOJO_segmentado_frame60.jpg\n",
      "Frame guardado: SUJETO8_ENOJO_segmentado_frame90.jpg\n",
      "Frame guardado: SUJETO8_ENOJO_segmentado_frame120.jpg\n",
      "Frame guardado: SUJETO8_ENOJO_segmentado_frame150.jpg\n",
      "Frame guardado: SUJETO8_ENOJO_segmentado_frame180.jpg\n",
      "Frame guardado: SUJETO8_ENOJO_segmentado_frame210.jpg\n",
      "Frame guardado: SUJETO8_ENOJO_segmentado_frame240.jpg\n",
      "Frame guardado: SUJETO8_ENOJO_segmentado_frame270.jpg\n",
      "Frame guardado: SUJETO8_ENOJO_segmentado_frame300.jpg\n",
      "Frame guardado: SUJETO8_ENOJO_segmentado_frame330.jpg\n",
      "Frame guardado: SUJETO8_FELICIDAD_segmentado_frame0.jpg\n",
      "Frame guardado: SUJETO8_FELICIDAD_segmentado_frame30.jpg\n",
      "Frame guardado: SUJETO8_FELICIDAD_segmentado_frame60.jpg\n",
      "Frame guardado: SUJETO8_FELICIDAD_segmentado_frame90.jpg\n",
      "Frame guardado: SUJETO8_FELICIDAD_segmentado_frame120.jpg\n",
      "Frame guardado: SUJETO8_FELICIDAD_segmentado_frame150.jpg\n",
      "Frame guardado: SUJETO8_FELICIDAD_segmentado_frame180.jpg\n",
      "Frame guardado: SUJETO8_FELICIDAD_segmentado_frame210.jpg\n",
      "Frame guardado: SUJETO8_FELICIDAD_segmentado_frame240.jpg\n",
      "Frame guardado: SUJETO8_FELICIDAD_segmentado_frame270.jpg\n",
      "Frame guardado: SUJETO8_N1_segmentado_frame0.jpg\n",
      "Frame guardado: SUJETO8_N1_segmentado_frame30.jpg\n",
      "Frame guardado: SUJETO8_N1_segmentado_frame60.jpg\n",
      "Frame guardado: SUJETO8_N1_segmentado_frame90.jpg\n",
      "Frame guardado: SUJETO8_N1_segmentado_frame120.jpg\n",
      "Frame guardado: SUJETO8_N1_segmentado_frame150.jpg\n",
      "Frame guardado: SUJETO8_N1_segmentado_frame180.jpg\n",
      "Frame guardado: SUJETO8_N1_segmentado_frame210.jpg\n",
      "Frame guardado: SUJETO8_N1_segmentado_frame240.jpg\n",
      "Frame guardado: SUJETO8_N1_segmentado_frame270.jpg\n",
      "Frame guardado: SUJETO8_TRISTEZA_segmentado_frame0.jpg\n",
      "Frame guardado: SUJETO8_TRISTEZA_segmentado_frame30.jpg\n",
      "Frame guardado: SUJETO8_TRISTEZA_segmentado_frame60.jpg\n",
      "Frame guardado: SUJETO8_TRISTEZA_segmentado_frame90.jpg\n",
      "Frame guardado: SUJETO8_TRISTEZA_segmentado_frame120.jpg\n",
      "Frame guardado: SUJETO8_TRISTEZA_segmentado_frame150.jpg\n",
      "Frame guardado: SUJETO8_TRISTEZA_segmentado_frame180.jpg\n",
      "Frame guardado: SUJETO8_TRISTEZA_segmentado_frame210.jpg\n",
      "Frame guardado: SUJETO8_TRISTEZA_segmentado_frame240.jpg\n",
      "Frame guardado: SUJETO8_TRISTEZA_segmentado_frame270.jpg\n",
      "Frame guardado: SUJETO9_ENOJO_segmentado_frame0.jpg\n",
      "Frame guardado: SUJETO9_ENOJO_segmentado_frame30.jpg\n",
      "Frame guardado: SUJETO9_ENOJO_segmentado_frame60.jpg\n",
      "Frame guardado: SUJETO9_ENOJO_segmentado_frame90.jpg\n",
      "Frame guardado: SUJETO9_ENOJO_segmentado_frame120.jpg\n",
      "Frame guardado: SUJETO9_ENOJO_segmentado_frame150.jpg\n",
      "Frame guardado: SUJETO9_ENOJO_segmentado_frame180.jpg\n",
      "Frame guardado: SUJETO9_ENOJO_segmentado_frame210.jpg\n",
      "Frame guardado: SUJETO9_ENOJO_segmentado_frame240.jpg\n",
      "Frame guardado: SUJETO9_ENOJO_segmentado_frame270.jpg\n",
      "Frame guardado: SUJETO9_ENOJO_segmentado_frame300.jpg\n",
      "Frame guardado: SUJETO9_ENOJO_segmentado_frame330.jpg\n",
      "Frame guardado: SUJETO9_FELICIDAD_segmentado_frame0.jpg\n",
      "Frame guardado: SUJETO9_FELICIDAD_segmentado_frame30.jpg\n",
      "Frame guardado: SUJETO9_FELICIDAD_segmentado_frame60.jpg\n",
      "Frame guardado: SUJETO9_FELICIDAD_segmentado_frame90.jpg\n",
      "Frame guardado: SUJETO9_FELICIDAD_segmentado_frame120.jpg\n",
      "Frame guardado: SUJETO9_FELICIDAD_segmentado_frame150.jpg\n",
      "Frame guardado: SUJETO9_FELICIDAD_segmentado_frame180.jpg\n",
      "Frame guardado: SUJETO9_FELICIDAD_segmentado_frame210.jpg\n",
      "Frame guardado: SUJETO9_FELICIDAD_segmentado_frame240.jpg\n",
      "Frame guardado: SUJETO9_FELICIDAD_segmentado_frame270.jpg\n",
      "Frame guardado: SUJETO9_N1_segmentado_frame0.jpg\n",
      "Frame guardado: SUJETO9_N1_segmentado_frame30.jpg\n",
      "Frame guardado: SUJETO9_N1_segmentado_frame60.jpg\n",
      "Frame guardado: SUJETO9_N1_segmentado_frame90.jpg\n",
      "Frame guardado: SUJETO9_N1_segmentado_frame120.jpg\n",
      "Frame guardado: SUJETO9_N1_segmentado_frame150.jpg\n",
      "Frame guardado: SUJETO9_N1_segmentado_frame180.jpg\n",
      "Frame guardado: SUJETO9_N1_segmentado_frame210.jpg\n",
      "Frame guardado: SUJETO9_N1_segmentado_frame240.jpg\n",
      "Frame guardado: SUJETO9_N1_segmentado_frame270.jpg\n",
      "Frame guardado: SUJETO9_TRISTEZA_segmentado_frame0.jpg\n",
      "Frame guardado: SUJETO9_TRISTEZA_segmentado_frame30.jpg\n",
      "Frame guardado: SUJETO9_TRISTEZA_segmentado_frame60.jpg\n",
      "Frame guardado: SUJETO9_TRISTEZA_segmentado_frame90.jpg\n",
      "Frame guardado: SUJETO9_TRISTEZA_segmentado_frame120.jpg\n",
      "Frame guardado: SUJETO9_TRISTEZA_segmentado_frame150.jpg\n",
      "Frame guardado: SUJETO9_TRISTEZA_segmentado_frame180.jpg\n",
      "Frame guardado: SUJETO9_TRISTEZA_segmentado_frame210.jpg\n",
      "Frame guardado: SUJETO9_TRISTEZA_segmentado_frame240.jpg\n",
      "Frame guardado: SUJETO9_TRISTEZA_segmentado_frame270.jpg\n"
     ]
    }
   ],
   "source": [
    "import cv2\n",
    "import os\n",
    "\n",
    "# Ruta a la carpeta que contiene los videos\n",
    "videos_folder = './VideosSegmentados/'\n",
    "\n",
    "# Ruta a la carpeta donde se guardarán las imágenes\n",
    "images_folder = './Imagenes/'\n",
    "\n",
    "# Crea la carpeta para las imágenes si no existe\n",
    "if not os.path.exists(images_folder):\n",
    "    os.makedirs(images_folder)\n",
    "\n",
    "# Recorre todos los archivos en la carpeta de videos\n",
    "for video_file in os.listdir(videos_folder):\n",
    "    video_path = os.path.join(videos_folder, video_file)\n",
    "    \n",
    "    # Verifica si el archivo es un video abriéndolo con OpenCV\n",
    "    cap = cv2.VideoCapture(video_path)\n",
    "    if not cap.isOpened():\n",
    "        print(f\"No se pudo abrir el video {video_file}\")\n",
    "        continue\n",
    "\n",
    "    frame_count = 0\n",
    "    while cap.isOpened():\n",
    "        ret, frame = cap.read()\n",
    "        if not ret:\n",
    "            break\n",
    "\n",
    "        # Extrae un frame cada 30 frames\n",
    "        if frame_count % 30 == 0:\n",
    "            frame_filename = f\"{os.path.splitext(video_file)[0]}_frame{frame_count}.jpg\"\n",
    "            frame_path = os.path.join(images_folder, frame_filename)\n",
    "            cv2.imwrite(frame_path, frame)\n",
    "            print(f\"Frame guardado: {frame_filename}\")\n",
    "\n",
    "        frame_count += 1\n",
    "\n",
    "    # Libera el objeto cap y cierra todas las ventanas de OpenCV\n",
    "    cap.release()\n",
    "\n",
    "cv2.destroyAllWindows()\n"
   ]
  },
  {
   "cell_type": "markdown",
   "metadata": {},
   "source": [
    "Con la colección de imágenes derivadas de los fotogramas seleccionados anteriormente, se procedió a implementar la tecnología de FaceMesh sobre cada uno de los segmentos de vídeo. Esto implicó la detección y extracción de puntos clave faciales, abarcando la totalidad del rostro en cada imagen. Los datos obtenidos fueron registrados y almacenados en una estructura de datos tabular, es decir, un dataframe."
   ]
  },
  {
   "cell_type": "code",
   "execution_count": 30,
   "metadata": {},
   "outputs": [
    {
     "name": "stdout",
     "output_type": "stream",
     "text": [
      "                                    Image       K1X       K1Y       K2X  \\\n",
      "0    SUJETO10_ENOJO_segmentado_frame0.jpg  0.516717  0.862611  0.525122   \n",
      "1  SUJETO10_ENOJO_segmentado_frame120.jpg  0.522165  0.873315  0.534889   \n",
      "2  SUJETO10_ENOJO_segmentado_frame150.jpg  0.521257  0.869050  0.532735   \n",
      "3  SUJETO10_ENOJO_segmentado_frame180.jpg  0.519951  0.869113  0.532665   \n",
      "4  SUJETO10_ENOJO_segmentado_frame210.jpg  0.522861  0.869178  0.534696   \n",
      "\n",
      "        K2Y       K3X       K3Y       K4X       K4Y       K5X  ...     K474Y  \\\n",
      "0  0.781059  0.522194  0.800093  0.520307  0.707113  0.527029  ...  0.654642   \n",
      "1  0.798453  0.530828  0.816012  0.530545  0.722064  0.537171  ...  0.667019   \n",
      "2  0.793808  0.528710  0.811547  0.528189  0.717880  0.534973  ...  0.667484   \n",
      "3  0.793192  0.528782  0.810866  0.527933  0.718591  0.534852  ...  0.671306   \n",
      "4  0.794747  0.530758  0.812396  0.530206  0.719392  0.536961  ...  0.669738   \n",
      "\n",
      "      K475X     K475Y     K476X     K476Y     K477X     K477Y     K478X  \\\n",
      "0  0.597166  0.657380  0.587159  0.638631  0.575269  0.651748  0.585243   \n",
      "1  0.605121  0.669919  0.595619  0.650519  0.583513  0.663937  0.593000   \n",
      "2  0.604407  0.670765  0.594810  0.650166  0.582683  0.663929  0.592320   \n",
      "3  0.602347  0.674140  0.593610  0.656219  0.582534  0.668459  0.591239   \n",
      "4  0.605531  0.672815  0.596163  0.653849  0.584328  0.666554  0.593704   \n",
      "\n",
      "      K478Y  Label  \n",
      "0  0.670582  ENOJO  \n",
      "1  0.683557  ENOJO  \n",
      "2  0.684695  ENOJO  \n",
      "3  0.686257  ENOJO  \n",
      "4  0.685507  ENOJO  \n",
      "\n",
      "[5 rows x 958 columns]\n"
     ]
    }
   ],
   "source": [
    "mp_face_mesh = mp.solutions.face_mesh\n",
    "\n",
    "landmarks_data = []\n",
    "\n",
    "# Carpeta con las imagenes\n",
    "images_folder = './Imagenes/'\n",
    "\n",
    "# Inicializa FaceMesh con las opciones deseadas\n",
    "with mp_face_mesh.FaceMesh(\n",
    "        max_num_faces=1,\n",
    "        refine_landmarks=True,\n",
    "        min_detection_confidence=0.5,\n",
    "        min_tracking_confidence=0.5) as face_mesh:\n",
    "\n",
    "    # Lista todos los archivos en la carpeta de imágenes\n",
    "    image_files = [f for f in os.listdir(images_folder) if f.endswith('.jpg') or f.endswith('.png')]\n",
    "\n",
    "    # Procesa cada imagen que cumple con el criterio\n",
    "    for image_file in image_files:\n",
    "        image_path = os.path.join(images_folder, image_file)\n",
    "        image = cv2.imread(image_path)\n",
    "        \n",
    "        # Verifica si la imagen se cargó correctamente\n",
    "        if image is None:\n",
    "            print(f\"No se pudo cargar la imagen {image_file}\")\n",
    "            continue\n",
    "        \n",
    "        # Cambia la resolución de la imagen y la convierte a RGB\n",
    "        image_rgb = cv2.cvtColor(image, cv2.COLOR_BGR2RGB)\n",
    "        \n",
    "        # Procesa la imagen para obtener los landmarks\n",
    "        results = face_mesh.process(image_rgb)\n",
    "        \n",
    "        # Extrae landmarks faciales si están disponibles\n",
    "        if results.multi_face_landmarks:\n",
    "            # Cada imagen dará lugar a una sola fila con todos los landmarks\n",
    "            row = {'Image': image_file}\n",
    "            for landmark_id, landmark in enumerate(results.multi_face_landmarks[0].landmark):\n",
    "                # Añade las coordenadas x, y de cada landmark al diccionario de la fila\n",
    "                row[f'K{landmark_id + 1}X'] = landmark.x\n",
    "                row[f'K{landmark_id + 1}Y'] = landmark.y\n",
    "            \n",
    "            # Extrae el label del nombre del archivo\n",
    "            label = image_file.split('_')[1]  # Esto toma el elemento entre el primer y segundo '_'\n",
    "            if label == 'N1':  # Cambia 'N1' a 'NEUTRAL'\n",
    "                label = 'NEUTRAL'\n",
    "            row['Label'] = label\n",
    "            \n",
    "            landmarks_data.append(row)\n",
    "\n",
    "# Crea un DataFrame a partir de la lista de datos\n",
    "df_flat_landmarks = pd.DataFrame(landmarks_data)\n",
    "\n",
    "# Muestra los primeros registros del DataFrame\n",
    "print(df_flat_landmarks.head())\n",
    "\n",
    "# Opcional: Guarda el DataFrame a un archivo CSV\n",
    "# df_flat_landmarks.to_csv('flat_landmarks_images_with_label.csv', index=False)\n"
   ]
  },
  {
   "cell_type": "markdown",
   "metadata": {},
   "source": [
    "Se muestra el dataframe resultante del proceso de extracción y catalogación de los puntos clave faciales obtenidos mediante la aplicación de FaceMesh a las imágenes seleccionadas de los segmentos de vídeo."
   ]
  },
  {
   "cell_type": "code",
   "execution_count": 31,
   "metadata": {},
   "outputs": [
    {
     "data": {
      "text/html": [
       "<div>\n",
       "<style scoped>\n",
       "    .dataframe tbody tr th:only-of-type {\n",
       "        vertical-align: middle;\n",
       "    }\n",
       "\n",
       "    .dataframe tbody tr th {\n",
       "        vertical-align: top;\n",
       "    }\n",
       "\n",
       "    .dataframe thead th {\n",
       "        text-align: right;\n",
       "    }\n",
       "</style>\n",
       "<table border=\"1\" class=\"dataframe\">\n",
       "  <thead>\n",
       "    <tr style=\"text-align: right;\">\n",
       "      <th></th>\n",
       "      <th>Image</th>\n",
       "      <th>K1X</th>\n",
       "      <th>K1Y</th>\n",
       "      <th>K2X</th>\n",
       "      <th>K2Y</th>\n",
       "      <th>K3X</th>\n",
       "      <th>K3Y</th>\n",
       "      <th>K4X</th>\n",
       "      <th>K4Y</th>\n",
       "      <th>K5X</th>\n",
       "      <th>...</th>\n",
       "      <th>K474Y</th>\n",
       "      <th>K475X</th>\n",
       "      <th>K475Y</th>\n",
       "      <th>K476X</th>\n",
       "      <th>K476Y</th>\n",
       "      <th>K477X</th>\n",
       "      <th>K477Y</th>\n",
       "      <th>K478X</th>\n",
       "      <th>K478Y</th>\n",
       "      <th>Label</th>\n",
       "    </tr>\n",
       "  </thead>\n",
       "  <tbody>\n",
       "    <tr>\n",
       "      <th>0</th>\n",
       "      <td>SUJETO10_ENOJO_segmentado_frame0.jpg</td>\n",
       "      <td>0.516717</td>\n",
       "      <td>0.862611</td>\n",
       "      <td>0.525122</td>\n",
       "      <td>0.781059</td>\n",
       "      <td>0.522194</td>\n",
       "      <td>0.800093</td>\n",
       "      <td>0.520307</td>\n",
       "      <td>0.707113</td>\n",
       "      <td>0.527029</td>\n",
       "      <td>...</td>\n",
       "      <td>0.654642</td>\n",
       "      <td>0.597166</td>\n",
       "      <td>0.657380</td>\n",
       "      <td>0.587159</td>\n",
       "      <td>0.638631</td>\n",
       "      <td>0.575269</td>\n",
       "      <td>0.651748</td>\n",
       "      <td>0.585243</td>\n",
       "      <td>0.670582</td>\n",
       "      <td>ENOJO</td>\n",
       "    </tr>\n",
       "    <tr>\n",
       "      <th>1</th>\n",
       "      <td>SUJETO10_ENOJO_segmentado_frame120.jpg</td>\n",
       "      <td>0.522165</td>\n",
       "      <td>0.873315</td>\n",
       "      <td>0.534889</td>\n",
       "      <td>0.798453</td>\n",
       "      <td>0.530828</td>\n",
       "      <td>0.816012</td>\n",
       "      <td>0.530545</td>\n",
       "      <td>0.722064</td>\n",
       "      <td>0.537171</td>\n",
       "      <td>...</td>\n",
       "      <td>0.667019</td>\n",
       "      <td>0.605121</td>\n",
       "      <td>0.669919</td>\n",
       "      <td>0.595619</td>\n",
       "      <td>0.650519</td>\n",
       "      <td>0.583513</td>\n",
       "      <td>0.663937</td>\n",
       "      <td>0.593000</td>\n",
       "      <td>0.683557</td>\n",
       "      <td>ENOJO</td>\n",
       "    </tr>\n",
       "    <tr>\n",
       "      <th>2</th>\n",
       "      <td>SUJETO10_ENOJO_segmentado_frame150.jpg</td>\n",
       "      <td>0.521257</td>\n",
       "      <td>0.869050</td>\n",
       "      <td>0.532735</td>\n",
       "      <td>0.793808</td>\n",
       "      <td>0.528710</td>\n",
       "      <td>0.811547</td>\n",
       "      <td>0.528189</td>\n",
       "      <td>0.717880</td>\n",
       "      <td>0.534973</td>\n",
       "      <td>...</td>\n",
       "      <td>0.667484</td>\n",
       "      <td>0.604407</td>\n",
       "      <td>0.670765</td>\n",
       "      <td>0.594810</td>\n",
       "      <td>0.650166</td>\n",
       "      <td>0.582683</td>\n",
       "      <td>0.663929</td>\n",
       "      <td>0.592320</td>\n",
       "      <td>0.684695</td>\n",
       "      <td>ENOJO</td>\n",
       "    </tr>\n",
       "    <tr>\n",
       "      <th>3</th>\n",
       "      <td>SUJETO10_ENOJO_segmentado_frame180.jpg</td>\n",
       "      <td>0.519951</td>\n",
       "      <td>0.869113</td>\n",
       "      <td>0.532665</td>\n",
       "      <td>0.793192</td>\n",
       "      <td>0.528782</td>\n",
       "      <td>0.810866</td>\n",
       "      <td>0.527933</td>\n",
       "      <td>0.718591</td>\n",
       "      <td>0.534852</td>\n",
       "      <td>...</td>\n",
       "      <td>0.671306</td>\n",
       "      <td>0.602347</td>\n",
       "      <td>0.674140</td>\n",
       "      <td>0.593610</td>\n",
       "      <td>0.656219</td>\n",
       "      <td>0.582534</td>\n",
       "      <td>0.668459</td>\n",
       "      <td>0.591239</td>\n",
       "      <td>0.686257</td>\n",
       "      <td>ENOJO</td>\n",
       "    </tr>\n",
       "    <tr>\n",
       "      <th>4</th>\n",
       "      <td>SUJETO10_ENOJO_segmentado_frame210.jpg</td>\n",
       "      <td>0.522861</td>\n",
       "      <td>0.869178</td>\n",
       "      <td>0.534696</td>\n",
       "      <td>0.794747</td>\n",
       "      <td>0.530758</td>\n",
       "      <td>0.812396</td>\n",
       "      <td>0.530206</td>\n",
       "      <td>0.719392</td>\n",
       "      <td>0.536961</td>\n",
       "      <td>...</td>\n",
       "      <td>0.669738</td>\n",
       "      <td>0.605531</td>\n",
       "      <td>0.672815</td>\n",
       "      <td>0.596163</td>\n",
       "      <td>0.653849</td>\n",
       "      <td>0.584328</td>\n",
       "      <td>0.666554</td>\n",
       "      <td>0.593704</td>\n",
       "      <td>0.685507</td>\n",
       "      <td>ENOJO</td>\n",
       "    </tr>\n",
       "    <tr>\n",
       "      <th>...</th>\n",
       "      <td>...</td>\n",
       "      <td>...</td>\n",
       "      <td>...</td>\n",
       "      <td>...</td>\n",
       "      <td>...</td>\n",
       "      <td>...</td>\n",
       "      <td>...</td>\n",
       "      <td>...</td>\n",
       "      <td>...</td>\n",
       "      <td>...</td>\n",
       "      <td>...</td>\n",
       "      <td>...</td>\n",
       "      <td>...</td>\n",
       "      <td>...</td>\n",
       "      <td>...</td>\n",
       "      <td>...</td>\n",
       "      <td>...</td>\n",
       "      <td>...</td>\n",
       "      <td>...</td>\n",
       "      <td>...</td>\n",
       "      <td>...</td>\n",
       "    </tr>\n",
       "    <tr>\n",
       "      <th>468</th>\n",
       "      <td>SUJETO9_TRISTEZA_segmentado_frame90.jpg</td>\n",
       "      <td>0.466474</td>\n",
       "      <td>0.795463</td>\n",
       "      <td>0.471724</td>\n",
       "      <td>0.722081</td>\n",
       "      <td>0.469866</td>\n",
       "      <td>0.742865</td>\n",
       "      <td>0.465500</td>\n",
       "      <td>0.650051</td>\n",
       "      <td>0.473138</td>\n",
       "      <td>...</td>\n",
       "      <td>0.608497</td>\n",
       "      <td>0.550433</td>\n",
       "      <td>0.611247</td>\n",
       "      <td>0.540197</td>\n",
       "      <td>0.591266</td>\n",
       "      <td>0.527597</td>\n",
       "      <td>0.605644</td>\n",
       "      <td>0.537758</td>\n",
       "      <td>0.625812</td>\n",
       "      <td>TRISTEZA</td>\n",
       "    </tr>\n",
       "    <tr>\n",
       "      <th>469</th>\n",
       "      <td>SUJETOBASELINE_ENOJO_.jpg</td>\n",
       "      <td>0.560945</td>\n",
       "      <td>0.688971</td>\n",
       "      <td>0.530364</td>\n",
       "      <td>0.628595</td>\n",
       "      <td>0.533198</td>\n",
       "      <td>0.660879</td>\n",
       "      <td>0.518769</td>\n",
       "      <td>0.565666</td>\n",
       "      <td>0.530013</td>\n",
       "      <td>...</td>\n",
       "      <td>0.527220</td>\n",
       "      <td>0.632946</td>\n",
       "      <td>0.532235</td>\n",
       "      <td>0.623366</td>\n",
       "      <td>0.512396</td>\n",
       "      <td>0.607285</td>\n",
       "      <td>0.521528</td>\n",
       "      <td>0.617144</td>\n",
       "      <td>0.540823</td>\n",
       "      <td>ENOJO</td>\n",
       "    </tr>\n",
       "    <tr>\n",
       "      <th>470</th>\n",
       "      <td>SUJETOBASELINE_FELICIDAD_.jpg</td>\n",
       "      <td>0.540443</td>\n",
       "      <td>0.696647</td>\n",
       "      <td>0.544350</td>\n",
       "      <td>0.629946</td>\n",
       "      <td>0.542824</td>\n",
       "      <td>0.660056</td>\n",
       "      <td>0.534408</td>\n",
       "      <td>0.550628</td>\n",
       "      <td>0.545698</td>\n",
       "      <td>...</td>\n",
       "      <td>0.508232</td>\n",
       "      <td>0.653438</td>\n",
       "      <td>0.510210</td>\n",
       "      <td>0.637066</td>\n",
       "      <td>0.486759</td>\n",
       "      <td>0.619192</td>\n",
       "      <td>0.506253</td>\n",
       "      <td>0.635599</td>\n",
       "      <td>0.529625</td>\n",
       "      <td>FELICIDAD</td>\n",
       "    </tr>\n",
       "    <tr>\n",
       "      <th>471</th>\n",
       "      <td>SUJETOBASELINE_NEUTRAL_.jpg</td>\n",
       "      <td>0.523542</td>\n",
       "      <td>0.599596</td>\n",
       "      <td>0.524195</td>\n",
       "      <td>0.508241</td>\n",
       "      <td>0.523063</td>\n",
       "      <td>0.550286</td>\n",
       "      <td>0.514287</td>\n",
       "      <td>0.440016</td>\n",
       "      <td>0.525274</td>\n",
       "      <td>...</td>\n",
       "      <td>0.423212</td>\n",
       "      <td>0.636259</td>\n",
       "      <td>0.426738</td>\n",
       "      <td>0.621623</td>\n",
       "      <td>0.403182</td>\n",
       "      <td>0.603425</td>\n",
       "      <td>0.419761</td>\n",
       "      <td>0.617948</td>\n",
       "      <td>0.443265</td>\n",
       "      <td>NEUTRAL</td>\n",
       "    </tr>\n",
       "    <tr>\n",
       "      <th>472</th>\n",
       "      <td>SUJETOBASELINE_TRISTEZA_.jpg</td>\n",
       "      <td>0.547243</td>\n",
       "      <td>0.601252</td>\n",
       "      <td>0.546019</td>\n",
       "      <td>0.528283</td>\n",
       "      <td>0.544474</td>\n",
       "      <td>0.562468</td>\n",
       "      <td>0.535940</td>\n",
       "      <td>0.452828</td>\n",
       "      <td>0.547163</td>\n",
       "      <td>...</td>\n",
       "      <td>0.417058</td>\n",
       "      <td>0.648758</td>\n",
       "      <td>0.418803</td>\n",
       "      <td>0.634641</td>\n",
       "      <td>0.395796</td>\n",
       "      <td>0.618431</td>\n",
       "      <td>0.415219</td>\n",
       "      <td>0.632560</td>\n",
       "      <td>0.438043</td>\n",
       "      <td>TRISTEZA</td>\n",
       "    </tr>\n",
       "  </tbody>\n",
       "</table>\n",
       "<p>473 rows × 958 columns</p>\n",
       "</div>"
      ],
      "text/plain": [
       "                                       Image       K1X       K1Y       K2X  \\\n",
       "0       SUJETO10_ENOJO_segmentado_frame0.jpg  0.516717  0.862611  0.525122   \n",
       "1     SUJETO10_ENOJO_segmentado_frame120.jpg  0.522165  0.873315  0.534889   \n",
       "2     SUJETO10_ENOJO_segmentado_frame150.jpg  0.521257  0.869050  0.532735   \n",
       "3     SUJETO10_ENOJO_segmentado_frame180.jpg  0.519951  0.869113  0.532665   \n",
       "4     SUJETO10_ENOJO_segmentado_frame210.jpg  0.522861  0.869178  0.534696   \n",
       "..                                       ...       ...       ...       ...   \n",
       "468  SUJETO9_TRISTEZA_segmentado_frame90.jpg  0.466474  0.795463  0.471724   \n",
       "469                SUJETOBASELINE_ENOJO_.jpg  0.560945  0.688971  0.530364   \n",
       "470            SUJETOBASELINE_FELICIDAD_.jpg  0.540443  0.696647  0.544350   \n",
       "471              SUJETOBASELINE_NEUTRAL_.jpg  0.523542  0.599596  0.524195   \n",
       "472             SUJETOBASELINE_TRISTEZA_.jpg  0.547243  0.601252  0.546019   \n",
       "\n",
       "          K2Y       K3X       K3Y       K4X       K4Y       K5X  ...  \\\n",
       "0    0.781059  0.522194  0.800093  0.520307  0.707113  0.527029  ...   \n",
       "1    0.798453  0.530828  0.816012  0.530545  0.722064  0.537171  ...   \n",
       "2    0.793808  0.528710  0.811547  0.528189  0.717880  0.534973  ...   \n",
       "3    0.793192  0.528782  0.810866  0.527933  0.718591  0.534852  ...   \n",
       "4    0.794747  0.530758  0.812396  0.530206  0.719392  0.536961  ...   \n",
       "..        ...       ...       ...       ...       ...       ...  ...   \n",
       "468  0.722081  0.469866  0.742865  0.465500  0.650051  0.473138  ...   \n",
       "469  0.628595  0.533198  0.660879  0.518769  0.565666  0.530013  ...   \n",
       "470  0.629946  0.542824  0.660056  0.534408  0.550628  0.545698  ...   \n",
       "471  0.508241  0.523063  0.550286  0.514287  0.440016  0.525274  ...   \n",
       "472  0.528283  0.544474  0.562468  0.535940  0.452828  0.547163  ...   \n",
       "\n",
       "        K474Y     K475X     K475Y     K476X     K476Y     K477X     K477Y  \\\n",
       "0    0.654642  0.597166  0.657380  0.587159  0.638631  0.575269  0.651748   \n",
       "1    0.667019  0.605121  0.669919  0.595619  0.650519  0.583513  0.663937   \n",
       "2    0.667484  0.604407  0.670765  0.594810  0.650166  0.582683  0.663929   \n",
       "3    0.671306  0.602347  0.674140  0.593610  0.656219  0.582534  0.668459   \n",
       "4    0.669738  0.605531  0.672815  0.596163  0.653849  0.584328  0.666554   \n",
       "..        ...       ...       ...       ...       ...       ...       ...   \n",
       "468  0.608497  0.550433  0.611247  0.540197  0.591266  0.527597  0.605644   \n",
       "469  0.527220  0.632946  0.532235  0.623366  0.512396  0.607285  0.521528   \n",
       "470  0.508232  0.653438  0.510210  0.637066  0.486759  0.619192  0.506253   \n",
       "471  0.423212  0.636259  0.426738  0.621623  0.403182  0.603425  0.419761   \n",
       "472  0.417058  0.648758  0.418803  0.634641  0.395796  0.618431  0.415219   \n",
       "\n",
       "        K478X     K478Y      Label  \n",
       "0    0.585243  0.670582      ENOJO  \n",
       "1    0.593000  0.683557      ENOJO  \n",
       "2    0.592320  0.684695      ENOJO  \n",
       "3    0.591239  0.686257      ENOJO  \n",
       "4    0.593704  0.685507      ENOJO  \n",
       "..        ...       ...        ...  \n",
       "468  0.537758  0.625812   TRISTEZA  \n",
       "469  0.617144  0.540823      ENOJO  \n",
       "470  0.635599  0.529625  FELICIDAD  \n",
       "471  0.617948  0.443265    NEUTRAL  \n",
       "472  0.632560  0.438043   TRISTEZA  \n",
       "\n",
       "[473 rows x 958 columns]"
      ]
     },
     "execution_count": 31,
     "metadata": {},
     "output_type": "execute_result"
    }
   ],
   "source": [
    "df_flat_landmarks"
   ]
  },
  {
   "cell_type": "markdown",
   "metadata": {},
   "source": [
    "Para garantizar la eficacia y conservación segura de los datos obtenidos, se tomó la decisión de exportar el dataframe conformado por los puntos clave faciales a un archivo en formato CSV. "
   ]
  },
  {
   "cell_type": "code",
   "execution_count": 32,
   "metadata": {},
   "outputs": [],
   "source": [
    "# Guarda el DataFrame a un archivo CSV\n",
    "df_flat_landmarks.to_csv('flat_landmarks_images_with_label.csv', index=False)"
   ]
  },
  {
   "cell_type": "markdown",
   "metadata": {},
   "source": [
    "## Ganancia de Informacion"
   ]
  },
  {
   "cell_type": "markdown",
   "metadata": {},
   "source": [
    "Al tener una gran cantidad de caracteristicas optenida a traves de los puntos claves faciales, se vio como una buena opcion el utilizar la ganancia de informacion con tal de ver "
   ]
  },
  {
   "cell_type": "code",
   "execution_count": 2,
   "metadata": {},
   "outputs": [
    {
     "name": "stdout",
     "output_type": "stream",
     "text": [
      "                                    Image       K1X       K1Y       K2X  \\\n",
      "0    SUJETO10_ENOJO_segmentado_frame0.jpg  0.516717  0.862611  0.525122   \n",
      "1  SUJETO10_ENOJO_segmentado_frame120.jpg  0.522165  0.873315  0.534889   \n",
      "2  SUJETO10_ENOJO_segmentado_frame150.jpg  0.521257  0.869050  0.532735   \n",
      "3  SUJETO10_ENOJO_segmentado_frame180.jpg  0.519951  0.869113  0.532665   \n",
      "4  SUJETO10_ENOJO_segmentado_frame210.jpg  0.522861  0.869178  0.534696   \n",
      "\n",
      "        K2Y       K3X       K3Y       K4X       K4Y       K5X  ...     K474Y  \\\n",
      "0  0.781059  0.522194  0.800093  0.520307  0.707113  0.527029  ...  0.654642   \n",
      "1  0.798453  0.530828  0.816012  0.530545  0.722064  0.537171  ...  0.667019   \n",
      "2  0.793808  0.528710  0.811547  0.528189  0.717880  0.534973  ...  0.667484   \n",
      "3  0.793192  0.528782  0.810866  0.527933  0.718591  0.534852  ...  0.671306   \n",
      "4  0.794747  0.530758  0.812396  0.530206  0.719392  0.536961  ...  0.669738   \n",
      "\n",
      "      K475X     K475Y     K476X     K476Y     K477X     K477Y     K478X  \\\n",
      "0  0.597166  0.657380  0.587159  0.638631  0.575269  0.651748  0.585243   \n",
      "1  0.605121  0.669919  0.595619  0.650519  0.583513  0.663937  0.593000   \n",
      "2  0.604407  0.670765  0.594810  0.650166  0.582683  0.663929  0.592320   \n",
      "3  0.602347  0.674140  0.593610  0.656219  0.582534  0.668459  0.591239   \n",
      "4  0.605531  0.672815  0.596163  0.653849  0.584328  0.666554  0.593704   \n",
      "\n",
      "      K478Y  Label  \n",
      "0  0.670582  ENOJO  \n",
      "1  0.683557  ENOJO  \n",
      "2  0.684695  ENOJO  \n",
      "3  0.686257  ENOJO  \n",
      "4  0.685507  ENOJO  \n",
      "\n",
      "[5 rows x 958 columns]\n"
     ]
    }
   ],
   "source": [
    "csv_file_path = 'flat_landmarks_images_with_label.csv'\n",
    "df = pd.read_csv(csv_file_path)\n",
    "\n",
    "# Muestra las primeras 5 filas del DataFrame para verificar que se haya leído correctamente.\n",
    "print(df.head())"
   ]
  },
  {
   "cell_type": "code",
   "execution_count": 3,
   "metadata": {},
   "outputs": [],
   "source": [
    "X = df.iloc[:, 1:-1]\n",
    "Y = df.iloc[:, -1]"
   ]
  },
  {
   "cell_type": "code",
   "execution_count": 4,
   "metadata": {},
   "outputs": [
    {
     "data": {
      "image/png": "[encoded data removed]",
      "text/plain": [
       "<Figure size 1000x1500 with 1 Axes>"
      ]
     },
     "metadata": {},
     "output_type": "display_data"
    }
   ],
   "source": [
    "import matplotlib.pyplot as plt\n",
    "import pandas as pd\n",
    "from sklearn.feature_selection import mutual_info_classif\n",
    "\n",
    "# Suponiendo que X y Y ya están definidos y son tu conjunto de datos y etiquetas, respectivamente\n",
    "X_new = mutual_info_classif(X, Y)\n",
    "\n",
    "# Ajusta las etiquetas de las columnas para que coincidan con las dimensiones de X\n",
    "feat_imp = pd.Series(X_new, df.columns[1:len(df.columns)-1])\n",
    "\n",
    "# Ordena las características por importancia y grafica\n",
    "feat_imp_sorted = feat_imp.sort_values()\n",
    "\n",
    "# Graficar la importancia de las características\n",
    "plt.figure(figsize=(10, 15))  # Ajusta el tamaño según sea necesario\n",
    "feat_imp_sorted.plot(kind='barh')\n",
    "\n",
    "# Rotar las etiquetas\n",
    "plt.gca().tick_params(axis='y', labelrotation=0)  # Cambia a 45 o 90 si es necesario\n",
    "\n",
    "# Mejora la legibilidad del gráfico\n",
    "plt.xlabel('Importancia')\n",
    "plt.ylabel('Características')\n",
    "plt.title('Importancia de las Características')\n",
    "plt.tight_layout()  # Asegura que todo encaje sin superponerse\n",
    "\n",
    "plt.show()\n"
   ]
  },
  {
   "cell_type": "code",
   "execution_count": 5,
   "metadata": {},
   "outputs": [
    {
     "name": "stdout",
     "output_type": "stream",
     "text": [
      "Características seleccionadas con valor mayor a 0.45 : ['K1X', 'K2X', 'K3X', 'K4X', 'K5X', 'K6X', 'K7X', 'K8X', 'K9X', 'K10X', 'K11X', 'K12X', 'K13X', 'K14X', 'K15X', 'K17X', 'K18X', 'K19X', 'K20X', 'K21X', 'K22X', 'K23X', 'K24X', 'K25X', 'K26X', 'K27X', 'K28X', 'K29X', 'K30X', 'K31X', 'K32X', 'K33X', 'K34X', 'K35X', 'K36X', 'K37X', 'K38X', 'K39X', 'K40X', 'K41X', 'K42X', 'K43X', 'K44X', 'K45X', 'K46X', 'K47X', 'K48X', 'K49X', 'K50X', 'K51X', 'K52X', 'K53X', 'K54X', 'K55X', 'K56X', 'K57X', 'K58X', 'K58Y', 'K59X', 'K60X', 'K61X', 'K62X', 'K63X', 'K64X', 'K65X', 'K66X', 'K67X', 'K68X', 'K69X', 'K70X', 'K71X', 'K72X', 'K73X', 'K74X', 'K75X', 'K76X', 'K77X', 'K78X', 'K79X', 'K80X', 'K81X', 'K82X', 'K83X', 'K84X', 'K85X', 'K86X', 'K87X', 'K88X', 'K89X', 'K90X', 'K91X', 'K92X', 'K93X', 'K94X', 'K95X', 'K96X', 'K97X', 'K98X', 'K99X', 'K100X', 'K101X', 'K102X', 'K103X', 'K104X', 'K105X', 'K106X', 'K107X', 'K108X', 'K109X', 'K110X', 'K111X', 'K112X', 'K113X', 'K114X', 'K115X', 'K116X', 'K117X', 'K118X', 'K119X', 'K120X', 'K121X', 'K122X', 'K123X', 'K124X', 'K125X', 'K126X', 'K127X', 'K128X', 'K129X', 'K130X', 'K131X', 'K132X', 'K133X', 'K134X', 'K135X', 'K136X', 'K137X', 'K138X', 'K139X', 'K140X', 'K141X', 'K142X', 'K143X', 'K144X', 'K145X', 'K146X', 'K147X', 'K148X', 'K149X', 'K150X', 'K151X', 'K152X', 'K153X', 'K154X', 'K155X', 'K156X', 'K157X', 'K158X', 'K159X', 'K160X', 'K161X', 'K162X', 'K163X', 'K164X', 'K165X', 'K166X', 'K167X', 'K168X', 'K169X', 'K170X', 'K171X', 'K172X', 'K173X', 'K174X', 'K175X', 'K176X', 'K177X', 'K178X', 'K179X', 'K180X', 'K181X', 'K182X', 'K183X', 'K184X', 'K185X', 'K186X', 'K187X', 'K188X', 'K189X', 'K190X', 'K191X', 'K192X', 'K193X', 'K194X', 'K195X', 'K196X', 'K197X', 'K198X', 'K199X', 'K200X', 'K201X', 'K202X', 'K203X', 'K204X', 'K205X', 'K206X', 'K207X', 'K208X', 'K209X', 'K210X', 'K211X', 'K212X', 'K213X', 'K214X', 'K215X', 'K216X', 'K217X', 'K218X', 'K219X', 'K220X', 'K221X', 'K222X', 'K223X', 'K224X', 'K225X', 'K226X', 'K227X', 'K228X', 'K229X', 'K230X', 'K231X', 'K232X', 'K233X', 'K234X', 'K235X', 'K236X', 'K237X', 'K238X', 'K239X', 'K240X', 'K241X', 'K242X', 'K243X', 'K244X', 'K245X', 'K246X', 'K247X', 'K248X', 'K249X', 'K250X', 'K251X', 'K252X', 'K253X', 'K254X', 'K255X', 'K256X', 'K257X', 'K258X', 'K259X', 'K260X', 'K261X', 'K262X', 'K263X', 'K264X', 'K264Y', 'K265X', 'K266X', 'K267X', 'K268X', 'K269X', 'K270X', 'K271X', 'K272X', 'K273X', 'K274X', 'K275X', 'K276X', 'K277X', 'K278X', 'K279X', 'K280X', 'K281X', 'K282X', 'K283X', 'K284X', 'K285X', 'K286X', 'K287X', 'K288X', 'K289X', 'K290X', 'K291X', 'K292X', 'K293X', 'K294X', 'K295X', 'K296X', 'K297X', 'K298X', 'K299X', 'K300X', 'K301X', 'K302X', 'K303X', 'K304X', 'K305X', 'K306X', 'K307X', 'K308X', 'K309X', 'K310X', 'K311X', 'K312X', 'K313X', 'K314X', 'K315X', 'K316X', 'K317X', 'K319X', 'K320X', 'K321X', 'K322X', 'K323X', 'K324X', 'K325X', 'K326X', 'K327X', 'K328X', 'K329X', 'K330X', 'K331X', 'K332X', 'K333X', 'K334X', 'K335X', 'K336X', 'K337X', 'K338X', 'K339X', 'K340X', 'K341X', 'K342X', 'K343X', 'K344X', 'K345X', 'K346X', 'K347X', 'K348X', 'K349X', 'K350X', 'K351X', 'K352X', 'K353X', 'K354X', 'K355X', 'K356X', 'K357X', 'K358X', 'K359X', 'K360X', 'K361X', 'K362X', 'K363X', 'K364X', 'K365X', 'K366X', 'K367X', 'K368X', 'K369X', 'K370X', 'K371X', 'K372X', 'K373X', 'K374X', 'K375X', 'K376X', 'K377X', 'K378X', 'K379X', 'K380X', 'K381X', 'K382X', 'K383X', 'K384X', 'K385X', 'K386X', 'K389X', 'K390X', 'K391X', 'K392X', 'K393X', 'K394X', 'K395X', 'K396X', 'K397X', 'K398X', 'K399X', 'K400X', 'K401X', 'K402X', 'K403X', 'K404X', 'K405X', 'K406X', 'K407X', 'K408X', 'K409X', 'K410X', 'K411X', 'K412X', 'K413X', 'K414X', 'K415X', 'K416X', 'K417X', 'K418X', 'K419X', 'K420X', 'K421X', 'K422X', 'K423X', 'K424X', 'K425X', 'K426X', 'K427X', 'K428X', 'K429X', 'K430X', 'K431X', 'K432X', 'K433X', 'K434X', 'K435X', 'K436X', 'K437X', 'K438X', 'K439X', 'K440X', 'K441X', 'K442X', 'K443X', 'K444X', 'K445X', 'K446X', 'K447X', 'K448X', 'K449X', 'K450X', 'K451X', 'K452X', 'K453X', 'K454X', 'K455X', 'K456X', 'K457X', 'K458X', 'K459X', 'K460X', 'K461X', 'K462X', 'K463X', 'K464X', 'K465X', 'K466X', 'K467X', 'K468X', 'K469X', 'K470X', 'K471X', 'K472X', 'K473X', 'K474X', 'K475X', 'K476X', 'K477X', 'K478X']\n"
     ]
    },
    {
     "data": {
      "text/html": [
       "<div>\n",
       "<style scoped>\n",
       "    .dataframe tbody tr th:only-of-type {\n",
       "        vertical-align: middle;\n",
       "    }\n",
       "\n",
       "    .dataframe tbody tr th {\n",
       "        vertical-align: top;\n",
       "    }\n",
       "\n",
       "    .dataframe thead th {\n",
       "        text-align: right;\n",
       "    }\n",
       "</style>\n",
       "<table border=\"1\" class=\"dataframe\">\n",
       "  <thead>\n",
       "    <tr style=\"text-align: right;\">\n",
       "      <th></th>\n",
       "      <th>Image</th>\n",
       "      <th>K1X</th>\n",
       "      <th>K2X</th>\n",
       "      <th>K3X</th>\n",
       "      <th>K4X</th>\n",
       "      <th>K5X</th>\n",
       "      <th>K6X</th>\n",
       "      <th>K7X</th>\n",
       "      <th>K8X</th>\n",
       "      <th>K9X</th>\n",
       "      <th>...</th>\n",
       "      <th>K469X</th>\n",
       "      <th>K470X</th>\n",
       "      <th>K471X</th>\n",
       "      <th>K472X</th>\n",
       "      <th>K473X</th>\n",
       "      <th>K474X</th>\n",
       "      <th>K475X</th>\n",
       "      <th>K476X</th>\n",
       "      <th>K477X</th>\n",
       "      <th>K478X</th>\n",
       "    </tr>\n",
       "  </thead>\n",
       "  <tbody>\n",
       "    <tr>\n",
       "      <th>0</th>\n",
       "      <td>SUJETO10_ENOJO_segmentado_frame0.jpg</td>\n",
       "      <td>0.516717</td>\n",
       "      <td>0.525122</td>\n",
       "      <td>0.522194</td>\n",
       "      <td>0.520307</td>\n",
       "      <td>0.527029</td>\n",
       "      <td>0.528918</td>\n",
       "      <td>0.533020</td>\n",
       "      <td>0.452462</td>\n",
       "      <td>0.535847</td>\n",
       "      <td>...</td>\n",
       "      <td>0.470921</td>\n",
       "      <td>0.482739</td>\n",
       "      <td>0.472407</td>\n",
       "      <td>0.459043</td>\n",
       "      <td>0.469388</td>\n",
       "      <td>0.586153</td>\n",
       "      <td>0.597166</td>\n",
       "      <td>0.587159</td>\n",
       "      <td>0.575269</td>\n",
       "      <td>0.585243</td>\n",
       "    </tr>\n",
       "    <tr>\n",
       "      <th>1</th>\n",
       "      <td>SUJETO10_ENOJO_segmentado_frame120.jpg</td>\n",
       "      <td>0.522165</td>\n",
       "      <td>0.534889</td>\n",
       "      <td>0.530828</td>\n",
       "      <td>0.530545</td>\n",
       "      <td>0.537171</td>\n",
       "      <td>0.539290</td>\n",
       "      <td>0.543733</td>\n",
       "      <td>0.461720</td>\n",
       "      <td>0.547566</td>\n",
       "      <td>...</td>\n",
       "      <td>0.481572</td>\n",
       "      <td>0.493419</td>\n",
       "      <td>0.483559</td>\n",
       "      <td>0.469564</td>\n",
       "      <td>0.479480</td>\n",
       "      <td>0.594279</td>\n",
       "      <td>0.605121</td>\n",
       "      <td>0.595619</td>\n",
       "      <td>0.583513</td>\n",
       "      <td>0.593000</td>\n",
       "    </tr>\n",
       "    <tr>\n",
       "      <th>2</th>\n",
       "      <td>SUJETO10_ENOJO_segmentado_frame150.jpg</td>\n",
       "      <td>0.521257</td>\n",
       "      <td>0.532735</td>\n",
       "      <td>0.528710</td>\n",
       "      <td>0.528189</td>\n",
       "      <td>0.534973</td>\n",
       "      <td>0.536958</td>\n",
       "      <td>0.540957</td>\n",
       "      <td>0.460520</td>\n",
       "      <td>0.544457</td>\n",
       "      <td>...</td>\n",
       "      <td>0.479952</td>\n",
       "      <td>0.491748</td>\n",
       "      <td>0.481892</td>\n",
       "      <td>0.467997</td>\n",
       "      <td>0.477911</td>\n",
       "      <td>0.593558</td>\n",
       "      <td>0.604407</td>\n",
       "      <td>0.594810</td>\n",
       "      <td>0.582683</td>\n",
       "      <td>0.592320</td>\n",
       "    </tr>\n",
       "    <tr>\n",
       "      <th>3</th>\n",
       "      <td>SUJETO10_ENOJO_segmentado_frame180.jpg</td>\n",
       "      <td>0.519951</td>\n",
       "      <td>0.532665</td>\n",
       "      <td>0.528782</td>\n",
       "      <td>0.527933</td>\n",
       "      <td>0.534852</td>\n",
       "      <td>0.536787</td>\n",
       "      <td>0.540639</td>\n",
       "      <td>0.457588</td>\n",
       "      <td>0.544010</td>\n",
       "      <td>...</td>\n",
       "      <td>0.477036</td>\n",
       "      <td>0.488321</td>\n",
       "      <td>0.478554</td>\n",
       "      <td>0.465583</td>\n",
       "      <td>0.475401</td>\n",
       "      <td>0.592393</td>\n",
       "      <td>0.602347</td>\n",
       "      <td>0.593610</td>\n",
       "      <td>0.582534</td>\n",
       "      <td>0.591239</td>\n",
       "    </tr>\n",
       "    <tr>\n",
       "      <th>4</th>\n",
       "      <td>SUJETO10_ENOJO_segmentado_frame210.jpg</td>\n",
       "      <td>0.522861</td>\n",
       "      <td>0.534696</td>\n",
       "      <td>0.530758</td>\n",
       "      <td>0.530206</td>\n",
       "      <td>0.536961</td>\n",
       "      <td>0.538989</td>\n",
       "      <td>0.543086</td>\n",
       "      <td>0.461393</td>\n",
       "      <td>0.546634</td>\n",
       "      <td>...</td>\n",
       "      <td>0.479272</td>\n",
       "      <td>0.490770</td>\n",
       "      <td>0.480933</td>\n",
       "      <td>0.467618</td>\n",
       "      <td>0.477526</td>\n",
       "      <td>0.594907</td>\n",
       "      <td>0.605531</td>\n",
       "      <td>0.596163</td>\n",
       "      <td>0.584328</td>\n",
       "      <td>0.593704</td>\n",
       "    </tr>\n",
       "    <tr>\n",
       "      <th>...</th>\n",
       "      <td>...</td>\n",
       "      <td>...</td>\n",
       "      <td>...</td>\n",
       "      <td>...</td>\n",
       "      <td>...</td>\n",
       "      <td>...</td>\n",
       "      <td>...</td>\n",
       "      <td>...</td>\n",
       "      <td>...</td>\n",
       "      <td>...</td>\n",
       "      <td>...</td>\n",
       "      <td>...</td>\n",
       "      <td>...</td>\n",
       "      <td>...</td>\n",
       "      <td>...</td>\n",
       "      <td>...</td>\n",
       "      <td>...</td>\n",
       "      <td>...</td>\n",
       "      <td>...</td>\n",
       "      <td>...</td>\n",
       "      <td>...</td>\n",
       "    </tr>\n",
       "    <tr>\n",
       "      <th>468</th>\n",
       "      <td>SUJETO9_TRISTEZA_segmentado_frame90.jpg</td>\n",
       "      <td>0.466474</td>\n",
       "      <td>0.471724</td>\n",
       "      <td>0.469866</td>\n",
       "      <td>0.465500</td>\n",
       "      <td>0.473138</td>\n",
       "      <td>0.474607</td>\n",
       "      <td>0.477799</td>\n",
       "      <td>0.395992</td>\n",
       "      <td>0.480191</td>\n",
       "      <td>...</td>\n",
       "      <td>0.414909</td>\n",
       "      <td>0.427523</td>\n",
       "      <td>0.415741</td>\n",
       "      <td>0.402286</td>\n",
       "      <td>0.414082</td>\n",
       "      <td>0.539010</td>\n",
       "      <td>0.550433</td>\n",
       "      <td>0.540197</td>\n",
       "      <td>0.527597</td>\n",
       "      <td>0.537758</td>\n",
       "    </tr>\n",
       "    <tr>\n",
       "      <th>469</th>\n",
       "      <td>SUJETOBASELINE_ENOJO_.jpg</td>\n",
       "      <td>0.560945</td>\n",
       "      <td>0.530364</td>\n",
       "      <td>0.533198</td>\n",
       "      <td>0.518769</td>\n",
       "      <td>0.530013</td>\n",
       "      <td>0.530284</td>\n",
       "      <td>0.532248</td>\n",
       "      <td>0.443318</td>\n",
       "      <td>0.531075</td>\n",
       "      <td>...</td>\n",
       "      <td>0.486411</td>\n",
       "      <td>0.499561</td>\n",
       "      <td>0.485943</td>\n",
       "      <td>0.472768</td>\n",
       "      <td>0.486684</td>\n",
       "      <td>0.620430</td>\n",
       "      <td>0.632946</td>\n",
       "      <td>0.623366</td>\n",
       "      <td>0.607285</td>\n",
       "      <td>0.617144</td>\n",
       "    </tr>\n",
       "    <tr>\n",
       "      <th>470</th>\n",
       "      <td>SUJETOBASELINE_FELICIDAD_.jpg</td>\n",
       "      <td>0.540443</td>\n",
       "      <td>0.544350</td>\n",
       "      <td>0.542824</td>\n",
       "      <td>0.534408</td>\n",
       "      <td>0.545698</td>\n",
       "      <td>0.547400</td>\n",
       "      <td>0.551285</td>\n",
       "      <td>0.433408</td>\n",
       "      <td>0.554233</td>\n",
       "      <td>...</td>\n",
       "      <td>0.461956</td>\n",
       "      <td>0.477953</td>\n",
       "      <td>0.462953</td>\n",
       "      <td>0.445771</td>\n",
       "      <td>0.460922</td>\n",
       "      <td>0.636306</td>\n",
       "      <td>0.653438</td>\n",
       "      <td>0.637066</td>\n",
       "      <td>0.619192</td>\n",
       "      <td>0.635599</td>\n",
       "    </tr>\n",
       "    <tr>\n",
       "      <th>471</th>\n",
       "      <td>SUJETOBASELINE_NEUTRAL_.jpg</td>\n",
       "      <td>0.523542</td>\n",
       "      <td>0.524195</td>\n",
       "      <td>0.523063</td>\n",
       "      <td>0.514287</td>\n",
       "      <td>0.525274</td>\n",
       "      <td>0.526843</td>\n",
       "      <td>0.530797</td>\n",
       "      <td>0.413220</td>\n",
       "      <td>0.532972</td>\n",
       "      <td>...</td>\n",
       "      <td>0.443472</td>\n",
       "      <td>0.460032</td>\n",
       "      <td>0.443466</td>\n",
       "      <td>0.426757</td>\n",
       "      <td>0.443453</td>\n",
       "      <td>0.619772</td>\n",
       "      <td>0.636259</td>\n",
       "      <td>0.621623</td>\n",
       "      <td>0.603425</td>\n",
       "      <td>0.617948</td>\n",
       "    </tr>\n",
       "    <tr>\n",
       "      <th>472</th>\n",
       "      <td>SUJETOBASELINE_TRISTEZA_.jpg</td>\n",
       "      <td>0.547243</td>\n",
       "      <td>0.546019</td>\n",
       "      <td>0.544474</td>\n",
       "      <td>0.535940</td>\n",
       "      <td>0.547163</td>\n",
       "      <td>0.548488</td>\n",
       "      <td>0.551402</td>\n",
       "      <td>0.438765</td>\n",
       "      <td>0.553941</td>\n",
       "      <td>...</td>\n",
       "      <td>0.465995</td>\n",
       "      <td>0.481345</td>\n",
       "      <td>0.466576</td>\n",
       "      <td>0.450427</td>\n",
       "      <td>0.465370</td>\n",
       "      <td>0.633608</td>\n",
       "      <td>0.648758</td>\n",
       "      <td>0.634641</td>\n",
       "      <td>0.618431</td>\n",
       "      <td>0.632560</td>\n",
       "    </tr>\n",
       "  </tbody>\n",
       "</table>\n",
       "<p>473 rows × 477 columns</p>\n",
       "</div>"
      ],
      "text/plain": [
       "                                       Image       K1X       K2X       K3X  \\\n",
       "0       SUJETO10_ENOJO_segmentado_frame0.jpg  0.516717  0.525122  0.522194   \n",
       "1     SUJETO10_ENOJO_segmentado_frame120.jpg  0.522165  0.534889  0.530828   \n",
       "2     SUJETO10_ENOJO_segmentado_frame150.jpg  0.521257  0.532735  0.528710   \n",
       "3     SUJETO10_ENOJO_segmentado_frame180.jpg  0.519951  0.532665  0.528782   \n",
       "4     SUJETO10_ENOJO_segmentado_frame210.jpg  0.522861  0.534696  0.530758   \n",
       "..                                       ...       ...       ...       ...   \n",
       "468  SUJETO9_TRISTEZA_segmentado_frame90.jpg  0.466474  0.471724  0.469866   \n",
       "469                SUJETOBASELINE_ENOJO_.jpg  0.560945  0.530364  0.533198   \n",
       "470            SUJETOBASELINE_FELICIDAD_.jpg  0.540443  0.544350  0.542824   \n",
       "471              SUJETOBASELINE_NEUTRAL_.jpg  0.523542  0.524195  0.523063   \n",
       "472             SUJETOBASELINE_TRISTEZA_.jpg  0.547243  0.546019  0.544474   \n",
       "\n",
       "          K4X       K5X       K6X       K7X       K8X       K9X  ...  \\\n",
       "0    0.520307  0.527029  0.528918  0.533020  0.452462  0.535847  ...   \n",
       "1    0.530545  0.537171  0.539290  0.543733  0.461720  0.547566  ...   \n",
       "2    0.528189  0.534973  0.536958  0.540957  0.460520  0.544457  ...   \n",
       "3    0.527933  0.534852  0.536787  0.540639  0.457588  0.544010  ...   \n",
       "4    0.530206  0.536961  0.538989  0.543086  0.461393  0.546634  ...   \n",
       "..        ...       ...       ...       ...       ...       ...  ...   \n",
       "468  0.465500  0.473138  0.474607  0.477799  0.395992  0.480191  ...   \n",
       "469  0.518769  0.530013  0.530284  0.532248  0.443318  0.531075  ...   \n",
       "470  0.534408  0.545698  0.547400  0.551285  0.433408  0.554233  ...   \n",
       "471  0.514287  0.525274  0.526843  0.530797  0.413220  0.532972  ...   \n",
       "472  0.535940  0.547163  0.548488  0.551402  0.438765  0.553941  ...   \n",
       "\n",
       "        K469X     K470X     K471X     K472X     K473X     K474X     K475X  \\\n",
       "0    0.470921  0.482739  0.472407  0.459043  0.469388  0.586153  0.597166   \n",
       "1    0.481572  0.493419  0.483559  0.469564  0.479480  0.594279  0.605121   \n",
       "2    0.479952  0.491748  0.481892  0.467997  0.477911  0.593558  0.604407   \n",
       "3    0.477036  0.488321  0.478554  0.465583  0.475401  0.592393  0.602347   \n",
       "4    0.479272  0.490770  0.480933  0.467618  0.477526  0.594907  0.605531   \n",
       "..        ...       ...       ...       ...       ...       ...       ...   \n",
       "468  0.414909  0.427523  0.415741  0.402286  0.414082  0.539010  0.550433   \n",
       "469  0.486411  0.499561  0.485943  0.472768  0.486684  0.620430  0.632946   \n",
       "470  0.461956  0.477953  0.462953  0.445771  0.460922  0.636306  0.653438   \n",
       "471  0.443472  0.460032  0.443466  0.426757  0.443453  0.619772  0.636259   \n",
       "472  0.465995  0.481345  0.466576  0.450427  0.465370  0.633608  0.648758   \n",
       "\n",
       "        K476X     K477X     K478X  \n",
       "0    0.587159  0.575269  0.585243  \n",
       "1    0.595619  0.583513  0.593000  \n",
       "2    0.594810  0.582683  0.592320  \n",
       "3    0.593610  0.582534  0.591239  \n",
       "4    0.596163  0.584328  0.593704  \n",
       "..        ...       ...       ...  \n",
       "468  0.540197  0.527597  0.537758  \n",
       "469  0.623366  0.607285  0.617144  \n",
       "470  0.637066  0.619192  0.635599  \n",
       "471  0.621623  0.603425  0.617948  \n",
       "472  0.634641  0.618431  0.632560  \n",
       "\n",
       "[473 rows x 477 columns]"
      ]
     },
     "execution_count": 5,
     "metadata": {},
     "output_type": "execute_result"
    }
   ],
   "source": [
    "# Calcular el valor medio entre 0.2 y 0.3\n",
    "umbral = (0.4 + 0.5) / 2\n",
    "\n",
    "# Filtrar las características con valores mayores al umbral\n",
    "selected_features = df.columns[np.where(X_new > umbral)].tolist()\n",
    "\n",
    "# Mostrar las características seleccionadas\n",
    "print(\"Características seleccionadas con valor mayor a\", umbral, \":\", selected_features)\n",
    "features_df_info_gain = df[[\"Image\"] + selected_features]\n",
    "features_df_info_gain"
   ]
  },
  {
   "cell_type": "code",
   "execution_count": 6,
   "metadata": {},
   "outputs": [
    {
     "data": {
      "text/html": [
       "<div>\n",
       "<style scoped>\n",
       "    .dataframe tbody tr th:only-of-type {\n",
       "        vertical-align: middle;\n",
       "    }\n",
       "\n",
       "    .dataframe tbody tr th {\n",
       "        vertical-align: top;\n",
       "    }\n",
       "\n",
       "    .dataframe thead th {\n",
       "        text-align: right;\n",
       "    }\n",
       "</style>\n",
       "<table border=\"1\" class=\"dataframe\">\n",
       "  <thead>\n",
       "    <tr style=\"text-align: right;\">\n",
       "      <th></th>\n",
       "      <th>Image</th>\n",
       "      <th>K1X</th>\n",
       "      <th>K1Y</th>\n",
       "      <th>K2X</th>\n",
       "      <th>K2Y</th>\n",
       "      <th>K3X</th>\n",
       "      <th>K3Y</th>\n",
       "      <th>K4X</th>\n",
       "      <th>K4Y</th>\n",
       "      <th>K5X</th>\n",
       "      <th>...</th>\n",
       "      <th>K474Y</th>\n",
       "      <th>K475X</th>\n",
       "      <th>K475Y</th>\n",
       "      <th>K476X</th>\n",
       "      <th>K476Y</th>\n",
       "      <th>K477X</th>\n",
       "      <th>K477Y</th>\n",
       "      <th>K478X</th>\n",
       "      <th>K478Y</th>\n",
       "      <th>Label</th>\n",
       "    </tr>\n",
       "  </thead>\n",
       "  <tbody>\n",
       "    <tr>\n",
       "      <th>469</th>\n",
       "      <td>SUJETOBASELINE_ENOJO_.jpg</td>\n",
       "      <td>0.560945</td>\n",
       "      <td>0.688971</td>\n",
       "      <td>0.530364</td>\n",
       "      <td>0.628595</td>\n",
       "      <td>0.533198</td>\n",
       "      <td>0.660879</td>\n",
       "      <td>0.518769</td>\n",
       "      <td>0.565666</td>\n",
       "      <td>0.530013</td>\n",
       "      <td>...</td>\n",
       "      <td>0.527220</td>\n",
       "      <td>0.632946</td>\n",
       "      <td>0.532235</td>\n",
       "      <td>0.623366</td>\n",
       "      <td>0.512396</td>\n",
       "      <td>0.607285</td>\n",
       "      <td>0.521528</td>\n",
       "      <td>0.617144</td>\n",
       "      <td>0.540823</td>\n",
       "      <td>ENOJO</td>\n",
       "    </tr>\n",
       "    <tr>\n",
       "      <th>470</th>\n",
       "      <td>SUJETOBASELINE_FELICIDAD_.jpg</td>\n",
       "      <td>0.540443</td>\n",
       "      <td>0.696647</td>\n",
       "      <td>0.544350</td>\n",
       "      <td>0.629946</td>\n",
       "      <td>0.542824</td>\n",
       "      <td>0.660056</td>\n",
       "      <td>0.534408</td>\n",
       "      <td>0.550628</td>\n",
       "      <td>0.545698</td>\n",
       "      <td>...</td>\n",
       "      <td>0.508232</td>\n",
       "      <td>0.653438</td>\n",
       "      <td>0.510210</td>\n",
       "      <td>0.637066</td>\n",
       "      <td>0.486759</td>\n",
       "      <td>0.619192</td>\n",
       "      <td>0.506253</td>\n",
       "      <td>0.635599</td>\n",
       "      <td>0.529625</td>\n",
       "      <td>FELICIDAD</td>\n",
       "    </tr>\n",
       "    <tr>\n",
       "      <th>471</th>\n",
       "      <td>SUJETOBASELINE_NEUTRAL_.jpg</td>\n",
       "      <td>0.523542</td>\n",
       "      <td>0.599596</td>\n",
       "      <td>0.524195</td>\n",
       "      <td>0.508241</td>\n",
       "      <td>0.523063</td>\n",
       "      <td>0.550286</td>\n",
       "      <td>0.514287</td>\n",
       "      <td>0.440016</td>\n",
       "      <td>0.525274</td>\n",
       "      <td>...</td>\n",
       "      <td>0.423212</td>\n",
       "      <td>0.636259</td>\n",
       "      <td>0.426738</td>\n",
       "      <td>0.621623</td>\n",
       "      <td>0.403182</td>\n",
       "      <td>0.603425</td>\n",
       "      <td>0.419761</td>\n",
       "      <td>0.617948</td>\n",
       "      <td>0.443265</td>\n",
       "      <td>NEUTRAL</td>\n",
       "    </tr>\n",
       "    <tr>\n",
       "      <th>472</th>\n",
       "      <td>SUJETOBASELINE_TRISTEZA_.jpg</td>\n",
       "      <td>0.547243</td>\n",
       "      <td>0.601252</td>\n",
       "      <td>0.546019</td>\n",
       "      <td>0.528283</td>\n",
       "      <td>0.544474</td>\n",
       "      <td>0.562468</td>\n",
       "      <td>0.535940</td>\n",
       "      <td>0.452828</td>\n",
       "      <td>0.547163</td>\n",
       "      <td>...</td>\n",
       "      <td>0.417058</td>\n",
       "      <td>0.648758</td>\n",
       "      <td>0.418803</td>\n",
       "      <td>0.634641</td>\n",
       "      <td>0.395796</td>\n",
       "      <td>0.618431</td>\n",
       "      <td>0.415219</td>\n",
       "      <td>0.632560</td>\n",
       "      <td>0.438043</td>\n",
       "      <td>TRISTEZA</td>\n",
       "    </tr>\n",
       "  </tbody>\n",
       "</table>\n",
       "<p>4 rows × 958 columns</p>\n",
       "</div>"
      ],
      "text/plain": [
       "                             Image       K1X       K1Y       K2X       K2Y  \\\n",
       "469      SUJETOBASELINE_ENOJO_.jpg  0.560945  0.688971  0.530364  0.628595   \n",
       "470  SUJETOBASELINE_FELICIDAD_.jpg  0.540443  0.696647  0.544350  0.629946   \n",
       "471    SUJETOBASELINE_NEUTRAL_.jpg  0.523542  0.599596  0.524195  0.508241   \n",
       "472   SUJETOBASELINE_TRISTEZA_.jpg  0.547243  0.601252  0.546019  0.528283   \n",
       "\n",
       "          K3X       K3Y       K4X       K4Y       K5X  ...     K474Y  \\\n",
       "469  0.533198  0.660879  0.518769  0.565666  0.530013  ...  0.527220   \n",
       "470  0.542824  0.660056  0.534408  0.550628  0.545698  ...  0.508232   \n",
       "471  0.523063  0.550286  0.514287  0.440016  0.525274  ...  0.423212   \n",
       "472  0.544474  0.562468  0.535940  0.452828  0.547163  ...  0.417058   \n",
       "\n",
       "        K475X     K475Y     K476X     K476Y     K477X     K477Y     K478X  \\\n",
       "469  0.632946  0.532235  0.623366  0.512396  0.607285  0.521528  0.617144   \n",
       "470  0.653438  0.510210  0.637066  0.486759  0.619192  0.506253  0.635599   \n",
       "471  0.636259  0.426738  0.621623  0.403182  0.603425  0.419761  0.617948   \n",
       "472  0.648758  0.418803  0.634641  0.395796  0.618431  0.415219  0.632560   \n",
       "\n",
       "        K478Y      Label  \n",
       "469  0.540823      ENOJO  \n",
       "470  0.529625  FELICIDAD  \n",
       "471  0.443265    NEUTRAL  \n",
       "472  0.438043   TRISTEZA  \n",
       "\n",
       "[4 rows x 958 columns]"
      ]
     },
     "execution_count": 6,
     "metadata": {},
     "output_type": "execute_result"
    }
   ],
   "source": [
    "df.iloc[-4:]"
   ]
  },
  {
   "cell_type": "code",
   "execution_count": 5,
   "metadata": {},
   "outputs": [],
   "source": [
    "import cv2\n",
    "import pandas as pd\n",
    "\n",
    "# Asumimos que 'df' es tu DataFrame.\n",
    "# Cambia 'ruta/a/tu/dataframe.csv' por la ruta real de tu archivo CSV.\n",
    "df = pd.read_csv('./flat_landmarks_images_with_label.csv')\n",
    "# Define una función para dibujar keypoints.\n",
    "def draw_keypoints(image, row):\n",
    "    # Suponemos que tienes 468 pares de keypoints.\n",
    "    for i in range(1, 469):\n",
    "        # Los keypoints están en las columnas 'K{i}X' y 'K{i}Y'\n",
    "        x = int(row[f'K{i}X'] * image.shape[1])\n",
    "        y = int(row[f'K{i}Y'] * image.shape[0])\n",
    "        cv2.circle(image, (x, y), 8, (240, 255, 100), -1)\n",
    "    return image\n",
    "\n",
    "# Recorre cada fila en el DataFrame.\n",
    "for index, row in df.iterrows():\n",
    "    image_path = './Imagenes/' + row['Image']  # Asegúrate de que la ruta es correcta.\n",
    "    image = cv2.imread(image_path)\n",
    "    \n",
    "    # Verifica si la imagen fue cargada exitosamente.\n",
    "    if image is None:\n",
    "        print(f\"No se pudo cargar la imagen {row['Image']}\")\n",
    "        continue\n",
    "    \n",
    "    # Dibuja los keypoints en la imagen.\n",
    "    image_with_keypoints = draw_keypoints(image, row)\n",
    "    \n",
    "    image_720p = cv2.resize(image_with_keypoints, (640, 480))\n",
    "    # Muestra la imagen con los keypoints.\n",
    "    cv2.imshow('Image with Keypoints', image_720p)\n",
    "    cv2.waitKey(0)  # Espera a que se presione una tecla para continuar con la siguiente imagen.\n",
    "\n",
    "cv2.destroyAllWindows()\n"
   ]
  },
  {
   "cell_type": "markdown",
   "metadata": {},
   "source": [
    "## Modelos a Evaluar"
   ]
  },
  {
   "cell_type": "code",
   "execution_count": 7,
   "metadata": {},
   "outputs": [],
   "source": [
    "X= features_df_info_gain.iloc[:, 1:-1]"
   ]
  },
  {
   "cell_type": "code",
   "execution_count": 8,
   "metadata": {},
   "outputs": [
    {
     "data": {
      "text/html": [
       "<div>\n",
       "<style scoped>\n",
       "    .dataframe tbody tr th:only-of-type {\n",
       "        vertical-align: middle;\n",
       "    }\n",
       "\n",
       "    .dataframe tbody tr th {\n",
       "        vertical-align: top;\n",
       "    }\n",
       "\n",
       "    .dataframe thead th {\n",
       "        text-align: right;\n",
       "    }\n",
       "</style>\n",
       "<table border=\"1\" class=\"dataframe\">\n",
       "  <thead>\n",
       "    <tr style=\"text-align: right;\">\n",
       "      <th></th>\n",
       "      <th>K1X</th>\n",
       "      <th>K2X</th>\n",
       "      <th>K3X</th>\n",
       "      <th>K4X</th>\n",
       "      <th>K5X</th>\n",
       "      <th>K6X</th>\n",
       "      <th>K7X</th>\n",
       "      <th>K8X</th>\n",
       "      <th>K9X</th>\n",
       "      <th>K10X</th>\n",
       "      <th>...</th>\n",
       "      <th>K468X</th>\n",
       "      <th>K469X</th>\n",
       "      <th>K470X</th>\n",
       "      <th>K471X</th>\n",
       "      <th>K472X</th>\n",
       "      <th>K473X</th>\n",
       "      <th>K474X</th>\n",
       "      <th>K475X</th>\n",
       "      <th>K476X</th>\n",
       "      <th>K477X</th>\n",
       "    </tr>\n",
       "  </thead>\n",
       "  <tbody>\n",
       "    <tr>\n",
       "      <th>0</th>\n",
       "      <td>0.516717</td>\n",
       "      <td>0.525122</td>\n",
       "      <td>0.522194</td>\n",
       "      <td>0.520307</td>\n",
       "      <td>0.527029</td>\n",
       "      <td>0.528918</td>\n",
       "      <td>0.533020</td>\n",
       "      <td>0.452462</td>\n",
       "      <td>0.535847</td>\n",
       "      <td>0.538001</td>\n",
       "      <td>...</td>\n",
       "      <td>0.616480</td>\n",
       "      <td>0.470921</td>\n",
       "      <td>0.482739</td>\n",
       "      <td>0.472407</td>\n",
       "      <td>0.459043</td>\n",
       "      <td>0.469388</td>\n",
       "      <td>0.586153</td>\n",
       "      <td>0.597166</td>\n",
       "      <td>0.587159</td>\n",
       "      <td>0.575269</td>\n",
       "    </tr>\n",
       "    <tr>\n",
       "      <th>1</th>\n",
       "      <td>0.522165</td>\n",
       "      <td>0.534889</td>\n",
       "      <td>0.530828</td>\n",
       "      <td>0.530545</td>\n",
       "      <td>0.537171</td>\n",
       "      <td>0.539290</td>\n",
       "      <td>0.543733</td>\n",
       "      <td>0.461720</td>\n",
       "      <td>0.547566</td>\n",
       "      <td>0.550350</td>\n",
       "      <td>...</td>\n",
       "      <td>0.623925</td>\n",
       "      <td>0.481572</td>\n",
       "      <td>0.493419</td>\n",
       "      <td>0.483559</td>\n",
       "      <td>0.469564</td>\n",
       "      <td>0.479480</td>\n",
       "      <td>0.594279</td>\n",
       "      <td>0.605121</td>\n",
       "      <td>0.595619</td>\n",
       "      <td>0.583513</td>\n",
       "    </tr>\n",
       "    <tr>\n",
       "      <th>2</th>\n",
       "      <td>0.521257</td>\n",
       "      <td>0.532735</td>\n",
       "      <td>0.528710</td>\n",
       "      <td>0.528189</td>\n",
       "      <td>0.534973</td>\n",
       "      <td>0.536958</td>\n",
       "      <td>0.540957</td>\n",
       "      <td>0.460520</td>\n",
       "      <td>0.544457</td>\n",
       "      <td>0.547091</td>\n",
       "      <td>...</td>\n",
       "      <td>0.622753</td>\n",
       "      <td>0.479952</td>\n",
       "      <td>0.491748</td>\n",
       "      <td>0.481892</td>\n",
       "      <td>0.467997</td>\n",
       "      <td>0.477911</td>\n",
       "      <td>0.593558</td>\n",
       "      <td>0.604407</td>\n",
       "      <td>0.594810</td>\n",
       "      <td>0.582683</td>\n",
       "    </tr>\n",
       "    <tr>\n",
       "      <th>3</th>\n",
       "      <td>0.519951</td>\n",
       "      <td>0.532665</td>\n",
       "      <td>0.528782</td>\n",
       "      <td>0.527933</td>\n",
       "      <td>0.534852</td>\n",
       "      <td>0.536787</td>\n",
       "      <td>0.540639</td>\n",
       "      <td>0.457588</td>\n",
       "      <td>0.544010</td>\n",
       "      <td>0.546568</td>\n",
       "      <td>...</td>\n",
       "      <td>0.623212</td>\n",
       "      <td>0.477036</td>\n",
       "      <td>0.488321</td>\n",
       "      <td>0.478554</td>\n",
       "      <td>0.465583</td>\n",
       "      <td>0.475401</td>\n",
       "      <td>0.592393</td>\n",
       "      <td>0.602347</td>\n",
       "      <td>0.593610</td>\n",
       "      <td>0.582534</td>\n",
       "    </tr>\n",
       "    <tr>\n",
       "      <th>4</th>\n",
       "      <td>0.522861</td>\n",
       "      <td>0.534696</td>\n",
       "      <td>0.530758</td>\n",
       "      <td>0.530206</td>\n",
       "      <td>0.536961</td>\n",
       "      <td>0.538989</td>\n",
       "      <td>0.543086</td>\n",
       "      <td>0.461393</td>\n",
       "      <td>0.546634</td>\n",
       "      <td>0.549291</td>\n",
       "      <td>...</td>\n",
       "      <td>0.625705</td>\n",
       "      <td>0.479272</td>\n",
       "      <td>0.490770</td>\n",
       "      <td>0.480933</td>\n",
       "      <td>0.467618</td>\n",
       "      <td>0.477526</td>\n",
       "      <td>0.594907</td>\n",
       "      <td>0.605531</td>\n",
       "      <td>0.596163</td>\n",
       "      <td>0.584328</td>\n",
       "    </tr>\n",
       "    <tr>\n",
       "      <th>...</th>\n",
       "      <td>...</td>\n",
       "      <td>...</td>\n",
       "      <td>...</td>\n",
       "      <td>...</td>\n",
       "      <td>...</td>\n",
       "      <td>...</td>\n",
       "      <td>...</td>\n",
       "      <td>...</td>\n",
       "      <td>...</td>\n",
       "      <td>...</td>\n",
       "      <td>...</td>\n",
       "      <td>...</td>\n",
       "      <td>...</td>\n",
       "      <td>...</td>\n",
       "      <td>...</td>\n",
       "      <td>...</td>\n",
       "      <td>...</td>\n",
       "      <td>...</td>\n",
       "      <td>...</td>\n",
       "      <td>...</td>\n",
       "      <td>...</td>\n",
       "    </tr>\n",
       "    <tr>\n",
       "      <th>468</th>\n",
       "      <td>0.466474</td>\n",
       "      <td>0.471724</td>\n",
       "      <td>0.469866</td>\n",
       "      <td>0.465500</td>\n",
       "      <td>0.473138</td>\n",
       "      <td>0.474607</td>\n",
       "      <td>0.477799</td>\n",
       "      <td>0.395992</td>\n",
       "      <td>0.480191</td>\n",
       "      <td>0.481851</td>\n",
       "      <td>...</td>\n",
       "      <td>0.567979</td>\n",
       "      <td>0.414909</td>\n",
       "      <td>0.427523</td>\n",
       "      <td>0.415741</td>\n",
       "      <td>0.402286</td>\n",
       "      <td>0.414082</td>\n",
       "      <td>0.539010</td>\n",
       "      <td>0.550433</td>\n",
       "      <td>0.540197</td>\n",
       "      <td>0.527597</td>\n",
       "    </tr>\n",
       "    <tr>\n",
       "      <th>469</th>\n",
       "      <td>0.560945</td>\n",
       "      <td>0.530364</td>\n",
       "      <td>0.533198</td>\n",
       "      <td>0.518769</td>\n",
       "      <td>0.530013</td>\n",
       "      <td>0.530284</td>\n",
       "      <td>0.532248</td>\n",
       "      <td>0.443318</td>\n",
       "      <td>0.531075</td>\n",
       "      <td>0.530334</td>\n",
       "      <td>...</td>\n",
       "      <td>0.658201</td>\n",
       "      <td>0.486411</td>\n",
       "      <td>0.499561</td>\n",
       "      <td>0.485943</td>\n",
       "      <td>0.472768</td>\n",
       "      <td>0.486684</td>\n",
       "      <td>0.620430</td>\n",
       "      <td>0.632946</td>\n",
       "      <td>0.623366</td>\n",
       "      <td>0.607285</td>\n",
       "    </tr>\n",
       "    <tr>\n",
       "      <th>470</th>\n",
       "      <td>0.540443</td>\n",
       "      <td>0.544350</td>\n",
       "      <td>0.542824</td>\n",
       "      <td>0.534408</td>\n",
       "      <td>0.545698</td>\n",
       "      <td>0.547400</td>\n",
       "      <td>0.551285</td>\n",
       "      <td>0.433408</td>\n",
       "      <td>0.554233</td>\n",
       "      <td>0.555811</td>\n",
       "      <td>...</td>\n",
       "      <td>0.680692</td>\n",
       "      <td>0.461956</td>\n",
       "      <td>0.477953</td>\n",
       "      <td>0.462953</td>\n",
       "      <td>0.445771</td>\n",
       "      <td>0.460922</td>\n",
       "      <td>0.636306</td>\n",
       "      <td>0.653438</td>\n",
       "      <td>0.637066</td>\n",
       "      <td>0.619192</td>\n",
       "    </tr>\n",
       "    <tr>\n",
       "      <th>471</th>\n",
       "      <td>0.523542</td>\n",
       "      <td>0.524195</td>\n",
       "      <td>0.523063</td>\n",
       "      <td>0.514287</td>\n",
       "      <td>0.525274</td>\n",
       "      <td>0.526843</td>\n",
       "      <td>0.530797</td>\n",
       "      <td>0.413220</td>\n",
       "      <td>0.532972</td>\n",
       "      <td>0.534387</td>\n",
       "      <td>...</td>\n",
       "      <td>0.663647</td>\n",
       "      <td>0.443472</td>\n",
       "      <td>0.460032</td>\n",
       "      <td>0.443466</td>\n",
       "      <td>0.426757</td>\n",
       "      <td>0.443453</td>\n",
       "      <td>0.619772</td>\n",
       "      <td>0.636259</td>\n",
       "      <td>0.621623</td>\n",
       "      <td>0.603425</td>\n",
       "    </tr>\n",
       "    <tr>\n",
       "      <th>472</th>\n",
       "      <td>0.547243</td>\n",
       "      <td>0.546019</td>\n",
       "      <td>0.544474</td>\n",
       "      <td>0.535940</td>\n",
       "      <td>0.547163</td>\n",
       "      <td>0.548488</td>\n",
       "      <td>0.551402</td>\n",
       "      <td>0.438765</td>\n",
       "      <td>0.553941</td>\n",
       "      <td>0.555481</td>\n",
       "      <td>...</td>\n",
       "      <td>0.673907</td>\n",
       "      <td>0.465995</td>\n",
       "      <td>0.481345</td>\n",
       "      <td>0.466576</td>\n",
       "      <td>0.450427</td>\n",
       "      <td>0.465370</td>\n",
       "      <td>0.633608</td>\n",
       "      <td>0.648758</td>\n",
       "      <td>0.634641</td>\n",
       "      <td>0.618431</td>\n",
       "    </tr>\n",
       "  </tbody>\n",
       "</table>\n",
       "<p>473 rows × 475 columns</p>\n",
       "</div>"
      ],
      "text/plain": [
       "          K1X       K2X       K3X       K4X       K5X       K6X       K7X  \\\n",
       "0    0.516717  0.525122  0.522194  0.520307  0.527029  0.528918  0.533020   \n",
       "1    0.522165  0.534889  0.530828  0.530545  0.537171  0.539290  0.543733   \n",
       "2    0.521257  0.532735  0.528710  0.528189  0.534973  0.536958  0.540957   \n",
       "3    0.519951  0.532665  0.528782  0.527933  0.534852  0.536787  0.540639   \n",
       "4    0.522861  0.534696  0.530758  0.530206  0.536961  0.538989  0.543086   \n",
       "..        ...       ...       ...       ...       ...       ...       ...   \n",
       "468  0.466474  0.471724  0.469866  0.465500  0.473138  0.474607  0.477799   \n",
       "469  0.560945  0.530364  0.533198  0.518769  0.530013  0.530284  0.532248   \n",
       "470  0.540443  0.544350  0.542824  0.534408  0.545698  0.547400  0.551285   \n",
       "471  0.523542  0.524195  0.523063  0.514287  0.525274  0.526843  0.530797   \n",
       "472  0.547243  0.546019  0.544474  0.535940  0.547163  0.548488  0.551402   \n",
       "\n",
       "          K8X       K9X      K10X  ...     K468X     K469X     K470X  \\\n",
       "0    0.452462  0.535847  0.538001  ...  0.616480  0.470921  0.482739   \n",
       "1    0.461720  0.547566  0.550350  ...  0.623925  0.481572  0.493419   \n",
       "2    0.460520  0.544457  0.547091  ...  0.622753  0.479952  0.491748   \n",
       "3    0.457588  0.544010  0.546568  ...  0.623212  0.477036  0.488321   \n",
       "4    0.461393  0.546634  0.549291  ...  0.625705  0.479272  0.490770   \n",
       "..        ...       ...       ...  ...       ...       ...       ...   \n",
       "468  0.395992  0.480191  0.481851  ...  0.567979  0.414909  0.427523   \n",
       "469  0.443318  0.531075  0.530334  ...  0.658201  0.486411  0.499561   \n",
       "470  0.433408  0.554233  0.555811  ...  0.680692  0.461956  0.477953   \n",
       "471  0.413220  0.532972  0.534387  ...  0.663647  0.443472  0.460032   \n",
       "472  0.438765  0.553941  0.555481  ...  0.673907  0.465995  0.481345   \n",
       "\n",
       "        K471X     K472X     K473X     K474X     K475X     K476X     K477X  \n",
       "0    0.472407  0.459043  0.469388  0.586153  0.597166  0.587159  0.575269  \n",
       "1    0.483559  0.469564  0.479480  0.594279  0.605121  0.595619  0.583513  \n",
       "2    0.481892  0.467997  0.477911  0.593558  0.604407  0.594810  0.582683  \n",
       "3    0.478554  0.465583  0.475401  0.592393  0.602347  0.593610  0.582534  \n",
       "4    0.480933  0.467618  0.477526  0.594907  0.605531  0.596163  0.584328  \n",
       "..        ...       ...       ...       ...       ...       ...       ...  \n",
       "468  0.415741  0.402286  0.414082  0.539010  0.550433  0.540197  0.527597  \n",
       "469  0.485943  0.472768  0.486684  0.620430  0.632946  0.623366  0.607285  \n",
       "470  0.462953  0.445771  0.460922  0.636306  0.653438  0.637066  0.619192  \n",
       "471  0.443466  0.426757  0.443453  0.619772  0.636259  0.621623  0.603425  \n",
       "472  0.466576  0.450427  0.465370  0.633608  0.648758  0.634641  0.618431  \n",
       "\n",
       "[473 rows x 475 columns]"
      ]
     },
     "execution_count": 8,
     "metadata": {},
     "output_type": "execute_result"
    }
   ],
   "source": [
    "X"
   ]
  },
  {
   "cell_type": "code",
   "execution_count": 9,
   "metadata": {},
   "outputs": [
    {
     "data": {
      "text/plain": [
       "array([0, 0, 0, 0, 0, 0, 0, 0, 0, 0, 0, 1, 1, 1, 1, 1, 1, 1, 1, 1, 1, 2,\n",
       "       2, 2, 2, 2, 2, 2, 2, 2, 2, 3, 3, 3, 3, 3, 3, 3, 3, 3, 0, 0, 0, 0,\n",
       "       0, 0, 0, 0, 0, 0, 0, 1, 1, 1, 1, 1, 1, 1, 2, 2, 2, 2, 2, 2, 2, 2,\n",
       "       2, 2, 3, 3, 3, 3, 3, 3, 3, 3, 3, 3, 0, 0, 0, 0, 0, 0, 0, 0, 0, 0,\n",
       "       1, 1, 1, 1, 1, 1, 1, 1, 1, 1, 2, 2, 2, 2, 2, 2, 2, 2, 2, 2, 3, 3,\n",
       "       3, 3, 3, 3, 3, 3, 3, 3, 0, 0, 0, 0, 0, 0, 0, 0, 0, 0, 1, 1, 1, 1,\n",
       "       1, 1, 1, 2, 2, 2, 2, 2, 2, 2, 2, 2, 2, 3, 3, 3, 3, 3, 3, 3, 3, 3,\n",
       "       3, 0, 0, 0, 0, 0, 0, 0, 0, 0, 0, 1, 1, 1, 1, 1, 1, 1, 1, 1, 2, 2,\n",
       "       2, 2, 2, 2, 2, 2, 2, 2, 3, 3, 3, 3, 3, 3, 3, 3, 3, 3, 0, 0, 0, 0,\n",
       "       0, 0, 0, 0, 0, 0, 1, 1, 1, 1, 1, 1, 1, 1, 1, 2, 2, 2, 2, 2, 2, 2,\n",
       "       2, 2, 2, 3, 3, 3, 3, 3, 3, 3, 3, 3, 3, 0, 0, 0, 0, 0, 0, 0, 0, 0,\n",
       "       0, 1, 1, 1, 1, 1, 1, 1, 1, 1, 2, 2, 2, 2, 2, 2, 2, 2, 2, 2, 3, 3,\n",
       "       3, 3, 3, 3, 3, 3, 3, 3, 0, 0, 0, 0, 0, 0, 0, 0, 0, 0, 0, 1, 1, 1,\n",
       "       1, 1, 1, 1, 1, 1, 1, 2, 2, 2, 2, 2, 2, 2, 2, 2, 2, 3, 3, 3, 3, 3,\n",
       "       3, 3, 3, 3, 0, 0, 0, 0, 0, 0, 0, 0, 0, 0, 0, 0, 1, 1, 1, 1, 1, 1,\n",
       "       1, 1, 1, 1, 2, 2, 2, 2, 2, 2, 2, 2, 2, 2, 3, 3, 3, 3, 3, 0, 0, 0,\n",
       "       0, 0, 0, 0, 0, 0, 0, 0, 1, 1, 1, 1, 1, 2, 2, 2, 2, 2, 2, 2, 2, 2,\n",
       "       2, 3, 3, 3, 3, 3, 3, 3, 3, 3, 3, 0, 0, 0, 0, 0, 0, 0, 0, 0, 0, 0,\n",
       "       0, 1, 1, 1, 1, 1, 1, 1, 1, 1, 1, 2, 2, 2, 2, 2, 2, 2, 2, 2, 2, 3,\n",
       "       3, 3, 3, 3, 3, 3, 3, 3, 3, 0, 0, 0, 0, 0, 0, 0, 0, 0, 0, 0, 0, 1,\n",
       "       1, 1, 1, 1, 1, 1, 1, 1, 1, 2, 2, 2, 2, 2, 2, 2, 2, 2, 2, 3, 3, 3,\n",
       "       3, 3, 3, 3, 3, 3, 3, 0, 1, 2, 3])"
      ]
     },
     "execution_count": 9,
     "metadata": {},
     "output_type": "execute_result"
    }
   ],
   "source": [
    "encoder = LabelEncoder()\n",
    "y_encode = encoder.fit_transform(Y)\n",
    "y_encode"
   ]
  },
  {
   "cell_type": "code",
   "execution_count": 10,
   "metadata": {},
   "outputs": [],
   "source": [
    "names = [\n",
    "    \"Nearest Neighbors\",\n",
    "    \"Naive Bayes\",\n",
    "    \"AdaBoost\",\n",
    "    \"Gradient Boosting\",\n",
    "    \"Random Forest\"\n",
    "]\n",
    "modelos = [\n",
    "    KNeighborsClassifier(n_neighbors=6),\n",
    "    GaussianNB(),\n",
    "    AdaBoostClassifier(),\n",
    "    GradientBoostingClassifier(n_estimators=100, learning_rate=1.0, max_depth=1, random_state=42),\n",
    "    RandomForestClassifier(n_estimators=100, random_state=24)\n",
    "]"
   ]
  },
  {
   "cell_type": "code",
   "execution_count": 11,
   "metadata": {},
   "outputs": [],
   "source": [
    "def validacion_cruzada(model, X, y):\n",
    "    kfold = KFold(n_splits=5, shuffle=True, random_state=42)\n",
    "\n",
    "    precision_scores = []\n",
    "    recall_scores = []\n",
    "    f1_scores = []\n",
    "    accuracies = []\n",
    "\n",
    "    for train_index, test_index in kfold.split(X):\n",
    "        X_train, X_test = X.iloc[train_index], X.iloc[test_index]\n",
    "        y_train, y_test = y[train_index], y[test_index]\n",
    "\n",
    "        model.fit(X_train, y_train)\n",
    "\n",
    "        X_test_np = X_test.values\n",
    "        y_pred = model.predict(X_test_np)\n",
    "\n",
    "        precision = precision_score(y_test, y_pred, average='weighted')\n",
    "        precision_scores.append(precision)\n",
    "\n",
    "        recall = recall_score(y_test, y_pred, average='weighted')\n",
    "        recall_scores.append(recall)\n",
    "\n",
    "        f1 = f1_score(y_test, y_pred, average='weighted')\n",
    "        f1_scores.append(f1)\n",
    "\n",
    "        accuracy = model.score(X_test, y_test)\n",
    "        accuracies.append(accuracy)\n",
    "\n",
    "    return np.mean(precision_scores), np.mean(recall_scores), np.mean(f1_scores), np.mean(accuracies)\n",
    "\n",
    "resultados = []\n",
    "\n",
    "for nombre, modelo in zip(names, modelos):\n",
    "    precision, recall, f1, accuracy = validacion_cruzada(model=modelo, X=X, y=y_encode)\n",
    "    resultados.append({\"nombre\": nombre, \"precision\": precision, \"recall\": recall, \"f1_score\": f1, \"accuracy\": accuracy})\n",
    "\n",
    "df_resultados = pd.DataFrame(resultados)"
   ]
  },
  {
   "cell_type": "code",
   "execution_count": 12,
   "metadata": {},
   "outputs": [
    {
     "data": {
      "text/html": [
       "<div>\n",
       "<style scoped>\n",
       "    .dataframe tbody tr th:only-of-type {\n",
       "        vertical-align: middle;\n",
       "    }\n",
       "\n",
       "    .dataframe tbody tr th {\n",
       "        vertical-align: top;\n",
       "    }\n",
       "\n",
       "    .dataframe thead th {\n",
       "        text-align: right;\n",
       "    }\n",
       "</style>\n",
       "<table border=\"1\" class=\"dataframe\">\n",
       "  <thead>\n",
       "    <tr style=\"text-align: right;\">\n",
       "      <th></th>\n",
       "      <th>nombre</th>\n",
       "      <th>precision</th>\n",
       "      <th>recall</th>\n",
       "      <th>f1_score</th>\n",
       "      <th>accuracy</th>\n",
       "    </tr>\n",
       "  </thead>\n",
       "  <tbody>\n",
       "    <tr>\n",
       "      <th>0</th>\n",
       "      <td>Nearest Neighbors</td>\n",
       "      <td>0.783311</td>\n",
       "      <td>0.771534</td>\n",
       "      <td>0.770406</td>\n",
       "      <td>0.771534</td>\n",
       "    </tr>\n",
       "    <tr>\n",
       "      <th>1</th>\n",
       "      <td>Naive Bayes</td>\n",
       "      <td>0.177660</td>\n",
       "      <td>0.279104</td>\n",
       "      <td>0.202757</td>\n",
       "      <td>0.279104</td>\n",
       "    </tr>\n",
       "    <tr>\n",
       "      <th>2</th>\n",
       "      <td>AdaBoost</td>\n",
       "      <td>0.584909</td>\n",
       "      <td>0.568533</td>\n",
       "      <td>0.570070</td>\n",
       "      <td>0.568533</td>\n",
       "    </tr>\n",
       "    <tr>\n",
       "      <th>3</th>\n",
       "      <td>Gradient Boosting</td>\n",
       "      <td>0.844102</td>\n",
       "      <td>0.834961</td>\n",
       "      <td>0.835545</td>\n",
       "      <td>0.834961</td>\n",
       "    </tr>\n",
       "    <tr>\n",
       "      <th>4</th>\n",
       "      <td>Random Forest</td>\n",
       "      <td>0.843315</td>\n",
       "      <td>0.832990</td>\n",
       "      <td>0.833167</td>\n",
       "      <td>0.832990</td>\n",
       "    </tr>\n",
       "  </tbody>\n",
       "</table>\n",
       "</div>"
      ],
      "text/plain": [
       "              nombre  precision    recall  f1_score  accuracy\n",
       "0  Nearest Neighbors   0.783311  0.771534  0.770406  0.771534\n",
       "1        Naive Bayes   0.177660  0.279104  0.202757  0.279104\n",
       "2           AdaBoost   0.584909  0.568533  0.570070  0.568533\n",
       "3  Gradient Boosting   0.844102  0.834961  0.835545  0.834961\n",
       "4      Random Forest   0.843315  0.832990  0.833167  0.832990"
      ]
     },
     "execution_count": 12,
     "metadata": {},
     "output_type": "execute_result"
    }
   ],
   "source": [
    "df_resultados"
   ]
  },
  {
   "cell_type": "markdown",
   "metadata": {},
   "source": [
    "## Seleccionando el mejor modelo"
   ]
  },
  {
   "cell_type": "code",
   "execution_count": 13,
   "metadata": {},
   "outputs": [],
   "source": [
    "X_train, X_test, y_train, y_test = train_test_split(X, y_encode, test_size=0.2, random_state=42)\n",
    "model = GradientBoostingClassifier(n_estimators=100, learning_rate=1.0, max_depth=1, random_state=42)\n",
    "model.fit(X_train, y_train)"
   ]
  },
  {
   "cell_type": "code",
   "execution_count": 45,
   "metadata": {},
   "outputs": [
    {
     "data": {
      "image/png": "[encoded data removed]",
      "text/plain": [
       "<Figure size 800x600 with 1 Axes>"
      ]
     },
     "metadata": {},
     "output_type": "display_data"
    },
    {
     "name": "stdout",
     "output_type": "stream",
     "text": [
      "F1 Score: 0.728126796600534\n",
      "Sensibilidad (Recall): 0.7263157894736842\n",
      "Especificidad por clase: [0.8055555555555556, 0.8888888888888888, 0.9594594594594594, 0.9850746268656716]\n",
      "Exactitud: 0.7263157894736842\n"
     ]
    }
   ],
   "source": [
    "# Obtener predicciones del modelo\n",
    "y_pred = model.predict(X_test)\n",
    "\n",
    "# Calcular la matriz de confusión multiclase\n",
    "conf_matrix = confusion_matrix(y_test, y_pred)\n",
    "\n",
    "# Calcular métricas adicionales\n",
    "f1 = f1_score(y_test, y_pred, average='weighted')\n",
    "sensibilidad = recall_score(y_test, y_pred, average='weighted')\n",
    "exactitud = accuracy_score(y_test, y_pred)\n",
    "\n",
    "# Calcular especificidad para cada clase\n",
    "especificidad = []\n",
    "for i in range(len(conf_matrix)):\n",
    "    true_negative = np.sum(np.delete(np.delete(conf_matrix, i, 0), i, 1))\n",
    "    total_negative = np.sum(np.delete(conf_matrix, i, 0))\n",
    "    especificidad.append(true_negative / total_negative)\n",
    "\n",
    "# Visualizar la matriz de confusión con un mapa de calor\n",
    "plt.figure(figsize=(8, 6))\n",
    "sns.heatmap(conf_matrix, annot=True, cmap=\"Blues\", fmt=\"d\", cbar=False)\n",
    "\n",
    "# Resaltar los valores donde el modelo se confundió\n",
    "for i in range(len(conf_matrix)):\n",
    "    for j in range(len(conf_matrix)):\n",
    "        if i != j:\n",
    "            plt.text(j + 0.5, i + 0.5, conf_matrix[i, j], ha=\"center\", va=\"center\", color=\"red\")\n",
    "\n",
    "plt.xlabel('Predicted labels')\n",
    "plt.ylabel('True labels')\n",
    "plt.title('Confusion Matrix')\n",
    "plt.show()\n",
    "\n",
    "# Imprimir métricas\n",
    "print(\"F1 Score:\", f1)\n",
    "print(\"Sensibilidad (Recall):\", sensibilidad)\n",
    "print(\"Especificidad por clase:\", especificidad)\n",
    "print(\"Exactitud:\", exactitud)"
   ]
  },
  {
   "cell_type": "code",
   "execution_count": null,
   "metadata": {},
   "outputs": [],
   "source": [
    "import pandas as pd\n",
    "import matplotlib.pyplot as plt\n",
    "import seaborn as sns\n",
    "\n",
    "# Suponiendo que 'data' es tu lista de diccionarios con los datos reales\n",
    "df = pd.DataFrame(data)\n",
    "\n",
    "# Configuramos el estilo de seaborn para los gráficos\n",
    "sns.set(style=\"whitegrid\")\n",
    "\n",
    "# Creamos un 'boxplot' para ver la distribución de las calificaciones por emoción\n",
    "plt.figure(figsize=(14,7))\n",
    "sns.boxplot(x='Emoción', y='Calificación', data=df, palette=\"Set3\")\n",
    "\n",
    "# Adicionalmente, podemos superponer un 'swarmplot' para ver todas las calificaciones individuales\n",
    "sns.swarmplot(x='Emoción', y='Calificación', data=df, color=\".25\")\n",
    "\n",
    "# Establecemos el título y mostramos el gráfico\n",
    "plt.title('Distribución de Calificaciones por Emoción para 12 Sujetos de Prueba')\n",
    "plt.show()\n"
   ]
  },
  {
   "cell_type": "markdown",
   "metadata": {},
   "source": [
    "## Conclusiones"
   ]
  }
 ],
 "metadata": {
  "kernelspec": {
   "display_name": "Python 3",
   "language": "python",
   "name": "python3"
  },
  "language_info": {
   "codemirror_mode": {
    "name": "ipython",
    "version": 3
   },
   "file_extension": ".py",
   "mimetype": "text/x-python",
   "name": "python",
   "nbconvert_exporter": "python",
   "pygments_lexer": "ipython3",
   "version": "3.11.5"
  }
 },
 "nbformat": 4,
 "nbformat_minor": 2
}
