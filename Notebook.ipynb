{
 "cells": [
  {
   "cell_type": "markdown",
   "metadata": {},
   "source": [
    "## Medici&oacute;n y An&aacute;lisis de Reacciones Emocionales a Trav&eacute;s de Estimulos Visuales"
   ]
  },
  {
   "cell_type": "markdown",
   "metadata": {},
   "source": [
    "<style>\n",
    "    .imagen-ajustada {\n",
    "        width: 900px;\n",
    "        height: 280px;\n",
    "        border-radius: 20px;\n",
    "    }\n",
    "</style>\n",
    "\n",
    "<img src=\"Emociones.jpg\" alt=\"Una imagen\" class=\"imagen-ajustada\">"
   ]
  },
  {
   "cell_type": "markdown",
   "metadata": {},
   "source": [
    "Las emociones son algo muy b&aacute;sico en el ser humano, sin embargo muchas veces no es necesario expresar la emoci&oacute;n por medio de palabras, sino que con el rostro se puede denotar lo que estas sintiendo. Basandonos en este concepto el proyecto fue planificado para ver si por medio de estimulos visuales, en este caso videos, se pueden obtener reacciones emocionales de acuerdo a lo que se le muestre.\n",
    "\n",
    "Para el estudio se utilizaron 12 sujetos de prueba, en este caso fueron 8 hombres y 4 mujeres, con un rango de edad de 22 a 56 años con el fin de ver si generaba algun tipo de reaccion emocional por su parte."
   ]
  },
  {
   "cell_type": "markdown",
   "metadata": {},
   "source": [
    "El estudio consistia en mostrar 7 videos de 30 segundos conformados de la siguiente manera:\n",
    "- Un video de relajacion, con el fin de que el sujeto este en calma.\n",
    "- Un video donde una nina juega con su perro a que es veterinaria, con el fin de tratar de obtener una reaccion de felicidad o gracia. \n",
    "- Un video de relajacion, con el fin de que el sujeto vuelva a un estado neutral.\n",
    "- Un video donde un hombre golpea a su mujer con un bebe en brazos, con el fin de tratar de obtener una reaccion de enojo, impotencia y rabia.\n",
    "- Un video de relajacion, con el fin de que el sujeto vuelva a un estado neutral.\n",
    "- Un video donde una mujer esta abrazando a su perro mientras proceden a dormirlo, con el fin de obtener una reaccion de tristeza.\n",
    "- Finalmente, un video de relajacion con el fin de que el sujeto vuelva a un estado neutral.      "
   ]
  },
  {
   "cell_type": "markdown",
   "metadata": {},
   "source": [
    "El fin de comenzar y terminar con un video de relajacion es para ver si hay algun cambio entre el estado inicial y final, como nos indican en la materia de analisis y diseno de experimentos en ciencias de la computacion, tenemos que tener un pre y un post de en el estudio."
   ]
  },
  {
   "cell_type": "markdown",
   "metadata": {},
   "source": [
    "## Librerias Importadas"
   ]
  },
  {
   "cell_type": "code",
   "execution_count": 43,
   "metadata": {},
   "outputs": [],
   "source": [
    "import os\n",
    "import warnings\n",
    "import sys\n",
    "if not sys.warnoptions:\n",
    "    warnings.simplefilter(\"ignore\")\n",
    "warnings.filterwarnings(\"ignore\", category=DeprecationWarning)\n",
    "import mediapipe as mp\n",
    "import cv2\n",
    "import matplotlib.pyplot as plt\n",
    "from pydub import AudioSegment\n",
    "import subprocess\n",
    "from moviepy.editor import VideoFileClip\n",
    "import pandas as pd\n",
    "from sklearn.feature_selection import mutual_info_classif\n",
    "import numpy as np"
   ]
  },
  {
   "cell_type": "markdown",
   "metadata": {},
   "source": [
    "## Procesamiento de datos"
   ]
  },
  {
   "cell_type": "markdown",
   "metadata": {},
   "source": [
    "Para poder comenzar con el tratamiento de los datos fue importante separar los videos de los audios, por lo cual se uso un script para separarlos en distintas carpetas. Despues de eso se trato de cortar los audios a una misma cantidad de tiempo como en el siguiente codigo."
   ]
  },
  {
   "cell_type": "code",
   "execution_count": 21,
   "metadata": {},
   "outputs": [
    {
     "name": "stdout",
     "output_type": "stream",
     "text": [
      "Recorte completado.\n"
     ]
    }
   ],
   "source": [
    "# Ruta a la carpeta que contiene tus archivos de audio\n",
    "carpeta_audios = './Audios/'\n",
    "\n",
    "# Ruta a la carpeta donde deseas guardar los audios recortados\n",
    "carpeta_destino = './AudiosRecortados/'\n",
    "\n",
    "# Crear la carpeta de destino si no existe\n",
    "if not os.path.exists(carpeta_destino):\n",
    "    os.makedirs(carpeta_destino)\n",
    "\n",
    "# Iterar sobre cada archivo en la carpeta\n",
    "for archivo in os.listdir(carpeta_audios):\n",
    "    ruta_archivo = os.path.join(carpeta_audios, archivo)\n",
    "    \n",
    "    # Cargar el archivo de audio\n",
    "    audio = AudioSegment.from_file(ruta_archivo)\n",
    "    \n",
    "    # Descartar los primeros 30 segundos del audio\n",
    "    audio_recortado = audio[40000:]  # 30 segundos = 30,000 milisegundos\n",
    "    \n",
    "    # Guardar el audio recortado\n",
    "    ruta_destino = os.path.join(carpeta_destino, archivo)\n",
    "    audio_recortado.export(ruta_destino, format=\"wav\")  # Cambia \"wav\" si necesitas otro formato\n",
    "\n",
    "print(\"Recorte completado.\")"
   ]
  },
  {
   "cell_type": "markdown",
   "metadata": {},
   "source": [
    "Sin embargo, no se tomo en cuenta que no todos los audios duraban la misma cantidad de tiempo, asi como las personas hablaban mas o hablaban menos, por lo cual se opto por un script para cortar de forma personalizada cada audio y asi obtener de forma precisa los comentarios de los sujetos de prueba."
   ]
  },
  {
   "cell_type": "code",
   "execution_count": 30,
   "metadata": {},
   "outputs": [
    {
     "name": "stdout",
     "output_type": "stream",
     "text": [
      "Segmento recortado y guardado.\n"
     ]
    }
   ],
   "source": [
    "# Ruta al archivo de audio específico\n",
    "ruta_audio = './Audios/SUJETO6_TRISTEZA.wav'\n",
    "\n",
    "# Puntos de inicio y fin del segmento en milisegundos\n",
    "# Por ejemplo, para comenzar en el segundo 20 y terminar en el segundo 60\n",
    "inicio_ms = 30000  # Inicio a los 20 segundos\n",
    "duracion_ms = 17000  # Duración de 40 segundos desde el punto de inicio\n",
    "\n",
    "# Cargar el archivo de audio\n",
    "audio = AudioSegment.from_file(ruta_audio)\n",
    "\n",
    "# Recortar el segmento deseado\n",
    "segmento_audio = audio[inicio_ms:inicio_ms+duracion_ms]\n",
    "\n",
    "# Ruta para guardar el segmento recortado\n",
    "ruta_destino = './AudiosRecortados/SUJETO6_TRISTEZA_R.wav'\n",
    "\n",
    "# Guardar el segmento recortado\n",
    "segmento_audio.export(ruta_destino, format=\"wav\")\n",
    "\n",
    "print(\"Segmento recortado y guardado.\")\n"
   ]
  },
  {
   "cell_type": "markdown",
   "metadata": {},
   "source": [
    "Para el siguiente caso fue recortar los videos unicamente cuando se tiene la reaccion del sujeto con el video, por lo cual se utilizo un script para cortar los primeros segundos en base a la duracion del video."
   ]
  },
  {
   "cell_type": "code",
   "execution_count": 45,
   "metadata": {},
   "outputs": [
    {
     "name": "stdout",
     "output_type": "stream",
     "text": [
      "Moviepy - Building video ./VideosRecortados/SUJETO10_N4.MOV.\n",
      "MoviePy - Writing audio in SUJETO10_N4TEMP_MPY_wvf_snd.mp4\n"
     ]
    },
    {
     "name": "stderr",
     "output_type": "stream",
     "text": [
      "                                                                    \r"
     ]
    },
    {
     "name": "stdout",
     "output_type": "stream",
     "text": [
      "MoviePy - Done.\n",
      "Moviepy - Writing video ./VideosRecortados/SUJETO10_N4.MOV\n",
      "\n"
     ]
    },
    {
     "name": "stderr",
     "output_type": "stream",
     "text": [
      "                                                              \r"
     ]
    },
    {
     "name": "stdout",
     "output_type": "stream",
     "text": [
      "Moviepy - Done !\n",
      "Moviepy - video ready ./VideosRecortados/SUJETO10_N4.MOV\n",
      "Moviepy - Building video ./VideosRecortados/SUJETO11_N4.MOV.\n",
      "MoviePy - Writing audio in SUJETO11_N4TEMP_MPY_wvf_snd.mp4\n"
     ]
    },
    {
     "name": "stderr",
     "output_type": "stream",
     "text": [
      "                                                                    \r"
     ]
    },
    {
     "name": "stdout",
     "output_type": "stream",
     "text": [
      "MoviePy - Done.\n",
      "Moviepy - Writing video ./VideosRecortados/SUJETO11_N4.MOV\n",
      "\n"
     ]
    },
    {
     "name": "stderr",
     "output_type": "stream",
     "text": [
      "                                                              \r"
     ]
    },
    {
     "name": "stdout",
     "output_type": "stream",
     "text": [
      "Moviepy - Done !\n",
      "Moviepy - video ready ./VideosRecortados/SUJETO11_N4.MOV\n",
      "Moviepy - Building video ./VideosRecortados/SUJETO12_N4.MOV.\n",
      "MoviePy - Writing audio in SUJETO12_N4TEMP_MPY_wvf_snd.mp4\n"
     ]
    },
    {
     "name": "stderr",
     "output_type": "stream",
     "text": [
      "                                                                    \r"
     ]
    },
    {
     "name": "stdout",
     "output_type": "stream",
     "text": [
      "MoviePy - Done.\n",
      "Moviepy - Writing video ./VideosRecortados/SUJETO12_N4.MOV\n",
      "\n"
     ]
    },
    {
     "name": "stderr",
     "output_type": "stream",
     "text": [
      "                                                              \r"
     ]
    },
    {
     "name": "stdout",
     "output_type": "stream",
     "text": [
      "Moviepy - Done !\n",
      "Moviepy - video ready ./VideosRecortados/SUJETO12_N4.MOV\n",
      "Moviepy - Building video ./VideosRecortados/SUJETO1_N4.MOV.\n",
      "MoviePy - Writing audio in SUJETO1_N4TEMP_MPY_wvf_snd.mp4\n"
     ]
    },
    {
     "name": "stderr",
     "output_type": "stream",
     "text": [
      "                                                                    \r"
     ]
    },
    {
     "name": "stdout",
     "output_type": "stream",
     "text": [
      "MoviePy - Done.\n",
      "Moviepy - Writing video ./VideosRecortados/SUJETO1_N4.MOV\n",
      "\n"
     ]
    },
    {
     "name": "stderr",
     "output_type": "stream",
     "text": [
      "                                                              \r"
     ]
    },
    {
     "name": "stdout",
     "output_type": "stream",
     "text": [
      "Moviepy - Done !\n",
      "Moviepy - video ready ./VideosRecortados/SUJETO1_N4.MOV\n",
      "Moviepy - Building video ./VideosRecortados/SUJETO2_N4.MOV.\n",
      "MoviePy - Writing audio in SUJETO2_N4TEMP_MPY_wvf_snd.mp4\n"
     ]
    },
    {
     "name": "stderr",
     "output_type": "stream",
     "text": [
      "                                                                    \r"
     ]
    },
    {
     "name": "stdout",
     "output_type": "stream",
     "text": [
      "MoviePy - Done.\n",
      "Moviepy - Writing video ./VideosRecortados/SUJETO2_N4.MOV\n",
      "\n"
     ]
    },
    {
     "name": "stderr",
     "output_type": "stream",
     "text": [
      "                                                              \r"
     ]
    },
    {
     "name": "stdout",
     "output_type": "stream",
     "text": [
      "Moviepy - Done !\n",
      "Moviepy - video ready ./VideosRecortados/SUJETO2_N4.MOV\n",
      "Moviepy - Building video ./VideosRecortados/SUJETO3_N4.MOV.\n",
      "MoviePy - Writing audio in SUJETO3_N4TEMP_MPY_wvf_snd.mp4\n"
     ]
    },
    {
     "name": "stderr",
     "output_type": "stream",
     "text": [
      "                                                                    \r"
     ]
    },
    {
     "name": "stdout",
     "output_type": "stream",
     "text": [
      "MoviePy - Done.\n",
      "Moviepy - Writing video ./VideosRecortados/SUJETO3_N4.MOV\n",
      "\n"
     ]
    },
    {
     "name": "stderr",
     "output_type": "stream",
     "text": [
      "                                                              \r"
     ]
    },
    {
     "name": "stdout",
     "output_type": "stream",
     "text": [
      "Moviepy - Done !\n",
      "Moviepy - video ready ./VideosRecortados/SUJETO3_N4.MOV\n",
      "Moviepy - Building video ./VideosRecortados/SUJETO4_N4.MOV.\n",
      "MoviePy - Writing audio in SUJETO4_N4TEMP_MPY_wvf_snd.mp4\n"
     ]
    },
    {
     "name": "stderr",
     "output_type": "stream",
     "text": [
      "                                                                    \r"
     ]
    },
    {
     "name": "stdout",
     "output_type": "stream",
     "text": [
      "MoviePy - Done.\n",
      "Moviepy - Writing video ./VideosRecortados/SUJETO4_N4.MOV\n",
      "\n"
     ]
    },
    {
     "name": "stderr",
     "output_type": "stream",
     "text": [
      "                                                              \r"
     ]
    },
    {
     "name": "stdout",
     "output_type": "stream",
     "text": [
      "Moviepy - Done !\n",
      "Moviepy - video ready ./VideosRecortados/SUJETO4_N4.MOV\n",
      "Moviepy - Building video ./VideosRecortados/SUJETO5_N4.MOV.\n",
      "MoviePy - Writing audio in SUJETO5_N4TEMP_MPY_wvf_snd.mp4\n"
     ]
    },
    {
     "name": "stderr",
     "output_type": "stream",
     "text": [
      "                                                                    \r"
     ]
    },
    {
     "name": "stdout",
     "output_type": "stream",
     "text": [
      "MoviePy - Done.\n",
      "Moviepy - Writing video ./VideosRecortados/SUJETO5_N4.MOV\n",
      "\n"
     ]
    },
    {
     "name": "stderr",
     "output_type": "stream",
     "text": [
      "                                                              \r"
     ]
    },
    {
     "name": "stdout",
     "output_type": "stream",
     "text": [
      "Moviepy - Done !\n",
      "Moviepy - video ready ./VideosRecortados/SUJETO5_N4.MOV\n",
      "Moviepy - Building video ./VideosRecortados/SUJETO6_N4.MOV.\n",
      "MoviePy - Writing audio in SUJETO6_N4TEMP_MPY_wvf_snd.mp4\n"
     ]
    },
    {
     "name": "stderr",
     "output_type": "stream",
     "text": [
      "                                                                    \r"
     ]
    },
    {
     "name": "stdout",
     "output_type": "stream",
     "text": [
      "MoviePy - Done.\n",
      "Moviepy - Writing video ./VideosRecortados/SUJETO6_N4.MOV\n",
      "\n"
     ]
    },
    {
     "name": "stderr",
     "output_type": "stream",
     "text": [
      "                                                              \r"
     ]
    },
    {
     "name": "stdout",
     "output_type": "stream",
     "text": [
      "Moviepy - Done !\n",
      "Moviepy - video ready ./VideosRecortados/SUJETO6_N4.MOV\n",
      "Moviepy - Building video ./VideosRecortados/SUJETO7_N4.MOV.\n",
      "MoviePy - Writing audio in SUJETO7_N4TEMP_MPY_wvf_snd.mp4\n"
     ]
    },
    {
     "name": "stderr",
     "output_type": "stream",
     "text": [
      "                                                                    \r"
     ]
    },
    {
     "name": "stdout",
     "output_type": "stream",
     "text": [
      "MoviePy - Done.\n",
      "Moviepy - Writing video ./VideosRecortados/SUJETO7_N4.MOV\n",
      "\n"
     ]
    },
    {
     "name": "stderr",
     "output_type": "stream",
     "text": [
      "                                                              \r"
     ]
    },
    {
     "name": "stdout",
     "output_type": "stream",
     "text": [
      "Moviepy - Done !\n",
      "Moviepy - video ready ./VideosRecortados/SUJETO7_N4.MOV\n",
      "Moviepy - Building video ./VideosRecortados/SUJETO8_N4.MOV.\n",
      "MoviePy - Writing audio in SUJETO8_N4TEMP_MPY_wvf_snd.mp4\n"
     ]
    },
    {
     "name": "stderr",
     "output_type": "stream",
     "text": [
      "                                                                   \r"
     ]
    },
    {
     "name": "stdout",
     "output_type": "stream",
     "text": [
      "MoviePy - Done.\n",
      "Moviepy - Writing video ./VideosRecortados/SUJETO8_N4.MOV\n",
      "\n"
     ]
    },
    {
     "name": "stderr",
     "output_type": "stream",
     "text": [
      "                                                              \r"
     ]
    },
    {
     "name": "stdout",
     "output_type": "stream",
     "text": [
      "Moviepy - Done !\n",
      "Moviepy - video ready ./VideosRecortados/SUJETO8_N4.MOV\n",
      "Moviepy - Building video ./VideosRecortados/SUJETO9_N4.MOV.\n",
      "MoviePy - Writing audio in SUJETO9_N4TEMP_MPY_wvf_snd.mp4\n"
     ]
    },
    {
     "name": "stderr",
     "output_type": "stream",
     "text": [
      "                                                                    \r"
     ]
    },
    {
     "name": "stdout",
     "output_type": "stream",
     "text": [
      "MoviePy - Done.\n",
      "Moviepy - Writing video ./VideosRecortados/SUJETO9_N4.MOV\n",
      "\n"
     ]
    },
    {
     "name": "stderr",
     "output_type": "stream",
     "text": [
      "                                                              \r"
     ]
    },
    {
     "name": "stdout",
     "output_type": "stream",
     "text": [
      "Moviepy - Done !\n",
      "Moviepy - video ready ./VideosRecortados/SUJETO9_N4.MOV\n",
      "Todos los videos han sido recortados y guardados.\n"
     ]
    }
   ],
   "source": [
    "# Define la ruta de la carpeta que contiene los videos originales\n",
    "carpeta_videos = './Videos/'\n",
    "\n",
    "# Define la ruta de la carpeta donde guardarás los videos recortados\n",
    "carpeta_destino = './VideosRecortados/'\n",
    "\n",
    "# Crea la carpeta de destino si no existe\n",
    "if not os.path.exists(carpeta_destino):\n",
    "    os.makedirs(carpeta_destino)\n",
    "\n",
    "# Itera sobre cada archivo en la carpeta de videos\n",
    "for archivo in os.listdir(carpeta_videos):\n",
    "    # Verifica si el archivo termina en '_N1.MOV'\n",
    "    if archivo.endswith('_N4.MOV'):\n",
    "        ruta_completa = os.path.join(carpeta_videos, archivo)\n",
    "        \n",
    "        # Carga el video\n",
    "        video = VideoFileClip(ruta_completa)\n",
    "        \n",
    "        # Recorta el video desde el segundo 0 hasta el segundo 31\n",
    "        video_recortado = video.subclip(0, 33)\n",
    "        \n",
    "        # Define la ruta del archivo de destino\n",
    "        ruta_destino = os.path.join(carpeta_destino, archivo)\n",
    "        \n",
    "        # Guarda el video recortado en la carpeta de destino\n",
    "        video_recortado.write_videofile(ruta_destino, codec=\"libx264\", audio_codec=\"aac\")\n",
    "\n",
    "        # Cierra el clip para liberar recursos\n",
    "        video.close()\n",
    "        video_recortado.close()\n",
    "\n",
    "print(\"Todos los videos han sido recortados y guardados.\")\n"
   ]
  },
  {
   "cell_type": "markdown",
   "metadata": {},
   "source": [
    "En el caso del participante 9 el internet estaba fallando, por lo cual el video comenzo 8 segundos despues de comenzar a grabar, por lo cual individualmente se recorto el video con el siguiente codigo:"
   ]
  },
  {
   "cell_type": "code",
   "execution_count": 46,
   "metadata": {},
   "outputs": [
    {
     "name": "stdout",
     "output_type": "stream",
     "text": [
      "Moviepy - Building video ./VideosRecortados/SUJETO9_N4.MOV.\n",
      "MoviePy - Writing audio in SUJETO9_N4TEMP_MPY_wvf_snd.mp4\n"
     ]
    },
    {
     "name": "stderr",
     "output_type": "stream",
     "text": [
      "                                                                    \r"
     ]
    },
    {
     "name": "stdout",
     "output_type": "stream",
     "text": [
      "MoviePy - Done.\n",
      "Moviepy - Writing video ./VideosRecortados/SUJETO9_N4.MOV\n",
      "\n"
     ]
    },
    {
     "name": "stderr",
     "output_type": "stream",
     "text": [
      "                                                              \r"
     ]
    },
    {
     "name": "stdout",
     "output_type": "stream",
     "text": [
      "Moviepy - Done !\n",
      "Moviepy - video ready ./VideosRecortados/SUJETO9_N4.MOV\n",
      "El video SUJETO9_N4.MOV ha sido recortado y guardado.\n"
     ]
    }
   ],
   "source": [
    "# Define la ruta completa al video que deseas recortar\n",
    "ruta_video = './Videos/SUJETO9_N4.MOV'\n",
    "\n",
    "# Define la ruta de la carpeta donde guardarás el video recortado\n",
    "carpeta_destino = './VideosRecortados/'\n",
    "\n",
    "# Crea la carpeta de destino si no existe\n",
    "if not os.path.exists(carpeta_destino):\n",
    "    os.makedirs(carpeta_destino)\n",
    "\n",
    "# Comprueba si el archivo termina en '_N1.MOV'\n",
    "if ruta_video.endswith('_N4.MOV'):\n",
    "    # Carga el video\n",
    "    video = VideoFileClip(ruta_video)\n",
    "    \n",
    "    # Recorta el video desde el segundo 0 hasta el segundo 31\n",
    "    video_recortado = video.subclip(7, 38)\n",
    "    \n",
    "    # Extrae el nombre del archivo del video original\n",
    "    nombre_archivo = os.path.basename(ruta_video)\n",
    "    \n",
    "    # Define la ruta del archivo de destino\n",
    "    ruta_destino = os.path.join(carpeta_destino, nombre_archivo)\n",
    "    \n",
    "    # Guarda el video recortado en la carpeta de destino\n",
    "    video_recortado.write_videofile(ruta_destino, codec=\"libx264\", audio_codec=\"aac\")\n",
    "    \n",
    "    # Cierra el clip para liberar recursos\n",
    "    video.close()\n",
    "    video_recortado.close()\n",
    "\n",
    "    print(f\"El video {nombre_archivo} ha sido recortado y guardado.\")\n",
    "else:\n",
    "    print(\"El archivo no termina en '_N3.MOV', por lo que no se ha recortado.\")\n"
   ]
  },
  {
   "cell_type": "markdown",
   "metadata": {},
   "source": [
    "## An&aacute;lisis Exploratorio"
   ]
  },
  {
   "cell_type": "markdown",
   "metadata": {},
   "source": [
    "No solo se busco ver que si se obtenian reacciones por medio de estimulos visuales, tambien se aplico un cuestionario donde los sujetos de prueba daban puntuacion dependiendo de cuanto sintieron la emocion del 1 al 5, donde 1 es poco y 5 es mucho.\n",
    "Por lo cual, en base a sus auto reportes se puede ver por medio de la grafica que la mayoria "
   ]
  },
  {
   "cell_type": "markdown",
   "metadata": {},
   "source": [
    "## Pruebas"
   ]
  },
  {
   "cell_type": "code",
   "execution_count": 2,
   "metadata": {},
   "outputs": [],
   "source": [
    "mp_face_mesh = mp.solutions.face_mesh\n",
    "mp_drawing = mp.solutions.drawing_utils\n",
    "drawing_spec = mp_drawing.DrawingSpec(thickness=1, circle_radius=1)\n",
    "\n",
    "# Importa las utilidades de dibujo y los estilos de dibujo de MediaPipe\n",
    "mp_drawing = mp.solutions.drawing_utils\n",
    "mp_drawing_styles = mp.solutions.drawing_styles\n",
    "\n",
    "mp_face_mesh = mp.solutions.face_mesh\n",
    "\n",
    "# Inicializa FaceMesh\n",
    "face_mesh = mp_face_mesh.FaceMesh(\n",
    "    max_num_faces=1,\n",
    "    refine_landmarks=True,\n",
    "    min_detection_confidence=0.5,\n",
    "    min_tracking_confidence=0.5)\n",
    "\n",
    "cap = cv2.VideoCapture('./Videos/SUJETO10_ENOJO.MOV')  # Reemplaza esto con la ruta a tu video\n",
    "\n",
    "while cap.isOpened():\n",
    "    success, image = cap.read()\n",
    "    if not success:\n",
    "        print(\"Fin del video o error al cargar el archivo.\")  # Finaliza el bucle si no se pudo leer el video\n",
    "        break\n",
    "    \n",
    "    # Cambia la resolución de la imagen a 640x480\n",
    "    image = cv2.resize(image, (720, 540))\n",
    "\n",
    "    # Convertir la imagen de BGR a RGB\n",
    "    image = cv2.cvtColor(image, cv2.COLOR_BGR2RGB)\n",
    "    image.flags.writeable = False\n",
    "    \n",
    "    # Detección de puntos de referencia faciales\n",
    "    results = face_mesh.process(image)\n",
    "\n",
    "    image.flags.writeable = True\n",
    "    image = cv2.cvtColor(image, cv2.COLOR_RGB2BGR)\n",
    "\n",
    "    if results.multi_face_landmarks:\n",
    "        for face_landmarks in results.multi_face_landmarks:\n",
    "            mp_drawing.draw_landmarks(\n",
    "                image=image,\n",
    "                landmark_list=face_landmarks,\n",
    "                connections=mp_face_mesh.FACEMESH_TESSELATION,\n",
    "                landmark_drawing_spec=None,\n",
    "                connection_drawing_spec=mp_drawing_styles.get_default_face_mesh_tesselation_style())\n",
    "\n",
    "    cv2.imshow('Face Landmark Detection', image)\n",
    "    if cv2.waitKey(1) & 0xFF == 27:  # Presiona ESC para salir\n",
    "        break\n",
    "\n",
    "cap.release()\n",
    "cv2.destroyAllWindows()"
   ]
  },
  {
   "cell_type": "markdown",
   "metadata": {},
   "source": [
    "## Extracci&oacute;n de Caracter&iacute;sticas "
   ]
  },
  {
   "cell_type": "code",
   "execution_count": 25,
   "metadata": {},
   "outputs": [
    {
     "name": "stdout",
     "output_type": "stream",
     "text": [
      "                  SUJETO INICIO   FIN      LABEL\n",
      "0      SUJETO1_ENOJO.MOV   0:03  0:14      ENOJO\n",
      "1         SUJETO1_N1.MOV   0:10  0:20    NEUTRAL\n",
      "2  SUJETO1_FELICIDAD.MOV   0:07  0:14  FELICIDAD\n",
      "3   SUJETO1_TRISTEZA.MOV   0:03  0:13   TRISTEZA\n",
      "4      SUJETO2_ENOJO.MOV   0:05  0:15      ENOJO\n"
     ]
    }
   ],
   "source": [
    "path = './VideosSegmentados.csv'\n",
    "segmentado_df = pd.read_csv(path)\n",
    "print(segmentado_df.head())\n"
   ]
  },
  {
   "cell_type": "code",
   "execution_count": 37,
   "metadata": {},
   "outputs": [
    {
     "name": "stdout",
     "output_type": "stream",
     "text": [
      "Moviepy - Building video ./VideosSegmentados\\SUJETO1_ENOJO_segmentado.mp4.\n",
      "MoviePy - Writing audio in SUJETO1_ENOJO_segmentadoTEMP_MPY_wvf_snd.mp4\n"
     ]
    },
    {
     "name": "stderr",
     "output_type": "stream",
     "text": [
      "                                                                   \r"
     ]
    },
    {
     "name": "stdout",
     "output_type": "stream",
     "text": [
      "MoviePy - Done.\n",
      "Moviepy - Writing video ./VideosSegmentados\\SUJETO1_ENOJO_segmentado.mp4\n",
      "\n"
     ]
    },
    {
     "name": "stderr",
     "output_type": "stream",
     "text": [
      "                                                              \r"
     ]
    },
    {
     "name": "stdout",
     "output_type": "stream",
     "text": [
      "Moviepy - Done !\n",
      "Moviepy - video ready ./VideosSegmentados\\SUJETO1_ENOJO_segmentado.mp4\n",
      "Moviepy - Building video ./VideosSegmentados\\SUJETO1_N1_segmentado.mp4.\n",
      "MoviePy - Writing audio in SUJETO1_N1_segmentadoTEMP_MPY_wvf_snd.mp4\n"
     ]
    },
    {
     "name": "stderr",
     "output_type": "stream",
     "text": [
      "                                                                   \r"
     ]
    },
    {
     "name": "stdout",
     "output_type": "stream",
     "text": [
      "MoviePy - Done.\n",
      "Moviepy - Writing video ./VideosSegmentados\\SUJETO1_N1_segmentado.mp4\n",
      "\n"
     ]
    },
    {
     "name": "stderr",
     "output_type": "stream",
     "text": [
      "                                                              \r"
     ]
    },
    {
     "name": "stdout",
     "output_type": "stream",
     "text": [
      "Moviepy - Done !\n",
      "Moviepy - video ready ./VideosSegmentados\\SUJETO1_N1_segmentado.mp4\n",
      "Moviepy - Building video ./VideosSegmentados\\SUJETO1_FELICIDAD_segmentado.mp4.\n",
      "MoviePy - Writing audio in SUJETO1_FELICIDAD_segmentadoTEMP_MPY_wvf_snd.mp4\n"
     ]
    },
    {
     "name": "stderr",
     "output_type": "stream",
     "text": [
      "                                                                  \r"
     ]
    },
    {
     "name": "stdout",
     "output_type": "stream",
     "text": [
      "MoviePy - Done.\n",
      "Moviepy - Writing video ./VideosSegmentados\\SUJETO1_FELICIDAD_segmentado.mp4\n",
      "\n"
     ]
    },
    {
     "name": "stderr",
     "output_type": "stream",
     "text": [
      "                                                              \r"
     ]
    },
    {
     "name": "stdout",
     "output_type": "stream",
     "text": [
      "Moviepy - Done !\n",
      "Moviepy - video ready ./VideosSegmentados\\SUJETO1_FELICIDAD_segmentado.mp4\n",
      "Moviepy - Building video ./VideosSegmentados\\SUJETO1_TRISTEZA_segmentado.mp4.\n",
      "MoviePy - Writing audio in SUJETO1_TRISTEZA_segmentadoTEMP_MPY_wvf_snd.mp4\n"
     ]
    },
    {
     "name": "stderr",
     "output_type": "stream",
     "text": [
      "                                                                   \r"
     ]
    },
    {
     "name": "stdout",
     "output_type": "stream",
     "text": [
      "MoviePy - Done.\n",
      "Moviepy - Writing video ./VideosSegmentados\\SUJETO1_TRISTEZA_segmentado.mp4\n",
      "\n"
     ]
    },
    {
     "name": "stderr",
     "output_type": "stream",
     "text": [
      "                                                              \r"
     ]
    },
    {
     "name": "stdout",
     "output_type": "stream",
     "text": [
      "Moviepy - Done !\n",
      "Moviepy - video ready ./VideosSegmentados\\SUJETO1_TRISTEZA_segmentado.mp4\n",
      "Moviepy - Building video ./VideosSegmentados\\SUJETO2_ENOJO_segmentado.mp4.\n",
      "MoviePy - Writing audio in SUJETO2_ENOJO_segmentadoTEMP_MPY_wvf_snd.mp4\n"
     ]
    },
    {
     "name": "stderr",
     "output_type": "stream",
     "text": [
      "                                                                   \r"
     ]
    },
    {
     "name": "stdout",
     "output_type": "stream",
     "text": [
      "MoviePy - Done.\n",
      "Moviepy - Writing video ./VideosSegmentados\\SUJETO2_ENOJO_segmentado.mp4\n",
      "\n"
     ]
    },
    {
     "name": "stderr",
     "output_type": "stream",
     "text": [
      "                                                              \r"
     ]
    },
    {
     "name": "stdout",
     "output_type": "stream",
     "text": [
      "Moviepy - Done !\n",
      "Moviepy - video ready ./VideosSegmentados\\SUJETO2_ENOJO_segmentado.mp4\n",
      "Moviepy - Building video ./VideosSegmentados\\SUJETO2_N1_segmentado.mp4.\n",
      "MoviePy - Writing audio in SUJETO2_N1_segmentadoTEMP_MPY_wvf_snd.mp4\n"
     ]
    },
    {
     "name": "stderr",
     "output_type": "stream",
     "text": [
      "                                                                   \r"
     ]
    },
    {
     "name": "stdout",
     "output_type": "stream",
     "text": [
      "MoviePy - Done.\n",
      "Moviepy - Writing video ./VideosSegmentados\\SUJETO2_N1_segmentado.mp4\n",
      "\n"
     ]
    },
    {
     "name": "stderr",
     "output_type": "stream",
     "text": [
      "                                                              \r"
     ]
    },
    {
     "name": "stdout",
     "output_type": "stream",
     "text": [
      "Moviepy - Done !\n",
      "Moviepy - video ready ./VideosSegmentados\\SUJETO2_N1_segmentado.mp4\n",
      "Moviepy - Building video ./VideosSegmentados\\SUJETO2_FELICIDAD_segmentado.mp4.\n",
      "MoviePy - Writing audio in SUJETO2_FELICIDAD_segmentadoTEMP_MPY_wvf_snd.mp4\n"
     ]
    },
    {
     "name": "stderr",
     "output_type": "stream",
     "text": [
      "                                                                   \r"
     ]
    },
    {
     "name": "stdout",
     "output_type": "stream",
     "text": [
      "MoviePy - Done.\n",
      "Moviepy - Writing video ./VideosSegmentados\\SUJETO2_FELICIDAD_segmentado.mp4\n",
      "\n"
     ]
    },
    {
     "name": "stderr",
     "output_type": "stream",
     "text": [
      "                                                              \r"
     ]
    },
    {
     "name": "stdout",
     "output_type": "stream",
     "text": [
      "Moviepy - Done !\n",
      "Moviepy - video ready ./VideosSegmentados\\SUJETO2_FELICIDAD_segmentado.mp4\n",
      "Moviepy - Building video ./VideosSegmentados\\SUJETO2_TRISTEZA_segmentado.mp4.\n",
      "MoviePy - Writing audio in SUJETO2_TRISTEZA_segmentadoTEMP_MPY_wvf_snd.mp4\n"
     ]
    },
    {
     "name": "stderr",
     "output_type": "stream",
     "text": [
      "                                                                   \r"
     ]
    },
    {
     "name": "stdout",
     "output_type": "stream",
     "text": [
      "MoviePy - Done.\n",
      "Moviepy - Writing video ./VideosSegmentados\\SUJETO2_TRISTEZA_segmentado.mp4\n",
      "\n"
     ]
    },
    {
     "name": "stderr",
     "output_type": "stream",
     "text": [
      "                                                              \r"
     ]
    },
    {
     "name": "stdout",
     "output_type": "stream",
     "text": [
      "Moviepy - Done !\n",
      "Moviepy - video ready ./VideosSegmentados\\SUJETO2_TRISTEZA_segmentado.mp4\n",
      "Moviepy - Building video ./VideosSegmentados\\SUJETO3_ENOJO_segmentado.mp4.\n",
      "MoviePy - Writing audio in SUJETO3_ENOJO_segmentadoTEMP_MPY_wvf_snd.mp4\n"
     ]
    },
    {
     "name": "stderr",
     "output_type": "stream",
     "text": [
      "                                                                   \r"
     ]
    },
    {
     "name": "stdout",
     "output_type": "stream",
     "text": [
      "MoviePy - Done.\n",
      "Moviepy - Writing video ./VideosSegmentados\\SUJETO3_ENOJO_segmentado.mp4\n",
      "\n"
     ]
    },
    {
     "name": "stderr",
     "output_type": "stream",
     "text": [
      "                                                              \r"
     ]
    },
    {
     "name": "stdout",
     "output_type": "stream",
     "text": [
      "Moviepy - Done !\n",
      "Moviepy - video ready ./VideosSegmentados\\SUJETO3_ENOJO_segmentado.mp4\n",
      "Moviepy - Building video ./VideosSegmentados\\SUJETO3_N1_segmentado.mp4.\n",
      "MoviePy - Writing audio in SUJETO3_N1_segmentadoTEMP_MPY_wvf_snd.mp4\n"
     ]
    },
    {
     "name": "stderr",
     "output_type": "stream",
     "text": [
      "                                                                   \r"
     ]
    },
    {
     "name": "stdout",
     "output_type": "stream",
     "text": [
      "MoviePy - Done.\n",
      "Moviepy - Writing video ./VideosSegmentados\\SUJETO3_N1_segmentado.mp4\n",
      "\n"
     ]
    },
    {
     "name": "stderr",
     "output_type": "stream",
     "text": [
      "                                                              \r"
     ]
    },
    {
     "name": "stdout",
     "output_type": "stream",
     "text": [
      "Moviepy - Done !\n",
      "Moviepy - video ready ./VideosSegmentados\\SUJETO3_N1_segmentado.mp4\n",
      "Moviepy - Building video ./VideosSegmentados\\SUJETO3_FELICIDAD_segmentado.mp4.\n",
      "MoviePy - Writing audio in SUJETO3_FELICIDAD_segmentadoTEMP_MPY_wvf_snd.mp4\n"
     ]
    },
    {
     "name": "stderr",
     "output_type": "stream",
     "text": [
      "                                                                   \r"
     ]
    },
    {
     "name": "stdout",
     "output_type": "stream",
     "text": [
      "MoviePy - Done.\n",
      "Moviepy - Writing video ./VideosSegmentados\\SUJETO3_FELICIDAD_segmentado.mp4\n",
      "\n"
     ]
    },
    {
     "name": "stderr",
     "output_type": "stream",
     "text": [
      "                                                              \r"
     ]
    },
    {
     "name": "stdout",
     "output_type": "stream",
     "text": [
      "Moviepy - Done !\n",
      "Moviepy - video ready ./VideosSegmentados\\SUJETO3_FELICIDAD_segmentado.mp4\n",
      "Moviepy - Building video ./VideosSegmentados\\SUJETO3_TRISTEZA_segmentado.mp4.\n",
      "MoviePy - Writing audio in SUJETO3_TRISTEZA_segmentadoTEMP_MPY_wvf_snd.mp4\n"
     ]
    },
    {
     "name": "stderr",
     "output_type": "stream",
     "text": [
      "                                                                   \r"
     ]
    },
    {
     "name": "stdout",
     "output_type": "stream",
     "text": [
      "MoviePy - Done.\n",
      "Moviepy - Writing video ./VideosSegmentados\\SUJETO3_TRISTEZA_segmentado.mp4\n",
      "\n"
     ]
    },
    {
     "name": "stderr",
     "output_type": "stream",
     "text": [
      "                                                              \r"
     ]
    },
    {
     "name": "stdout",
     "output_type": "stream",
     "text": [
      "Moviepy - Done !\n",
      "Moviepy - video ready ./VideosSegmentados\\SUJETO3_TRISTEZA_segmentado.mp4\n",
      "Moviepy - Building video ./VideosSegmentados\\SUJETO4_ENOJO_segmentado.mp4.\n",
      "MoviePy - Writing audio in SUJETO4_ENOJO_segmentadoTEMP_MPY_wvf_snd.mp4\n"
     ]
    },
    {
     "name": "stderr",
     "output_type": "stream",
     "text": [
      "                                                                   \r"
     ]
    },
    {
     "name": "stdout",
     "output_type": "stream",
     "text": [
      "MoviePy - Done.\n",
      "Moviepy - Writing video ./VideosSegmentados\\SUJETO4_ENOJO_segmentado.mp4\n",
      "\n"
     ]
    },
    {
     "name": "stderr",
     "output_type": "stream",
     "text": [
      "                                                              \r"
     ]
    },
    {
     "name": "stdout",
     "output_type": "stream",
     "text": [
      "Moviepy - Done !\n",
      "Moviepy - video ready ./VideosSegmentados\\SUJETO4_ENOJO_segmentado.mp4\n",
      "Moviepy - Building video ./VideosSegmentados\\SUJETO4_N1_segmentado.mp4.\n",
      "MoviePy - Writing audio in SUJETO4_N1_segmentadoTEMP_MPY_wvf_snd.mp4\n"
     ]
    },
    {
     "name": "stderr",
     "output_type": "stream",
     "text": [
      "                                                                   \r"
     ]
    },
    {
     "name": "stdout",
     "output_type": "stream",
     "text": [
      "MoviePy - Done.\n",
      "Moviepy - Writing video ./VideosSegmentados\\SUJETO4_N1_segmentado.mp4\n",
      "\n"
     ]
    },
    {
     "name": "stderr",
     "output_type": "stream",
     "text": [
      "                                                              \r"
     ]
    },
    {
     "name": "stdout",
     "output_type": "stream",
     "text": [
      "Moviepy - Done !\n",
      "Moviepy - video ready ./VideosSegmentados\\SUJETO4_N1_segmentado.mp4\n",
      "Moviepy - Building video ./VideosSegmentados\\SUJETO4_FELICIDAD_segmentado.mp4.\n",
      "MoviePy - Writing audio in SUJETO4_FELICIDAD_segmentadoTEMP_MPY_wvf_snd.mp4\n"
     ]
    },
    {
     "name": "stderr",
     "output_type": "stream",
     "text": [
      "                                                                   \r"
     ]
    },
    {
     "name": "stdout",
     "output_type": "stream",
     "text": [
      "MoviePy - Done.\n",
      "Moviepy - Writing video ./VideosSegmentados\\SUJETO4_FELICIDAD_segmentado.mp4\n",
      "\n"
     ]
    },
    {
     "name": "stderr",
     "output_type": "stream",
     "text": [
      "                                                              \r"
     ]
    },
    {
     "name": "stdout",
     "output_type": "stream",
     "text": [
      "Moviepy - Done !\n",
      "Moviepy - video ready ./VideosSegmentados\\SUJETO4_FELICIDAD_segmentado.mp4\n",
      "Moviepy - Building video ./VideosSegmentados\\SUJETO4_TRISTEZA_segmentado.mp4.\n",
      "MoviePy - Writing audio in SUJETO4_TRISTEZA_segmentadoTEMP_MPY_wvf_snd.mp4\n"
     ]
    },
    {
     "name": "stderr",
     "output_type": "stream",
     "text": [
      "                                                                   \r"
     ]
    },
    {
     "name": "stdout",
     "output_type": "stream",
     "text": [
      "MoviePy - Done.\n",
      "Moviepy - Writing video ./VideosSegmentados\\SUJETO4_TRISTEZA_segmentado.mp4\n",
      "\n"
     ]
    },
    {
     "name": "stderr",
     "output_type": "stream",
     "text": [
      "                                                              \r"
     ]
    },
    {
     "name": "stdout",
     "output_type": "stream",
     "text": [
      "Moviepy - Done !\n",
      "Moviepy - video ready ./VideosSegmentados\\SUJETO4_TRISTEZA_segmentado.mp4\n",
      "Moviepy - Building video ./VideosSegmentados\\SUJETO5_ENOJO_segmentado.mp4.\n",
      "MoviePy - Writing audio in SUJETO5_ENOJO_segmentadoTEMP_MPY_wvf_snd.mp4\n"
     ]
    },
    {
     "name": "stderr",
     "output_type": "stream",
     "text": [
      "                                                                   \r"
     ]
    },
    {
     "name": "stdout",
     "output_type": "stream",
     "text": [
      "MoviePy - Done.\n",
      "Moviepy - Writing video ./VideosSegmentados\\SUJETO5_ENOJO_segmentado.mp4\n",
      "\n"
     ]
    },
    {
     "name": "stderr",
     "output_type": "stream",
     "text": [
      "                                                              \r"
     ]
    },
    {
     "name": "stdout",
     "output_type": "stream",
     "text": [
      "Moviepy - Done !\n",
      "Moviepy - video ready ./VideosSegmentados\\SUJETO5_ENOJO_segmentado.mp4\n",
      "Moviepy - Building video ./VideosSegmentados\\SUJETO5_N1_segmentado.mp4.\n",
      "MoviePy - Writing audio in SUJETO5_N1_segmentadoTEMP_MPY_wvf_snd.mp4\n"
     ]
    },
    {
     "name": "stderr",
     "output_type": "stream",
     "text": [
      "                                                                   \r"
     ]
    },
    {
     "name": "stdout",
     "output_type": "stream",
     "text": [
      "MoviePy - Done.\n",
      "Moviepy - Writing video ./VideosSegmentados\\SUJETO5_N1_segmentado.mp4\n",
      "\n"
     ]
    },
    {
     "name": "stderr",
     "output_type": "stream",
     "text": [
      "                                                              \r"
     ]
    },
    {
     "name": "stdout",
     "output_type": "stream",
     "text": [
      "Moviepy - Done !\n",
      "Moviepy - video ready ./VideosSegmentados\\SUJETO5_N1_segmentado.mp4\n",
      "Moviepy - Building video ./VideosSegmentados\\SUJETO5_FELICIDAD_segmentado.mp4.\n",
      "MoviePy - Writing audio in SUJETO5_FELICIDAD_segmentadoTEMP_MPY_wvf_snd.mp4\n"
     ]
    },
    {
     "name": "stderr",
     "output_type": "stream",
     "text": [
      "                                                                   \r"
     ]
    },
    {
     "name": "stdout",
     "output_type": "stream",
     "text": [
      "MoviePy - Done.\n",
      "Moviepy - Writing video ./VideosSegmentados\\SUJETO5_FELICIDAD_segmentado.mp4\n",
      "\n"
     ]
    },
    {
     "name": "stderr",
     "output_type": "stream",
     "text": [
      "                                                              \r"
     ]
    },
    {
     "name": "stdout",
     "output_type": "stream",
     "text": [
      "Moviepy - Done !\n",
      "Moviepy - video ready ./VideosSegmentados\\SUJETO5_FELICIDAD_segmentado.mp4\n",
      "Moviepy - Building video ./VideosSegmentados\\SUJETO5_TRISTEZA_segmentado.mp4.\n",
      "MoviePy - Writing audio in SUJETO5_TRISTEZA_segmentadoTEMP_MPY_wvf_snd.mp4\n"
     ]
    },
    {
     "name": "stderr",
     "output_type": "stream",
     "text": [
      "                                                                   \r"
     ]
    },
    {
     "name": "stdout",
     "output_type": "stream",
     "text": [
      "MoviePy - Done.\n",
      "Moviepy - Writing video ./VideosSegmentados\\SUJETO5_TRISTEZA_segmentado.mp4\n",
      "\n"
     ]
    },
    {
     "name": "stderr",
     "output_type": "stream",
     "text": [
      "                                                              \r"
     ]
    },
    {
     "name": "stdout",
     "output_type": "stream",
     "text": [
      "Moviepy - Done !\n",
      "Moviepy - video ready ./VideosSegmentados\\SUJETO5_TRISTEZA_segmentado.mp4\n",
      "Moviepy - Building video ./VideosSegmentados\\SUJETO6_ENOJO_segmentado.mp4.\n",
      "MoviePy - Writing audio in SUJETO6_ENOJO_segmentadoTEMP_MPY_wvf_snd.mp4\n"
     ]
    },
    {
     "name": "stderr",
     "output_type": "stream",
     "text": [
      "                                                                   \r"
     ]
    },
    {
     "name": "stdout",
     "output_type": "stream",
     "text": [
      "MoviePy - Done.\n",
      "Moviepy - Writing video ./VideosSegmentados\\SUJETO6_ENOJO_segmentado.mp4\n",
      "\n"
     ]
    },
    {
     "name": "stderr",
     "output_type": "stream",
     "text": [
      "                                                              \r"
     ]
    },
    {
     "name": "stdout",
     "output_type": "stream",
     "text": [
      "Moviepy - Done !\n",
      "Moviepy - video ready ./VideosSegmentados\\SUJETO6_ENOJO_segmentado.mp4\n",
      "Moviepy - Building video ./VideosSegmentados\\SUJETO6_N1_segmentado.mp4.\n",
      "MoviePy - Writing audio in SUJETO6_N1_segmentadoTEMP_MPY_wvf_snd.mp4\n"
     ]
    },
    {
     "name": "stderr",
     "output_type": "stream",
     "text": [
      "                                                                   \r"
     ]
    },
    {
     "name": "stdout",
     "output_type": "stream",
     "text": [
      "MoviePy - Done.\n",
      "Moviepy - Writing video ./VideosSegmentados\\SUJETO6_N1_segmentado.mp4\n",
      "\n"
     ]
    },
    {
     "name": "stderr",
     "output_type": "stream",
     "text": [
      "                                                              \r"
     ]
    },
    {
     "name": "stdout",
     "output_type": "stream",
     "text": [
      "Moviepy - Done !\n",
      "Moviepy - video ready ./VideosSegmentados\\SUJETO6_N1_segmentado.mp4\n",
      "Moviepy - Building video ./VideosSegmentados\\SUJETO6_FELICIDAD_segmentado.mp4.\n",
      "MoviePy - Writing audio in SUJETO6_FELICIDAD_segmentadoTEMP_MPY_wvf_snd.mp4\n"
     ]
    },
    {
     "name": "stderr",
     "output_type": "stream",
     "text": [
      "                                                                   \r"
     ]
    },
    {
     "name": "stdout",
     "output_type": "stream",
     "text": [
      "MoviePy - Done.\n",
      "Moviepy - Writing video ./VideosSegmentados\\SUJETO6_FELICIDAD_segmentado.mp4\n",
      "\n"
     ]
    },
    {
     "name": "stderr",
     "output_type": "stream",
     "text": [
      "                                                              \r"
     ]
    },
    {
     "name": "stdout",
     "output_type": "stream",
     "text": [
      "Moviepy - Done !\n",
      "Moviepy - video ready ./VideosSegmentados\\SUJETO6_FELICIDAD_segmentado.mp4\n",
      "Moviepy - Building video ./VideosSegmentados\\SUJETO6_TRISTEZA_segmentado.mp4.\n",
      "MoviePy - Writing audio in SUJETO6_TRISTEZA_segmentadoTEMP_MPY_wvf_snd.mp4\n"
     ]
    },
    {
     "name": "stderr",
     "output_type": "stream",
     "text": [
      "                                                                   \r"
     ]
    },
    {
     "name": "stdout",
     "output_type": "stream",
     "text": [
      "MoviePy - Done.\n",
      "Moviepy - Writing video ./VideosSegmentados\\SUJETO6_TRISTEZA_segmentado.mp4\n",
      "\n"
     ]
    },
    {
     "name": "stderr",
     "output_type": "stream",
     "text": [
      "                                                              \r"
     ]
    },
    {
     "name": "stdout",
     "output_type": "stream",
     "text": [
      "Moviepy - Done !\n",
      "Moviepy - video ready ./VideosSegmentados\\SUJETO6_TRISTEZA_segmentado.mp4\n",
      "Moviepy - Building video ./VideosSegmentados\\SUJETO7_ENOJO_segmentado.mp4.\n",
      "MoviePy - Writing audio in SUJETO7_ENOJO_segmentadoTEMP_MPY_wvf_snd.mp4\n"
     ]
    },
    {
     "name": "stderr",
     "output_type": "stream",
     "text": [
      "                                                                   \r"
     ]
    },
    {
     "name": "stdout",
     "output_type": "stream",
     "text": [
      "MoviePy - Done.\n",
      "Moviepy - Writing video ./VideosSegmentados\\SUJETO7_ENOJO_segmentado.mp4\n",
      "\n"
     ]
    },
    {
     "name": "stderr",
     "output_type": "stream",
     "text": [
      "                                                              \r"
     ]
    },
    {
     "name": "stdout",
     "output_type": "stream",
     "text": [
      "Moviepy - Done !\n",
      "Moviepy - video ready ./VideosSegmentados\\SUJETO7_ENOJO_segmentado.mp4\n",
      "Moviepy - Building video ./VideosSegmentados\\SUJETO7_N1_segmentado.mp4.\n",
      "MoviePy - Writing audio in SUJETO7_N1_segmentadoTEMP_MPY_wvf_snd.mp4\n"
     ]
    },
    {
     "name": "stderr",
     "output_type": "stream",
     "text": [
      "                                                                   \r"
     ]
    },
    {
     "name": "stdout",
     "output_type": "stream",
     "text": [
      "MoviePy - Done.\n",
      "Moviepy - Writing video ./VideosSegmentados\\SUJETO7_N1_segmentado.mp4\n",
      "\n"
     ]
    },
    {
     "name": "stderr",
     "output_type": "stream",
     "text": [
      "                                                              \r"
     ]
    },
    {
     "name": "stdout",
     "output_type": "stream",
     "text": [
      "Moviepy - Done !\n",
      "Moviepy - video ready ./VideosSegmentados\\SUJETO7_N1_segmentado.mp4\n",
      "Moviepy - Building video ./VideosSegmentados\\SUJETO7_FELICIDAD_segmentado.mp4.\n",
      "MoviePy - Writing audio in SUJETO7_FELICIDAD_segmentadoTEMP_MPY_wvf_snd.mp4\n"
     ]
    },
    {
     "name": "stderr",
     "output_type": "stream",
     "text": [
      "                                                                  \r"
     ]
    },
    {
     "name": "stdout",
     "output_type": "stream",
     "text": [
      "MoviePy - Done.\n",
      "Moviepy - Writing video ./VideosSegmentados\\SUJETO7_FELICIDAD_segmentado.mp4\n",
      "\n"
     ]
    },
    {
     "name": "stderr",
     "output_type": "stream",
     "text": [
      "                                                              \r"
     ]
    },
    {
     "name": "stdout",
     "output_type": "stream",
     "text": [
      "Moviepy - Done !\n",
      "Moviepy - video ready ./VideosSegmentados\\SUJETO7_FELICIDAD_segmentado.mp4\n",
      "Moviepy - Building video ./VideosSegmentados\\SUJETO7_TRISTEZA_segmentado.mp4.\n",
      "MoviePy - Writing audio in SUJETO7_TRISTEZA_segmentadoTEMP_MPY_wvf_snd.mp4\n"
     ]
    },
    {
     "name": "stderr",
     "output_type": "stream",
     "text": [
      "                                                                   \r"
     ]
    },
    {
     "name": "stdout",
     "output_type": "stream",
     "text": [
      "MoviePy - Done.\n",
      "Moviepy - Writing video ./VideosSegmentados\\SUJETO7_TRISTEZA_segmentado.mp4\n",
      "\n"
     ]
    },
    {
     "name": "stderr",
     "output_type": "stream",
     "text": [
      "                                                              \r"
     ]
    },
    {
     "name": "stdout",
     "output_type": "stream",
     "text": [
      "Moviepy - Done !\n",
      "Moviepy - video ready ./VideosSegmentados\\SUJETO7_TRISTEZA_segmentado.mp4\n",
      "Moviepy - Building video ./VideosSegmentados\\SUJETO8_ENOJO_segmentado.mp4.\n",
      "MoviePy - Writing audio in SUJETO8_ENOJO_segmentadoTEMP_MPY_wvf_snd.mp4\n"
     ]
    },
    {
     "name": "stderr",
     "output_type": "stream",
     "text": [
      "                                                                   \r"
     ]
    },
    {
     "name": "stdout",
     "output_type": "stream",
     "text": [
      "MoviePy - Done.\n",
      "Moviepy - Writing video ./VideosSegmentados\\SUJETO8_ENOJO_segmentado.mp4\n",
      "\n"
     ]
    },
    {
     "name": "stderr",
     "output_type": "stream",
     "text": [
      "                                                              \r"
     ]
    },
    {
     "name": "stdout",
     "output_type": "stream",
     "text": [
      "Moviepy - Done !\n",
      "Moviepy - video ready ./VideosSegmentados\\SUJETO8_ENOJO_segmentado.mp4\n",
      "Moviepy - Building video ./VideosSegmentados\\SUJETO8_N1_segmentado.mp4.\n",
      "MoviePy - Writing audio in SUJETO8_N1_segmentadoTEMP_MPY_wvf_snd.mp4\n"
     ]
    },
    {
     "name": "stderr",
     "output_type": "stream",
     "text": [
      "                                                                   \r"
     ]
    },
    {
     "name": "stdout",
     "output_type": "stream",
     "text": [
      "MoviePy - Done.\n",
      "Moviepy - Writing video ./VideosSegmentados\\SUJETO8_N1_segmentado.mp4\n",
      "\n"
     ]
    },
    {
     "name": "stderr",
     "output_type": "stream",
     "text": [
      "                                                              \r"
     ]
    },
    {
     "name": "stdout",
     "output_type": "stream",
     "text": [
      "Moviepy - Done !\n",
      "Moviepy - video ready ./VideosSegmentados\\SUJETO8_N1_segmentado.mp4\n",
      "Moviepy - Building video ./VideosSegmentados\\SUJETO8_FELICIDAD_segmentado.mp4.\n",
      "MoviePy - Writing audio in SUJETO8_FELICIDAD_segmentadoTEMP_MPY_wvf_snd.mp4\n"
     ]
    },
    {
     "name": "stderr",
     "output_type": "stream",
     "text": [
      "                                                                   \r"
     ]
    },
    {
     "name": "stdout",
     "output_type": "stream",
     "text": [
      "MoviePy - Done.\n",
      "Moviepy - Writing video ./VideosSegmentados\\SUJETO8_FELICIDAD_segmentado.mp4\n",
      "\n"
     ]
    },
    {
     "name": "stderr",
     "output_type": "stream",
     "text": [
      "                                                              \r"
     ]
    },
    {
     "name": "stdout",
     "output_type": "stream",
     "text": [
      "Moviepy - Done !\n",
      "Moviepy - video ready ./VideosSegmentados\\SUJETO8_FELICIDAD_segmentado.mp4\n",
      "Moviepy - Building video ./VideosSegmentados\\SUJETO8_TRISTEZA_segmentado.mp4.\n",
      "MoviePy - Writing audio in SUJETO8_TRISTEZA_segmentadoTEMP_MPY_wvf_snd.mp4\n"
     ]
    },
    {
     "name": "stderr",
     "output_type": "stream",
     "text": [
      "                                                                   \r"
     ]
    },
    {
     "name": "stdout",
     "output_type": "stream",
     "text": [
      "MoviePy - Done.\n",
      "Moviepy - Writing video ./VideosSegmentados\\SUJETO8_TRISTEZA_segmentado.mp4\n",
      "\n"
     ]
    },
    {
     "name": "stderr",
     "output_type": "stream",
     "text": [
      "                                                              \r"
     ]
    },
    {
     "name": "stdout",
     "output_type": "stream",
     "text": [
      "Moviepy - Done !\n",
      "Moviepy - video ready ./VideosSegmentados\\SUJETO8_TRISTEZA_segmentado.mp4\n",
      "Moviepy - Building video ./VideosSegmentados\\SUJETO9_ENOJO_segmentado.mp4.\n",
      "MoviePy - Writing audio in SUJETO9_ENOJO_segmentadoTEMP_MPY_wvf_snd.mp4\n"
     ]
    },
    {
     "name": "stderr",
     "output_type": "stream",
     "text": [
      "                                                                   \r"
     ]
    },
    {
     "name": "stdout",
     "output_type": "stream",
     "text": [
      "MoviePy - Done.\n",
      "Moviepy - Writing video ./VideosSegmentados\\SUJETO9_ENOJO_segmentado.mp4\n",
      "\n"
     ]
    },
    {
     "name": "stderr",
     "output_type": "stream",
     "text": [
      "                                                              \r"
     ]
    },
    {
     "name": "stdout",
     "output_type": "stream",
     "text": [
      "Moviepy - Done !\n",
      "Moviepy - video ready ./VideosSegmentados\\SUJETO9_ENOJO_segmentado.mp4\n",
      "Moviepy - Building video ./VideosSegmentados\\SUJETO9_N1_segmentado.mp4.\n",
      "MoviePy - Writing audio in SUJETO9_N1_segmentadoTEMP_MPY_wvf_snd.mp4\n"
     ]
    },
    {
     "name": "stderr",
     "output_type": "stream",
     "text": [
      "                                                                   \r"
     ]
    },
    {
     "name": "stdout",
     "output_type": "stream",
     "text": [
      "MoviePy - Done.\n",
      "Moviepy - Writing video ./VideosSegmentados\\SUJETO9_N1_segmentado.mp4\n",
      "\n"
     ]
    },
    {
     "name": "stderr",
     "output_type": "stream",
     "text": [
      "                                                              \r"
     ]
    },
    {
     "name": "stdout",
     "output_type": "stream",
     "text": [
      "Moviepy - Done !\n",
      "Moviepy - video ready ./VideosSegmentados\\SUJETO9_N1_segmentado.mp4\n",
      "Moviepy - Building video ./VideosSegmentados\\SUJETO9_FELICIDAD_segmentado.mp4.\n",
      "MoviePy - Writing audio in SUJETO9_FELICIDAD_segmentadoTEMP_MPY_wvf_snd.mp4\n"
     ]
    },
    {
     "name": "stderr",
     "output_type": "stream",
     "text": [
      "                                                                   \r"
     ]
    },
    {
     "name": "stdout",
     "output_type": "stream",
     "text": [
      "MoviePy - Done.\n",
      "Moviepy - Writing video ./VideosSegmentados\\SUJETO9_FELICIDAD_segmentado.mp4\n",
      "\n"
     ]
    },
    {
     "name": "stderr",
     "output_type": "stream",
     "text": [
      "                                                              \r"
     ]
    },
    {
     "name": "stdout",
     "output_type": "stream",
     "text": [
      "Moviepy - Done !\n",
      "Moviepy - video ready ./VideosSegmentados\\SUJETO9_FELICIDAD_segmentado.mp4\n",
      "Moviepy - Building video ./VideosSegmentados\\SUJETO9_TRISTEZA_segmentado.mp4.\n",
      "MoviePy - Writing audio in SUJETO9_TRISTEZA_segmentadoTEMP_MPY_wvf_snd.mp4\n"
     ]
    },
    {
     "name": "stderr",
     "output_type": "stream",
     "text": [
      "                                                                   \r"
     ]
    },
    {
     "name": "stdout",
     "output_type": "stream",
     "text": [
      "MoviePy - Done.\n",
      "Moviepy - Writing video ./VideosSegmentados\\SUJETO9_TRISTEZA_segmentado.mp4\n",
      "\n"
     ]
    },
    {
     "name": "stderr",
     "output_type": "stream",
     "text": [
      "                                                              \r"
     ]
    },
    {
     "name": "stdout",
     "output_type": "stream",
     "text": [
      "Moviepy - Done !\n",
      "Moviepy - video ready ./VideosSegmentados\\SUJETO9_TRISTEZA_segmentado.mp4\n",
      "Moviepy - Building video ./VideosSegmentados\\SUJETO10_ENOJO_segmentado.mp4.\n",
      "MoviePy - Writing audio in SUJETO10_ENOJO_segmentadoTEMP_MPY_wvf_snd.mp4\n"
     ]
    },
    {
     "name": "stderr",
     "output_type": "stream",
     "text": [
      "                                                                   \r"
     ]
    },
    {
     "name": "stdout",
     "output_type": "stream",
     "text": [
      "MoviePy - Done.\n",
      "Moviepy - Writing video ./VideosSegmentados\\SUJETO10_ENOJO_segmentado.mp4\n",
      "\n"
     ]
    },
    {
     "name": "stderr",
     "output_type": "stream",
     "text": [
      "                                                              \r"
     ]
    },
    {
     "name": "stdout",
     "output_type": "stream",
     "text": [
      "Moviepy - Done !\n",
      "Moviepy - video ready ./VideosSegmentados\\SUJETO10_ENOJO_segmentado.mp4\n",
      "Moviepy - Building video ./VideosSegmentados\\SUJETO10_N1_segmentado.mp4.\n",
      "MoviePy - Writing audio in SUJETO10_N1_segmentadoTEMP_MPY_wvf_snd.mp4\n"
     ]
    },
    {
     "name": "stderr",
     "output_type": "stream",
     "text": [
      "                                                                   \r"
     ]
    },
    {
     "name": "stdout",
     "output_type": "stream",
     "text": [
      "MoviePy - Done.\n",
      "Moviepy - Writing video ./VideosSegmentados\\SUJETO10_N1_segmentado.mp4\n",
      "\n"
     ]
    },
    {
     "name": "stderr",
     "output_type": "stream",
     "text": [
      "                                                              \r"
     ]
    },
    {
     "name": "stdout",
     "output_type": "stream",
     "text": [
      "Moviepy - Done !\n",
      "Moviepy - video ready ./VideosSegmentados\\SUJETO10_N1_segmentado.mp4\n",
      "Moviepy - Building video ./VideosSegmentados\\SUJETO10_FELICIDAD_segmentado.mp4.\n",
      "MoviePy - Writing audio in SUJETO10_FELICIDAD_segmentadoTEMP_MPY_wvf_snd.mp4\n"
     ]
    },
    {
     "name": "stderr",
     "output_type": "stream",
     "text": [
      "                                                                   \r"
     ]
    },
    {
     "name": "stdout",
     "output_type": "stream",
     "text": [
      "MoviePy - Done.\n",
      "Moviepy - Writing video ./VideosSegmentados\\SUJETO10_FELICIDAD_segmentado.mp4\n",
      "\n"
     ]
    },
    {
     "name": "stderr",
     "output_type": "stream",
     "text": [
      "                                                              \r"
     ]
    },
    {
     "name": "stdout",
     "output_type": "stream",
     "text": [
      "Moviepy - Done !\n",
      "Moviepy - video ready ./VideosSegmentados\\SUJETO10_FELICIDAD_segmentado.mp4\n",
      "Moviepy - Building video ./VideosSegmentados\\SUJETO10_TRISTEZA_segmentado.mp4.\n",
      "MoviePy - Writing audio in SUJETO10_TRISTEZA_segmentadoTEMP_MPY_wvf_snd.mp4\n"
     ]
    },
    {
     "name": "stderr",
     "output_type": "stream",
     "text": [
      "                                                                   \r"
     ]
    },
    {
     "name": "stdout",
     "output_type": "stream",
     "text": [
      "MoviePy - Done.\n",
      "Moviepy - Writing video ./VideosSegmentados\\SUJETO10_TRISTEZA_segmentado.mp4\n",
      "\n"
     ]
    },
    {
     "name": "stderr",
     "output_type": "stream",
     "text": [
      "                                                              \r"
     ]
    },
    {
     "name": "stdout",
     "output_type": "stream",
     "text": [
      "Moviepy - Done !\n",
      "Moviepy - video ready ./VideosSegmentados\\SUJETO10_TRISTEZA_segmentado.mp4\n",
      "Moviepy - Building video ./VideosSegmentados\\SUJETO11_ENOJO_segmentado.mp4.\n",
      "MoviePy - Writing audio in SUJETO11_ENOJO_segmentadoTEMP_MPY_wvf_snd.mp4\n"
     ]
    },
    {
     "name": "stderr",
     "output_type": "stream",
     "text": [
      "                                                                   \r"
     ]
    },
    {
     "name": "stdout",
     "output_type": "stream",
     "text": [
      "MoviePy - Done.\n",
      "Moviepy - Writing video ./VideosSegmentados\\SUJETO11_ENOJO_segmentado.mp4\n",
      "\n"
     ]
    },
    {
     "name": "stderr",
     "output_type": "stream",
     "text": [
      "                                                              \r"
     ]
    },
    {
     "name": "stdout",
     "output_type": "stream",
     "text": [
      "Moviepy - Done !\n",
      "Moviepy - video ready ./VideosSegmentados\\SUJETO11_ENOJO_segmentado.mp4\n",
      "Moviepy - Building video ./VideosSegmentados\\SUJETO11_N1_segmentado.mp4.\n",
      "MoviePy - Writing audio in SUJETO11_N1_segmentadoTEMP_MPY_wvf_snd.mp4\n"
     ]
    },
    {
     "name": "stderr",
     "output_type": "stream",
     "text": [
      "                                                                   \r"
     ]
    },
    {
     "name": "stdout",
     "output_type": "stream",
     "text": [
      "MoviePy - Done.\n",
      "Moviepy - Writing video ./VideosSegmentados\\SUJETO11_N1_segmentado.mp4\n",
      "\n"
     ]
    },
    {
     "name": "stderr",
     "output_type": "stream",
     "text": [
      "                                                              \r"
     ]
    },
    {
     "name": "stdout",
     "output_type": "stream",
     "text": [
      "Moviepy - Done !\n",
      "Moviepy - video ready ./VideosSegmentados\\SUJETO11_N1_segmentado.mp4\n",
      "Moviepy - Building video ./VideosSegmentados\\SUJETO11_FELICIDAD_segmentado.mp4.\n",
      "MoviePy - Writing audio in SUJETO11_FELICIDAD_segmentadoTEMP_MPY_wvf_snd.mp4\n"
     ]
    },
    {
     "name": "stderr",
     "output_type": "stream",
     "text": [
      "                                                                  \r"
     ]
    },
    {
     "name": "stdout",
     "output_type": "stream",
     "text": [
      "MoviePy - Done.\n",
      "Moviepy - Writing video ./VideosSegmentados\\SUJETO11_FELICIDAD_segmentado.mp4\n",
      "\n"
     ]
    },
    {
     "name": "stderr",
     "output_type": "stream",
     "text": [
      "                                                              \r"
     ]
    },
    {
     "name": "stdout",
     "output_type": "stream",
     "text": [
      "Moviepy - Done !\n",
      "Moviepy - video ready ./VideosSegmentados\\SUJETO11_FELICIDAD_segmentado.mp4\n",
      "Moviepy - Building video ./VideosSegmentados\\SUJETO11_TRISTEZA_segmentado.mp4.\n",
      "MoviePy - Writing audio in SUJETO11_TRISTEZA_segmentadoTEMP_MPY_wvf_snd.mp4\n"
     ]
    },
    {
     "name": "stderr",
     "output_type": "stream",
     "text": [
      "                                                                   \r"
     ]
    },
    {
     "name": "stdout",
     "output_type": "stream",
     "text": [
      "MoviePy - Done.\n",
      "Moviepy - Writing video ./VideosSegmentados\\SUJETO11_TRISTEZA_segmentado.mp4\n",
      "\n"
     ]
    },
    {
     "name": "stderr",
     "output_type": "stream",
     "text": [
      "                                                              \r"
     ]
    },
    {
     "name": "stdout",
     "output_type": "stream",
     "text": [
      "Moviepy - Done !\n",
      "Moviepy - video ready ./VideosSegmentados\\SUJETO11_TRISTEZA_segmentado.mp4\n",
      "Moviepy - Building video ./VideosSegmentados\\SUJETO12_ENOJO_segmentado.mp4.\n",
      "MoviePy - Writing audio in SUJETO12_ENOJO_segmentadoTEMP_MPY_wvf_snd.mp4\n"
     ]
    },
    {
     "name": "stderr",
     "output_type": "stream",
     "text": [
      "                                                                   \r"
     ]
    },
    {
     "name": "stdout",
     "output_type": "stream",
     "text": [
      "MoviePy - Done.\n",
      "Moviepy - Writing video ./VideosSegmentados\\SUJETO12_ENOJO_segmentado.mp4\n",
      "\n"
     ]
    },
    {
     "name": "stderr",
     "output_type": "stream",
     "text": [
      "                                                              \r"
     ]
    },
    {
     "name": "stdout",
     "output_type": "stream",
     "text": [
      "Moviepy - Done !\n",
      "Moviepy - video ready ./VideosSegmentados\\SUJETO12_ENOJO_segmentado.mp4\n",
      "Moviepy - Building video ./VideosSegmentados\\SUJETO12_N1_segmentado.mp4.\n",
      "MoviePy - Writing audio in SUJETO12_N1_segmentadoTEMP_MPY_wvf_snd.mp4\n"
     ]
    },
    {
     "name": "stderr",
     "output_type": "stream",
     "text": [
      "                                                                   \r"
     ]
    },
    {
     "name": "stdout",
     "output_type": "stream",
     "text": [
      "MoviePy - Done.\n",
      "Moviepy - Writing video ./VideosSegmentados\\SUJETO12_N1_segmentado.mp4\n",
      "\n"
     ]
    },
    {
     "name": "stderr",
     "output_type": "stream",
     "text": [
      "                                                              \r"
     ]
    },
    {
     "name": "stdout",
     "output_type": "stream",
     "text": [
      "Moviepy - Done !\n",
      "Moviepy - video ready ./VideosSegmentados\\SUJETO12_N1_segmentado.mp4\n",
      "Moviepy - Building video ./VideosSegmentados\\SUJETO12_FELICIDAD_segmentado.mp4.\n",
      "MoviePy - Writing audio in SUJETO12_FELICIDAD_segmentadoTEMP_MPY_wvf_snd.mp4\n"
     ]
    },
    {
     "name": "stderr",
     "output_type": "stream",
     "text": [
      "                                                                   \r"
     ]
    },
    {
     "name": "stdout",
     "output_type": "stream",
     "text": [
      "MoviePy - Done.\n",
      "Moviepy - Writing video ./VideosSegmentados\\SUJETO12_FELICIDAD_segmentado.mp4\n",
      "\n"
     ]
    },
    {
     "name": "stderr",
     "output_type": "stream",
     "text": [
      "                                                              \r"
     ]
    },
    {
     "name": "stdout",
     "output_type": "stream",
     "text": [
      "Moviepy - Done !\n",
      "Moviepy - video ready ./VideosSegmentados\\SUJETO12_FELICIDAD_segmentado.mp4\n",
      "Moviepy - Building video ./VideosSegmentados\\SUJETO12_TRISTEZA_segmentado.mp4.\n",
      "MoviePy - Writing audio in SUJETO12_TRISTEZA_segmentadoTEMP_MPY_wvf_snd.mp4\n"
     ]
    },
    {
     "name": "stderr",
     "output_type": "stream",
     "text": [
      "                                                                   \r"
     ]
    },
    {
     "name": "stdout",
     "output_type": "stream",
     "text": [
      "MoviePy - Done.\n",
      "Moviepy - Writing video ./VideosSegmentados\\SUJETO12_TRISTEZA_segmentado.mp4\n",
      "\n"
     ]
    },
    {
     "name": "stderr",
     "output_type": "stream",
     "text": [
      "                                                              \r"
     ]
    },
    {
     "name": "stdout",
     "output_type": "stream",
     "text": [
      "Moviepy - Done !\n",
      "Moviepy - video ready ./VideosSegmentados\\SUJETO12_TRISTEZA_segmentado.mp4\n"
     ]
    }
   ],
   "source": [
    "import pandas as pd\n",
    "from moviepy.editor import VideoFileClip\n",
    "import os\n",
    "\n",
    "# Cambia esta variable por la ruta a tu archivo CSV\n",
    "csv_file = './VideosSegmentados.csv'\n",
    "\n",
    "# Cambia esta variable por la ruta a la carpeta donde están tus videos originales\n",
    "videos_folder = './Videos/'\n",
    "\n",
    "# Ruta a la carpeta donde quieres guardar los videos segmentados\n",
    "segmented_videos_folder = './VideosSegmentados'\n",
    "\n",
    "# Crea la carpeta para los videos segmentados si no existe\n",
    "if not os.path.exists(segmented_videos_folder):\n",
    "    os.makedirs(segmented_videos_folder)\n",
    "\n",
    "df = pd.read_csv(csv_file)\n",
    "\n",
    "# Itera sobre cada fila del DataFrame\n",
    "for index, row in df.iterrows():\n",
    "    video_path = os.path.join(videos_folder, row['SUJETO'])\n",
    "    inicio = row['INICIO']\n",
    "    fin = row['FIN']\n",
    "    \n",
    "    # Carga el video\n",
    "    clip = VideoFileClip(video_path)\n",
    "    \n",
    "    # Convierte los tiempos de inicio y fin a segundos\n",
    "    start_seconds = int(inicio.split(':')[0]) * 60 + int(inicio.split(':')[1])\n",
    "    end_seconds = int(fin.split(':')[0]) * 60 + int(fin.split(':')[1])\n",
    "    \n",
    "    # Verifica que el tiempo de inicio y fin estén dentro de la duración del video\n",
    "    if start_seconds >= clip.duration or end_seconds > clip.duration:\n",
    "        print(f\"Error en {video_path}: El tiempo de inicio o fin está fuera de la duración del video.\")\n",
    "        continue  # Salta este video y continúa con el siguiente\n",
    "\n",
    "    # Segmenta el video\n",
    "    new_clip = clip.subclip(start_seconds, end_seconds)\n",
    "    \n",
    "    # Segmenta el video\n",
    "    new_clip = clip.subclip(start_seconds, end_seconds)\n",
    "    \n",
    "    # Define la ruta del nuevo video segmentado, incluyendo la carpeta VideosSegmentados\n",
    "    new_video_filename = os.path.splitext(row['SUJETO'])[0] + '_segmentado.mp4'\n",
    "    new_video_path = os.path.join(segmented_videos_folder, new_video_filename)\n",
    "    \n",
    "    # Escribe el video segmentado en el disco\n",
    "    new_clip.write_videofile(new_video_path, codec='libx264', audio_codec='aac')\n",
    "\n",
    "    # Libera recursos\n",
    "    clip.close()\n",
    "    new_clip.close()\n"
   ]
  },
  {
   "cell_type": "code",
   "execution_count": 38,
   "metadata": {},
   "outputs": [
    {
     "name": "stdout",
     "output_type": "stream",
     "text": [
      "Frame guardado: SUJETO10_ENOJO_segmentado_frame0.jpg\n",
      "Frame guardado: SUJETO10_ENOJO_segmentado_frame30.jpg\n",
      "Frame guardado: SUJETO10_ENOJO_segmentado_frame60.jpg\n",
      "Frame guardado: SUJETO10_ENOJO_segmentado_frame90.jpg\n",
      "Frame guardado: SUJETO10_ENOJO_segmentado_frame120.jpg\n",
      "Frame guardado: SUJETO10_ENOJO_segmentado_frame150.jpg\n",
      "Frame guardado: SUJETO10_ENOJO_segmentado_frame180.jpg\n",
      "Frame guardado: SUJETO10_ENOJO_segmentado_frame210.jpg\n",
      "Frame guardado: SUJETO10_ENOJO_segmentado_frame240.jpg\n",
      "Frame guardado: SUJETO10_ENOJO_segmentado_frame270.jpg\n",
      "Frame guardado: SUJETO10_ENOJO_segmentado_frame300.jpg\n",
      "Frame guardado: SUJETO10_FELICIDAD_segmentado_frame0.jpg\n",
      "Frame guardado: SUJETO10_FELICIDAD_segmentado_frame30.jpg\n",
      "Frame guardado: SUJETO10_FELICIDAD_segmentado_frame60.jpg\n",
      "Frame guardado: SUJETO10_FELICIDAD_segmentado_frame90.jpg\n",
      "Frame guardado: SUJETO10_FELICIDAD_segmentado_frame120.jpg\n",
      "Frame guardado: SUJETO10_FELICIDAD_segmentado_frame150.jpg\n",
      "Frame guardado: SUJETO10_FELICIDAD_segmentado_frame180.jpg\n",
      "Frame guardado: SUJETO10_FELICIDAD_segmentado_frame210.jpg\n",
      "Frame guardado: SUJETO10_FELICIDAD_segmentado_frame240.jpg\n",
      "Frame guardado: SUJETO10_FELICIDAD_segmentado_frame270.jpg\n",
      "Frame guardado: SUJETO10_N1_segmentado_frame0.jpg\n",
      "Frame guardado: SUJETO10_N1_segmentado_frame30.jpg\n",
      "Frame guardado: SUJETO10_N1_segmentado_frame60.jpg\n",
      "Frame guardado: SUJETO10_N1_segmentado_frame90.jpg\n",
      "Frame guardado: SUJETO10_N1_segmentado_frame120.jpg\n",
      "Frame guardado: SUJETO10_N1_segmentado_frame150.jpg\n",
      "Frame guardado: SUJETO10_N1_segmentado_frame180.jpg\n",
      "Frame guardado: SUJETO10_N1_segmentado_frame210.jpg\n",
      "Frame guardado: SUJETO10_N1_segmentado_frame240.jpg\n",
      "Frame guardado: SUJETO10_N1_segmentado_frame270.jpg\n",
      "Frame guardado: SUJETO10_TRISTEZA_segmentado_frame0.jpg\n",
      "Frame guardado: SUJETO10_TRISTEZA_segmentado_frame30.jpg\n",
      "Frame guardado: SUJETO10_TRISTEZA_segmentado_frame60.jpg\n",
      "Frame guardado: SUJETO10_TRISTEZA_segmentado_frame90.jpg\n",
      "Frame guardado: SUJETO10_TRISTEZA_segmentado_frame120.jpg\n",
      "Frame guardado: SUJETO10_TRISTEZA_segmentado_frame150.jpg\n",
      "Frame guardado: SUJETO10_TRISTEZA_segmentado_frame180.jpg\n",
      "Frame guardado: SUJETO10_TRISTEZA_segmentado_frame210.jpg\n",
      "Frame guardado: SUJETO10_TRISTEZA_segmentado_frame240.jpg\n",
      "Frame guardado: SUJETO10_TRISTEZA_segmentado_frame270.jpg\n",
      "Frame guardado: SUJETO11_ENOJO_segmentado_frame0.jpg\n",
      "Frame guardado: SUJETO11_ENOJO_segmentado_frame30.jpg\n",
      "Frame guardado: SUJETO11_ENOJO_segmentado_frame60.jpg\n",
      "Frame guardado: SUJETO11_ENOJO_segmentado_frame90.jpg\n",
      "Frame guardado: SUJETO11_ENOJO_segmentado_frame120.jpg\n",
      "Frame guardado: SUJETO11_ENOJO_segmentado_frame150.jpg\n",
      "Frame guardado: SUJETO11_ENOJO_segmentado_frame180.jpg\n",
      "Frame guardado: SUJETO11_ENOJO_segmentado_frame210.jpg\n",
      "Frame guardado: SUJETO11_ENOJO_segmentado_frame240.jpg\n",
      "Frame guardado: SUJETO11_ENOJO_segmentado_frame270.jpg\n",
      "Frame guardado: SUJETO11_ENOJO_segmentado_frame300.jpg\n",
      "Frame guardado: SUJETO11_ENOJO_segmentado_frame330.jpg\n",
      "Frame guardado: SUJETO11_FELICIDAD_segmentado_frame0.jpg\n",
      "Frame guardado: SUJETO11_FELICIDAD_segmentado_frame30.jpg\n",
      "Frame guardado: SUJETO11_FELICIDAD_segmentado_frame60.jpg\n",
      "Frame guardado: SUJETO11_FELICIDAD_segmentado_frame90.jpg\n",
      "Frame guardado: SUJETO11_FELICIDAD_segmentado_frame120.jpg\n",
      "Frame guardado: SUJETO11_FELICIDAD_segmentado_frame150.jpg\n",
      "Frame guardado: SUJETO11_FELICIDAD_segmentado_frame180.jpg\n",
      "Frame guardado: SUJETO11_N1_segmentado_frame0.jpg\n",
      "Frame guardado: SUJETO11_N1_segmentado_frame30.jpg\n",
      "Frame guardado: SUJETO11_N1_segmentado_frame60.jpg\n",
      "Frame guardado: SUJETO11_N1_segmentado_frame90.jpg\n",
      "Frame guardado: SUJETO11_N1_segmentado_frame120.jpg\n",
      "Frame guardado: SUJETO11_N1_segmentado_frame150.jpg\n",
      "Frame guardado: SUJETO11_N1_segmentado_frame180.jpg\n",
      "Frame guardado: SUJETO11_N1_segmentado_frame210.jpg\n",
      "Frame guardado: SUJETO11_N1_segmentado_frame240.jpg\n",
      "Frame guardado: SUJETO11_N1_segmentado_frame270.jpg\n",
      "Frame guardado: SUJETO11_TRISTEZA_segmentado_frame0.jpg\n",
      "Frame guardado: SUJETO11_TRISTEZA_segmentado_frame30.jpg\n",
      "Frame guardado: SUJETO11_TRISTEZA_segmentado_frame60.jpg\n",
      "Frame guardado: SUJETO11_TRISTEZA_segmentado_frame90.jpg\n",
      "Frame guardado: SUJETO11_TRISTEZA_segmentado_frame120.jpg\n",
      "Frame guardado: SUJETO11_TRISTEZA_segmentado_frame150.jpg\n",
      "Frame guardado: SUJETO11_TRISTEZA_segmentado_frame180.jpg\n",
      "Frame guardado: SUJETO11_TRISTEZA_segmentado_frame210.jpg\n",
      "Frame guardado: SUJETO11_TRISTEZA_segmentado_frame240.jpg\n",
      "Frame guardado: SUJETO11_TRISTEZA_segmentado_frame270.jpg\n",
      "Frame guardado: SUJETO12_ENOJO_segmentado_frame0.jpg\n",
      "Frame guardado: SUJETO12_ENOJO_segmentado_frame30.jpg\n",
      "Frame guardado: SUJETO12_ENOJO_segmentado_frame60.jpg\n",
      "Frame guardado: SUJETO12_ENOJO_segmentado_frame90.jpg\n",
      "Frame guardado: SUJETO12_ENOJO_segmentado_frame120.jpg\n",
      "Frame guardado: SUJETO12_ENOJO_segmentado_frame150.jpg\n",
      "Frame guardado: SUJETO12_ENOJO_segmentado_frame180.jpg\n",
      "Frame guardado: SUJETO12_ENOJO_segmentado_frame210.jpg\n",
      "Frame guardado: SUJETO12_ENOJO_segmentado_frame240.jpg\n",
      "Frame guardado: SUJETO12_ENOJO_segmentado_frame270.jpg\n",
      "Frame guardado: SUJETO12_FELICIDAD_segmentado_frame0.jpg\n",
      "Frame guardado: SUJETO12_FELICIDAD_segmentado_frame30.jpg\n",
      "Frame guardado: SUJETO12_FELICIDAD_segmentado_frame60.jpg\n",
      "Frame guardado: SUJETO12_FELICIDAD_segmentado_frame90.jpg\n",
      "Frame guardado: SUJETO12_FELICIDAD_segmentado_frame120.jpg\n",
      "Frame guardado: SUJETO12_FELICIDAD_segmentado_frame150.jpg\n",
      "Frame guardado: SUJETO12_FELICIDAD_segmentado_frame180.jpg\n",
      "Frame guardado: SUJETO12_FELICIDAD_segmentado_frame210.jpg\n",
      "Frame guardado: SUJETO12_FELICIDAD_segmentado_frame240.jpg\n",
      "Frame guardado: SUJETO12_FELICIDAD_segmentado_frame270.jpg\n",
      "Frame guardado: SUJETO12_N1_segmentado_frame0.jpg\n",
      "Frame guardado: SUJETO12_N1_segmentado_frame30.jpg\n",
      "Frame guardado: SUJETO12_N1_segmentado_frame60.jpg\n",
      "Frame guardado: SUJETO12_N1_segmentado_frame90.jpg\n",
      "Frame guardado: SUJETO12_N1_segmentado_frame120.jpg\n",
      "Frame guardado: SUJETO12_N1_segmentado_frame150.jpg\n",
      "Frame guardado: SUJETO12_N1_segmentado_frame180.jpg\n",
      "Frame guardado: SUJETO12_N1_segmentado_frame210.jpg\n",
      "Frame guardado: SUJETO12_N1_segmentado_frame240.jpg\n",
      "Frame guardado: SUJETO12_N1_segmentado_frame270.jpg\n",
      "Frame guardado: SUJETO12_TRISTEZA_segmentado_frame0.jpg\n",
      "Frame guardado: SUJETO12_TRISTEZA_segmentado_frame30.jpg\n",
      "Frame guardado: SUJETO12_TRISTEZA_segmentado_frame60.jpg\n",
      "Frame guardado: SUJETO12_TRISTEZA_segmentado_frame90.jpg\n",
      "Frame guardado: SUJETO12_TRISTEZA_segmentado_frame120.jpg\n",
      "Frame guardado: SUJETO12_TRISTEZA_segmentado_frame150.jpg\n",
      "Frame guardado: SUJETO12_TRISTEZA_segmentado_frame180.jpg\n",
      "Frame guardado: SUJETO12_TRISTEZA_segmentado_frame210.jpg\n",
      "Frame guardado: SUJETO12_TRISTEZA_segmentado_frame240.jpg\n",
      "Frame guardado: SUJETO12_TRISTEZA_segmentado_frame270.jpg\n",
      "Frame guardado: SUJETO1_ENOJO_segmentado_frame0.jpg\n",
      "Frame guardado: SUJETO1_ENOJO_segmentado_frame30.jpg\n",
      "Frame guardado: SUJETO1_ENOJO_segmentado_frame60.jpg\n",
      "Frame guardado: SUJETO1_ENOJO_segmentado_frame90.jpg\n",
      "Frame guardado: SUJETO1_ENOJO_segmentado_frame120.jpg\n",
      "Frame guardado: SUJETO1_ENOJO_segmentado_frame150.jpg\n",
      "Frame guardado: SUJETO1_ENOJO_segmentado_frame180.jpg\n",
      "Frame guardado: SUJETO1_ENOJO_segmentado_frame210.jpg\n",
      "Frame guardado: SUJETO1_ENOJO_segmentado_frame240.jpg\n",
      "Frame guardado: SUJETO1_ENOJO_segmentado_frame270.jpg\n",
      "Frame guardado: SUJETO1_ENOJO_segmentado_frame300.jpg\n",
      "Frame guardado: SUJETO1_FELICIDAD_segmentado_frame0.jpg\n",
      "Frame guardado: SUJETO1_FELICIDAD_segmentado_frame30.jpg\n",
      "Frame guardado: SUJETO1_FELICIDAD_segmentado_frame60.jpg\n",
      "Frame guardado: SUJETO1_FELICIDAD_segmentado_frame90.jpg\n",
      "Frame guardado: SUJETO1_FELICIDAD_segmentado_frame120.jpg\n",
      "Frame guardado: SUJETO1_FELICIDAD_segmentado_frame150.jpg\n",
      "Frame guardado: SUJETO1_FELICIDAD_segmentado_frame180.jpg\n",
      "Frame guardado: SUJETO1_N1_segmentado_frame0.jpg\n",
      "Frame guardado: SUJETO1_N1_segmentado_frame30.jpg\n",
      "Frame guardado: SUJETO1_N1_segmentado_frame60.jpg\n",
      "Frame guardado: SUJETO1_N1_segmentado_frame90.jpg\n",
      "Frame guardado: SUJETO1_N1_segmentado_frame120.jpg\n",
      "Frame guardado: SUJETO1_N1_segmentado_frame150.jpg\n",
      "Frame guardado: SUJETO1_N1_segmentado_frame180.jpg\n",
      "Frame guardado: SUJETO1_N1_segmentado_frame210.jpg\n",
      "Frame guardado: SUJETO1_N1_segmentado_frame240.jpg\n",
      "Frame guardado: SUJETO1_N1_segmentado_frame270.jpg\n",
      "Frame guardado: SUJETO1_TRISTEZA_segmentado_frame0.jpg\n",
      "Frame guardado: SUJETO1_TRISTEZA_segmentado_frame30.jpg\n",
      "Frame guardado: SUJETO1_TRISTEZA_segmentado_frame60.jpg\n",
      "Frame guardado: SUJETO1_TRISTEZA_segmentado_frame90.jpg\n",
      "Frame guardado: SUJETO1_TRISTEZA_segmentado_frame120.jpg\n",
      "Frame guardado: SUJETO1_TRISTEZA_segmentado_frame150.jpg\n",
      "Frame guardado: SUJETO1_TRISTEZA_segmentado_frame180.jpg\n",
      "Frame guardado: SUJETO1_TRISTEZA_segmentado_frame210.jpg\n",
      "Frame guardado: SUJETO1_TRISTEZA_segmentado_frame240.jpg\n",
      "Frame guardado: SUJETO1_TRISTEZA_segmentado_frame270.jpg\n",
      "Frame guardado: SUJETO2_ENOJO_segmentado_frame0.jpg\n",
      "Frame guardado: SUJETO2_ENOJO_segmentado_frame30.jpg\n",
      "Frame guardado: SUJETO2_ENOJO_segmentado_frame60.jpg\n",
      "Frame guardado: SUJETO2_ENOJO_segmentado_frame90.jpg\n",
      "Frame guardado: SUJETO2_ENOJO_segmentado_frame120.jpg\n",
      "Frame guardado: SUJETO2_ENOJO_segmentado_frame150.jpg\n",
      "Frame guardado: SUJETO2_ENOJO_segmentado_frame180.jpg\n",
      "Frame guardado: SUJETO2_ENOJO_segmentado_frame210.jpg\n",
      "Frame guardado: SUJETO2_ENOJO_segmentado_frame240.jpg\n",
      "Frame guardado: SUJETO2_ENOJO_segmentado_frame270.jpg\n",
      "Frame guardado: SUJETO2_FELICIDAD_segmentado_frame0.jpg\n",
      "Frame guardado: SUJETO2_FELICIDAD_segmentado_frame30.jpg\n",
      "Frame guardado: SUJETO2_FELICIDAD_segmentado_frame60.jpg\n",
      "Frame guardado: SUJETO2_FELICIDAD_segmentado_frame90.jpg\n",
      "Frame guardado: SUJETO2_FELICIDAD_segmentado_frame120.jpg\n",
      "Frame guardado: SUJETO2_FELICIDAD_segmentado_frame150.jpg\n",
      "Frame guardado: SUJETO2_FELICIDAD_segmentado_frame180.jpg\n",
      "Frame guardado: SUJETO2_FELICIDAD_segmentado_frame210.jpg\n",
      "Frame guardado: SUJETO2_FELICIDAD_segmentado_frame240.jpg\n",
      "Frame guardado: SUJETO2_N1_segmentado_frame0.jpg\n",
      "Frame guardado: SUJETO2_N1_segmentado_frame30.jpg\n",
      "Frame guardado: SUJETO2_N1_segmentado_frame60.jpg\n",
      "Frame guardado: SUJETO2_N1_segmentado_frame90.jpg\n",
      "Frame guardado: SUJETO2_N1_segmentado_frame120.jpg\n",
      "Frame guardado: SUJETO2_N1_segmentado_frame150.jpg\n",
      "Frame guardado: SUJETO2_N1_segmentado_frame180.jpg\n",
      "Frame guardado: SUJETO2_N1_segmentado_frame210.jpg\n",
      "Frame guardado: SUJETO2_N1_segmentado_frame240.jpg\n",
      "Frame guardado: SUJETO2_N1_segmentado_frame270.jpg\n",
      "Frame guardado: SUJETO2_TRISTEZA_segmentado_frame0.jpg\n",
      "Frame guardado: SUJETO2_TRISTEZA_segmentado_frame30.jpg\n",
      "Frame guardado: SUJETO2_TRISTEZA_segmentado_frame60.jpg\n",
      "Frame guardado: SUJETO2_TRISTEZA_segmentado_frame90.jpg\n",
      "Frame guardado: SUJETO2_TRISTEZA_segmentado_frame120.jpg\n",
      "Frame guardado: SUJETO2_TRISTEZA_segmentado_frame150.jpg\n",
      "Frame guardado: SUJETO2_TRISTEZA_segmentado_frame180.jpg\n",
      "Frame guardado: SUJETO2_TRISTEZA_segmentado_frame210.jpg\n",
      "Frame guardado: SUJETO2_TRISTEZA_segmentado_frame240.jpg\n",
      "Frame guardado: SUJETO2_TRISTEZA_segmentado_frame270.jpg\n",
      "Frame guardado: SUJETO3_ENOJO_segmentado_frame0.jpg\n",
      "Frame guardado: SUJETO3_ENOJO_segmentado_frame30.jpg\n",
      "Frame guardado: SUJETO3_ENOJO_segmentado_frame60.jpg\n",
      "Frame guardado: SUJETO3_ENOJO_segmentado_frame90.jpg\n",
      "Frame guardado: SUJETO3_ENOJO_segmentado_frame120.jpg\n",
      "Frame guardado: SUJETO3_ENOJO_segmentado_frame150.jpg\n",
      "Frame guardado: SUJETO3_ENOJO_segmentado_frame180.jpg\n",
      "Frame guardado: SUJETO3_ENOJO_segmentado_frame210.jpg\n",
      "Frame guardado: SUJETO3_ENOJO_segmentado_frame240.jpg\n",
      "Frame guardado: SUJETO3_ENOJO_segmentado_frame270.jpg\n",
      "Frame guardado: SUJETO3_FELICIDAD_segmentado_frame0.jpg\n",
      "Frame guardado: SUJETO3_FELICIDAD_segmentado_frame30.jpg\n",
      "Frame guardado: SUJETO3_FELICIDAD_segmentado_frame60.jpg\n",
      "Frame guardado: SUJETO3_FELICIDAD_segmentado_frame90.jpg\n",
      "Frame guardado: SUJETO3_FELICIDAD_segmentado_frame120.jpg\n",
      "Frame guardado: SUJETO3_FELICIDAD_segmentado_frame150.jpg\n",
      "Frame guardado: SUJETO3_FELICIDAD_segmentado_frame180.jpg\n",
      "Frame guardado: SUJETO3_FELICIDAD_segmentado_frame210.jpg\n",
      "Frame guardado: SUJETO3_FELICIDAD_segmentado_frame240.jpg\n",
      "Frame guardado: SUJETO3_N1_segmentado_frame0.jpg\n",
      "Frame guardado: SUJETO3_N1_segmentado_frame30.jpg\n",
      "Frame guardado: SUJETO3_N1_segmentado_frame60.jpg\n",
      "Frame guardado: SUJETO3_N1_segmentado_frame90.jpg\n",
      "Frame guardado: SUJETO3_N1_segmentado_frame120.jpg\n",
      "Frame guardado: SUJETO3_N1_segmentado_frame150.jpg\n",
      "Frame guardado: SUJETO3_N1_segmentado_frame180.jpg\n",
      "Frame guardado: SUJETO3_N1_segmentado_frame210.jpg\n",
      "Frame guardado: SUJETO3_N1_segmentado_frame240.jpg\n",
      "Frame guardado: SUJETO3_N1_segmentado_frame270.jpg\n",
      "Frame guardado: SUJETO3_TRISTEZA_segmentado_frame0.jpg\n",
      "Frame guardado: SUJETO3_TRISTEZA_segmentado_frame30.jpg\n",
      "Frame guardado: SUJETO3_TRISTEZA_segmentado_frame60.jpg\n",
      "Frame guardado: SUJETO3_TRISTEZA_segmentado_frame90.jpg\n",
      "Frame guardado: SUJETO3_TRISTEZA_segmentado_frame120.jpg\n",
      "Frame guardado: SUJETO3_TRISTEZA_segmentado_frame150.jpg\n",
      "Frame guardado: SUJETO3_TRISTEZA_segmentado_frame180.jpg\n",
      "Frame guardado: SUJETO3_TRISTEZA_segmentado_frame210.jpg\n",
      "Frame guardado: SUJETO3_TRISTEZA_segmentado_frame240.jpg\n",
      "Frame guardado: SUJETO3_TRISTEZA_segmentado_frame270.jpg\n",
      "Frame guardado: SUJETO4_ENOJO_segmentado_frame0.jpg\n",
      "Frame guardado: SUJETO4_ENOJO_segmentado_frame30.jpg\n",
      "Frame guardado: SUJETO4_ENOJO_segmentado_frame60.jpg\n",
      "Frame guardado: SUJETO4_ENOJO_segmentado_frame90.jpg\n",
      "Frame guardado: SUJETO4_ENOJO_segmentado_frame120.jpg\n",
      "Frame guardado: SUJETO4_ENOJO_segmentado_frame150.jpg\n",
      "Frame guardado: SUJETO4_ENOJO_segmentado_frame180.jpg\n",
      "Frame guardado: SUJETO4_ENOJO_segmentado_frame210.jpg\n",
      "Frame guardado: SUJETO4_ENOJO_segmentado_frame240.jpg\n",
      "Frame guardado: SUJETO4_ENOJO_segmentado_frame270.jpg\n",
      "Frame guardado: SUJETO4_ENOJO_segmentado_frame300.jpg\n",
      "Frame guardado: SUJETO4_FELICIDAD_segmentado_frame0.jpg\n",
      "Frame guardado: SUJETO4_FELICIDAD_segmentado_frame30.jpg\n",
      "Frame guardado: SUJETO4_FELICIDAD_segmentado_frame60.jpg\n",
      "Frame guardado: SUJETO4_FELICIDAD_segmentado_frame90.jpg\n",
      "Frame guardado: SUJETO4_FELICIDAD_segmentado_frame120.jpg\n",
      "Frame guardado: SUJETO4_FELICIDAD_segmentado_frame150.jpg\n",
      "Frame guardado: SUJETO4_FELICIDAD_segmentado_frame180.jpg\n",
      "Frame guardado: SUJETO4_FELICIDAD_segmentado_frame210.jpg\n",
      "Frame guardado: SUJETO4_FELICIDAD_segmentado_frame240.jpg\n",
      "Frame guardado: SUJETO4_N1_segmentado_frame0.jpg\n",
      "Frame guardado: SUJETO4_N1_segmentado_frame30.jpg\n",
      "Frame guardado: SUJETO4_N1_segmentado_frame60.jpg\n",
      "Frame guardado: SUJETO4_N1_segmentado_frame90.jpg\n",
      "Frame guardado: SUJETO4_N1_segmentado_frame120.jpg\n",
      "Frame guardado: SUJETO4_N1_segmentado_frame150.jpg\n",
      "Frame guardado: SUJETO4_N1_segmentado_frame180.jpg\n",
      "Frame guardado: SUJETO4_N1_segmentado_frame210.jpg\n",
      "Frame guardado: SUJETO4_N1_segmentado_frame240.jpg\n",
      "Frame guardado: SUJETO4_N1_segmentado_frame270.jpg\n",
      "Frame guardado: SUJETO4_TRISTEZA_segmentado_frame0.jpg\n",
      "Frame guardado: SUJETO4_TRISTEZA_segmentado_frame30.jpg\n",
      "Frame guardado: SUJETO4_TRISTEZA_segmentado_frame60.jpg\n",
      "Frame guardado: SUJETO4_TRISTEZA_segmentado_frame90.jpg\n",
      "Frame guardado: SUJETO4_TRISTEZA_segmentado_frame120.jpg\n",
      "Frame guardado: SUJETO4_TRISTEZA_segmentado_frame150.jpg\n",
      "Frame guardado: SUJETO4_TRISTEZA_segmentado_frame180.jpg\n",
      "Frame guardado: SUJETO4_TRISTEZA_segmentado_frame210.jpg\n",
      "Frame guardado: SUJETO4_TRISTEZA_segmentado_frame240.jpg\n",
      "Frame guardado: SUJETO4_TRISTEZA_segmentado_frame270.jpg\n",
      "Frame guardado: SUJETO5_ENOJO_segmentado_frame0.jpg\n",
      "Frame guardado: SUJETO5_ENOJO_segmentado_frame30.jpg\n",
      "Frame guardado: SUJETO5_ENOJO_segmentado_frame60.jpg\n",
      "Frame guardado: SUJETO5_ENOJO_segmentado_frame90.jpg\n",
      "Frame guardado: SUJETO5_ENOJO_segmentado_frame120.jpg\n",
      "Frame guardado: SUJETO5_ENOJO_segmentado_frame150.jpg\n",
      "Frame guardado: SUJETO5_ENOJO_segmentado_frame180.jpg\n",
      "Frame guardado: SUJETO5_ENOJO_segmentado_frame210.jpg\n",
      "Frame guardado: SUJETO5_ENOJO_segmentado_frame240.jpg\n",
      "Frame guardado: SUJETO5_ENOJO_segmentado_frame270.jpg\n",
      "Frame guardado: SUJETO5_ENOJO_segmentado_frame300.jpg\n",
      "Frame guardado: SUJETO5_FELICIDAD_segmentado_frame0.jpg\n",
      "Frame guardado: SUJETO5_FELICIDAD_segmentado_frame30.jpg\n",
      "Frame guardado: SUJETO5_FELICIDAD_segmentado_frame60.jpg\n",
      "Frame guardado: SUJETO5_FELICIDAD_segmentado_frame90.jpg\n",
      "Frame guardado: SUJETO5_FELICIDAD_segmentado_frame120.jpg\n",
      "Frame guardado: SUJETO5_FELICIDAD_segmentado_frame150.jpg\n",
      "Frame guardado: SUJETO5_FELICIDAD_segmentado_frame180.jpg\n",
      "Frame guardado: SUJETO5_FELICIDAD_segmentado_frame210.jpg\n",
      "Frame guardado: SUJETO5_FELICIDAD_segmentado_frame240.jpg\n",
      "Frame guardado: SUJETO5_FELICIDAD_segmentado_frame270.jpg\n",
      "Frame guardado: SUJETO5_N1_segmentado_frame0.jpg\n",
      "Frame guardado: SUJETO5_N1_segmentado_frame30.jpg\n",
      "Frame guardado: SUJETO5_N1_segmentado_frame60.jpg\n",
      "Frame guardado: SUJETO5_N1_segmentado_frame90.jpg\n",
      "Frame guardado: SUJETO5_N1_segmentado_frame120.jpg\n",
      "Frame guardado: SUJETO5_N1_segmentado_frame150.jpg\n",
      "Frame guardado: SUJETO5_N1_segmentado_frame180.jpg\n",
      "Frame guardado: SUJETO5_N1_segmentado_frame210.jpg\n",
      "Frame guardado: SUJETO5_N1_segmentado_frame240.jpg\n",
      "Frame guardado: SUJETO5_N1_segmentado_frame270.jpg\n",
      "Frame guardado: SUJETO5_TRISTEZA_segmentado_frame0.jpg\n",
      "Frame guardado: SUJETO5_TRISTEZA_segmentado_frame30.jpg\n",
      "Frame guardado: SUJETO5_TRISTEZA_segmentado_frame60.jpg\n",
      "Frame guardado: SUJETO5_TRISTEZA_segmentado_frame90.jpg\n",
      "Frame guardado: SUJETO5_TRISTEZA_segmentado_frame120.jpg\n",
      "Frame guardado: SUJETO5_TRISTEZA_segmentado_frame150.jpg\n",
      "Frame guardado: SUJETO5_TRISTEZA_segmentado_frame180.jpg\n",
      "Frame guardado: SUJETO5_TRISTEZA_segmentado_frame210.jpg\n",
      "Frame guardado: SUJETO5_TRISTEZA_segmentado_frame240.jpg\n",
      "Frame guardado: SUJETO6_ENOJO_segmentado_frame0.jpg\n",
      "Frame guardado: SUJETO6_ENOJO_segmentado_frame30.jpg\n",
      "Frame guardado: SUJETO6_ENOJO_segmentado_frame60.jpg\n",
      "Frame guardado: SUJETO6_ENOJO_segmentado_frame90.jpg\n",
      "Frame guardado: SUJETO6_ENOJO_segmentado_frame120.jpg\n",
      "Frame guardado: SUJETO6_ENOJO_segmentado_frame150.jpg\n",
      "Frame guardado: SUJETO6_ENOJO_segmentado_frame180.jpg\n",
      "Frame guardado: SUJETO6_ENOJO_segmentado_frame210.jpg\n",
      "Frame guardado: SUJETO6_ENOJO_segmentado_frame240.jpg\n",
      "Frame guardado: SUJETO6_ENOJO_segmentado_frame270.jpg\n",
      "Frame guardado: SUJETO6_ENOJO_segmentado_frame300.jpg\n",
      "Frame guardado: SUJETO6_ENOJO_segmentado_frame330.jpg\n",
      "Frame guardado: SUJETO6_FELICIDAD_segmentado_frame0.jpg\n",
      "Frame guardado: SUJETO6_FELICIDAD_segmentado_frame30.jpg\n",
      "Frame guardado: SUJETO6_FELICIDAD_segmentado_frame60.jpg\n",
      "Frame guardado: SUJETO6_FELICIDAD_segmentado_frame90.jpg\n",
      "Frame guardado: SUJETO6_FELICIDAD_segmentado_frame120.jpg\n",
      "Frame guardado: SUJETO6_FELICIDAD_segmentado_frame150.jpg\n",
      "Frame guardado: SUJETO6_FELICIDAD_segmentado_frame180.jpg\n",
      "Frame guardado: SUJETO6_FELICIDAD_segmentado_frame210.jpg\n",
      "Frame guardado: SUJETO6_FELICIDAD_segmentado_frame240.jpg\n",
      "Frame guardado: SUJETO6_FELICIDAD_segmentado_frame270.jpg\n",
      "Frame guardado: SUJETO6_N1_segmentado_frame0.jpg\n",
      "Frame guardado: SUJETO6_N1_segmentado_frame30.jpg\n",
      "Frame guardado: SUJETO6_N1_segmentado_frame60.jpg\n",
      "Frame guardado: SUJETO6_N1_segmentado_frame90.jpg\n",
      "Frame guardado: SUJETO6_N1_segmentado_frame120.jpg\n",
      "Frame guardado: SUJETO6_N1_segmentado_frame150.jpg\n",
      "Frame guardado: SUJETO6_N1_segmentado_frame180.jpg\n",
      "Frame guardado: SUJETO6_N1_segmentado_frame210.jpg\n",
      "Frame guardado: SUJETO6_N1_segmentado_frame240.jpg\n",
      "Frame guardado: SUJETO6_N1_segmentado_frame270.jpg\n",
      "Frame guardado: SUJETO6_TRISTEZA_segmentado_frame0.jpg\n",
      "Frame guardado: SUJETO6_TRISTEZA_segmentado_frame30.jpg\n",
      "Frame guardado: SUJETO6_TRISTEZA_segmentado_frame60.jpg\n",
      "Frame guardado: SUJETO6_TRISTEZA_segmentado_frame90.jpg\n",
      "Frame guardado: SUJETO6_TRISTEZA_segmentado_frame120.jpg\n",
      "Frame guardado: SUJETO7_ENOJO_segmentado_frame0.jpg\n",
      "Frame guardado: SUJETO7_ENOJO_segmentado_frame30.jpg\n",
      "Frame guardado: SUJETO7_ENOJO_segmentado_frame60.jpg\n",
      "Frame guardado: SUJETO7_ENOJO_segmentado_frame90.jpg\n",
      "Frame guardado: SUJETO7_ENOJO_segmentado_frame120.jpg\n",
      "Frame guardado: SUJETO7_ENOJO_segmentado_frame150.jpg\n",
      "Frame guardado: SUJETO7_ENOJO_segmentado_frame180.jpg\n",
      "Frame guardado: SUJETO7_ENOJO_segmentado_frame210.jpg\n",
      "Frame guardado: SUJETO7_ENOJO_segmentado_frame240.jpg\n",
      "Frame guardado: SUJETO7_ENOJO_segmentado_frame270.jpg\n",
      "Frame guardado: SUJETO7_ENOJO_segmentado_frame300.jpg\n",
      "Frame guardado: SUJETO7_FELICIDAD_segmentado_frame0.jpg\n",
      "Frame guardado: SUJETO7_FELICIDAD_segmentado_frame30.jpg\n",
      "Frame guardado: SUJETO7_FELICIDAD_segmentado_frame60.jpg\n",
      "Frame guardado: SUJETO7_FELICIDAD_segmentado_frame90.jpg\n",
      "Frame guardado: SUJETO7_FELICIDAD_segmentado_frame120.jpg\n",
      "Frame guardado: SUJETO7_N1_segmentado_frame0.jpg\n",
      "Frame guardado: SUJETO7_N1_segmentado_frame30.jpg\n",
      "Frame guardado: SUJETO7_N1_segmentado_frame60.jpg\n",
      "Frame guardado: SUJETO7_N1_segmentado_frame90.jpg\n",
      "Frame guardado: SUJETO7_N1_segmentado_frame120.jpg\n",
      "Frame guardado: SUJETO7_N1_segmentado_frame150.jpg\n",
      "Frame guardado: SUJETO7_N1_segmentado_frame180.jpg\n",
      "Frame guardado: SUJETO7_N1_segmentado_frame210.jpg\n",
      "Frame guardado: SUJETO7_N1_segmentado_frame240.jpg\n",
      "Frame guardado: SUJETO7_N1_segmentado_frame270.jpg\n",
      "Frame guardado: SUJETO7_TRISTEZA_segmentado_frame0.jpg\n",
      "Frame guardado: SUJETO7_TRISTEZA_segmentado_frame30.jpg\n",
      "Frame guardado: SUJETO7_TRISTEZA_segmentado_frame60.jpg\n",
      "Frame guardado: SUJETO7_TRISTEZA_segmentado_frame90.jpg\n",
      "Frame guardado: SUJETO7_TRISTEZA_segmentado_frame120.jpg\n",
      "Frame guardado: SUJETO7_TRISTEZA_segmentado_frame150.jpg\n",
      "Frame guardado: SUJETO7_TRISTEZA_segmentado_frame180.jpg\n",
      "Frame guardado: SUJETO7_TRISTEZA_segmentado_frame210.jpg\n",
      "Frame guardado: SUJETO7_TRISTEZA_segmentado_frame240.jpg\n",
      "Frame guardado: SUJETO7_TRISTEZA_segmentado_frame270.jpg\n",
      "Frame guardado: SUJETO8_ENOJO_segmentado_frame0.jpg\n",
      "Frame guardado: SUJETO8_ENOJO_segmentado_frame30.jpg\n",
      "Frame guardado: SUJETO8_ENOJO_segmentado_frame60.jpg\n",
      "Frame guardado: SUJETO8_ENOJO_segmentado_frame90.jpg\n",
      "Frame guardado: SUJETO8_ENOJO_segmentado_frame120.jpg\n",
      "Frame guardado: SUJETO8_ENOJO_segmentado_frame150.jpg\n",
      "Frame guardado: SUJETO8_ENOJO_segmentado_frame180.jpg\n",
      "Frame guardado: SUJETO8_ENOJO_segmentado_frame210.jpg\n",
      "Frame guardado: SUJETO8_ENOJO_segmentado_frame240.jpg\n",
      "Frame guardado: SUJETO8_ENOJO_segmentado_frame270.jpg\n",
      "Frame guardado: SUJETO8_ENOJO_segmentado_frame300.jpg\n",
      "Frame guardado: SUJETO8_ENOJO_segmentado_frame330.jpg\n",
      "Frame guardado: SUJETO8_FELICIDAD_segmentado_frame0.jpg\n",
      "Frame guardado: SUJETO8_FELICIDAD_segmentado_frame30.jpg\n",
      "Frame guardado: SUJETO8_FELICIDAD_segmentado_frame60.jpg\n",
      "Frame guardado: SUJETO8_FELICIDAD_segmentado_frame90.jpg\n",
      "Frame guardado: SUJETO8_FELICIDAD_segmentado_frame120.jpg\n",
      "Frame guardado: SUJETO8_FELICIDAD_segmentado_frame150.jpg\n",
      "Frame guardado: SUJETO8_FELICIDAD_segmentado_frame180.jpg\n",
      "Frame guardado: SUJETO8_FELICIDAD_segmentado_frame210.jpg\n",
      "Frame guardado: SUJETO8_FELICIDAD_segmentado_frame240.jpg\n",
      "Frame guardado: SUJETO8_FELICIDAD_segmentado_frame270.jpg\n",
      "Frame guardado: SUJETO8_N1_segmentado_frame0.jpg\n",
      "Frame guardado: SUJETO8_N1_segmentado_frame30.jpg\n",
      "Frame guardado: SUJETO8_N1_segmentado_frame60.jpg\n",
      "Frame guardado: SUJETO8_N1_segmentado_frame90.jpg\n",
      "Frame guardado: SUJETO8_N1_segmentado_frame120.jpg\n",
      "Frame guardado: SUJETO8_N1_segmentado_frame150.jpg\n",
      "Frame guardado: SUJETO8_N1_segmentado_frame180.jpg\n",
      "Frame guardado: SUJETO8_N1_segmentado_frame210.jpg\n",
      "Frame guardado: SUJETO8_N1_segmentado_frame240.jpg\n",
      "Frame guardado: SUJETO8_N1_segmentado_frame270.jpg\n",
      "Frame guardado: SUJETO8_TRISTEZA_segmentado_frame0.jpg\n",
      "Frame guardado: SUJETO8_TRISTEZA_segmentado_frame30.jpg\n",
      "Frame guardado: SUJETO8_TRISTEZA_segmentado_frame60.jpg\n",
      "Frame guardado: SUJETO8_TRISTEZA_segmentado_frame90.jpg\n",
      "Frame guardado: SUJETO8_TRISTEZA_segmentado_frame120.jpg\n",
      "Frame guardado: SUJETO8_TRISTEZA_segmentado_frame150.jpg\n",
      "Frame guardado: SUJETO8_TRISTEZA_segmentado_frame180.jpg\n",
      "Frame guardado: SUJETO8_TRISTEZA_segmentado_frame210.jpg\n",
      "Frame guardado: SUJETO8_TRISTEZA_segmentado_frame240.jpg\n",
      "Frame guardado: SUJETO8_TRISTEZA_segmentado_frame270.jpg\n",
      "Frame guardado: SUJETO9_ENOJO_segmentado_frame0.jpg\n",
      "Frame guardado: SUJETO9_ENOJO_segmentado_frame30.jpg\n",
      "Frame guardado: SUJETO9_ENOJO_segmentado_frame60.jpg\n",
      "Frame guardado: SUJETO9_ENOJO_segmentado_frame90.jpg\n",
      "Frame guardado: SUJETO9_ENOJO_segmentado_frame120.jpg\n",
      "Frame guardado: SUJETO9_ENOJO_segmentado_frame150.jpg\n",
      "Frame guardado: SUJETO9_ENOJO_segmentado_frame180.jpg\n",
      "Frame guardado: SUJETO9_ENOJO_segmentado_frame210.jpg\n",
      "Frame guardado: SUJETO9_ENOJO_segmentado_frame240.jpg\n",
      "Frame guardado: SUJETO9_ENOJO_segmentado_frame270.jpg\n",
      "Frame guardado: SUJETO9_ENOJO_segmentado_frame300.jpg\n",
      "Frame guardado: SUJETO9_ENOJO_segmentado_frame330.jpg\n",
      "Frame guardado: SUJETO9_FELICIDAD_segmentado_frame0.jpg\n",
      "Frame guardado: SUJETO9_FELICIDAD_segmentado_frame30.jpg\n",
      "Frame guardado: SUJETO9_FELICIDAD_segmentado_frame60.jpg\n",
      "Frame guardado: SUJETO9_FELICIDAD_segmentado_frame90.jpg\n",
      "Frame guardado: SUJETO9_FELICIDAD_segmentado_frame120.jpg\n",
      "Frame guardado: SUJETO9_FELICIDAD_segmentado_frame150.jpg\n",
      "Frame guardado: SUJETO9_FELICIDAD_segmentado_frame180.jpg\n",
      "Frame guardado: SUJETO9_FELICIDAD_segmentado_frame210.jpg\n",
      "Frame guardado: SUJETO9_FELICIDAD_segmentado_frame240.jpg\n",
      "Frame guardado: SUJETO9_FELICIDAD_segmentado_frame270.jpg\n",
      "Frame guardado: SUJETO9_N1_segmentado_frame0.jpg\n",
      "Frame guardado: SUJETO9_N1_segmentado_frame30.jpg\n",
      "Frame guardado: SUJETO9_N1_segmentado_frame60.jpg\n",
      "Frame guardado: SUJETO9_N1_segmentado_frame90.jpg\n",
      "Frame guardado: SUJETO9_N1_segmentado_frame120.jpg\n",
      "Frame guardado: SUJETO9_N1_segmentado_frame150.jpg\n",
      "Frame guardado: SUJETO9_N1_segmentado_frame180.jpg\n",
      "Frame guardado: SUJETO9_N1_segmentado_frame210.jpg\n",
      "Frame guardado: SUJETO9_N1_segmentado_frame240.jpg\n",
      "Frame guardado: SUJETO9_N1_segmentado_frame270.jpg\n",
      "Frame guardado: SUJETO9_TRISTEZA_segmentado_frame0.jpg\n",
      "Frame guardado: SUJETO9_TRISTEZA_segmentado_frame30.jpg\n",
      "Frame guardado: SUJETO9_TRISTEZA_segmentado_frame60.jpg\n",
      "Frame guardado: SUJETO9_TRISTEZA_segmentado_frame90.jpg\n",
      "Frame guardado: SUJETO9_TRISTEZA_segmentado_frame120.jpg\n",
      "Frame guardado: SUJETO9_TRISTEZA_segmentado_frame150.jpg\n",
      "Frame guardado: SUJETO9_TRISTEZA_segmentado_frame180.jpg\n",
      "Frame guardado: SUJETO9_TRISTEZA_segmentado_frame210.jpg\n",
      "Frame guardado: SUJETO9_TRISTEZA_segmentado_frame240.jpg\n",
      "Frame guardado: SUJETO9_TRISTEZA_segmentado_frame270.jpg\n"
     ]
    }
   ],
   "source": [
    "import cv2\n",
    "import os\n",
    "\n",
    "# Ruta a la carpeta que contiene los videos\n",
    "videos_folder = './VideosSegmentados/'\n",
    "\n",
    "# Ruta a la carpeta donde se guardarán las imágenes\n",
    "images_folder = './Imagenes/'\n",
    "\n",
    "# Crea la carpeta para las imágenes si no existe\n",
    "if not os.path.exists(images_folder):\n",
    "    os.makedirs(images_folder)\n",
    "\n",
    "# Recorre todos los archivos en la carpeta de videos\n",
    "for video_file in os.listdir(videos_folder):\n",
    "    video_path = os.path.join(videos_folder, video_file)\n",
    "    \n",
    "    # Verifica si el archivo es un video abriéndolo con OpenCV\n",
    "    cap = cv2.VideoCapture(video_path)\n",
    "    if not cap.isOpened():\n",
    "        print(f\"No se pudo abrir el video {video_file}\")\n",
    "        continue\n",
    "\n",
    "    frame_count = 0\n",
    "    while cap.isOpened():\n",
    "        ret, frame = cap.read()\n",
    "        if not ret:\n",
    "            break\n",
    "\n",
    "        # Extrae un frame cada 30 frames\n",
    "        if frame_count % 30 == 0:\n",
    "            frame_filename = f\"{os.path.splitext(video_file)[0]}_frame{frame_count}.jpg\"\n",
    "            frame_path = os.path.join(images_folder, frame_filename)\n",
    "            cv2.imwrite(frame_path, frame)\n",
    "            print(f\"Frame guardado: {frame_filename}\")\n",
    "\n",
    "        frame_count += 1\n",
    "\n",
    "    # Libera el objeto cap y cierra todas las ventanas de OpenCV\n",
    "    cap.release()\n",
    "\n",
    "cv2.destroyAllWindows()\n"
   ]
  },
  {
   "cell_type": "code",
   "execution_count": 30,
   "metadata": {},
   "outputs": [
    {
     "name": "stdout",
     "output_type": "stream",
     "text": [
      "                                    Image       K1X       K1Y       K2X  \\\n",
      "0    SUJETO10_ENOJO_segmentado_frame0.jpg  0.516717  0.862611  0.525122   \n",
      "1  SUJETO10_ENOJO_segmentado_frame120.jpg  0.522165  0.873315  0.534889   \n",
      "2  SUJETO10_ENOJO_segmentado_frame150.jpg  0.521257  0.869050  0.532735   \n",
      "3  SUJETO10_ENOJO_segmentado_frame180.jpg  0.519951  0.869113  0.532665   \n",
      "4  SUJETO10_ENOJO_segmentado_frame210.jpg  0.522861  0.869178  0.534696   \n",
      "\n",
      "        K2Y       K3X       K3Y       K4X       K4Y       K5X  ...     K474Y  \\\n",
      "0  0.781059  0.522194  0.800093  0.520307  0.707113  0.527029  ...  0.654642   \n",
      "1  0.798453  0.530828  0.816012  0.530545  0.722064  0.537171  ...  0.667019   \n",
      "2  0.793808  0.528710  0.811547  0.528189  0.717880  0.534973  ...  0.667484   \n",
      "3  0.793192  0.528782  0.810866  0.527933  0.718591  0.534852  ...  0.671306   \n",
      "4  0.794747  0.530758  0.812396  0.530206  0.719392  0.536961  ...  0.669738   \n",
      "\n",
      "      K475X     K475Y     K476X     K476Y     K477X     K477Y     K478X  \\\n",
      "0  0.597166  0.657380  0.587159  0.638631  0.575269  0.651748  0.585243   \n",
      "1  0.605121  0.669919  0.595619  0.650519  0.583513  0.663937  0.593000   \n",
      "2  0.604407  0.670765  0.594810  0.650166  0.582683  0.663929  0.592320   \n",
      "3  0.602347  0.674140  0.593610  0.656219  0.582534  0.668459  0.591239   \n",
      "4  0.605531  0.672815  0.596163  0.653849  0.584328  0.666554  0.593704   \n",
      "\n",
      "      K478Y  Label  \n",
      "0  0.670582  ENOJO  \n",
      "1  0.683557  ENOJO  \n",
      "2  0.684695  ENOJO  \n",
      "3  0.686257  ENOJO  \n",
      "4  0.685507  ENOJO  \n",
      "\n",
      "[5 rows x 958 columns]\n"
     ]
    }
   ],
   "source": [
    "# Inicializa MediaPipe FaceMesh\n",
    "mp_face_mesh = mp.solutions.face_mesh\n",
    "\n",
    "# Lista para almacenar los datos de los landmarks\n",
    "landmarks_data = []\n",
    "\n",
    "# Carpeta que contiene las imágenes\n",
    "images_folder = './Imagenes/'\n",
    "\n",
    "# Inicializa FaceMesh con las opciones deseadas\n",
    "with mp_face_mesh.FaceMesh(\n",
    "        max_num_faces=1,\n",
    "        refine_landmarks=True,\n",
    "        min_detection_confidence=0.5,\n",
    "        min_tracking_confidence=0.5) as face_mesh:\n",
    "\n",
    "    # Lista todos los archivos en la carpeta de imágenes\n",
    "    image_files = [f for f in os.listdir(images_folder) if f.endswith('.jpg') or f.endswith('.png')]\n",
    "\n",
    "    # Procesa cada imagen que cumple con el criterio\n",
    "    for image_file in image_files:\n",
    "        image_path = os.path.join(images_folder, image_file)\n",
    "        image = cv2.imread(image_path)\n",
    "        \n",
    "        # Verifica si la imagen se cargó correctamente\n",
    "        if image is None:\n",
    "            print(f\"No se pudo cargar la imagen {image_file}\")\n",
    "            continue\n",
    "        \n",
    "        # Cambia la resolución de la imagen y la convierte a RGB\n",
    "        image_rgb = cv2.cvtColor(image, cv2.COLOR_BGR2RGB)\n",
    "        \n",
    "        # Procesa la imagen para obtener los landmarks\n",
    "        results = face_mesh.process(image_rgb)\n",
    "        \n",
    "        # Extrae landmarks faciales si están disponibles\n",
    "        if results.multi_face_landmarks:\n",
    "            # Cada imagen dará lugar a una sola fila con todos los landmarks\n",
    "            row = {'Image': image_file}\n",
    "            for landmark_id, landmark in enumerate(results.multi_face_landmarks[0].landmark):\n",
    "                # Añade las coordenadas x, y de cada landmark al diccionario de la fila\n",
    "                row[f'K{landmark_id + 1}X'] = landmark.x\n",
    "                row[f'K{landmark_id + 1}Y'] = landmark.y\n",
    "            \n",
    "            # Extrae el label del nombre del archivo\n",
    "            label = image_file.split('_')[1]  # Esto toma el elemento entre el primer y segundo '_'\n",
    "            if label == 'N1':  # Cambia 'N1' a 'NEUTRAL'\n",
    "                label = 'NEUTRAL'\n",
    "            row['Label'] = label\n",
    "            \n",
    "            landmarks_data.append(row)\n",
    "\n",
    "# Crea un DataFrame a partir de la lista de datos\n",
    "df_flat_landmarks = pd.DataFrame(landmarks_data)\n",
    "\n",
    "# Muestra los primeros registros del DataFrame\n",
    "print(df_flat_landmarks.head())\n",
    "\n",
    "# Opcional: Guarda el DataFrame a un archivo CSV\n",
    "# df_flat_landmarks.to_csv('flat_landmarks_images_with_label.csv', index=False)\n"
   ]
  },
  {
   "cell_type": "code",
   "execution_count": 31,
   "metadata": {},
   "outputs": [
    {
     "data": {
      "text/html": [
       "<div>\n",
       "<style scoped>\n",
       "    .dataframe tbody tr th:only-of-type {\n",
       "        vertical-align: middle;\n",
       "    }\n",
       "\n",
       "    .dataframe tbody tr th {\n",
       "        vertical-align: top;\n",
       "    }\n",
       "\n",
       "    .dataframe thead th {\n",
       "        text-align: right;\n",
       "    }\n",
       "</style>\n",
       "<table border=\"1\" class=\"dataframe\">\n",
       "  <thead>\n",
       "    <tr style=\"text-align: right;\">\n",
       "      <th></th>\n",
       "      <th>Image</th>\n",
       "      <th>K1X</th>\n",
       "      <th>K1Y</th>\n",
       "      <th>K2X</th>\n",
       "      <th>K2Y</th>\n",
       "      <th>K3X</th>\n",
       "      <th>K3Y</th>\n",
       "      <th>K4X</th>\n",
       "      <th>K4Y</th>\n",
       "      <th>K5X</th>\n",
       "      <th>...</th>\n",
       "      <th>K474Y</th>\n",
       "      <th>K475X</th>\n",
       "      <th>K475Y</th>\n",
       "      <th>K476X</th>\n",
       "      <th>K476Y</th>\n",
       "      <th>K477X</th>\n",
       "      <th>K477Y</th>\n",
       "      <th>K478X</th>\n",
       "      <th>K478Y</th>\n",
       "      <th>Label</th>\n",
       "    </tr>\n",
       "  </thead>\n",
       "  <tbody>\n",
       "    <tr>\n",
       "      <th>0</th>\n",
       "      <td>SUJETO10_ENOJO_segmentado_frame0.jpg</td>\n",
       "      <td>0.516717</td>\n",
       "      <td>0.862611</td>\n",
       "      <td>0.525122</td>\n",
       "      <td>0.781059</td>\n",
       "      <td>0.522194</td>\n",
       "      <td>0.800093</td>\n",
       "      <td>0.520307</td>\n",
       "      <td>0.707113</td>\n",
       "      <td>0.527029</td>\n",
       "      <td>...</td>\n",
       "      <td>0.654642</td>\n",
       "      <td>0.597166</td>\n",
       "      <td>0.657380</td>\n",
       "      <td>0.587159</td>\n",
       "      <td>0.638631</td>\n",
       "      <td>0.575269</td>\n",
       "      <td>0.651748</td>\n",
       "      <td>0.585243</td>\n",
       "      <td>0.670582</td>\n",
       "      <td>ENOJO</td>\n",
       "    </tr>\n",
       "    <tr>\n",
       "      <th>1</th>\n",
       "      <td>SUJETO10_ENOJO_segmentado_frame120.jpg</td>\n",
       "      <td>0.522165</td>\n",
       "      <td>0.873315</td>\n",
       "      <td>0.534889</td>\n",
       "      <td>0.798453</td>\n",
       "      <td>0.530828</td>\n",
       "      <td>0.816012</td>\n",
       "      <td>0.530545</td>\n",
       "      <td>0.722064</td>\n",
       "      <td>0.537171</td>\n",
       "      <td>...</td>\n",
       "      <td>0.667019</td>\n",
       "      <td>0.605121</td>\n",
       "      <td>0.669919</td>\n",
       "      <td>0.595619</td>\n",
       "      <td>0.650519</td>\n",
       "      <td>0.583513</td>\n",
       "      <td>0.663937</td>\n",
       "      <td>0.593000</td>\n",
       "      <td>0.683557</td>\n",
       "      <td>ENOJO</td>\n",
       "    </tr>\n",
       "    <tr>\n",
       "      <th>2</th>\n",
       "      <td>SUJETO10_ENOJO_segmentado_frame150.jpg</td>\n",
       "      <td>0.521257</td>\n",
       "      <td>0.869050</td>\n",
       "      <td>0.532735</td>\n",
       "      <td>0.793808</td>\n",
       "      <td>0.528710</td>\n",
       "      <td>0.811547</td>\n",
       "      <td>0.528189</td>\n",
       "      <td>0.717880</td>\n",
       "      <td>0.534973</td>\n",
       "      <td>...</td>\n",
       "      <td>0.667484</td>\n",
       "      <td>0.604407</td>\n",
       "      <td>0.670765</td>\n",
       "      <td>0.594810</td>\n",
       "      <td>0.650166</td>\n",
       "      <td>0.582683</td>\n",
       "      <td>0.663929</td>\n",
       "      <td>0.592320</td>\n",
       "      <td>0.684695</td>\n",
       "      <td>ENOJO</td>\n",
       "    </tr>\n",
       "    <tr>\n",
       "      <th>3</th>\n",
       "      <td>SUJETO10_ENOJO_segmentado_frame180.jpg</td>\n",
       "      <td>0.519951</td>\n",
       "      <td>0.869113</td>\n",
       "      <td>0.532665</td>\n",
       "      <td>0.793192</td>\n",
       "      <td>0.528782</td>\n",
       "      <td>0.810866</td>\n",
       "      <td>0.527933</td>\n",
       "      <td>0.718591</td>\n",
       "      <td>0.534852</td>\n",
       "      <td>...</td>\n",
       "      <td>0.671306</td>\n",
       "      <td>0.602347</td>\n",
       "      <td>0.674140</td>\n",
       "      <td>0.593610</td>\n",
       "      <td>0.656219</td>\n",
       "      <td>0.582534</td>\n",
       "      <td>0.668459</td>\n",
       "      <td>0.591239</td>\n",
       "      <td>0.686257</td>\n",
       "      <td>ENOJO</td>\n",
       "    </tr>\n",
       "    <tr>\n",
       "      <th>4</th>\n",
       "      <td>SUJETO10_ENOJO_segmentado_frame210.jpg</td>\n",
       "      <td>0.522861</td>\n",
       "      <td>0.869178</td>\n",
       "      <td>0.534696</td>\n",
       "      <td>0.794747</td>\n",
       "      <td>0.530758</td>\n",
       "      <td>0.812396</td>\n",
       "      <td>0.530206</td>\n",
       "      <td>0.719392</td>\n",
       "      <td>0.536961</td>\n",
       "      <td>...</td>\n",
       "      <td>0.669738</td>\n",
       "      <td>0.605531</td>\n",
       "      <td>0.672815</td>\n",
       "      <td>0.596163</td>\n",
       "      <td>0.653849</td>\n",
       "      <td>0.584328</td>\n",
       "      <td>0.666554</td>\n",
       "      <td>0.593704</td>\n",
       "      <td>0.685507</td>\n",
       "      <td>ENOJO</td>\n",
       "    </tr>\n",
       "    <tr>\n",
       "      <th>...</th>\n",
       "      <td>...</td>\n",
       "      <td>...</td>\n",
       "      <td>...</td>\n",
       "      <td>...</td>\n",
       "      <td>...</td>\n",
       "      <td>...</td>\n",
       "      <td>...</td>\n",
       "      <td>...</td>\n",
       "      <td>...</td>\n",
       "      <td>...</td>\n",
       "      <td>...</td>\n",
       "      <td>...</td>\n",
       "      <td>...</td>\n",
       "      <td>...</td>\n",
       "      <td>...</td>\n",
       "      <td>...</td>\n",
       "      <td>...</td>\n",
       "      <td>...</td>\n",
       "      <td>...</td>\n",
       "      <td>...</td>\n",
       "      <td>...</td>\n",
       "    </tr>\n",
       "    <tr>\n",
       "      <th>468</th>\n",
       "      <td>SUJETO9_TRISTEZA_segmentado_frame90.jpg</td>\n",
       "      <td>0.466474</td>\n",
       "      <td>0.795463</td>\n",
       "      <td>0.471724</td>\n",
       "      <td>0.722081</td>\n",
       "      <td>0.469866</td>\n",
       "      <td>0.742865</td>\n",
       "      <td>0.465500</td>\n",
       "      <td>0.650051</td>\n",
       "      <td>0.473138</td>\n",
       "      <td>...</td>\n",
       "      <td>0.608497</td>\n",
       "      <td>0.550433</td>\n",
       "      <td>0.611247</td>\n",
       "      <td>0.540197</td>\n",
       "      <td>0.591266</td>\n",
       "      <td>0.527597</td>\n",
       "      <td>0.605644</td>\n",
       "      <td>0.537758</td>\n",
       "      <td>0.625812</td>\n",
       "      <td>TRISTEZA</td>\n",
       "    </tr>\n",
       "    <tr>\n",
       "      <th>469</th>\n",
       "      <td>SUJETOBASELINE_ENOJO_.jpg</td>\n",
       "      <td>0.560945</td>\n",
       "      <td>0.688971</td>\n",
       "      <td>0.530364</td>\n",
       "      <td>0.628595</td>\n",
       "      <td>0.533198</td>\n",
       "      <td>0.660879</td>\n",
       "      <td>0.518769</td>\n",
       "      <td>0.565666</td>\n",
       "      <td>0.530013</td>\n",
       "      <td>...</td>\n",
       "      <td>0.527220</td>\n",
       "      <td>0.632946</td>\n",
       "      <td>0.532235</td>\n",
       "      <td>0.623366</td>\n",
       "      <td>0.512396</td>\n",
       "      <td>0.607285</td>\n",
       "      <td>0.521528</td>\n",
       "      <td>0.617144</td>\n",
       "      <td>0.540823</td>\n",
       "      <td>ENOJO</td>\n",
       "    </tr>\n",
       "    <tr>\n",
       "      <th>470</th>\n",
       "      <td>SUJETOBASELINE_FELICIDAD_.jpg</td>\n",
       "      <td>0.540443</td>\n",
       "      <td>0.696647</td>\n",
       "      <td>0.544350</td>\n",
       "      <td>0.629946</td>\n",
       "      <td>0.542824</td>\n",
       "      <td>0.660056</td>\n",
       "      <td>0.534408</td>\n",
       "      <td>0.550628</td>\n",
       "      <td>0.545698</td>\n",
       "      <td>...</td>\n",
       "      <td>0.508232</td>\n",
       "      <td>0.653438</td>\n",
       "      <td>0.510210</td>\n",
       "      <td>0.637066</td>\n",
       "      <td>0.486759</td>\n",
       "      <td>0.619192</td>\n",
       "      <td>0.506253</td>\n",
       "      <td>0.635599</td>\n",
       "      <td>0.529625</td>\n",
       "      <td>FELICIDAD</td>\n",
       "    </tr>\n",
       "    <tr>\n",
       "      <th>471</th>\n",
       "      <td>SUJETOBASELINE_NEUTRAL_.jpg</td>\n",
       "      <td>0.523542</td>\n",
       "      <td>0.599596</td>\n",
       "      <td>0.524195</td>\n",
       "      <td>0.508241</td>\n",
       "      <td>0.523063</td>\n",
       "      <td>0.550286</td>\n",
       "      <td>0.514287</td>\n",
       "      <td>0.440016</td>\n",
       "      <td>0.525274</td>\n",
       "      <td>...</td>\n",
       "      <td>0.423212</td>\n",
       "      <td>0.636259</td>\n",
       "      <td>0.426738</td>\n",
       "      <td>0.621623</td>\n",
       "      <td>0.403182</td>\n",
       "      <td>0.603425</td>\n",
       "      <td>0.419761</td>\n",
       "      <td>0.617948</td>\n",
       "      <td>0.443265</td>\n",
       "      <td>NEUTRAL</td>\n",
       "    </tr>\n",
       "    <tr>\n",
       "      <th>472</th>\n",
       "      <td>SUJETOBASELINE_TRISTEZA_.jpg</td>\n",
       "      <td>0.547243</td>\n",
       "      <td>0.601252</td>\n",
       "      <td>0.546019</td>\n",
       "      <td>0.528283</td>\n",
       "      <td>0.544474</td>\n",
       "      <td>0.562468</td>\n",
       "      <td>0.535940</td>\n",
       "      <td>0.452828</td>\n",
       "      <td>0.547163</td>\n",
       "      <td>...</td>\n",
       "      <td>0.417058</td>\n",
       "      <td>0.648758</td>\n",
       "      <td>0.418803</td>\n",
       "      <td>0.634641</td>\n",
       "      <td>0.395796</td>\n",
       "      <td>0.618431</td>\n",
       "      <td>0.415219</td>\n",
       "      <td>0.632560</td>\n",
       "      <td>0.438043</td>\n",
       "      <td>TRISTEZA</td>\n",
       "    </tr>\n",
       "  </tbody>\n",
       "</table>\n",
       "<p>473 rows × 958 columns</p>\n",
       "</div>"
      ],
      "text/plain": [
       "                                       Image       K1X       K1Y       K2X  \\\n",
       "0       SUJETO10_ENOJO_segmentado_frame0.jpg  0.516717  0.862611  0.525122   \n",
       "1     SUJETO10_ENOJO_segmentado_frame120.jpg  0.522165  0.873315  0.534889   \n",
       "2     SUJETO10_ENOJO_segmentado_frame150.jpg  0.521257  0.869050  0.532735   \n",
       "3     SUJETO10_ENOJO_segmentado_frame180.jpg  0.519951  0.869113  0.532665   \n",
       "4     SUJETO10_ENOJO_segmentado_frame210.jpg  0.522861  0.869178  0.534696   \n",
       "..                                       ...       ...       ...       ...   \n",
       "468  SUJETO9_TRISTEZA_segmentado_frame90.jpg  0.466474  0.795463  0.471724   \n",
       "469                SUJETOBASELINE_ENOJO_.jpg  0.560945  0.688971  0.530364   \n",
       "470            SUJETOBASELINE_FELICIDAD_.jpg  0.540443  0.696647  0.544350   \n",
       "471              SUJETOBASELINE_NEUTRAL_.jpg  0.523542  0.599596  0.524195   \n",
       "472             SUJETOBASELINE_TRISTEZA_.jpg  0.547243  0.601252  0.546019   \n",
       "\n",
       "          K2Y       K3X       K3Y       K4X       K4Y       K5X  ...  \\\n",
       "0    0.781059  0.522194  0.800093  0.520307  0.707113  0.527029  ...   \n",
       "1    0.798453  0.530828  0.816012  0.530545  0.722064  0.537171  ...   \n",
       "2    0.793808  0.528710  0.811547  0.528189  0.717880  0.534973  ...   \n",
       "3    0.793192  0.528782  0.810866  0.527933  0.718591  0.534852  ...   \n",
       "4    0.794747  0.530758  0.812396  0.530206  0.719392  0.536961  ...   \n",
       "..        ...       ...       ...       ...       ...       ...  ...   \n",
       "468  0.722081  0.469866  0.742865  0.465500  0.650051  0.473138  ...   \n",
       "469  0.628595  0.533198  0.660879  0.518769  0.565666  0.530013  ...   \n",
       "470  0.629946  0.542824  0.660056  0.534408  0.550628  0.545698  ...   \n",
       "471  0.508241  0.523063  0.550286  0.514287  0.440016  0.525274  ...   \n",
       "472  0.528283  0.544474  0.562468  0.535940  0.452828  0.547163  ...   \n",
       "\n",
       "        K474Y     K475X     K475Y     K476X     K476Y     K477X     K477Y  \\\n",
       "0    0.654642  0.597166  0.657380  0.587159  0.638631  0.575269  0.651748   \n",
       "1    0.667019  0.605121  0.669919  0.595619  0.650519  0.583513  0.663937   \n",
       "2    0.667484  0.604407  0.670765  0.594810  0.650166  0.582683  0.663929   \n",
       "3    0.671306  0.602347  0.674140  0.593610  0.656219  0.582534  0.668459   \n",
       "4    0.669738  0.605531  0.672815  0.596163  0.653849  0.584328  0.666554   \n",
       "..        ...       ...       ...       ...       ...       ...       ...   \n",
       "468  0.608497  0.550433  0.611247  0.540197  0.591266  0.527597  0.605644   \n",
       "469  0.527220  0.632946  0.532235  0.623366  0.512396  0.607285  0.521528   \n",
       "470  0.508232  0.653438  0.510210  0.637066  0.486759  0.619192  0.506253   \n",
       "471  0.423212  0.636259  0.426738  0.621623  0.403182  0.603425  0.419761   \n",
       "472  0.417058  0.648758  0.418803  0.634641  0.395796  0.618431  0.415219   \n",
       "\n",
       "        K478X     K478Y      Label  \n",
       "0    0.585243  0.670582      ENOJO  \n",
       "1    0.593000  0.683557      ENOJO  \n",
       "2    0.592320  0.684695      ENOJO  \n",
       "3    0.591239  0.686257      ENOJO  \n",
       "4    0.593704  0.685507      ENOJO  \n",
       "..        ...       ...        ...  \n",
       "468  0.537758  0.625812   TRISTEZA  \n",
       "469  0.617144  0.540823      ENOJO  \n",
       "470  0.635599  0.529625  FELICIDAD  \n",
       "471  0.617948  0.443265    NEUTRAL  \n",
       "472  0.632560  0.438043   TRISTEZA  \n",
       "\n",
       "[473 rows x 958 columns]"
      ]
     },
     "execution_count": 31,
     "metadata": {},
     "output_type": "execute_result"
    }
   ],
   "source": [
    "df_flat_landmarks"
   ]
  },
  {
   "cell_type": "code",
   "execution_count": 32,
   "metadata": {},
   "outputs": [],
   "source": [
    "#Opcional: Guarda el DataFrame a un archivo CSV\n",
    "df_flat_landmarks.to_csv('flat_landmarks_images_with_label.csv', index=False)"
   ]
  },
  {
   "cell_type": "markdown",
   "metadata": {},
   "source": [
    "## Ganancia de Informacion"
   ]
  },
  {
   "cell_type": "code",
   "execution_count": 35,
   "metadata": {},
   "outputs": [
    {
     "name": "stdout",
     "output_type": "stream",
     "text": [
      "                                    Image       K1X       K1Y       K2X  \\\n",
      "0    SUJETO10_ENOJO_segmentado_frame0.jpg  0.516717  0.862611  0.525122   \n",
      "1  SUJETO10_ENOJO_segmentado_frame120.jpg  0.522165  0.873315  0.534889   \n",
      "2  SUJETO10_ENOJO_segmentado_frame150.jpg  0.521257  0.869050  0.532735   \n",
      "3  SUJETO10_ENOJO_segmentado_frame180.jpg  0.519951  0.869113  0.532665   \n",
      "4  SUJETO10_ENOJO_segmentado_frame210.jpg  0.522861  0.869178  0.534696   \n",
      "\n",
      "        K2Y       K3X       K3Y       K4X       K4Y       K5X  ...     K474Y  \\\n",
      "0  0.781059  0.522194  0.800093  0.520307  0.707113  0.527029  ...  0.654642   \n",
      "1  0.798453  0.530828  0.816012  0.530545  0.722064  0.537171  ...  0.667019   \n",
      "2  0.793808  0.528710  0.811547  0.528189  0.717880  0.534973  ...  0.667484   \n",
      "3  0.793192  0.528782  0.810866  0.527933  0.718591  0.534852  ...  0.671306   \n",
      "4  0.794747  0.530758  0.812396  0.530206  0.719392  0.536961  ...  0.669738   \n",
      "\n",
      "      K475X     K475Y     K476X     K476Y     K477X     K477Y     K478X  \\\n",
      "0  0.597166  0.657380  0.587159  0.638631  0.575269  0.651748  0.585243   \n",
      "1  0.605121  0.669919  0.595619  0.650519  0.583513  0.663937  0.593000   \n",
      "2  0.604407  0.670765  0.594810  0.650166  0.582683  0.663929  0.592320   \n",
      "3  0.602347  0.674140  0.593610  0.656219  0.582534  0.668459  0.591239   \n",
      "4  0.605531  0.672815  0.596163  0.653849  0.584328  0.666554  0.593704   \n",
      "\n",
      "      K478Y  Label  \n",
      "0  0.670582  ENOJO  \n",
      "1  0.683557  ENOJO  \n",
      "2  0.684695  ENOJO  \n",
      "3  0.686257  ENOJO  \n",
      "4  0.685507  ENOJO  \n",
      "\n",
      "[5 rows x 958 columns]\n"
     ]
    }
   ],
   "source": [
    "csv_file_path = 'flat_landmarks_images_with_label.csv'\n",
    "df = pd.read_csv(csv_file_path)\n",
    "\n",
    "# Muestra las primeras 5 filas del DataFrame para verificar que se haya leído correctamente.\n",
    "print(df.head())"
   ]
  },
  {
   "cell_type": "code",
   "execution_count": 36,
   "metadata": {},
   "outputs": [],
   "source": [
    "X = df.iloc[:, 1:-1]\n",
    "Y = df.iloc[:, -1]"
   ]
  },
  {
   "cell_type": "code",
   "execution_count": 40,
   "metadata": {},
   "outputs": [
    {
     "data": {
      "image/png": "[encoded data removed]",
      "text/plain": [
       "<Figure size 640x480 with 1 Axes>"
      ]
     },
     "metadata": {},
     "output_type": "display_data"
    }
   ],
   "source": [
    "X_new = mutual_info_classif(X, Y)\n",
    "\n",
    "# Ajusta las etiquetas de las columnas para que coincidan con las dimensiones de X\n",
    "feat_imp = pd.Series(X_new, df.columns[1:len(df.columns)-1])\n",
    "\n",
    "# Graficar la importancia de las características\n",
    "feat_imp.plot(kind='barh')\n",
    "plt.show()"
   ]
  },
  {
   "cell_type": "code",
   "execution_count": 42,
   "metadata": {},
   "outputs": [
    {
     "data": {
      "image/png": "[encoded data removed]",
      "text/plain": [
       "<Figure size 1000x1500 with 1 Axes>"
      ]
     },
     "metadata": {},
     "output_type": "display_data"
    }
   ],
   "source": [
    "import matplotlib.pyplot as plt\n",
    "import pandas as pd\n",
    "from sklearn.feature_selection import mutual_info_classif\n",
    "\n",
    "# Suponiendo que X y Y ya están definidos y son tu conjunto de datos y etiquetas, respectivamente\n",
    "X_new = mutual_info_classif(X, Y)\n",
    "\n",
    "# Ajusta las etiquetas de las columnas para que coincidan con las dimensiones de X\n",
    "feat_imp = pd.Series(X_new, df.columns[1:len(df.columns)-1])\n",
    "\n",
    "# Ordena las características por importancia y grafica\n",
    "feat_imp_sorted = feat_imp.sort_values()\n",
    "\n",
    "# Graficar la importancia de las características\n",
    "plt.figure(figsize=(10, 15))  # Ajusta el tamaño según sea necesario\n",
    "feat_imp_sorted.plot(kind='barh')\n",
    "\n",
    "# Rotar las etiquetas\n",
    "plt.gca().tick_params(axis='y', labelrotation=0)  # Cambia a 45 o 90 si es necesario\n",
    "\n",
    "# Mejora la legibilidad del gráfico\n",
    "plt.xlabel('Importancia')\n",
    "plt.ylabel('Características')\n",
    "plt.title('Importancia de las Características')\n",
    "plt.tight_layout()  # Asegura que todo encaje sin superponerse\n",
    "\n",
    "plt.show()\n"
   ]
  },
  {
   "cell_type": "code",
   "execution_count": 45,
   "metadata": {},
   "outputs": [
    {
     "name": "stdout",
     "output_type": "stream",
     "text": [
      "Características seleccionadas con valor mayor a 0.45 : ['K1X', 'K2X', 'K3X', 'K4X', 'K5X', 'K6X', 'K7X', 'K8X', 'K9X', 'K10X', 'K11X', 'K12X', 'K13X', 'K14X', 'K15X', 'K17X', 'K18X', 'K19X', 'K20X', 'K21X', 'K22X', 'K23X', 'K24X', 'K25X', 'K26X', 'K27X', 'K28X', 'K29X', 'K30X', 'K31X', 'K32X', 'K33X', 'K34X', 'K35X', 'K36X', 'K37X', 'K38X', 'K39X', 'K40X', 'K41X', 'K42X', 'K43X', 'K44X', 'K45X', 'K46X', 'K47X', 'K48X', 'K49X', 'K50X', 'K51X', 'K52X', 'K53X', 'K54X', 'K55X', 'K56X', 'K57X', 'K58X', 'K58Y', 'K59X', 'K60X', 'K61X', 'K62X', 'K63X', 'K64X', 'K65X', 'K66X', 'K67X', 'K68X', 'K69X', 'K70X', 'K71X', 'K72X', 'K73X', 'K74X', 'K75X', 'K76X', 'K77X', 'K78X', 'K79X', 'K80X', 'K81X', 'K82X', 'K83X', 'K84X', 'K85X', 'K86X', 'K87X', 'K88X', 'K89X', 'K90X', 'K91X', 'K92X', 'K93X', 'K94X', 'K95X', 'K96X', 'K97X', 'K98X', 'K99X', 'K100X', 'K101X', 'K102X', 'K103X', 'K104X', 'K105X', 'K106X', 'K107X', 'K108X', 'K109X', 'K110X', 'K111X', 'K112X', 'K113X', 'K114X', 'K115X', 'K116X', 'K117X', 'K118X', 'K119X', 'K120X', 'K121X', 'K122X', 'K123X', 'K124X', 'K125X', 'K126X', 'K127X', 'K128X', 'K129X', 'K130X', 'K131X', 'K132X', 'K133X', 'K134X', 'K135X', 'K136X', 'K137X', 'K138X', 'K139X', 'K140X', 'K141X', 'K142X', 'K143X', 'K144X', 'K145X', 'K146X', 'K147X', 'K148X', 'K149X', 'K150X', 'K151X', 'K152X', 'K153X', 'K154X', 'K155X', 'K156X', 'K157X', 'K158X', 'K159X', 'K160X', 'K161X', 'K162X', 'K163X', 'K164X', 'K165X', 'K166X', 'K167X', 'K168X', 'K169X', 'K170X', 'K171X', 'K172X', 'K173X', 'K174X', 'K175X', 'K176X', 'K177X', 'K178X', 'K179X', 'K180X', 'K181X', 'K182X', 'K183X', 'K184X', 'K185X', 'K186X', 'K187X', 'K188X', 'K189X', 'K190X', 'K191X', 'K192X', 'K193X', 'K194X', 'K195X', 'K196X', 'K197X', 'K198X', 'K199X', 'K200X', 'K201X', 'K202X', 'K203X', 'K204X', 'K205X', 'K206X', 'K207X', 'K208X', 'K209X', 'K210X', 'K211X', 'K212X', 'K213X', 'K214X', 'K215X', 'K216X', 'K217X', 'K218X', 'K219X', 'K220X', 'K221X', 'K222X', 'K223X', 'K224X', 'K225X', 'K226X', 'K227X', 'K228X', 'K229X', 'K230X', 'K231X', 'K232X', 'K233X', 'K234X', 'K235X', 'K236X', 'K237X', 'K238X', 'K239X', 'K240X', 'K241X', 'K242X', 'K243X', 'K244X', 'K245X', 'K246X', 'K247X', 'K248X', 'K249X', 'K250X', 'K251X', 'K252X', 'K253X', 'K254X', 'K255X', 'K256X', 'K257X', 'K258X', 'K259X', 'K260X', 'K261X', 'K262X', 'K263X', 'K264X', 'K264Y', 'K265X', 'K266X', 'K267X', 'K268X', 'K269X', 'K270X', 'K271X', 'K272X', 'K273X', 'K274X', 'K275X', 'K276X', 'K277X', 'K278X', 'K279X', 'K280X', 'K281X', 'K282X', 'K283X', 'K284X', 'K285X', 'K286X', 'K287X', 'K288X', 'K289X', 'K290X', 'K291X', 'K292X', 'K293X', 'K294X', 'K295X', 'K296X', 'K297X', 'K298X', 'K299X', 'K300X', 'K301X', 'K302X', 'K303X', 'K304X', 'K305X', 'K306X', 'K307X', 'K308X', 'K309X', 'K310X', 'K311X', 'K312X', 'K313X', 'K314X', 'K315X', 'K316X', 'K317X', 'K319X', 'K320X', 'K321X', 'K322X', 'K323X', 'K324X', 'K325X', 'K326X', 'K327X', 'K328X', 'K329X', 'K330X', 'K331X', 'K332X', 'K333X', 'K334X', 'K335X', 'K336X', 'K337X', 'K338X', 'K339X', 'K340X', 'K341X', 'K342X', 'K343X', 'K344X', 'K345X', 'K346X', 'K347X', 'K348X', 'K349X', 'K350X', 'K351X', 'K352X', 'K353X', 'K354X', 'K355X', 'K356X', 'K357X', 'K358X', 'K359X', 'K360X', 'K361X', 'K362X', 'K363X', 'K364X', 'K365X', 'K366X', 'K367X', 'K368X', 'K369X', 'K370X', 'K371X', 'K372X', 'K373X', 'K374X', 'K375X', 'K376X', 'K377X', 'K378X', 'K379X', 'K380X', 'K381X', 'K382X', 'K383X', 'K384X', 'K385X', 'K386X', 'K389X', 'K390X', 'K391X', 'K392X', 'K393X', 'K394X', 'K395X', 'K396X', 'K397X', 'K398X', 'K399X', 'K400X', 'K401X', 'K402X', 'K403X', 'K404X', 'K405X', 'K406X', 'K407X', 'K408X', 'K409X', 'K410X', 'K411X', 'K412X', 'K413X', 'K414X', 'K415X', 'K416X', 'K417X', 'K418X', 'K419X', 'K420X', 'K421X', 'K422X', 'K423X', 'K424X', 'K425X', 'K426X', 'K427X', 'K428X', 'K429X', 'K430X', 'K431X', 'K432X', 'K433X', 'K434X', 'K435X', 'K436X', 'K437X', 'K438X', 'K439X', 'K440X', 'K441X', 'K442X', 'K443X', 'K444X', 'K445X', 'K446X', 'K447X', 'K448X', 'K449X', 'K450X', 'K451X', 'K452X', 'K453X', 'K454X', 'K455X', 'K456X', 'K457X', 'K458X', 'K459X', 'K460X', 'K461X', 'K462X', 'K463X', 'K464X', 'K465X', 'K466X', 'K467X', 'K468X', 'K469X', 'K470X', 'K471X', 'K472X', 'K473X', 'K474X', 'K475X', 'K476X', 'K477X', 'K478X']\n"
     ]
    },
    {
     "data": {
      "text/html": [
       "<div>\n",
       "<style scoped>\n",
       "    .dataframe tbody tr th:only-of-type {\n",
       "        vertical-align: middle;\n",
       "    }\n",
       "\n",
       "    .dataframe tbody tr th {\n",
       "        vertical-align: top;\n",
       "    }\n",
       "\n",
       "    .dataframe thead th {\n",
       "        text-align: right;\n",
       "    }\n",
       "</style>\n",
       "<table border=\"1\" class=\"dataframe\">\n",
       "  <thead>\n",
       "    <tr style=\"text-align: right;\">\n",
       "      <th></th>\n",
       "      <th>Image</th>\n",
       "      <th>K1X</th>\n",
       "      <th>K2X</th>\n",
       "      <th>K3X</th>\n",
       "      <th>K4X</th>\n",
       "      <th>K5X</th>\n",
       "      <th>K6X</th>\n",
       "      <th>K7X</th>\n",
       "      <th>K8X</th>\n",
       "      <th>K9X</th>\n",
       "      <th>...</th>\n",
       "      <th>K469X</th>\n",
       "      <th>K470X</th>\n",
       "      <th>K471X</th>\n",
       "      <th>K472X</th>\n",
       "      <th>K473X</th>\n",
       "      <th>K474X</th>\n",
       "      <th>K475X</th>\n",
       "      <th>K476X</th>\n",
       "      <th>K477X</th>\n",
       "      <th>K478X</th>\n",
       "    </tr>\n",
       "  </thead>\n",
       "  <tbody>\n",
       "    <tr>\n",
       "      <th>0</th>\n",
       "      <td>SUJETO10_ENOJO_segmentado_frame0.jpg</td>\n",
       "      <td>0.516717</td>\n",
       "      <td>0.525122</td>\n",
       "      <td>0.522194</td>\n",
       "      <td>0.520307</td>\n",
       "      <td>0.527029</td>\n",
       "      <td>0.528918</td>\n",
       "      <td>0.533020</td>\n",
       "      <td>0.452462</td>\n",
       "      <td>0.535847</td>\n",
       "      <td>...</td>\n",
       "      <td>0.470921</td>\n",
       "      <td>0.482739</td>\n",
       "      <td>0.472407</td>\n",
       "      <td>0.459043</td>\n",
       "      <td>0.469388</td>\n",
       "      <td>0.586153</td>\n",
       "      <td>0.597166</td>\n",
       "      <td>0.587159</td>\n",
       "      <td>0.575269</td>\n",
       "      <td>0.585243</td>\n",
       "    </tr>\n",
       "    <tr>\n",
       "      <th>1</th>\n",
       "      <td>SUJETO10_ENOJO_segmentado_frame120.jpg</td>\n",
       "      <td>0.522165</td>\n",
       "      <td>0.534889</td>\n",
       "      <td>0.530828</td>\n",
       "      <td>0.530545</td>\n",
       "      <td>0.537171</td>\n",
       "      <td>0.539290</td>\n",
       "      <td>0.543733</td>\n",
       "      <td>0.461720</td>\n",
       "      <td>0.547566</td>\n",
       "      <td>...</td>\n",
       "      <td>0.481572</td>\n",
       "      <td>0.493419</td>\n",
       "      <td>0.483559</td>\n",
       "      <td>0.469564</td>\n",
       "      <td>0.479480</td>\n",
       "      <td>0.594279</td>\n",
       "      <td>0.605121</td>\n",
       "      <td>0.595619</td>\n",
       "      <td>0.583513</td>\n",
       "      <td>0.593000</td>\n",
       "    </tr>\n",
       "    <tr>\n",
       "      <th>2</th>\n",
       "      <td>SUJETO10_ENOJO_segmentado_frame150.jpg</td>\n",
       "      <td>0.521257</td>\n",
       "      <td>0.532735</td>\n",
       "      <td>0.528710</td>\n",
       "      <td>0.528189</td>\n",
       "      <td>0.534973</td>\n",
       "      <td>0.536958</td>\n",
       "      <td>0.540957</td>\n",
       "      <td>0.460520</td>\n",
       "      <td>0.544457</td>\n",
       "      <td>...</td>\n",
       "      <td>0.479952</td>\n",
       "      <td>0.491748</td>\n",
       "      <td>0.481892</td>\n",
       "      <td>0.467997</td>\n",
       "      <td>0.477911</td>\n",
       "      <td>0.593558</td>\n",
       "      <td>0.604407</td>\n",
       "      <td>0.594810</td>\n",
       "      <td>0.582683</td>\n",
       "      <td>0.592320</td>\n",
       "    </tr>\n",
       "    <tr>\n",
       "      <th>3</th>\n",
       "      <td>SUJETO10_ENOJO_segmentado_frame180.jpg</td>\n",
       "      <td>0.519951</td>\n",
       "      <td>0.532665</td>\n",
       "      <td>0.528782</td>\n",
       "      <td>0.527933</td>\n",
       "      <td>0.534852</td>\n",
       "      <td>0.536787</td>\n",
       "      <td>0.540639</td>\n",
       "      <td>0.457588</td>\n",
       "      <td>0.544010</td>\n",
       "      <td>...</td>\n",
       "      <td>0.477036</td>\n",
       "      <td>0.488321</td>\n",
       "      <td>0.478554</td>\n",
       "      <td>0.465583</td>\n",
       "      <td>0.475401</td>\n",
       "      <td>0.592393</td>\n",
       "      <td>0.602347</td>\n",
       "      <td>0.593610</td>\n",
       "      <td>0.582534</td>\n",
       "      <td>0.591239</td>\n",
       "    </tr>\n",
       "    <tr>\n",
       "      <th>4</th>\n",
       "      <td>SUJETO10_ENOJO_segmentado_frame210.jpg</td>\n",
       "      <td>0.522861</td>\n",
       "      <td>0.534696</td>\n",
       "      <td>0.530758</td>\n",
       "      <td>0.530206</td>\n",
       "      <td>0.536961</td>\n",
       "      <td>0.538989</td>\n",
       "      <td>0.543086</td>\n",
       "      <td>0.461393</td>\n",
       "      <td>0.546634</td>\n",
       "      <td>...</td>\n",
       "      <td>0.479272</td>\n",
       "      <td>0.490770</td>\n",
       "      <td>0.480933</td>\n",
       "      <td>0.467618</td>\n",
       "      <td>0.477526</td>\n",
       "      <td>0.594907</td>\n",
       "      <td>0.605531</td>\n",
       "      <td>0.596163</td>\n",
       "      <td>0.584328</td>\n",
       "      <td>0.593704</td>\n",
       "    </tr>\n",
       "    <tr>\n",
       "      <th>...</th>\n",
       "      <td>...</td>\n",
       "      <td>...</td>\n",
       "      <td>...</td>\n",
       "      <td>...</td>\n",
       "      <td>...</td>\n",
       "      <td>...</td>\n",
       "      <td>...</td>\n",
       "      <td>...</td>\n",
       "      <td>...</td>\n",
       "      <td>...</td>\n",
       "      <td>...</td>\n",
       "      <td>...</td>\n",
       "      <td>...</td>\n",
       "      <td>...</td>\n",
       "      <td>...</td>\n",
       "      <td>...</td>\n",
       "      <td>...</td>\n",
       "      <td>...</td>\n",
       "      <td>...</td>\n",
       "      <td>...</td>\n",
       "      <td>...</td>\n",
       "    </tr>\n",
       "    <tr>\n",
       "      <th>468</th>\n",
       "      <td>SUJETO9_TRISTEZA_segmentado_frame90.jpg</td>\n",
       "      <td>0.466474</td>\n",
       "      <td>0.471724</td>\n",
       "      <td>0.469866</td>\n",
       "      <td>0.465500</td>\n",
       "      <td>0.473138</td>\n",
       "      <td>0.474607</td>\n",
       "      <td>0.477799</td>\n",
       "      <td>0.395992</td>\n",
       "      <td>0.480191</td>\n",
       "      <td>...</td>\n",
       "      <td>0.414909</td>\n",
       "      <td>0.427523</td>\n",
       "      <td>0.415741</td>\n",
       "      <td>0.402286</td>\n",
       "      <td>0.414082</td>\n",
       "      <td>0.539010</td>\n",
       "      <td>0.550433</td>\n",
       "      <td>0.540197</td>\n",
       "      <td>0.527597</td>\n",
       "      <td>0.537758</td>\n",
       "    </tr>\n",
       "    <tr>\n",
       "      <th>469</th>\n",
       "      <td>SUJETOBASELINE_ENOJO_.jpg</td>\n",
       "      <td>0.560945</td>\n",
       "      <td>0.530364</td>\n",
       "      <td>0.533198</td>\n",
       "      <td>0.518769</td>\n",
       "      <td>0.530013</td>\n",
       "      <td>0.530284</td>\n",
       "      <td>0.532248</td>\n",
       "      <td>0.443318</td>\n",
       "      <td>0.531075</td>\n",
       "      <td>...</td>\n",
       "      <td>0.486411</td>\n",
       "      <td>0.499561</td>\n",
       "      <td>0.485943</td>\n",
       "      <td>0.472768</td>\n",
       "      <td>0.486684</td>\n",
       "      <td>0.620430</td>\n",
       "      <td>0.632946</td>\n",
       "      <td>0.623366</td>\n",
       "      <td>0.607285</td>\n",
       "      <td>0.617144</td>\n",
       "    </tr>\n",
       "    <tr>\n",
       "      <th>470</th>\n",
       "      <td>SUJETOBASELINE_FELICIDAD_.jpg</td>\n",
       "      <td>0.540443</td>\n",
       "      <td>0.544350</td>\n",
       "      <td>0.542824</td>\n",
       "      <td>0.534408</td>\n",
       "      <td>0.545698</td>\n",
       "      <td>0.547400</td>\n",
       "      <td>0.551285</td>\n",
       "      <td>0.433408</td>\n",
       "      <td>0.554233</td>\n",
       "      <td>...</td>\n",
       "      <td>0.461956</td>\n",
       "      <td>0.477953</td>\n",
       "      <td>0.462953</td>\n",
       "      <td>0.445771</td>\n",
       "      <td>0.460922</td>\n",
       "      <td>0.636306</td>\n",
       "      <td>0.653438</td>\n",
       "      <td>0.637066</td>\n",
       "      <td>0.619192</td>\n",
       "      <td>0.635599</td>\n",
       "    </tr>\n",
       "    <tr>\n",
       "      <th>471</th>\n",
       "      <td>SUJETOBASELINE_NEUTRAL_.jpg</td>\n",
       "      <td>0.523542</td>\n",
       "      <td>0.524195</td>\n",
       "      <td>0.523063</td>\n",
       "      <td>0.514287</td>\n",
       "      <td>0.525274</td>\n",
       "      <td>0.526843</td>\n",
       "      <td>0.530797</td>\n",
       "      <td>0.413220</td>\n",
       "      <td>0.532972</td>\n",
       "      <td>...</td>\n",
       "      <td>0.443472</td>\n",
       "      <td>0.460032</td>\n",
       "      <td>0.443466</td>\n",
       "      <td>0.426757</td>\n",
       "      <td>0.443453</td>\n",
       "      <td>0.619772</td>\n",
       "      <td>0.636259</td>\n",
       "      <td>0.621623</td>\n",
       "      <td>0.603425</td>\n",
       "      <td>0.617948</td>\n",
       "    </tr>\n",
       "    <tr>\n",
       "      <th>472</th>\n",
       "      <td>SUJETOBASELINE_TRISTEZA_.jpg</td>\n",
       "      <td>0.547243</td>\n",
       "      <td>0.546019</td>\n",
       "      <td>0.544474</td>\n",
       "      <td>0.535940</td>\n",
       "      <td>0.547163</td>\n",
       "      <td>0.548488</td>\n",
       "      <td>0.551402</td>\n",
       "      <td>0.438765</td>\n",
       "      <td>0.553941</td>\n",
       "      <td>...</td>\n",
       "      <td>0.465995</td>\n",
       "      <td>0.481345</td>\n",
       "      <td>0.466576</td>\n",
       "      <td>0.450427</td>\n",
       "      <td>0.465370</td>\n",
       "      <td>0.633608</td>\n",
       "      <td>0.648758</td>\n",
       "      <td>0.634641</td>\n",
       "      <td>0.618431</td>\n",
       "      <td>0.632560</td>\n",
       "    </tr>\n",
       "  </tbody>\n",
       "</table>\n",
       "<p>473 rows × 477 columns</p>\n",
       "</div>"
      ],
      "text/plain": [
       "                                       Image       K1X       K2X       K3X  \\\n",
       "0       SUJETO10_ENOJO_segmentado_frame0.jpg  0.516717  0.525122  0.522194   \n",
       "1     SUJETO10_ENOJO_segmentado_frame120.jpg  0.522165  0.534889  0.530828   \n",
       "2     SUJETO10_ENOJO_segmentado_frame150.jpg  0.521257  0.532735  0.528710   \n",
       "3     SUJETO10_ENOJO_segmentado_frame180.jpg  0.519951  0.532665  0.528782   \n",
       "4     SUJETO10_ENOJO_segmentado_frame210.jpg  0.522861  0.534696  0.530758   \n",
       "..                                       ...       ...       ...       ...   \n",
       "468  SUJETO9_TRISTEZA_segmentado_frame90.jpg  0.466474  0.471724  0.469866   \n",
       "469                SUJETOBASELINE_ENOJO_.jpg  0.560945  0.530364  0.533198   \n",
       "470            SUJETOBASELINE_FELICIDAD_.jpg  0.540443  0.544350  0.542824   \n",
       "471              SUJETOBASELINE_NEUTRAL_.jpg  0.523542  0.524195  0.523063   \n",
       "472             SUJETOBASELINE_TRISTEZA_.jpg  0.547243  0.546019  0.544474   \n",
       "\n",
       "          K4X       K5X       K6X       K7X       K8X       K9X  ...  \\\n",
       "0    0.520307  0.527029  0.528918  0.533020  0.452462  0.535847  ...   \n",
       "1    0.530545  0.537171  0.539290  0.543733  0.461720  0.547566  ...   \n",
       "2    0.528189  0.534973  0.536958  0.540957  0.460520  0.544457  ...   \n",
       "3    0.527933  0.534852  0.536787  0.540639  0.457588  0.544010  ...   \n",
       "4    0.530206  0.536961  0.538989  0.543086  0.461393  0.546634  ...   \n",
       "..        ...       ...       ...       ...       ...       ...  ...   \n",
       "468  0.465500  0.473138  0.474607  0.477799  0.395992  0.480191  ...   \n",
       "469  0.518769  0.530013  0.530284  0.532248  0.443318  0.531075  ...   \n",
       "470  0.534408  0.545698  0.547400  0.551285  0.433408  0.554233  ...   \n",
       "471  0.514287  0.525274  0.526843  0.530797  0.413220  0.532972  ...   \n",
       "472  0.535940  0.547163  0.548488  0.551402  0.438765  0.553941  ...   \n",
       "\n",
       "        K469X     K470X     K471X     K472X     K473X     K474X     K475X  \\\n",
       "0    0.470921  0.482739  0.472407  0.459043  0.469388  0.586153  0.597166   \n",
       "1    0.481572  0.493419  0.483559  0.469564  0.479480  0.594279  0.605121   \n",
       "2    0.479952  0.491748  0.481892  0.467997  0.477911  0.593558  0.604407   \n",
       "3    0.477036  0.488321  0.478554  0.465583  0.475401  0.592393  0.602347   \n",
       "4    0.479272  0.490770  0.480933  0.467618  0.477526  0.594907  0.605531   \n",
       "..        ...       ...       ...       ...       ...       ...       ...   \n",
       "468  0.414909  0.427523  0.415741  0.402286  0.414082  0.539010  0.550433   \n",
       "469  0.486411  0.499561  0.485943  0.472768  0.486684  0.620430  0.632946   \n",
       "470  0.461956  0.477953  0.462953  0.445771  0.460922  0.636306  0.653438   \n",
       "471  0.443472  0.460032  0.443466  0.426757  0.443453  0.619772  0.636259   \n",
       "472  0.465995  0.481345  0.466576  0.450427  0.465370  0.633608  0.648758   \n",
       "\n",
       "        K476X     K477X     K478X  \n",
       "0    0.587159  0.575269  0.585243  \n",
       "1    0.595619  0.583513  0.593000  \n",
       "2    0.594810  0.582683  0.592320  \n",
       "3    0.593610  0.582534  0.591239  \n",
       "4    0.596163  0.584328  0.593704  \n",
       "..        ...       ...       ...  \n",
       "468  0.540197  0.527597  0.537758  \n",
       "469  0.623366  0.607285  0.617144  \n",
       "470  0.637066  0.619192  0.635599  \n",
       "471  0.621623  0.603425  0.617948  \n",
       "472  0.634641  0.618431  0.632560  \n",
       "\n",
       "[473 rows x 477 columns]"
      ]
     },
     "execution_count": 45,
     "metadata": {},
     "output_type": "execute_result"
    }
   ],
   "source": [
    "# Calcular el valor medio entre 0.2 y 0.3\n",
    "umbral = (0.4 + 0.5) / 2\n",
    "\n",
    "# Filtrar las características con valores mayores al umbral\n",
    "selected_features = df.columns[np.where(X_new > umbral)].tolist()\n",
    "\n",
    "# Mostrar las características seleccionadas\n",
    "print(\"Características seleccionadas con valor mayor a\", umbral, \":\", selected_features)\n",
    "features_df_info_gain = df[[\"Image\"] + selected_features]\n",
    "features_df_info_gain"
   ]
  },
  {
   "cell_type": "code",
   "execution_count": null,
   "metadata": {},
   "outputs": [],
   "source": []
  },
  {
   "cell_type": "markdown",
   "metadata": {},
   "source": [
    "## Modelos a Evaluar"
   ]
  },
  {
   "cell_type": "markdown",
   "metadata": {},
   "source": [
    "## Evaluando los modelos"
   ]
  },
  {
   "cell_type": "markdown",
   "metadata": {},
   "source": [
    "## Seleccionando el mejor modelo"
   ]
  },
  {
   "cell_type": "markdown",
   "metadata": {},
   "source": [
    "## Validaci&oacute;n"
   ]
  },
  {
   "cell_type": "markdown",
   "metadata": {},
   "source": [
    "## Conclusiones"
   ]
  }
 ],
 "metadata": {
  "kernelspec": {
   "display_name": "Python 3",
   "language": "python",
   "name": "python3"
  },
  "language_info": {
   "codemirror_mode": {
    "name": "ipython",
    "version": 3
   },
   "file_extension": ".py",
   "mimetype": "text/x-python",
   "name": "python",
   "nbconvert_exporter": "python",
   "pygments_lexer": "ipython3",
   "version": "3.11.5"
  }
 },
 "nbformat": 4,
 "nbformat_minor": 2
}
