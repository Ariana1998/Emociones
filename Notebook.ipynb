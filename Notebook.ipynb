{
 "cells": [
  {
   "cell_type": "markdown",
   "metadata": {},
   "source": [
    "## Medici&oacute;n y An&aacute;lisis de Reacciones Emocionales a Trav&eacute;s de Estimulos Visuales"
   ]
  },
  {
   "cell_type": "markdown",
   "metadata": {},
   "source": [
    "<style>\n",
    "    .imagen-ajustada {\n",
    "        width: 900px;\n",
    "        height: 280px;\n",
    "        border-radius: 20px;\n",
    "    }\n",
    "</style>\n",
    "\n",
    "<img src=\"Emociones.jpg\" alt=\"Una imagen\" class=\"imagen-ajustada\">"
   ]
  },
  {
   "cell_type": "markdown",
   "metadata": {},
   "source": [
    "Las emociones constituyen un aspecto fundamental de la experiencia humana y, frecuentemente, se manifiestan no solo a través de la verbalización sino mediante la expresión facial. Por lo cual, el diseño del presente estudio busca explorar la hipótesis de que estímulos visuales específicos, en este caso, vídeos, pueden evocar respuestas emocionales congruentes en los observadores.\n",
    "\n",
    "Para la realización del estudio, se seleccionó una muestra diversa de 12 participantes, compuesta por 8 hombres y 4 mujeres, con edades comprendidas entre los 22 y los 56 años. El objetivo fue examinar la consistencia de las reacciones emocionales provocadas, independientemente de las variables demográficas de los sujetos."
   ]
  },
  {
   "cell_type": "markdown",
   "metadata": {},
   "source": [
    "La metodología del estudio implicó la presentación secuencial de siete videos, cada uno con una duración de treinta segundos, estructurados para inducir y luego neutralizar estados emocionales específicos en los participantes. El protocolo fue como sigue:\n",
    "\n",
    "1. Video con el fin de inducir un estado de relajación, con el propósito de establecer una línea de base emocional neutra en el sujeto.\n",
    "2. Video que mostraba a una niña interactuando por medio del juego con su perro, asumiendo el rol de veterinaria, buscando suscitar una respuesta emocional de felicidad o diversión.\n",
    "3. Video de relajación fue mostrado con el objetivo de reconducir al sujeto a un estado neutral.\n",
    "4. Video donde un hombre mostraba una conducta violenta hacia una mujer sosteniendo a un bebé, con la intención de provocar una reacción emocional de enojo, impotencia y frustración.\n",
    "5. Video de relajación que sirvió para neutralizar nuevamente el estado emocional del sujeto.\n",
    "6. Video en el que se observaba a una mujer en el acto de despedirse de su perro mientras era eutanasiado, con el propósito de elicitar una respuesta de tristeza.\n",
    "7. El último video de relajación, destinado a retornar al sujeto a un estado emocional neutro.\n",
    "\n",
    "La selección de los vídeos utilizados para inducir emociones específicas como la felicidad, el enojo y la tristeza se basó en las recomendaciones y el material proporcionado por un artículo específico, lo cual aporta un respaldo académico y metodológico a la elección de estos estímulos. \n",
    "Por otro lado, la elección de los vídeos neutrales se realizó de manera manual y aleatoria, con el criterio principal de que su duración fuese aproximadamente de 30 segundos, esta aproximación buscaba mantener una coherencia temporal con los vídeos emocionales.\n",
    "\n",
    "<p>Click para acceder al art&iacute;culo anteriormente mencionado <a href=\"https://www.sciencedirect.com/science/article/pii/S2352340920315419\">Selection and validation of emotional videos: Dataset of professional and amateur videos that elicit basic emotions</a>.</p>\n",
    "\n",
    "Este diseño experimental fue cuidadosamente elaborado para evaluar la capacidad de estímulos audiovisuales para evocar emociones definidas y para facilitar el retorno a un estado de equilibrio emocional a través de la relajación entre los estímulos.   "
   ]
  },
  {
   "cell_type": "markdown",
   "metadata": {},
   "source": [
    "El propósito de iniciar y concluir la secuencia experimental con una intervención de relajación radica en la necesidad de establecer y comparar los estados emocionales pre y post experimentales de los participantes.  Esto permite una evaluación cuantitativa del cambio en la respuesta emocional inducida por los estímulos visuales presentados durante el estudio, facilitando así la distinción entre las variaciones naturales del estado emocional y aquellas provocadas por los estímulos experimentales."
   ]
  },
  {
   "cell_type": "markdown",
   "metadata": {},
   "source": [
    "## <span style=\"color:#EBBAF3;\">Librerias Importadas</span>"
   ]
  },
  {
   "cell_type": "code",
   "execution_count": 4,
   "metadata": {},
   "outputs": [],
   "source": [
    "# Se implementan las librerias correspondientes para el comienzo del proyecto\n",
    "\n",
    "import os\n",
    "import warnings\n",
    "import sys\n",
    "if not sys.warnoptions:\n",
    "    warnings.simplefilter(\"ignore\")\n",
    "warnings.filterwarnings(\"ignore\", category=DeprecationWarning)\n",
    "import mediapipe as mp\n",
    "import cv2\n",
    "import matplotlib.pyplot as plt\n",
    "import subprocess\n",
    "from moviepy.editor import VideoFileClip\n",
    "import pandas as pd\n",
    "from sklearn.feature_selection import mutual_info_classif\n",
    "import numpy as np\n",
    "import seaborn as sns\n",
    "from sklearn.preprocessing import LabelEncoder\n",
    "from sklearn.naive_bayes import GaussianNB\n",
    "from sklearn.model_selection import KFold\n",
    "from sklearn.neighbors import KNeighborsClassifier\n",
    "from sklearn.ensemble import AdaBoostClassifier\n",
    "from sklearn.metrics import f1_score, recall_score, accuracy_score, confusion_matrix, precision_score\n",
    "from sklearn.model_selection import train_test_split\n",
    "from sklearn.ensemble import AdaBoostClassifier, RandomForestClassifier\n",
    "from sklearn.ensemble import GradientBoostingClassifier\n",
    "from sklearn.neighbors import KNeighborsClassifier\n",
    "from IPython.display import display, Image\n",
    "from sklearn.feature_selection import mutual_info_classif"
   ]
  },
  {
   "cell_type": "markdown",
   "metadata": {},
   "source": [
    "## <span style=\"color:#EBBAF3;\">Procesamiento y Segmentacion de datos</span>"
   ]
  },
  {
   "cell_type": "markdown",
   "metadata": {},
   "source": [
    "Durante la fase de recolección de datos, se implementó una estrategia que incluía la captura de vídeo, audio y autoinformes, con la intención de disponer de un conjunto de datos para su aplicación en el proyecto. No obstante, se decidió priorizar el análisis de vídeo y autoinformes como consecuencia de restricciones temporales que impidieron la integración efectiva de las grabaciones de audio.\n",
    "\n",
    "En consecuencia, para el procesamiento de los datos de vídeo, se llevó a cabo una selección enfocada en las respuestas visuales de los sujetos, excluyendo los componentes de audio de su reacción ante los estímulos. Este procedimiento implicó una edición de los videos, con el fin de aislar y conservar únicamente las respuestas emocionales no verbales manifestadas por los participantes."
   ]
  },
  {
   "cell_type": "code",
   "execution_count": 45,
   "metadata": {},
   "outputs": [
    {
     "name": "stdout",
     "output_type": "stream",
     "text": [
      "Moviepy - Building video ./VideosRecortados/SUJETO10_N4.MOV.\n",
      "MoviePy - Writing audio in SUJETO10_N4TEMP_MPY_wvf_snd.mp4\n"
     ]
    },
    {
     "name": "stderr",
     "output_type": "stream",
     "text": [
      "                                                                    \r"
     ]
    },
    {
     "name": "stdout",
     "output_type": "stream",
     "text": [
      "MoviePy - Done.\n",
      "Moviepy - Writing video ./VideosRecortados/SUJETO10_N4.MOV\n",
      "\n"
     ]
    },
    {
     "name": "stderr",
     "output_type": "stream",
     "text": [
      "                                                              \r"
     ]
    },
    {
     "name": "stdout",
     "output_type": "stream",
     "text": [
      "Moviepy - Done !\n",
      "Moviepy - video ready ./VideosRecortados/SUJETO10_N4.MOV\n",
      "Moviepy - Building video ./VideosRecortados/SUJETO11_N4.MOV.\n",
      "MoviePy - Writing audio in SUJETO11_N4TEMP_MPY_wvf_snd.mp4\n"
     ]
    },
    {
     "name": "stderr",
     "output_type": "stream",
     "text": [
      "                                                                    \r"
     ]
    },
    {
     "name": "stdout",
     "output_type": "stream",
     "text": [
      "MoviePy - Done.\n",
      "Moviepy - Writing video ./VideosRecortados/SUJETO11_N4.MOV\n",
      "\n"
     ]
    },
    {
     "name": "stderr",
     "output_type": "stream",
     "text": [
      "                                                              \r"
     ]
    },
    {
     "name": "stdout",
     "output_type": "stream",
     "text": [
      "Moviepy - Done !\n",
      "Moviepy - video ready ./VideosRecortados/SUJETO11_N4.MOV\n",
      "Moviepy - Building video ./VideosRecortados/SUJETO12_N4.MOV.\n",
      "MoviePy - Writing audio in SUJETO12_N4TEMP_MPY_wvf_snd.mp4\n"
     ]
    },
    {
     "name": "stderr",
     "output_type": "stream",
     "text": [
      "                                                                    \r"
     ]
    },
    {
     "name": "stdout",
     "output_type": "stream",
     "text": [
      "MoviePy - Done.\n",
      "Moviepy - Writing video ./VideosRecortados/SUJETO12_N4.MOV\n",
      "\n"
     ]
    },
    {
     "name": "stderr",
     "output_type": "stream",
     "text": [
      "                                                              \r"
     ]
    },
    {
     "name": "stdout",
     "output_type": "stream",
     "text": [
      "Moviepy - Done !\n",
      "Moviepy - video ready ./VideosRecortados/SUJETO12_N4.MOV\n",
      "Moviepy - Building video ./VideosRecortados/SUJETO1_N4.MOV.\n",
      "MoviePy - Writing audio in SUJETO1_N4TEMP_MPY_wvf_snd.mp4\n"
     ]
    },
    {
     "name": "stderr",
     "output_type": "stream",
     "text": [
      "                                                                    \r"
     ]
    },
    {
     "name": "stdout",
     "output_type": "stream",
     "text": [
      "MoviePy - Done.\n",
      "Moviepy - Writing video ./VideosRecortados/SUJETO1_N4.MOV\n",
      "\n"
     ]
    },
    {
     "name": "stderr",
     "output_type": "stream",
     "text": [
      "                                                              \r"
     ]
    },
    {
     "name": "stdout",
     "output_type": "stream",
     "text": [
      "Moviepy - Done !\n",
      "Moviepy - video ready ./VideosRecortados/SUJETO1_N4.MOV\n",
      "Moviepy - Building video ./VideosRecortados/SUJETO2_N4.MOV.\n",
      "MoviePy - Writing audio in SUJETO2_N4TEMP_MPY_wvf_snd.mp4\n"
     ]
    },
    {
     "name": "stderr",
     "output_type": "stream",
     "text": [
      "                                                                    \r"
     ]
    },
    {
     "name": "stdout",
     "output_type": "stream",
     "text": [
      "MoviePy - Done.\n",
      "Moviepy - Writing video ./VideosRecortados/SUJETO2_N4.MOV\n",
      "\n"
     ]
    },
    {
     "name": "stderr",
     "output_type": "stream",
     "text": [
      "                                                              \r"
     ]
    },
    {
     "name": "stdout",
     "output_type": "stream",
     "text": [
      "Moviepy - Done !\n",
      "Moviepy - video ready ./VideosRecortados/SUJETO2_N4.MOV\n",
      "Moviepy - Building video ./VideosRecortados/SUJETO3_N4.MOV.\n",
      "MoviePy - Writing audio in SUJETO3_N4TEMP_MPY_wvf_snd.mp4\n"
     ]
    },
    {
     "name": "stderr",
     "output_type": "stream",
     "text": [
      "                                                                    \r"
     ]
    },
    {
     "name": "stdout",
     "output_type": "stream",
     "text": [
      "MoviePy - Done.\n",
      "Moviepy - Writing video ./VideosRecortados/SUJETO3_N4.MOV\n",
      "\n"
     ]
    },
    {
     "name": "stderr",
     "output_type": "stream",
     "text": [
      "                                                              \r"
     ]
    },
    {
     "name": "stdout",
     "output_type": "stream",
     "text": [
      "Moviepy - Done !\n",
      "Moviepy - video ready ./VideosRecortados/SUJETO3_N4.MOV\n",
      "Moviepy - Building video ./VideosRecortados/SUJETO4_N4.MOV.\n",
      "MoviePy - Writing audio in SUJETO4_N4TEMP_MPY_wvf_snd.mp4\n"
     ]
    },
    {
     "name": "stderr",
     "output_type": "stream",
     "text": [
      "                                                                    \r"
     ]
    },
    {
     "name": "stdout",
     "output_type": "stream",
     "text": [
      "MoviePy - Done.\n",
      "Moviepy - Writing video ./VideosRecortados/SUJETO4_N4.MOV\n",
      "\n"
     ]
    },
    {
     "name": "stderr",
     "output_type": "stream",
     "text": [
      "                                                              \r"
     ]
    },
    {
     "name": "stdout",
     "output_type": "stream",
     "text": [
      "Moviepy - Done !\n",
      "Moviepy - video ready ./VideosRecortados/SUJETO4_N4.MOV\n",
      "Moviepy - Building video ./VideosRecortados/SUJETO5_N4.MOV.\n",
      "MoviePy - Writing audio in SUJETO5_N4TEMP_MPY_wvf_snd.mp4\n"
     ]
    },
    {
     "name": "stderr",
     "output_type": "stream",
     "text": [
      "                                                                    \r"
     ]
    },
    {
     "name": "stdout",
     "output_type": "stream",
     "text": [
      "MoviePy - Done.\n",
      "Moviepy - Writing video ./VideosRecortados/SUJETO5_N4.MOV\n",
      "\n"
     ]
    },
    {
     "name": "stderr",
     "output_type": "stream",
     "text": [
      "                                                              \r"
     ]
    },
    {
     "name": "stdout",
     "output_type": "stream",
     "text": [
      "Moviepy - Done !\n",
      "Moviepy - video ready ./VideosRecortados/SUJETO5_N4.MOV\n",
      "Moviepy - Building video ./VideosRecortados/SUJETO6_N4.MOV.\n",
      "MoviePy - Writing audio in SUJETO6_N4TEMP_MPY_wvf_snd.mp4\n"
     ]
    },
    {
     "name": "stderr",
     "output_type": "stream",
     "text": [
      "                                                                    \r"
     ]
    },
    {
     "name": "stdout",
     "output_type": "stream",
     "text": [
      "MoviePy - Done.\n",
      "Moviepy - Writing video ./VideosRecortados/SUJETO6_N4.MOV\n",
      "\n"
     ]
    },
    {
     "name": "stderr",
     "output_type": "stream",
     "text": [
      "                                                              \r"
     ]
    },
    {
     "name": "stdout",
     "output_type": "stream",
     "text": [
      "Moviepy - Done !\n",
      "Moviepy - video ready ./VideosRecortados/SUJETO6_N4.MOV\n",
      "Moviepy - Building video ./VideosRecortados/SUJETO7_N4.MOV.\n",
      "MoviePy - Writing audio in SUJETO7_N4TEMP_MPY_wvf_snd.mp4\n"
     ]
    },
    {
     "name": "stderr",
     "output_type": "stream",
     "text": [
      "                                                                    \r"
     ]
    },
    {
     "name": "stdout",
     "output_type": "stream",
     "text": [
      "MoviePy - Done.\n",
      "Moviepy - Writing video ./VideosRecortados/SUJETO7_N4.MOV\n",
      "\n"
     ]
    },
    {
     "name": "stderr",
     "output_type": "stream",
     "text": [
      "                                                              \r"
     ]
    },
    {
     "name": "stdout",
     "output_type": "stream",
     "text": [
      "Moviepy - Done !\n",
      "Moviepy - video ready ./VideosRecortados/SUJETO7_N4.MOV\n",
      "Moviepy - Building video ./VideosRecortados/SUJETO8_N4.MOV.\n",
      "MoviePy - Writing audio in SUJETO8_N4TEMP_MPY_wvf_snd.mp4\n"
     ]
    },
    {
     "name": "stderr",
     "output_type": "stream",
     "text": [
      "                                                                   \r"
     ]
    },
    {
     "name": "stdout",
     "output_type": "stream",
     "text": [
      "MoviePy - Done.\n",
      "Moviepy - Writing video ./VideosRecortados/SUJETO8_N4.MOV\n",
      "\n"
     ]
    },
    {
     "name": "stderr",
     "output_type": "stream",
     "text": [
      "                                                              \r"
     ]
    },
    {
     "name": "stdout",
     "output_type": "stream",
     "text": [
      "Moviepy - Done !\n",
      "Moviepy - video ready ./VideosRecortados/SUJETO8_N4.MOV\n",
      "Moviepy - Building video ./VideosRecortados/SUJETO9_N4.MOV.\n",
      "MoviePy - Writing audio in SUJETO9_N4TEMP_MPY_wvf_snd.mp4\n"
     ]
    },
    {
     "name": "stderr",
     "output_type": "stream",
     "text": [
      "                                                                    \r"
     ]
    },
    {
     "name": "stdout",
     "output_type": "stream",
     "text": [
      "MoviePy - Done.\n",
      "Moviepy - Writing video ./VideosRecortados/SUJETO9_N4.MOV\n",
      "\n"
     ]
    },
    {
     "name": "stderr",
     "output_type": "stream",
     "text": [
      "                                                              \r"
     ]
    },
    {
     "name": "stdout",
     "output_type": "stream",
     "text": [
      "Moviepy - Done !\n",
      "Moviepy - video ready ./VideosRecortados/SUJETO9_N4.MOV\n",
      "Todos los videos han sido recortados y guardados.\n"
     ]
    }
   ],
   "source": [
    "# Define la ruta de la carpeta que contiene los videos originales\n",
    "carpeta_videos = './Videos/'\n",
    "\n",
    "# Define la ruta de la carpeta donde guardarás los videos recortados\n",
    "carpeta_destino = './VideosRecortados/'\n",
    "\n",
    "# Crea la carpeta de destino si no existe\n",
    "if not os.path.exists(carpeta_destino):\n",
    "    os.makedirs(carpeta_destino)\n",
    "\n",
    "# Itera sobre cada archivo en la carpeta de videos\n",
    "for archivo in os.listdir(carpeta_videos):\n",
    "    # Verifica si el archivo termina en '_N1.MOV'\n",
    "    if archivo.endswith('_N4.MOV'):\n",
    "        ruta_completa = os.path.join(carpeta_videos, archivo)\n",
    "        \n",
    "        # Carga el video\n",
    "        video = VideoFileClip(ruta_completa)\n",
    "        \n",
    "        # Recorta el video desde el segundo 0 hasta el segundo 31\n",
    "        video_recortado = video.subclip(0, 33)\n",
    "        \n",
    "        # Define la ruta del archivo de destino\n",
    "        ruta_destino = os.path.join(carpeta_destino, archivo)\n",
    "        \n",
    "        # Guarda el video recortado en la carpeta de destino\n",
    "        video_recortado.write_videofile(ruta_destino, codec=\"libx264\", audio_codec=\"aac\")\n",
    "\n",
    "        # Cierra el clip para liberar recursos\n",
    "        video.close()\n",
    "        video_recortado.close()\n",
    "\n",
    "print(\"Todos los videos han sido recortados y guardados.\")\n"
   ]
  },
  {
   "cell_type": "markdown",
   "metadata": {},
   "source": [
    "Con respecto al participante número nueve, se enfrentó con problemas relacionados a la conectividad a internet. Esto ocasionó un retardo de ocho segundos en la reproducción inicial del vídeo correspondiente a la secuencia experimental. Para remediar esto y preservar la integridad metodológica del estudio, se procedió a una edición personalizada del video de dicho participante. El proceso de edición se llevó a cabo utilizando el siguiente código específico:"
   ]
  },
  {
   "cell_type": "code",
   "execution_count": 46,
   "metadata": {},
   "outputs": [
    {
     "name": "stdout",
     "output_type": "stream",
     "text": [
      "Moviepy - Building video ./VideosRecortados/SUJETO9_N4.MOV.\n",
      "MoviePy - Writing audio in SUJETO9_N4TEMP_MPY_wvf_snd.mp4\n"
     ]
    },
    {
     "name": "stderr",
     "output_type": "stream",
     "text": [
      "                                                                    \r"
     ]
    },
    {
     "name": "stdout",
     "output_type": "stream",
     "text": [
      "MoviePy - Done.\n",
      "Moviepy - Writing video ./VideosRecortados/SUJETO9_N4.MOV\n",
      "\n"
     ]
    },
    {
     "name": "stderr",
     "output_type": "stream",
     "text": [
      "                                                              \r"
     ]
    },
    {
     "name": "stdout",
     "output_type": "stream",
     "text": [
      "Moviepy - Done !\n",
      "Moviepy - video ready ./VideosRecortados/SUJETO9_N4.MOV\n",
      "El video SUJETO9_N4.MOV ha sido recortado y guardado.\n"
     ]
    }
   ],
   "source": [
    "# Define la ruta completa al video que deseas recortar\n",
    "ruta_video = './Videos/SUJETO9_N4.MOV'\n",
    "\n",
    "# Define la ruta de la carpeta donde guardarás el video recortado\n",
    "carpeta_destino = './VideosRecortados/'\n",
    "\n",
    "# Crea la carpeta de destino si no existe\n",
    "if not os.path.exists(carpeta_destino):\n",
    "    os.makedirs(carpeta_destino)\n",
    "\n",
    "# Comprueba si el archivo termina en '_N1.MOV'\n",
    "if ruta_video.endswith('_N4.MOV'):\n",
    "    # Carga el video\n",
    "    video = VideoFileClip(ruta_video)\n",
    "    \n",
    "    # Recorta el video desde el segundo 0 hasta el segundo 31\n",
    "    video_recortado = video.subclip(7, 38)\n",
    "    \n",
    "    # Extrae el nombre del archivo del video original\n",
    "    nombre_archivo = os.path.basename(ruta_video)\n",
    "    \n",
    "    # Define la ruta del archivo de destino\n",
    "    ruta_destino = os.path.join(carpeta_destino, nombre_archivo)\n",
    "    \n",
    "    # Guarda el video recortado en la carpeta de destino\n",
    "    video_recortado.write_videofile(ruta_destino, codec=\"libx264\", audio_codec=\"aac\")\n",
    "    \n",
    "    # Cierra el clip para liberar recursos\n",
    "    video.close()\n",
    "    video_recortado.close()\n",
    "\n",
    "    print(f\"El video {nombre_archivo} ha sido recortado y guardado.\")\n",
    "else:\n",
    "    print(\"El archivo no termina en '_N3.MOV', por lo que no se ha recortado.\")\n"
   ]
  },
  {
   "cell_type": "markdown",
   "metadata": {},
   "source": [
    "Ahora se procederá a construir un dataframe que sistematice las respuestas autoinformadas por los sujetos de estudio en relación con los vídeos observados. Con el objetivo de proporcionar una mayor claridad respecto a la metodología de recopilación de datos autoinformados, se adjunta a continuación la plantilla utilizada para la recolección de respuestas de los participantes:"
   ]
  },
  {
   "cell_type": "markdown",
   "metadata": {},
   "source": [
    "<style>\n",
    "    .imagen-ajustada {\n",
    "        width: 900px;\n",
    "        height: 280px;\n",
    "        \n",
    "    }\n",
    "</style>\n",
    "\n",
    "<img src=\"ExperimentoImagen.png\" alt=\"Una imagen\" class=\"imagen-ajustada\">"
   ]
  },
  {
   "cell_type": "code",
   "execution_count": 17,
   "metadata": {},
   "outputs": [],
   "source": [
    "datos = [\n",
    "    # Sujeto 1\n",
    "    {'Sujeto': 1, 'Emoción': 'Neutral 1', 'Calificación': 2},\n",
    "    {'Sujeto': 1, 'Emoción': 'Felicidad', 'Calificación': 4},\n",
    "    {'Sujeto': 1, 'Emoción': 'Neutral 2', 'Calificación': 2},\n",
    "    {'Sujeto': 1, 'Emoción': 'Enojo', 'Calificación': 5},\n",
    "    {'Sujeto': 1, 'Emoción': 'Neutral 3', 'Calificación': 1},\n",
    "    {'Sujeto': 1, 'Emoción': 'Tristeza', 'Calificación': 4},\n",
    "    {'Sujeto': 1, 'Emoción': 'Neutral 4', 'Calificación': 1},\n",
    "    #Sujeto 2\n",
    "    {'Sujeto': 2, 'Emoción': 'Neutral 1', 'Calificación': 2},\n",
    "    {'Sujeto': 2, 'Emoción': 'Felicidad', 'Calificación': 5},\n",
    "    {'Sujeto': 2, 'Emoción': 'Neutral 2', 'Calificación': 1},\n",
    "    {'Sujeto': 2, 'Emoción': 'Enojo', 'Calificación': 5},\n",
    "    {'Sujeto': 2, 'Emoción': 'Neutral 3', 'Calificación': 1},\n",
    "    {'Sujeto': 2, 'Emoción': 'Tristeza', 'Calificación': 5},\n",
    "    {'Sujeto': 2, 'Emoción': 'Neutral 4', 'Calificación': 4},\n",
    "    #Sujeto 3\n",
    "    {'Sujeto': 3, 'Emoción': 'Neutral 1', 'Calificación': 5},\n",
    "    {'Sujeto': 3, 'Emoción': 'Felicidad', 'Calificación': 4},\n",
    "    {'Sujeto': 3, 'Emoción': 'Neutral 2', 'Calificación': 5},\n",
    "    {'Sujeto': 3, 'Emoción': 'Enojo', 'Calificación': 4},\n",
    "    {'Sujeto': 3, 'Emoción': 'Neutral 3', 'Calificación': 3},\n",
    "    {'Sujeto': 3, 'Emoción': 'Tristeza', 'Calificación': 5},\n",
    "    {'Sujeto': 3, 'Emoción': 'Neutral 4', 'Calificación': 2},\n",
    "    # Sujeto 4\n",
    "    {'Sujeto': 4, 'Emoción': 'Neutral 1', 'Calificación': 1},\n",
    "    {'Sujeto': 4, 'Emoción': 'Felicidad', 'Calificación': 5},\n",
    "    {'Sujeto': 4, 'Emoción': 'Neutral 2', 'Calificación': 5},\n",
    "    {'Sujeto': 4, 'Emoción': 'Enojo', 'Calificación': 5},\n",
    "    {'Sujeto': 4, 'Emoción': 'Neutral 3', 'Calificación': 1},\n",
    "    {'Sujeto': 4, 'Emoción': 'Tristeza', 'Calificación': 5},\n",
    "    {'Sujeto': 4, 'Emoción': 'Neutral 4', 'Calificación': 1},\n",
    "    # Sujeto 5\n",
    "    {'Sujeto': 5, 'Emoción': 'Neutral 1', 'Calificación': 2},\n",
    "    {'Sujeto': 5, 'Emoción': 'Felicidad', 'Calificación': 5},\n",
    "    {'Sujeto': 5, 'Emoción': 'Neutral 2', 'Calificación': 3},\n",
    "    {'Sujeto': 5, 'Emoción': 'Enojo', 'Calificación': 5},\n",
    "    {'Sujeto': 5, 'Emoción': 'Neutral 3', 'Calificación': 5},\n",
    "    {'Sujeto': 5, 'Emoción': 'Tristeza', 'Calificación': 5},\n",
    "    {'Sujeto': 5, 'Emoción': 'Neutral 4', 'Calificación': 1},\n",
    "    # Sujeto 6\n",
    "    {'Sujeto': 6, 'Emoción': 'Neutral 1', 'Calificación': 2},\n",
    "    {'Sujeto': 6, 'Emoción': 'Felicidad', 'Calificación': 4},\n",
    "    {'Sujeto': 6, 'Emoción': 'Neutral 2', 'Calificación': 5},\n",
    "    {'Sujeto': 6, 'Emoción': 'Enojo', 'Calificación': 5},\n",
    "    {'Sujeto': 6, 'Emoción': 'Neutral 3', 'Calificación': 5},\n",
    "    {'Sujeto': 6, 'Emoción': 'Tristeza', 'Calificación': 5},\n",
    "    {'Sujeto': 6, 'Emoción': 'Neutral 4', 'Calificación': 4},\n",
    "    # Sujeto 7\n",
    "    {'Sujeto': 7, 'Emoción': 'Neutral 1', 'Calificación': 5},\n",
    "    {'Sujeto': 7, 'Emoción': 'Felicidad', 'Calificación': 4},\n",
    "    {'Sujeto': 7, 'Emoción': 'Neutral 2', 'Calificación': 5},\n",
    "    {'Sujeto': 7, 'Emoción': 'Enojo', 'Calificación': 5},\n",
    "    {'Sujeto': 7, 'Emoción': 'Neutral 3', 'Calificación': 4},\n",
    "    {'Sujeto': 7, 'Emoción': 'Tristeza', 'Calificación': 5},\n",
    "    {'Sujeto': 7, 'Emoción': 'Neutral 4', 'Calificación': 4},\n",
    "    # Sujeto 8\n",
    "    #{'Sujeto': 8, 'Emoción': 'Neutral 1', 'Calificación': 2},\n",
    "    #{'Sujeto': 8, 'Emoción': 'Felicidad', 'Calificación': 1},\n",
    "    #{'Sujeto': 8, 'Emoción': 'Neutral 2', 'Calificación': 3},\n",
    "    #{'Sujeto': 8, 'Emoción': 'Enojo', 'Calificación': 1},\n",
    "    #{'Sujeto': 8, 'Emoción': 'Neutral 3', 'Calificación': 1},\n",
    "    #{'Sujeto': 8, 'Emoción': 'Tristeza', 'Calificación': 1},\n",
    "    #{'Sujeto': 8, 'Emoción': 'Neutral 4', 'Calificación': 1},\n",
    "    # Sujeto 9\n",
    "    {'Sujeto': 9, 'Emoción': 'Neutral 1', 'Calificación': 4},\n",
    "    {'Sujeto': 9, 'Emoción': 'Felicidad', 'Calificación': 4},\n",
    "    {'Sujeto': 9, 'Emoción': 'Neutral 2', 'Calificación': 4},\n",
    "    {'Sujeto': 9, 'Emoción': 'Enojo', 'Calificación': 5},\n",
    "    {'Sujeto': 9, 'Emoción': 'Neutral 3', 'Calificación': 4},\n",
    "    {'Sujeto': 9, 'Emoción': 'Tristeza', 'Calificación': 5},\n",
    "    {'Sujeto': 9, 'Emoción': 'Neutral 4', 'Calificación': 4},\n",
    "    # Sujeto 10\n",
    "    {'Sujeto': 10, 'Emoción': 'Neutral 1', 'Calificación': 3},\n",
    "    {'Sujeto': 10, 'Emoción': 'Felicidad', 'Calificación': 5},\n",
    "    {'Sujeto': 10, 'Emoción': 'Neutral 2', 'Calificación': 2},\n",
    "    {'Sujeto': 10, 'Emoción': 'Enojo', 'Calificación': 4},\n",
    "    {'Sujeto': 10, 'Emoción': 'Neutral 3', 'Calificación': 5},\n",
    "    {'Sujeto': 10, 'Emoción': 'Tristeza', 'Calificación': 5},\n",
    "    {'Sujeto': 10, 'Emoción': 'Neutral 4', 'Calificación': 3},\n",
    "    # Sujeto 11\n",
    "    {'Sujeto': 11, 'Emoción': 'Neutral 1', 'Calificación': 5},\n",
    "    {'Sujeto': 11, 'Emoción': 'Felicidad', 'Calificación': 5},\n",
    "    {'Sujeto': 11, 'Emoción': 'Neutral 2', 'Calificación': 1},\n",
    "    {'Sujeto': 11, 'Emoción': 'Enojo', 'Calificación': 5},\n",
    "    {'Sujeto': 11, 'Emoción': 'Neutral 3', 'Calificación': 5},\n",
    "    {'Sujeto': 11, 'Emoción': 'Tristeza', 'Calificación': 5},\n",
    "    {'Sujeto': 11, 'Emoción': 'Neutral 4', 'Calificación': 3},\n",
    "    # Sujeto 12\n",
    "    {'Sujeto': 12, 'Emoción': 'Neutral 1', 'Calificación': 2},\n",
    "    {'Sujeto': 12, 'Emoción': 'Felicidad', 'Calificación': 5},\n",
    "    {'Sujeto': 12, 'Emoción': 'Neutral 2', 'Calificación': 5},\n",
    "    {'Sujeto': 12, 'Emoción': 'Enojo', 'Calificación': 5},\n",
    "    {'Sujeto': 12, 'Emoción': 'Neutral 3', 'Calificación': 4},\n",
    "    {'Sujeto': 12, 'Emoción': 'Tristeza', 'Calificación': 5},\n",
    "    {'Sujeto': 12, 'Emoción': 'Neutral 4', 'Calificación': 3}\n",
    "]\n"
   ]
  },
  {
   "cell_type": "markdown",
   "metadata": {},
   "source": [
    "## <span style=\"color:#EBBAF3;\">An&aacute;lisis Exploratorio</span> "
   ]
  },
  {
   "cell_type": "markdown",
   "metadata": {},
   "source": [
    "Para el análisis inicial de los datos, se consideró esencial evaluar la aplicación de FaceMesh a las imágenes y determinar su viabilidad para la evaluación emocional final. Tras la implementación de FaceMesh y la observación de los resultados, se concluyó que este enfoque era factible y prometedor para el análisis emocional. Inicialmente, se contempló la posibilidad de centrar el análisis en áreas faciales específicas como los ojos, las cejas, la nariz y la boca, dada su significativa participación en la expresión de emociones. Sin embargo, tras una evaluación comparativa, se decidió incorporar la totalidad de la cara en el análisis, ya que la diferencia en la efectividad entre analizar áreas específicas y la cara completa no resultó ser sustancial."
   ]
  },
  {
   "cell_type": "code",
   "execution_count": 24,
   "metadata": {},
   "outputs": [
    {
     "data": {
      "image/png": "[encoded data removed]",
      "text/plain": [
       "<IPython.core.display.Image object>"
      ]
     },
     "metadata": {},
     "output_type": "display_data"
    }
   ],
   "source": [
    "# Inicializa MediaPipe FaceMesh\n",
    "mp_face_mesh = mp.solutions.face_mesh\n",
    "face_mesh = mp_face_mesh.FaceMesh(static_image_mode=True, max_num_faces=1, refine_landmarks=True, min_detection_confidence=0.5)\n",
    "\n",
    "# Carga la imagen\n",
    "image_path = './Imagenes/SUJETOBASELINE_ENOJO_.jpG'  # Asegúrate de que la ruta sea correcta\n",
    "image = cv2.imread(image_path)\n",
    "\n",
    "if image is not None:\n",
    "    # Redimensiona la imagen a 720p\n",
    "    height, width = image.shape[:2]\n",
    "    if height != 720 or width != 1280:\n",
    "        image = cv2.resize(image, (1280, 720))\n",
    "\n",
    "    # Convierte la imagen a RGB antes de procesarla\n",
    "    image_rgb = cv2.cvtColor(image, cv2.COLOR_BGR2RGB)\n",
    "\n",
    "    # Procesa la imagen para obtener los landmarks\n",
    "    results = face_mesh.process(image_rgb)\n",
    "\n",
    "    # Dibuja los landmarks faciales en la imagen\n",
    "    if results.multi_face_landmarks:\n",
    "        for face_landmarks in results.multi_face_landmarks:\n",
    "            mp.solutions.drawing_utils.draw_landmarks(\n",
    "                image=image_rgb,  # Dibuja en la imagen RGB\n",
    "                landmark_list=face_landmarks,\n",
    "                connections=mp_face_mesh.FACEMESH_TESSELATION,\n",
    "                landmark_drawing_spec=mp.solutions.drawing_utils.DrawingSpec(color=(0, 255, 0), thickness=1, circle_radius=1)\n",
    "            )\n",
    "\n",
    "    # Convierte la imagen procesada de RGB a BGR para guardar o mostrar\n",
    "    image_bgr_with_landmarks = cv2.cvtColor(image_rgb, cv2.COLOR_RGB2BGR)\n",
    "    \n",
    "    # Convertir la imagen a formato que IPython puede mostrar\n",
    "    _, encoded_image = cv2.imencode('.JPG', image_bgr_with_landmarks)\n",
    "    ipy_image = Image(data=encoded_image)\n",
    "\n",
    "    display(ipy_image)\n",
    "else:\n",
    "    print(f\"No se pudo cargar la imagen desde {image_path}\")\n"
   ]
  },
  {
   "cell_type": "markdown",
   "metadata": {},
   "source": [
    "Para validar la distribución de las emociones empleadas en el entrenamiento del modelo de evaluación, se realizó un análisis cuantitativo de las etiquetas utilizadas. Este análisis reveló que las emociones de enojo y neutralidad predominaron en el conjunto de datos, sugiriendo que estas emociones fueron las más representadas durante la fase de entrenamiento del modelo. Por contraste, las emociones de tristeza y felicidad se encontraron en menor medida dentro del conjunto de datos."
   ]
  },
  {
   "cell_type": "code",
   "execution_count": 30,
   "metadata": {},
   "outputs": [
    {
     "data": {
      "image/png": "[encoded data removed]",
      "text/plain": [
       "<Figure size 800x400 with 1 Axes>"
      ]
     },
     "metadata": {},
     "output_type": "display_data"
    }
   ],
   "source": [
    "df_all_data_landmarks = pd.read_csv('./flat_landmarks_images_with_label.csv')\n",
    "\n",
    "# Calcula la frecuencia de cada etiqueta\n",
    "label_frequencies = df_all_data_landmarks['Label'].value_counts()\n",
    "\n",
    "# Establece el estilo de Seaborn\n",
    "sns.set_style(\"whitegrid\")\n",
    "\n",
    "# Define una paleta de colores en tonos morados\n",
    "pink_palette = sns.color_palette(\"RdPu\", len(label_frequencies))\n",
    "\n",
    "# Crea la gráfica\n",
    "plt.figure(figsize=(8, 4))\n",
    "barplot = sns.barplot(x=label_frequencies.index, y=label_frequencies.values, palette=pink_palette)\n",
    "\n",
    "# Añade título y etiquetas\n",
    "plt.title('Frecuencia de Etiquetas', fontsize=16)\n",
    "plt.xlabel('Etiqueta', fontsize=14)\n",
    "plt.ylabel('Frecuencia', fontsize=14)\n",
    "\n",
    "# Rotación de etiquetas en el eje x para mayor legibilidad\n",
    "barplot.set_xticklabels(barplot.get_xticklabels(), rotation=45, horizontalalignment='right')\n",
    "\n",
    "# Añade etiquetas sobre las barras\n",
    "for index, value in enumerate(label_frequencies):\n",
    "    barplot.text(index, value, str(value), color='black', ha='center', va='bottom')\n",
    "\n",
    "# Muestra la gráfica\n",
    "plt.tight_layout()\n",
    "plt.show()\n"
   ]
  },
  {
   "cell_type": "markdown",
   "metadata": {},
   "source": [
    "## <span style=\"color:#EBBAF3;\">Extracci&oacute;n de Caracter&iacute;sticas </span> "
   ]
  },
  {
   "cell_type": "markdown",
   "metadata": {},
   "source": [
    "Los vídeos implementados en el estudio tienen una duración aproximada de treinta segundos. Sin embargo, durante la fase de extracción de características, se identificó que la temporalidad completa de los vídeos generaría una cantidad excesiva de datos. Para optimizar el análisis, se decidió proceder con la truncación de los segmentos de vídeo a duraciones de entre cinco y doce segundos. La selección de estos intervalos específicos se basó en una evaluación rigurosa de los momentos en los que cada participante demostró la reacción más pronunciada y pertinente al estímulo visual presentado. "
   ]
  },
  {
   "cell_type": "code",
   "execution_count": 25,
   "metadata": {},
   "outputs": [
    {
     "name": "stdout",
     "output_type": "stream",
     "text": [
      "                  SUJETO INICIO   FIN      LABEL\n",
      "0      SUJETO1_ENOJO.MOV   0:03  0:14      ENOJO\n",
      "1         SUJETO1_N1.MOV   0:10  0:20    NEUTRAL\n",
      "2  SUJETO1_FELICIDAD.MOV   0:07  0:14  FELICIDAD\n",
      "3   SUJETO1_TRISTEZA.MOV   0:03  0:13   TRISTEZA\n",
      "4      SUJETO2_ENOJO.MOV   0:05  0:15      ENOJO\n"
     ]
    }
   ],
   "source": [
    "# En este apartado se hizo un archivo .csv para ver en que momento se presento la emocion en base al estimulo visual.\n",
    "\n",
    "path = './VideosSegmentados.csv'\n",
    "segmentado_df = pd.read_csv(path)\n",
    "print(segmentado_df.head())\n"
   ]
  },
  {
   "cell_type": "markdown",
   "metadata": {},
   "source": [
    "El fragmento de código que se presenta a continuación está diseñado para ejecutar el procedimiento de segmentación de los archivos de vídeo de manera automatizada, utilizando como referencia el documento en formato CSV anterior."
   ]
  },
  {
   "cell_type": "code",
   "execution_count": 37,
   "metadata": {},
   "outputs": [
    {
     "name": "stdout",
     "output_type": "stream",
     "text": [
      "Moviepy - Building video ./VideosSegmentados\\SUJETO1_ENOJO_segmentado.mp4.\n",
      "MoviePy - Writing audio in SUJETO1_ENOJO_segmentadoTEMP_MPY_wvf_snd.mp4\n"
     ]
    },
    {
     "name": "stderr",
     "output_type": "stream",
     "text": [
      "                                                                   \r"
     ]
    },
    {
     "name": "stdout",
     "output_type": "stream",
     "text": [
      "MoviePy - Done.\n",
      "Moviepy - Writing video ./VideosSegmentados\\SUJETO1_ENOJO_segmentado.mp4\n",
      "\n"
     ]
    },
    {
     "name": "stderr",
     "output_type": "stream",
     "text": [
      "                                                              \r"
     ]
    },
    {
     "name": "stdout",
     "output_type": "stream",
     "text": [
      "Moviepy - Done !\n",
      "Moviepy - video ready ./VideosSegmentados\\SUJETO1_ENOJO_segmentado.mp4\n",
      "Moviepy - Building video ./VideosSegmentados\\SUJETO1_N1_segmentado.mp4.\n",
      "MoviePy - Writing audio in SUJETO1_N1_segmentadoTEMP_MPY_wvf_snd.mp4\n"
     ]
    },
    {
     "name": "stderr",
     "output_type": "stream",
     "text": [
      "                                                                   \r"
     ]
    },
    {
     "name": "stdout",
     "output_type": "stream",
     "text": [
      "MoviePy - Done.\n",
      "Moviepy - Writing video ./VideosSegmentados\\SUJETO1_N1_segmentado.mp4\n",
      "\n"
     ]
    },
    {
     "name": "stderr",
     "output_type": "stream",
     "text": [
      "                                                              \r"
     ]
    },
    {
     "name": "stdout",
     "output_type": "stream",
     "text": [
      "Moviepy - Done !\n",
      "Moviepy - video ready ./VideosSegmentados\\SUJETO1_N1_segmentado.mp4\n",
      "Moviepy - Building video ./VideosSegmentados\\SUJETO1_FELICIDAD_segmentado.mp4.\n",
      "MoviePy - Writing audio in SUJETO1_FELICIDAD_segmentadoTEMP_MPY_wvf_snd.mp4\n"
     ]
    },
    {
     "name": "stderr",
     "output_type": "stream",
     "text": [
      "                                                                  \r"
     ]
    },
    {
     "name": "stdout",
     "output_type": "stream",
     "text": [
      "MoviePy - Done.\n",
      "Moviepy - Writing video ./VideosSegmentados\\SUJETO1_FELICIDAD_segmentado.mp4\n",
      "\n"
     ]
    },
    {
     "name": "stderr",
     "output_type": "stream",
     "text": [
      "                                                              \r"
     ]
    },
    {
     "name": "stdout",
     "output_type": "stream",
     "text": [
      "Moviepy - Done !\n",
      "Moviepy - video ready ./VideosSegmentados\\SUJETO1_FELICIDAD_segmentado.mp4\n",
      "Moviepy - Building video ./VideosSegmentados\\SUJETO1_TRISTEZA_segmentado.mp4.\n",
      "MoviePy - Writing audio in SUJETO1_TRISTEZA_segmentadoTEMP_MPY_wvf_snd.mp4\n"
     ]
    },
    {
     "name": "stderr",
     "output_type": "stream",
     "text": [
      "                                                                   \r"
     ]
    },
    {
     "name": "stdout",
     "output_type": "stream",
     "text": [
      "MoviePy - Done.\n",
      "Moviepy - Writing video ./VideosSegmentados\\SUJETO1_TRISTEZA_segmentado.mp4\n",
      "\n"
     ]
    },
    {
     "name": "stderr",
     "output_type": "stream",
     "text": [
      "                                                              \r"
     ]
    },
    {
     "name": "stdout",
     "output_type": "stream",
     "text": [
      "Moviepy - Done !\n",
      "Moviepy - video ready ./VideosSegmentados\\SUJETO1_TRISTEZA_segmentado.mp4\n",
      "Moviepy - Building video ./VideosSegmentados\\SUJETO2_ENOJO_segmentado.mp4.\n",
      "MoviePy - Writing audio in SUJETO2_ENOJO_segmentadoTEMP_MPY_wvf_snd.mp4\n"
     ]
    },
    {
     "name": "stderr",
     "output_type": "stream",
     "text": [
      "                                                                   \r"
     ]
    },
    {
     "name": "stdout",
     "output_type": "stream",
     "text": [
      "MoviePy - Done.\n",
      "Moviepy - Writing video ./VideosSegmentados\\SUJETO2_ENOJO_segmentado.mp4\n",
      "\n"
     ]
    },
    {
     "name": "stderr",
     "output_type": "stream",
     "text": [
      "                                                              \r"
     ]
    },
    {
     "name": "stdout",
     "output_type": "stream",
     "text": [
      "Moviepy - Done !\n",
      "Moviepy - video ready ./VideosSegmentados\\SUJETO2_ENOJO_segmentado.mp4\n",
      "Moviepy - Building video ./VideosSegmentados\\SUJETO2_N1_segmentado.mp4.\n",
      "MoviePy - Writing audio in SUJETO2_N1_segmentadoTEMP_MPY_wvf_snd.mp4\n"
     ]
    },
    {
     "name": "stderr",
     "output_type": "stream",
     "text": [
      "                                                                   \r"
     ]
    },
    {
     "name": "stdout",
     "output_type": "stream",
     "text": [
      "MoviePy - Done.\n",
      "Moviepy - Writing video ./VideosSegmentados\\SUJETO2_N1_segmentado.mp4\n",
      "\n"
     ]
    },
    {
     "name": "stderr",
     "output_type": "stream",
     "text": [
      "                                                              \r"
     ]
    },
    {
     "name": "stdout",
     "output_type": "stream",
     "text": [
      "Moviepy - Done !\n",
      "Moviepy - video ready ./VideosSegmentados\\SUJETO2_N1_segmentado.mp4\n",
      "Moviepy - Building video ./VideosSegmentados\\SUJETO2_FELICIDAD_segmentado.mp4.\n",
      "MoviePy - Writing audio in SUJETO2_FELICIDAD_segmentadoTEMP_MPY_wvf_snd.mp4\n"
     ]
    },
    {
     "name": "stderr",
     "output_type": "stream",
     "text": [
      "                                                                   \r"
     ]
    },
    {
     "name": "stdout",
     "output_type": "stream",
     "text": [
      "MoviePy - Done.\n",
      "Moviepy - Writing video ./VideosSegmentados\\SUJETO2_FELICIDAD_segmentado.mp4\n",
      "\n"
     ]
    },
    {
     "name": "stderr",
     "output_type": "stream",
     "text": [
      "                                                              \r"
     ]
    },
    {
     "name": "stdout",
     "output_type": "stream",
     "text": [
      "Moviepy - Done !\n",
      "Moviepy - video ready ./VideosSegmentados\\SUJETO2_FELICIDAD_segmentado.mp4\n",
      "Moviepy - Building video ./VideosSegmentados\\SUJETO2_TRISTEZA_segmentado.mp4.\n",
      "MoviePy - Writing audio in SUJETO2_TRISTEZA_segmentadoTEMP_MPY_wvf_snd.mp4\n"
     ]
    },
    {
     "name": "stderr",
     "output_type": "stream",
     "text": [
      "                                                                   \r"
     ]
    },
    {
     "name": "stdout",
     "output_type": "stream",
     "text": [
      "MoviePy - Done.\n",
      "Moviepy - Writing video ./VideosSegmentados\\SUJETO2_TRISTEZA_segmentado.mp4\n",
      "\n"
     ]
    },
    {
     "name": "stderr",
     "output_type": "stream",
     "text": [
      "                                                              \r"
     ]
    },
    {
     "name": "stdout",
     "output_type": "stream",
     "text": [
      "Moviepy - Done !\n",
      "Moviepy - video ready ./VideosSegmentados\\SUJETO2_TRISTEZA_segmentado.mp4\n",
      "Moviepy - Building video ./VideosSegmentados\\SUJETO3_ENOJO_segmentado.mp4.\n",
      "MoviePy - Writing audio in SUJETO3_ENOJO_segmentadoTEMP_MPY_wvf_snd.mp4\n"
     ]
    },
    {
     "name": "stderr",
     "output_type": "stream",
     "text": [
      "                                                                   \r"
     ]
    },
    {
     "name": "stdout",
     "output_type": "stream",
     "text": [
      "MoviePy - Done.\n",
      "Moviepy - Writing video ./VideosSegmentados\\SUJETO3_ENOJO_segmentado.mp4\n",
      "\n"
     ]
    },
    {
     "name": "stderr",
     "output_type": "stream",
     "text": [
      "                                                              \r"
     ]
    },
    {
     "name": "stdout",
     "output_type": "stream",
     "text": [
      "Moviepy - Done !\n",
      "Moviepy - video ready ./VideosSegmentados\\SUJETO3_ENOJO_segmentado.mp4\n",
      "Moviepy - Building video ./VideosSegmentados\\SUJETO3_N1_segmentado.mp4.\n",
      "MoviePy - Writing audio in SUJETO3_N1_segmentadoTEMP_MPY_wvf_snd.mp4\n"
     ]
    },
    {
     "name": "stderr",
     "output_type": "stream",
     "text": [
      "                                                                   \r"
     ]
    },
    {
     "name": "stdout",
     "output_type": "stream",
     "text": [
      "MoviePy - Done.\n",
      "Moviepy - Writing video ./VideosSegmentados\\SUJETO3_N1_segmentado.mp4\n",
      "\n"
     ]
    },
    {
     "name": "stderr",
     "output_type": "stream",
     "text": [
      "                                                              \r"
     ]
    },
    {
     "name": "stdout",
     "output_type": "stream",
     "text": [
      "Moviepy - Done !\n",
      "Moviepy - video ready ./VideosSegmentados\\SUJETO3_N1_segmentado.mp4\n",
      "Moviepy - Building video ./VideosSegmentados\\SUJETO3_FELICIDAD_segmentado.mp4.\n",
      "MoviePy - Writing audio in SUJETO3_FELICIDAD_segmentadoTEMP_MPY_wvf_snd.mp4\n"
     ]
    },
    {
     "name": "stderr",
     "output_type": "stream",
     "text": [
      "                                                                   \r"
     ]
    },
    {
     "name": "stdout",
     "output_type": "stream",
     "text": [
      "MoviePy - Done.\n",
      "Moviepy - Writing video ./VideosSegmentados\\SUJETO3_FELICIDAD_segmentado.mp4\n",
      "\n"
     ]
    },
    {
     "name": "stderr",
     "output_type": "stream",
     "text": [
      "                                                              \r"
     ]
    },
    {
     "name": "stdout",
     "output_type": "stream",
     "text": [
      "Moviepy - Done !\n",
      "Moviepy - video ready ./VideosSegmentados\\SUJETO3_FELICIDAD_segmentado.mp4\n",
      "Moviepy - Building video ./VideosSegmentados\\SUJETO3_TRISTEZA_segmentado.mp4.\n",
      "MoviePy - Writing audio in SUJETO3_TRISTEZA_segmentadoTEMP_MPY_wvf_snd.mp4\n"
     ]
    },
    {
     "name": "stderr",
     "output_type": "stream",
     "text": [
      "                                                                   \r"
     ]
    },
    {
     "name": "stdout",
     "output_type": "stream",
     "text": [
      "MoviePy - Done.\n",
      "Moviepy - Writing video ./VideosSegmentados\\SUJETO3_TRISTEZA_segmentado.mp4\n",
      "\n"
     ]
    },
    {
     "name": "stderr",
     "output_type": "stream",
     "text": [
      "                                                              \r"
     ]
    },
    {
     "name": "stdout",
     "output_type": "stream",
     "text": [
      "Moviepy - Done !\n",
      "Moviepy - video ready ./VideosSegmentados\\SUJETO3_TRISTEZA_segmentado.mp4\n",
      "Moviepy - Building video ./VideosSegmentados\\SUJETO4_ENOJO_segmentado.mp4.\n",
      "MoviePy - Writing audio in SUJETO4_ENOJO_segmentadoTEMP_MPY_wvf_snd.mp4\n"
     ]
    },
    {
     "name": "stderr",
     "output_type": "stream",
     "text": [
      "                                                                   \r"
     ]
    },
    {
     "name": "stdout",
     "output_type": "stream",
     "text": [
      "MoviePy - Done.\n",
      "Moviepy - Writing video ./VideosSegmentados\\SUJETO4_ENOJO_segmentado.mp4\n",
      "\n"
     ]
    },
    {
     "name": "stderr",
     "output_type": "stream",
     "text": [
      "                                                              \r"
     ]
    },
    {
     "name": "stdout",
     "output_type": "stream",
     "text": [
      "Moviepy - Done !\n",
      "Moviepy - video ready ./VideosSegmentados\\SUJETO4_ENOJO_segmentado.mp4\n",
      "Moviepy - Building video ./VideosSegmentados\\SUJETO4_N1_segmentado.mp4.\n",
      "MoviePy - Writing audio in SUJETO4_N1_segmentadoTEMP_MPY_wvf_snd.mp4\n"
     ]
    },
    {
     "name": "stderr",
     "output_type": "stream",
     "text": [
      "                                                                   \r"
     ]
    },
    {
     "name": "stdout",
     "output_type": "stream",
     "text": [
      "MoviePy - Done.\n",
      "Moviepy - Writing video ./VideosSegmentados\\SUJETO4_N1_segmentado.mp4\n",
      "\n"
     ]
    },
    {
     "name": "stderr",
     "output_type": "stream",
     "text": [
      "                                                              \r"
     ]
    },
    {
     "name": "stdout",
     "output_type": "stream",
     "text": [
      "Moviepy - Done !\n",
      "Moviepy - video ready ./VideosSegmentados\\SUJETO4_N1_segmentado.mp4\n",
      "Moviepy - Building video ./VideosSegmentados\\SUJETO4_FELICIDAD_segmentado.mp4.\n",
      "MoviePy - Writing audio in SUJETO4_FELICIDAD_segmentadoTEMP_MPY_wvf_snd.mp4\n"
     ]
    },
    {
     "name": "stderr",
     "output_type": "stream",
     "text": [
      "                                                                   \r"
     ]
    },
    {
     "name": "stdout",
     "output_type": "stream",
     "text": [
      "MoviePy - Done.\n",
      "Moviepy - Writing video ./VideosSegmentados\\SUJETO4_FELICIDAD_segmentado.mp4\n",
      "\n"
     ]
    },
    {
     "name": "stderr",
     "output_type": "stream",
     "text": [
      "                                                              \r"
     ]
    },
    {
     "name": "stdout",
     "output_type": "stream",
     "text": [
      "Moviepy - Done !\n",
      "Moviepy - video ready ./VideosSegmentados\\SUJETO4_FELICIDAD_segmentado.mp4\n",
      "Moviepy - Building video ./VideosSegmentados\\SUJETO4_TRISTEZA_segmentado.mp4.\n",
      "MoviePy - Writing audio in SUJETO4_TRISTEZA_segmentadoTEMP_MPY_wvf_snd.mp4\n"
     ]
    },
    {
     "name": "stderr",
     "output_type": "stream",
     "text": [
      "                                                                   \r"
     ]
    },
    {
     "name": "stdout",
     "output_type": "stream",
     "text": [
      "MoviePy - Done.\n",
      "Moviepy - Writing video ./VideosSegmentados\\SUJETO4_TRISTEZA_segmentado.mp4\n",
      "\n"
     ]
    },
    {
     "name": "stderr",
     "output_type": "stream",
     "text": [
      "                                                              \r"
     ]
    },
    {
     "name": "stdout",
     "output_type": "stream",
     "text": [
      "Moviepy - Done !\n",
      "Moviepy - video ready ./VideosSegmentados\\SUJETO4_TRISTEZA_segmentado.mp4\n",
      "Moviepy - Building video ./VideosSegmentados\\SUJETO5_ENOJO_segmentado.mp4.\n",
      "MoviePy - Writing audio in SUJETO5_ENOJO_segmentadoTEMP_MPY_wvf_snd.mp4\n"
     ]
    },
    {
     "name": "stderr",
     "output_type": "stream",
     "text": [
      "                                                                   \r"
     ]
    },
    {
     "name": "stdout",
     "output_type": "stream",
     "text": [
      "MoviePy - Done.\n",
      "Moviepy - Writing video ./VideosSegmentados\\SUJETO5_ENOJO_segmentado.mp4\n",
      "\n"
     ]
    },
    {
     "name": "stderr",
     "output_type": "stream",
     "text": [
      "                                                              \r"
     ]
    },
    {
     "name": "stdout",
     "output_type": "stream",
     "text": [
      "Moviepy - Done !\n",
      "Moviepy - video ready ./VideosSegmentados\\SUJETO5_ENOJO_segmentado.mp4\n",
      "Moviepy - Building video ./VideosSegmentados\\SUJETO5_N1_segmentado.mp4.\n",
      "MoviePy - Writing audio in SUJETO5_N1_segmentadoTEMP_MPY_wvf_snd.mp4\n"
     ]
    },
    {
     "name": "stderr",
     "output_type": "stream",
     "text": [
      "                                                                   \r"
     ]
    },
    {
     "name": "stdout",
     "output_type": "stream",
     "text": [
      "MoviePy - Done.\n",
      "Moviepy - Writing video ./VideosSegmentados\\SUJETO5_N1_segmentado.mp4\n",
      "\n"
     ]
    },
    {
     "name": "stderr",
     "output_type": "stream",
     "text": [
      "                                                              \r"
     ]
    },
    {
     "name": "stdout",
     "output_type": "stream",
     "text": [
      "Moviepy - Done !\n",
      "Moviepy - video ready ./VideosSegmentados\\SUJETO5_N1_segmentado.mp4\n",
      "Moviepy - Building video ./VideosSegmentados\\SUJETO5_FELICIDAD_segmentado.mp4.\n",
      "MoviePy - Writing audio in SUJETO5_FELICIDAD_segmentadoTEMP_MPY_wvf_snd.mp4\n"
     ]
    },
    {
     "name": "stderr",
     "output_type": "stream",
     "text": [
      "                                                                   \r"
     ]
    },
    {
     "name": "stdout",
     "output_type": "stream",
     "text": [
      "MoviePy - Done.\n",
      "Moviepy - Writing video ./VideosSegmentados\\SUJETO5_FELICIDAD_segmentado.mp4\n",
      "\n"
     ]
    },
    {
     "name": "stderr",
     "output_type": "stream",
     "text": [
      "                                                              \r"
     ]
    },
    {
     "name": "stdout",
     "output_type": "stream",
     "text": [
      "Moviepy - Done !\n",
      "Moviepy - video ready ./VideosSegmentados\\SUJETO5_FELICIDAD_segmentado.mp4\n",
      "Moviepy - Building video ./VideosSegmentados\\SUJETO5_TRISTEZA_segmentado.mp4.\n",
      "MoviePy - Writing audio in SUJETO5_TRISTEZA_segmentadoTEMP_MPY_wvf_snd.mp4\n"
     ]
    },
    {
     "name": "stderr",
     "output_type": "stream",
     "text": [
      "                                                                   \r"
     ]
    },
    {
     "name": "stdout",
     "output_type": "stream",
     "text": [
      "MoviePy - Done.\n",
      "Moviepy - Writing video ./VideosSegmentados\\SUJETO5_TRISTEZA_segmentado.mp4\n",
      "\n"
     ]
    },
    {
     "name": "stderr",
     "output_type": "stream",
     "text": [
      "                                                              \r"
     ]
    },
    {
     "name": "stdout",
     "output_type": "stream",
     "text": [
      "Moviepy - Done !\n",
      "Moviepy - video ready ./VideosSegmentados\\SUJETO5_TRISTEZA_segmentado.mp4\n",
      "Moviepy - Building video ./VideosSegmentados\\SUJETO6_ENOJO_segmentado.mp4.\n",
      "MoviePy - Writing audio in SUJETO6_ENOJO_segmentadoTEMP_MPY_wvf_snd.mp4\n"
     ]
    },
    {
     "name": "stderr",
     "output_type": "stream",
     "text": [
      "                                                                   \r"
     ]
    },
    {
     "name": "stdout",
     "output_type": "stream",
     "text": [
      "MoviePy - Done.\n",
      "Moviepy - Writing video ./VideosSegmentados\\SUJETO6_ENOJO_segmentado.mp4\n",
      "\n"
     ]
    },
    {
     "name": "stderr",
     "output_type": "stream",
     "text": [
      "                                                              \r"
     ]
    },
    {
     "name": "stdout",
     "output_type": "stream",
     "text": [
      "Moviepy - Done !\n",
      "Moviepy - video ready ./VideosSegmentados\\SUJETO6_ENOJO_segmentado.mp4\n",
      "Moviepy - Building video ./VideosSegmentados\\SUJETO6_N1_segmentado.mp4.\n",
      "MoviePy - Writing audio in SUJETO6_N1_segmentadoTEMP_MPY_wvf_snd.mp4\n"
     ]
    },
    {
     "name": "stderr",
     "output_type": "stream",
     "text": [
      "                                                                   \r"
     ]
    },
    {
     "name": "stdout",
     "output_type": "stream",
     "text": [
      "MoviePy - Done.\n",
      "Moviepy - Writing video ./VideosSegmentados\\SUJETO6_N1_segmentado.mp4\n",
      "\n"
     ]
    },
    {
     "name": "stderr",
     "output_type": "stream",
     "text": [
      "                                                              \r"
     ]
    },
    {
     "name": "stdout",
     "output_type": "stream",
     "text": [
      "Moviepy - Done !\n",
      "Moviepy - video ready ./VideosSegmentados\\SUJETO6_N1_segmentado.mp4\n",
      "Moviepy - Building video ./VideosSegmentados\\SUJETO6_FELICIDAD_segmentado.mp4.\n",
      "MoviePy - Writing audio in SUJETO6_FELICIDAD_segmentadoTEMP_MPY_wvf_snd.mp4\n"
     ]
    },
    {
     "name": "stderr",
     "output_type": "stream",
     "text": [
      "                                                                   \r"
     ]
    },
    {
     "name": "stdout",
     "output_type": "stream",
     "text": [
      "MoviePy - Done.\n",
      "Moviepy - Writing video ./VideosSegmentados\\SUJETO6_FELICIDAD_segmentado.mp4\n",
      "\n"
     ]
    },
    {
     "name": "stderr",
     "output_type": "stream",
     "text": [
      "                                                              \r"
     ]
    },
    {
     "name": "stdout",
     "output_type": "stream",
     "text": [
      "Moviepy - Done !\n",
      "Moviepy - video ready ./VideosSegmentados\\SUJETO6_FELICIDAD_segmentado.mp4\n",
      "Moviepy - Building video ./VideosSegmentados\\SUJETO6_TRISTEZA_segmentado.mp4.\n",
      "MoviePy - Writing audio in SUJETO6_TRISTEZA_segmentadoTEMP_MPY_wvf_snd.mp4\n"
     ]
    },
    {
     "name": "stderr",
     "output_type": "stream",
     "text": [
      "                                                                   \r"
     ]
    },
    {
     "name": "stdout",
     "output_type": "stream",
     "text": [
      "MoviePy - Done.\n",
      "Moviepy - Writing video ./VideosSegmentados\\SUJETO6_TRISTEZA_segmentado.mp4\n",
      "\n"
     ]
    },
    {
     "name": "stderr",
     "output_type": "stream",
     "text": [
      "                                                              \r"
     ]
    },
    {
     "name": "stdout",
     "output_type": "stream",
     "text": [
      "Moviepy - Done !\n",
      "Moviepy - video ready ./VideosSegmentados\\SUJETO6_TRISTEZA_segmentado.mp4\n",
      "Moviepy - Building video ./VideosSegmentados\\SUJETO7_ENOJO_segmentado.mp4.\n",
      "MoviePy - Writing audio in SUJETO7_ENOJO_segmentadoTEMP_MPY_wvf_snd.mp4\n"
     ]
    },
    {
     "name": "stderr",
     "output_type": "stream",
     "text": [
      "                                                                   \r"
     ]
    },
    {
     "name": "stdout",
     "output_type": "stream",
     "text": [
      "MoviePy - Done.\n",
      "Moviepy - Writing video ./VideosSegmentados\\SUJETO7_ENOJO_segmentado.mp4\n",
      "\n"
     ]
    },
    {
     "name": "stderr",
     "output_type": "stream",
     "text": [
      "                                                              \r"
     ]
    },
    {
     "name": "stdout",
     "output_type": "stream",
     "text": [
      "Moviepy - Done !\n",
      "Moviepy - video ready ./VideosSegmentados\\SUJETO7_ENOJO_segmentado.mp4\n",
      "Moviepy - Building video ./VideosSegmentados\\SUJETO7_N1_segmentado.mp4.\n",
      "MoviePy - Writing audio in SUJETO7_N1_segmentadoTEMP_MPY_wvf_snd.mp4\n"
     ]
    },
    {
     "name": "stderr",
     "output_type": "stream",
     "text": [
      "                                                                   \r"
     ]
    },
    {
     "name": "stdout",
     "output_type": "stream",
     "text": [
      "MoviePy - Done.\n",
      "Moviepy - Writing video ./VideosSegmentados\\SUJETO7_N1_segmentado.mp4\n",
      "\n"
     ]
    },
    {
     "name": "stderr",
     "output_type": "stream",
     "text": [
      "                                                              \r"
     ]
    },
    {
     "name": "stdout",
     "output_type": "stream",
     "text": [
      "Moviepy - Done !\n",
      "Moviepy - video ready ./VideosSegmentados\\SUJETO7_N1_segmentado.mp4\n",
      "Moviepy - Building video ./VideosSegmentados\\SUJETO7_FELICIDAD_segmentado.mp4.\n",
      "MoviePy - Writing audio in SUJETO7_FELICIDAD_segmentadoTEMP_MPY_wvf_snd.mp4\n"
     ]
    },
    {
     "name": "stderr",
     "output_type": "stream",
     "text": [
      "                                                                  \r"
     ]
    },
    {
     "name": "stdout",
     "output_type": "stream",
     "text": [
      "MoviePy - Done.\n",
      "Moviepy - Writing video ./VideosSegmentados\\SUJETO7_FELICIDAD_segmentado.mp4\n",
      "\n"
     ]
    },
    {
     "name": "stderr",
     "output_type": "stream",
     "text": [
      "                                                              \r"
     ]
    },
    {
     "name": "stdout",
     "output_type": "stream",
     "text": [
      "Moviepy - Done !\n",
      "Moviepy - video ready ./VideosSegmentados\\SUJETO7_FELICIDAD_segmentado.mp4\n",
      "Moviepy - Building video ./VideosSegmentados\\SUJETO7_TRISTEZA_segmentado.mp4.\n",
      "MoviePy - Writing audio in SUJETO7_TRISTEZA_segmentadoTEMP_MPY_wvf_snd.mp4\n"
     ]
    },
    {
     "name": "stderr",
     "output_type": "stream",
     "text": [
      "                                                                   \r"
     ]
    },
    {
     "name": "stdout",
     "output_type": "stream",
     "text": [
      "MoviePy - Done.\n",
      "Moviepy - Writing video ./VideosSegmentados\\SUJETO7_TRISTEZA_segmentado.mp4\n",
      "\n"
     ]
    },
    {
     "name": "stderr",
     "output_type": "stream",
     "text": [
      "                                                              \r"
     ]
    },
    {
     "name": "stdout",
     "output_type": "stream",
     "text": [
      "Moviepy - Done !\n",
      "Moviepy - video ready ./VideosSegmentados\\SUJETO7_TRISTEZA_segmentado.mp4\n",
      "Moviepy - Building video ./VideosSegmentados\\SUJETO8_ENOJO_segmentado.mp4.\n",
      "MoviePy - Writing audio in SUJETO8_ENOJO_segmentadoTEMP_MPY_wvf_snd.mp4\n"
     ]
    },
    {
     "name": "stderr",
     "output_type": "stream",
     "text": [
      "                                                                   \r"
     ]
    },
    {
     "name": "stdout",
     "output_type": "stream",
     "text": [
      "MoviePy - Done.\n",
      "Moviepy - Writing video ./VideosSegmentados\\SUJETO8_ENOJO_segmentado.mp4\n",
      "\n"
     ]
    },
    {
     "name": "stderr",
     "output_type": "stream",
     "text": [
      "                                                              \r"
     ]
    },
    {
     "name": "stdout",
     "output_type": "stream",
     "text": [
      "Moviepy - Done !\n",
      "Moviepy - video ready ./VideosSegmentados\\SUJETO8_ENOJO_segmentado.mp4\n",
      "Moviepy - Building video ./VideosSegmentados\\SUJETO8_N1_segmentado.mp4.\n",
      "MoviePy - Writing audio in SUJETO8_N1_segmentadoTEMP_MPY_wvf_snd.mp4\n"
     ]
    },
    {
     "name": "stderr",
     "output_type": "stream",
     "text": [
      "                                                                   \r"
     ]
    },
    {
     "name": "stdout",
     "output_type": "stream",
     "text": [
      "MoviePy - Done.\n",
      "Moviepy - Writing video ./VideosSegmentados\\SUJETO8_N1_segmentado.mp4\n",
      "\n"
     ]
    },
    {
     "name": "stderr",
     "output_type": "stream",
     "text": [
      "                                                              \r"
     ]
    },
    {
     "name": "stdout",
     "output_type": "stream",
     "text": [
      "Moviepy - Done !\n",
      "Moviepy - video ready ./VideosSegmentados\\SUJETO8_N1_segmentado.mp4\n",
      "Moviepy - Building video ./VideosSegmentados\\SUJETO8_FELICIDAD_segmentado.mp4.\n",
      "MoviePy - Writing audio in SUJETO8_FELICIDAD_segmentadoTEMP_MPY_wvf_snd.mp4\n"
     ]
    },
    {
     "name": "stderr",
     "output_type": "stream",
     "text": [
      "                                                                   \r"
     ]
    },
    {
     "name": "stdout",
     "output_type": "stream",
     "text": [
      "MoviePy - Done.\n",
      "Moviepy - Writing video ./VideosSegmentados\\SUJETO8_FELICIDAD_segmentado.mp4\n",
      "\n"
     ]
    },
    {
     "name": "stderr",
     "output_type": "stream",
     "text": [
      "                                                              \r"
     ]
    },
    {
     "name": "stdout",
     "output_type": "stream",
     "text": [
      "Moviepy - Done !\n",
      "Moviepy - video ready ./VideosSegmentados\\SUJETO8_FELICIDAD_segmentado.mp4\n",
      "Moviepy - Building video ./VideosSegmentados\\SUJETO8_TRISTEZA_segmentado.mp4.\n",
      "MoviePy - Writing audio in SUJETO8_TRISTEZA_segmentadoTEMP_MPY_wvf_snd.mp4\n"
     ]
    },
    {
     "name": "stderr",
     "output_type": "stream",
     "text": [
      "                                                                   \r"
     ]
    },
    {
     "name": "stdout",
     "output_type": "stream",
     "text": [
      "MoviePy - Done.\n",
      "Moviepy - Writing video ./VideosSegmentados\\SUJETO8_TRISTEZA_segmentado.mp4\n",
      "\n"
     ]
    },
    {
     "name": "stderr",
     "output_type": "stream",
     "text": [
      "                                                              \r"
     ]
    },
    {
     "name": "stdout",
     "output_type": "stream",
     "text": [
      "Moviepy - Done !\n",
      "Moviepy - video ready ./VideosSegmentados\\SUJETO8_TRISTEZA_segmentado.mp4\n",
      "Moviepy - Building video ./VideosSegmentados\\SUJETO9_ENOJO_segmentado.mp4.\n",
      "MoviePy - Writing audio in SUJETO9_ENOJO_segmentadoTEMP_MPY_wvf_snd.mp4\n"
     ]
    },
    {
     "name": "stderr",
     "output_type": "stream",
     "text": [
      "                                                                   \r"
     ]
    },
    {
     "name": "stdout",
     "output_type": "stream",
     "text": [
      "MoviePy - Done.\n",
      "Moviepy - Writing video ./VideosSegmentados\\SUJETO9_ENOJO_segmentado.mp4\n",
      "\n"
     ]
    },
    {
     "name": "stderr",
     "output_type": "stream",
     "text": [
      "                                                              \r"
     ]
    },
    {
     "name": "stdout",
     "output_type": "stream",
     "text": [
      "Moviepy - Done !\n",
      "Moviepy - video ready ./VideosSegmentados\\SUJETO9_ENOJO_segmentado.mp4\n",
      "Moviepy - Building video ./VideosSegmentados\\SUJETO9_N1_segmentado.mp4.\n",
      "MoviePy - Writing audio in SUJETO9_N1_segmentadoTEMP_MPY_wvf_snd.mp4\n"
     ]
    },
    {
     "name": "stderr",
     "output_type": "stream",
     "text": [
      "                                                                   \r"
     ]
    },
    {
     "name": "stdout",
     "output_type": "stream",
     "text": [
      "MoviePy - Done.\n",
      "Moviepy - Writing video ./VideosSegmentados\\SUJETO9_N1_segmentado.mp4\n",
      "\n"
     ]
    },
    {
     "name": "stderr",
     "output_type": "stream",
     "text": [
      "                                                              \r"
     ]
    },
    {
     "name": "stdout",
     "output_type": "stream",
     "text": [
      "Moviepy - Done !\n",
      "Moviepy - video ready ./VideosSegmentados\\SUJETO9_N1_segmentado.mp4\n",
      "Moviepy - Building video ./VideosSegmentados\\SUJETO9_FELICIDAD_segmentado.mp4.\n",
      "MoviePy - Writing audio in SUJETO9_FELICIDAD_segmentadoTEMP_MPY_wvf_snd.mp4\n"
     ]
    },
    {
     "name": "stderr",
     "output_type": "stream",
     "text": [
      "                                                                   \r"
     ]
    },
    {
     "name": "stdout",
     "output_type": "stream",
     "text": [
      "MoviePy - Done.\n",
      "Moviepy - Writing video ./VideosSegmentados\\SUJETO9_FELICIDAD_segmentado.mp4\n",
      "\n"
     ]
    },
    {
     "name": "stderr",
     "output_type": "stream",
     "text": [
      "                                                              \r"
     ]
    },
    {
     "name": "stdout",
     "output_type": "stream",
     "text": [
      "Moviepy - Done !\n",
      "Moviepy - video ready ./VideosSegmentados\\SUJETO9_FELICIDAD_segmentado.mp4\n",
      "Moviepy - Building video ./VideosSegmentados\\SUJETO9_TRISTEZA_segmentado.mp4.\n",
      "MoviePy - Writing audio in SUJETO9_TRISTEZA_segmentadoTEMP_MPY_wvf_snd.mp4\n"
     ]
    },
    {
     "name": "stderr",
     "output_type": "stream",
     "text": [
      "                                                                   \r"
     ]
    },
    {
     "name": "stdout",
     "output_type": "stream",
     "text": [
      "MoviePy - Done.\n",
      "Moviepy - Writing video ./VideosSegmentados\\SUJETO9_TRISTEZA_segmentado.mp4\n",
      "\n"
     ]
    },
    {
     "name": "stderr",
     "output_type": "stream",
     "text": [
      "                                                              \r"
     ]
    },
    {
     "name": "stdout",
     "output_type": "stream",
     "text": [
      "Moviepy - Done !\n",
      "Moviepy - video ready ./VideosSegmentados\\SUJETO9_TRISTEZA_segmentado.mp4\n",
      "Moviepy - Building video ./VideosSegmentados\\SUJETO10_ENOJO_segmentado.mp4.\n",
      "MoviePy - Writing audio in SUJETO10_ENOJO_segmentadoTEMP_MPY_wvf_snd.mp4\n"
     ]
    },
    {
     "name": "stderr",
     "output_type": "stream",
     "text": [
      "                                                                   \r"
     ]
    },
    {
     "name": "stdout",
     "output_type": "stream",
     "text": [
      "MoviePy - Done.\n",
      "Moviepy - Writing video ./VideosSegmentados\\SUJETO10_ENOJO_segmentado.mp4\n",
      "\n"
     ]
    },
    {
     "name": "stderr",
     "output_type": "stream",
     "text": [
      "                                                              \r"
     ]
    },
    {
     "name": "stdout",
     "output_type": "stream",
     "text": [
      "Moviepy - Done !\n",
      "Moviepy - video ready ./VideosSegmentados\\SUJETO10_ENOJO_segmentado.mp4\n",
      "Moviepy - Building video ./VideosSegmentados\\SUJETO10_N1_segmentado.mp4.\n",
      "MoviePy - Writing audio in SUJETO10_N1_segmentadoTEMP_MPY_wvf_snd.mp4\n"
     ]
    },
    {
     "name": "stderr",
     "output_type": "stream",
     "text": [
      "                                                                   \r"
     ]
    },
    {
     "name": "stdout",
     "output_type": "stream",
     "text": [
      "MoviePy - Done.\n",
      "Moviepy - Writing video ./VideosSegmentados\\SUJETO10_N1_segmentado.mp4\n",
      "\n"
     ]
    },
    {
     "name": "stderr",
     "output_type": "stream",
     "text": [
      "                                                              \r"
     ]
    },
    {
     "name": "stdout",
     "output_type": "stream",
     "text": [
      "Moviepy - Done !\n",
      "Moviepy - video ready ./VideosSegmentados\\SUJETO10_N1_segmentado.mp4\n",
      "Moviepy - Building video ./VideosSegmentados\\SUJETO10_FELICIDAD_segmentado.mp4.\n",
      "MoviePy - Writing audio in SUJETO10_FELICIDAD_segmentadoTEMP_MPY_wvf_snd.mp4\n"
     ]
    },
    {
     "name": "stderr",
     "output_type": "stream",
     "text": [
      "                                                                   \r"
     ]
    },
    {
     "name": "stdout",
     "output_type": "stream",
     "text": [
      "MoviePy - Done.\n",
      "Moviepy - Writing video ./VideosSegmentados\\SUJETO10_FELICIDAD_segmentado.mp4\n",
      "\n"
     ]
    },
    {
     "name": "stderr",
     "output_type": "stream",
     "text": [
      "                                                              \r"
     ]
    },
    {
     "name": "stdout",
     "output_type": "stream",
     "text": [
      "Moviepy - Done !\n",
      "Moviepy - video ready ./VideosSegmentados\\SUJETO10_FELICIDAD_segmentado.mp4\n",
      "Moviepy - Building video ./VideosSegmentados\\SUJETO10_TRISTEZA_segmentado.mp4.\n",
      "MoviePy - Writing audio in SUJETO10_TRISTEZA_segmentadoTEMP_MPY_wvf_snd.mp4\n"
     ]
    },
    {
     "name": "stderr",
     "output_type": "stream",
     "text": [
      "                                                                   \r"
     ]
    },
    {
     "name": "stdout",
     "output_type": "stream",
     "text": [
      "MoviePy - Done.\n",
      "Moviepy - Writing video ./VideosSegmentados\\SUJETO10_TRISTEZA_segmentado.mp4\n",
      "\n"
     ]
    },
    {
     "name": "stderr",
     "output_type": "stream",
     "text": [
      "                                                              \r"
     ]
    },
    {
     "name": "stdout",
     "output_type": "stream",
     "text": [
      "Moviepy - Done !\n",
      "Moviepy - video ready ./VideosSegmentados\\SUJETO10_TRISTEZA_segmentado.mp4\n",
      "Moviepy - Building video ./VideosSegmentados\\SUJETO11_ENOJO_segmentado.mp4.\n",
      "MoviePy - Writing audio in SUJETO11_ENOJO_segmentadoTEMP_MPY_wvf_snd.mp4\n"
     ]
    },
    {
     "name": "stderr",
     "output_type": "stream",
     "text": [
      "                                                                   \r"
     ]
    },
    {
     "name": "stdout",
     "output_type": "stream",
     "text": [
      "MoviePy - Done.\n",
      "Moviepy - Writing video ./VideosSegmentados\\SUJETO11_ENOJO_segmentado.mp4\n",
      "\n"
     ]
    },
    {
     "name": "stderr",
     "output_type": "stream",
     "text": [
      "                                                              \r"
     ]
    },
    {
     "name": "stdout",
     "output_type": "stream",
     "text": [
      "Moviepy - Done !\n",
      "Moviepy - video ready ./VideosSegmentados\\SUJETO11_ENOJO_segmentado.mp4\n",
      "Moviepy - Building video ./VideosSegmentados\\SUJETO11_N1_segmentado.mp4.\n",
      "MoviePy - Writing audio in SUJETO11_N1_segmentadoTEMP_MPY_wvf_snd.mp4\n"
     ]
    },
    {
     "name": "stderr",
     "output_type": "stream",
     "text": [
      "                                                                   \r"
     ]
    },
    {
     "name": "stdout",
     "output_type": "stream",
     "text": [
      "MoviePy - Done.\n",
      "Moviepy - Writing video ./VideosSegmentados\\SUJETO11_N1_segmentado.mp4\n",
      "\n"
     ]
    },
    {
     "name": "stderr",
     "output_type": "stream",
     "text": [
      "                                                              \r"
     ]
    },
    {
     "name": "stdout",
     "output_type": "stream",
     "text": [
      "Moviepy - Done !\n",
      "Moviepy - video ready ./VideosSegmentados\\SUJETO11_N1_segmentado.mp4\n",
      "Moviepy - Building video ./VideosSegmentados\\SUJETO11_FELICIDAD_segmentado.mp4.\n",
      "MoviePy - Writing audio in SUJETO11_FELICIDAD_segmentadoTEMP_MPY_wvf_snd.mp4\n"
     ]
    },
    {
     "name": "stderr",
     "output_type": "stream",
     "text": [
      "                                                                  \r"
     ]
    },
    {
     "name": "stdout",
     "output_type": "stream",
     "text": [
      "MoviePy - Done.\n",
      "Moviepy - Writing video ./VideosSegmentados\\SUJETO11_FELICIDAD_segmentado.mp4\n",
      "\n"
     ]
    },
    {
     "name": "stderr",
     "output_type": "stream",
     "text": [
      "                                                              \r"
     ]
    },
    {
     "name": "stdout",
     "output_type": "stream",
     "text": [
      "Moviepy - Done !\n",
      "Moviepy - video ready ./VideosSegmentados\\SUJETO11_FELICIDAD_segmentado.mp4\n",
      "Moviepy - Building video ./VideosSegmentados\\SUJETO11_TRISTEZA_segmentado.mp4.\n",
      "MoviePy - Writing audio in SUJETO11_TRISTEZA_segmentadoTEMP_MPY_wvf_snd.mp4\n"
     ]
    },
    {
     "name": "stderr",
     "output_type": "stream",
     "text": [
      "                                                                   \r"
     ]
    },
    {
     "name": "stdout",
     "output_type": "stream",
     "text": [
      "MoviePy - Done.\n",
      "Moviepy - Writing video ./VideosSegmentados\\SUJETO11_TRISTEZA_segmentado.mp4\n",
      "\n"
     ]
    },
    {
     "name": "stderr",
     "output_type": "stream",
     "text": [
      "                                                              \r"
     ]
    },
    {
     "name": "stdout",
     "output_type": "stream",
     "text": [
      "Moviepy - Done !\n",
      "Moviepy - video ready ./VideosSegmentados\\SUJETO11_TRISTEZA_segmentado.mp4\n",
      "Moviepy - Building video ./VideosSegmentados\\SUJETO12_ENOJO_segmentado.mp4.\n",
      "MoviePy - Writing audio in SUJETO12_ENOJO_segmentadoTEMP_MPY_wvf_snd.mp4\n"
     ]
    },
    {
     "name": "stderr",
     "output_type": "stream",
     "text": [
      "                                                                   \r"
     ]
    },
    {
     "name": "stdout",
     "output_type": "stream",
     "text": [
      "MoviePy - Done.\n",
      "Moviepy - Writing video ./VideosSegmentados\\SUJETO12_ENOJO_segmentado.mp4\n",
      "\n"
     ]
    },
    {
     "name": "stderr",
     "output_type": "stream",
     "text": [
      "                                                              \r"
     ]
    },
    {
     "name": "stdout",
     "output_type": "stream",
     "text": [
      "Moviepy - Done !\n",
      "Moviepy - video ready ./VideosSegmentados\\SUJETO12_ENOJO_segmentado.mp4\n",
      "Moviepy - Building video ./VideosSegmentados\\SUJETO12_N1_segmentado.mp4.\n",
      "MoviePy - Writing audio in SUJETO12_N1_segmentadoTEMP_MPY_wvf_snd.mp4\n"
     ]
    },
    {
     "name": "stderr",
     "output_type": "stream",
     "text": [
      "                                                                   \r"
     ]
    },
    {
     "name": "stdout",
     "output_type": "stream",
     "text": [
      "MoviePy - Done.\n",
      "Moviepy - Writing video ./VideosSegmentados\\SUJETO12_N1_segmentado.mp4\n",
      "\n"
     ]
    },
    {
     "name": "stderr",
     "output_type": "stream",
     "text": [
      "                                                              \r"
     ]
    },
    {
     "name": "stdout",
     "output_type": "stream",
     "text": [
      "Moviepy - Done !\n",
      "Moviepy - video ready ./VideosSegmentados\\SUJETO12_N1_segmentado.mp4\n",
      "Moviepy - Building video ./VideosSegmentados\\SUJETO12_FELICIDAD_segmentado.mp4.\n",
      "MoviePy - Writing audio in SUJETO12_FELICIDAD_segmentadoTEMP_MPY_wvf_snd.mp4\n"
     ]
    },
    {
     "name": "stderr",
     "output_type": "stream",
     "text": [
      "                                                                   \r"
     ]
    },
    {
     "name": "stdout",
     "output_type": "stream",
     "text": [
      "MoviePy - Done.\n",
      "Moviepy - Writing video ./VideosSegmentados\\SUJETO12_FELICIDAD_segmentado.mp4\n",
      "\n"
     ]
    },
    {
     "name": "stderr",
     "output_type": "stream",
     "text": [
      "                                                              \r"
     ]
    },
    {
     "name": "stdout",
     "output_type": "stream",
     "text": [
      "Moviepy - Done !\n",
      "Moviepy - video ready ./VideosSegmentados\\SUJETO12_FELICIDAD_segmentado.mp4\n",
      "Moviepy - Building video ./VideosSegmentados\\SUJETO12_TRISTEZA_segmentado.mp4.\n",
      "MoviePy - Writing audio in SUJETO12_TRISTEZA_segmentadoTEMP_MPY_wvf_snd.mp4\n"
     ]
    },
    {
     "name": "stderr",
     "output_type": "stream",
     "text": [
      "                                                                   \r"
     ]
    },
    {
     "name": "stdout",
     "output_type": "stream",
     "text": [
      "MoviePy - Done.\n",
      "Moviepy - Writing video ./VideosSegmentados\\SUJETO12_TRISTEZA_segmentado.mp4\n",
      "\n"
     ]
    },
    {
     "name": "stderr",
     "output_type": "stream",
     "text": [
      "                                                              \r"
     ]
    },
    {
     "name": "stdout",
     "output_type": "stream",
     "text": [
      "Moviepy - Done !\n",
      "Moviepy - video ready ./VideosSegmentados\\SUJETO12_TRISTEZA_segmentado.mp4\n"
     ]
    }
   ],
   "source": [
    "# Cambia esta variable por la ruta a tu archivo CSV\n",
    "csv_file = './VideosSegmentados.csv'\n",
    "\n",
    "# Cambia esta variable por la ruta a la carpeta donde están tus videos originales\n",
    "videos_folder = './Videos/'\n",
    "\n",
    "# Ruta a la carpeta donde quieres guardar los videos segmentados\n",
    "segmented_videos_folder = './VideosSegmentados'\n",
    "\n",
    "# Crea la carpeta para los videos segmentados si no existe\n",
    "if not os.path.exists(segmented_videos_folder):\n",
    "    os.makedirs(segmented_videos_folder)\n",
    "\n",
    "df = pd.read_csv(csv_file)\n",
    "\n",
    "# Itera sobre cada fila del DataFrame\n",
    "for index, row in df.iterrows():\n",
    "    video_path = os.path.join(videos_folder, row['SUJETO'])\n",
    "    inicio = row['INICIO']\n",
    "    fin = row['FIN']\n",
    "    \n",
    "    # Carga el video\n",
    "    clip = VideoFileClip(video_path)\n",
    "    \n",
    "    # Convierte los tiempos de inicio y fin a segundos\n",
    "    start_seconds = int(inicio.split(':')[0]) * 60 + int(inicio.split(':')[1])\n",
    "    end_seconds = int(fin.split(':')[0]) * 60 + int(fin.split(':')[1])\n",
    "    \n",
    "    # Verifica que el tiempo de inicio y fin estén dentro de la duración del video\n",
    "    if start_seconds >= clip.duration or end_seconds > clip.duration:\n",
    "        print(f\"Error en {video_path}: El tiempo de inicio o fin está fuera de la duración del video.\")\n",
    "        continue  # Salta este video y continúa con el siguiente\n",
    "\n",
    "    # Segmenta el video\n",
    "    new_clip = clip.subclip(start_seconds, end_seconds)\n",
    "    \n",
    "    # Segmenta el video\n",
    "    new_clip = clip.subclip(start_seconds, end_seconds)\n",
    "    \n",
    "    # Define la ruta del nuevo video segmentado, incluyendo la carpeta VideosSegmentados\n",
    "    new_video_filename = os.path.splitext(row['SUJETO'])[0] + '_segmentado.mp4'\n",
    "    new_video_path = os.path.join(segmented_videos_folder, new_video_filename)\n",
    "    \n",
    "    # Escribe el video segmentado en el disco\n",
    "    new_clip.write_videofile(new_video_path, codec='libx264', audio_codec='aac')\n",
    "\n",
    "    # Libera recursos\n",
    "    clip.close()\n",
    "    new_clip.close()\n"
   ]
  },
  {
   "cell_type": "markdown",
   "metadata": {},
   "source": [
    "Considerando la implementación de la segmentación de los vídeos, se observa que la tasa de captura es de 30 fotogramas por segundo, resultando en un total de 150 a 360 fotogramas para segmentos de duración comprendida entre 5 y 12 segundos, respectivamente. Para optimizar el análisis y manejar eficientemente la magnitud de los datos, se adoptó una metodología selectiva de extracción de fotogramas. Esta consistió en la retención de un único fotograma por cada conjunto de 30 de forma secuencial, disminuyendo la cantidad total de fotogramas a ser evaluados. Este criterio se aplicó a todos los vídeos segmentados, estableciendo así un paradigma estandarizado para el procesamiento preliminar de los datos visuales."
   ]
  },
  {
   "cell_type": "code",
   "execution_count": 38,
   "metadata": {},
   "outputs": [
    {
     "name": "stdout",
     "output_type": "stream",
     "text": [
      "Frame guardado: SUJETO10_ENOJO_segmentado_frame0.jpg\n",
      "Frame guardado: SUJETO10_ENOJO_segmentado_frame30.jpg\n",
      "Frame guardado: SUJETO10_ENOJO_segmentado_frame60.jpg\n",
      "Frame guardado: SUJETO10_ENOJO_segmentado_frame90.jpg\n",
      "Frame guardado: SUJETO10_ENOJO_segmentado_frame120.jpg\n",
      "Frame guardado: SUJETO10_ENOJO_segmentado_frame150.jpg\n",
      "Frame guardado: SUJETO10_ENOJO_segmentado_frame180.jpg\n",
      "Frame guardado: SUJETO10_ENOJO_segmentado_frame210.jpg\n",
      "Frame guardado: SUJETO10_ENOJO_segmentado_frame240.jpg\n",
      "Frame guardado: SUJETO10_ENOJO_segmentado_frame270.jpg\n",
      "Frame guardado: SUJETO10_ENOJO_segmentado_frame300.jpg\n",
      "Frame guardado: SUJETO10_FELICIDAD_segmentado_frame0.jpg\n",
      "Frame guardado: SUJETO10_FELICIDAD_segmentado_frame30.jpg\n",
      "Frame guardado: SUJETO10_FELICIDAD_segmentado_frame60.jpg\n",
      "Frame guardado: SUJETO10_FELICIDAD_segmentado_frame90.jpg\n",
      "Frame guardado: SUJETO10_FELICIDAD_segmentado_frame120.jpg\n",
      "Frame guardado: SUJETO10_FELICIDAD_segmentado_frame150.jpg\n",
      "Frame guardado: SUJETO10_FELICIDAD_segmentado_frame180.jpg\n",
      "Frame guardado: SUJETO10_FELICIDAD_segmentado_frame210.jpg\n",
      "Frame guardado: SUJETO10_FELICIDAD_segmentado_frame240.jpg\n",
      "Frame guardado: SUJETO10_FELICIDAD_segmentado_frame270.jpg\n",
      "Frame guardado: SUJETO10_N1_segmentado_frame0.jpg\n",
      "Frame guardado: SUJETO10_N1_segmentado_frame30.jpg\n",
      "Frame guardado: SUJETO10_N1_segmentado_frame60.jpg\n",
      "Frame guardado: SUJETO10_N1_segmentado_frame90.jpg\n",
      "Frame guardado: SUJETO10_N1_segmentado_frame120.jpg\n",
      "Frame guardado: SUJETO10_N1_segmentado_frame150.jpg\n",
      "Frame guardado: SUJETO10_N1_segmentado_frame180.jpg\n",
      "Frame guardado: SUJETO10_N1_segmentado_frame210.jpg\n",
      "Frame guardado: SUJETO10_N1_segmentado_frame240.jpg\n",
      "Frame guardado: SUJETO10_N1_segmentado_frame270.jpg\n",
      "Frame guardado: SUJETO10_TRISTEZA_segmentado_frame0.jpg\n",
      "Frame guardado: SUJETO10_TRISTEZA_segmentado_frame30.jpg\n",
      "Frame guardado: SUJETO10_TRISTEZA_segmentado_frame60.jpg\n",
      "Frame guardado: SUJETO10_TRISTEZA_segmentado_frame90.jpg\n",
      "Frame guardado: SUJETO10_TRISTEZA_segmentado_frame120.jpg\n",
      "Frame guardado: SUJETO10_TRISTEZA_segmentado_frame150.jpg\n",
      "Frame guardado: SUJETO10_TRISTEZA_segmentado_frame180.jpg\n",
      "Frame guardado: SUJETO10_TRISTEZA_segmentado_frame210.jpg\n",
      "Frame guardado: SUJETO10_TRISTEZA_segmentado_frame240.jpg\n",
      "Frame guardado: SUJETO10_TRISTEZA_segmentado_frame270.jpg\n",
      "Frame guardado: SUJETO11_ENOJO_segmentado_frame0.jpg\n",
      "Frame guardado: SUJETO11_ENOJO_segmentado_frame30.jpg\n",
      "Frame guardado: SUJETO11_ENOJO_segmentado_frame60.jpg\n",
      "Frame guardado: SUJETO11_ENOJO_segmentado_frame90.jpg\n",
      "Frame guardado: SUJETO11_ENOJO_segmentado_frame120.jpg\n",
      "Frame guardado: SUJETO11_ENOJO_segmentado_frame150.jpg\n",
      "Frame guardado: SUJETO11_ENOJO_segmentado_frame180.jpg\n",
      "Frame guardado: SUJETO11_ENOJO_segmentado_frame210.jpg\n",
      "Frame guardado: SUJETO11_ENOJO_segmentado_frame240.jpg\n",
      "Frame guardado: SUJETO11_ENOJO_segmentado_frame270.jpg\n",
      "Frame guardado: SUJETO11_ENOJO_segmentado_frame300.jpg\n",
      "Frame guardado: SUJETO11_ENOJO_segmentado_frame330.jpg\n",
      "Frame guardado: SUJETO11_FELICIDAD_segmentado_frame0.jpg\n",
      "Frame guardado: SUJETO11_FELICIDAD_segmentado_frame30.jpg\n",
      "Frame guardado: SUJETO11_FELICIDAD_segmentado_frame60.jpg\n",
      "Frame guardado: SUJETO11_FELICIDAD_segmentado_frame90.jpg\n",
      "Frame guardado: SUJETO11_FELICIDAD_segmentado_frame120.jpg\n",
      "Frame guardado: SUJETO11_FELICIDAD_segmentado_frame150.jpg\n",
      "Frame guardado: SUJETO11_FELICIDAD_segmentado_frame180.jpg\n",
      "Frame guardado: SUJETO11_N1_segmentado_frame0.jpg\n",
      "Frame guardado: SUJETO11_N1_segmentado_frame30.jpg\n",
      "Frame guardado: SUJETO11_N1_segmentado_frame60.jpg\n",
      "Frame guardado: SUJETO11_N1_segmentado_frame90.jpg\n",
      "Frame guardado: SUJETO11_N1_segmentado_frame120.jpg\n",
      "Frame guardado: SUJETO11_N1_segmentado_frame150.jpg\n",
      "Frame guardado: SUJETO11_N1_segmentado_frame180.jpg\n",
      "Frame guardado: SUJETO11_N1_segmentado_frame210.jpg\n",
      "Frame guardado: SUJETO11_N1_segmentado_frame240.jpg\n",
      "Frame guardado: SUJETO11_N1_segmentado_frame270.jpg\n",
      "Frame guardado: SUJETO11_TRISTEZA_segmentado_frame0.jpg\n",
      "Frame guardado: SUJETO11_TRISTEZA_segmentado_frame30.jpg\n",
      "Frame guardado: SUJETO11_TRISTEZA_segmentado_frame60.jpg\n",
      "Frame guardado: SUJETO11_TRISTEZA_segmentado_frame90.jpg\n",
      "Frame guardado: SUJETO11_TRISTEZA_segmentado_frame120.jpg\n",
      "Frame guardado: SUJETO11_TRISTEZA_segmentado_frame150.jpg\n",
      "Frame guardado: SUJETO11_TRISTEZA_segmentado_frame180.jpg\n",
      "Frame guardado: SUJETO11_TRISTEZA_segmentado_frame210.jpg\n",
      "Frame guardado: SUJETO11_TRISTEZA_segmentado_frame240.jpg\n",
      "Frame guardado: SUJETO11_TRISTEZA_segmentado_frame270.jpg\n",
      "Frame guardado: SUJETO12_ENOJO_segmentado_frame0.jpg\n",
      "Frame guardado: SUJETO12_ENOJO_segmentado_frame30.jpg\n",
      "Frame guardado: SUJETO12_ENOJO_segmentado_frame60.jpg\n",
      "Frame guardado: SUJETO12_ENOJO_segmentado_frame90.jpg\n",
      "Frame guardado: SUJETO12_ENOJO_segmentado_frame120.jpg\n",
      "Frame guardado: SUJETO12_ENOJO_segmentado_frame150.jpg\n",
      "Frame guardado: SUJETO12_ENOJO_segmentado_frame180.jpg\n",
      "Frame guardado: SUJETO12_ENOJO_segmentado_frame210.jpg\n",
      "Frame guardado: SUJETO12_ENOJO_segmentado_frame240.jpg\n",
      "Frame guardado: SUJETO12_ENOJO_segmentado_frame270.jpg\n",
      "Frame guardado: SUJETO12_FELICIDAD_segmentado_frame0.jpg\n",
      "Frame guardado: SUJETO12_FELICIDAD_segmentado_frame30.jpg\n",
      "Frame guardado: SUJETO12_FELICIDAD_segmentado_frame60.jpg\n",
      "Frame guardado: SUJETO12_FELICIDAD_segmentado_frame90.jpg\n",
      "Frame guardado: SUJETO12_FELICIDAD_segmentado_frame120.jpg\n",
      "Frame guardado: SUJETO12_FELICIDAD_segmentado_frame150.jpg\n",
      "Frame guardado: SUJETO12_FELICIDAD_segmentado_frame180.jpg\n",
      "Frame guardado: SUJETO12_FELICIDAD_segmentado_frame210.jpg\n",
      "Frame guardado: SUJETO12_FELICIDAD_segmentado_frame240.jpg\n",
      "Frame guardado: SUJETO12_FELICIDAD_segmentado_frame270.jpg\n",
      "Frame guardado: SUJETO12_N1_segmentado_frame0.jpg\n",
      "Frame guardado: SUJETO12_N1_segmentado_frame30.jpg\n",
      "Frame guardado: SUJETO12_N1_segmentado_frame60.jpg\n",
      "Frame guardado: SUJETO12_N1_segmentado_frame90.jpg\n",
      "Frame guardado: SUJETO12_N1_segmentado_frame120.jpg\n",
      "Frame guardado: SUJETO12_N1_segmentado_frame150.jpg\n",
      "Frame guardado: SUJETO12_N1_segmentado_frame180.jpg\n",
      "Frame guardado: SUJETO12_N1_segmentado_frame210.jpg\n",
      "Frame guardado: SUJETO12_N1_segmentado_frame240.jpg\n",
      "Frame guardado: SUJETO12_N1_segmentado_frame270.jpg\n",
      "Frame guardado: SUJETO12_TRISTEZA_segmentado_frame0.jpg\n",
      "Frame guardado: SUJETO12_TRISTEZA_segmentado_frame30.jpg\n",
      "Frame guardado: SUJETO12_TRISTEZA_segmentado_frame60.jpg\n",
      "Frame guardado: SUJETO12_TRISTEZA_segmentado_frame90.jpg\n",
      "Frame guardado: SUJETO12_TRISTEZA_segmentado_frame120.jpg\n",
      "Frame guardado: SUJETO12_TRISTEZA_segmentado_frame150.jpg\n",
      "Frame guardado: SUJETO12_TRISTEZA_segmentado_frame180.jpg\n",
      "Frame guardado: SUJETO12_TRISTEZA_segmentado_frame210.jpg\n",
      "Frame guardado: SUJETO12_TRISTEZA_segmentado_frame240.jpg\n",
      "Frame guardado: SUJETO12_TRISTEZA_segmentado_frame270.jpg\n",
      "Frame guardado: SUJETO1_ENOJO_segmentado_frame0.jpg\n",
      "Frame guardado: SUJETO1_ENOJO_segmentado_frame30.jpg\n",
      "Frame guardado: SUJETO1_ENOJO_segmentado_frame60.jpg\n",
      "Frame guardado: SUJETO1_ENOJO_segmentado_frame90.jpg\n",
      "Frame guardado: SUJETO1_ENOJO_segmentado_frame120.jpg\n",
      "Frame guardado: SUJETO1_ENOJO_segmentado_frame150.jpg\n",
      "Frame guardado: SUJETO1_ENOJO_segmentado_frame180.jpg\n",
      "Frame guardado: SUJETO1_ENOJO_segmentado_frame210.jpg\n",
      "Frame guardado: SUJETO1_ENOJO_segmentado_frame240.jpg\n",
      "Frame guardado: SUJETO1_ENOJO_segmentado_frame270.jpg\n",
      "Frame guardado: SUJETO1_ENOJO_segmentado_frame300.jpg\n",
      "Frame guardado: SUJETO1_FELICIDAD_segmentado_frame0.jpg\n",
      "Frame guardado: SUJETO1_FELICIDAD_segmentado_frame30.jpg\n",
      "Frame guardado: SUJETO1_FELICIDAD_segmentado_frame60.jpg\n",
      "Frame guardado: SUJETO1_FELICIDAD_segmentado_frame90.jpg\n",
      "Frame guardado: SUJETO1_FELICIDAD_segmentado_frame120.jpg\n",
      "Frame guardado: SUJETO1_FELICIDAD_segmentado_frame150.jpg\n",
      "Frame guardado: SUJETO1_FELICIDAD_segmentado_frame180.jpg\n",
      "Frame guardado: SUJETO1_N1_segmentado_frame0.jpg\n",
      "Frame guardado: SUJETO1_N1_segmentado_frame30.jpg\n",
      "Frame guardado: SUJETO1_N1_segmentado_frame60.jpg\n",
      "Frame guardado: SUJETO1_N1_segmentado_frame90.jpg\n",
      "Frame guardado: SUJETO1_N1_segmentado_frame120.jpg\n",
      "Frame guardado: SUJETO1_N1_segmentado_frame150.jpg\n",
      "Frame guardado: SUJETO1_N1_segmentado_frame180.jpg\n",
      "Frame guardado: SUJETO1_N1_segmentado_frame210.jpg\n",
      "Frame guardado: SUJETO1_N1_segmentado_frame240.jpg\n",
      "Frame guardado: SUJETO1_N1_segmentado_frame270.jpg\n",
      "Frame guardado: SUJETO1_TRISTEZA_segmentado_frame0.jpg\n",
      "Frame guardado: SUJETO1_TRISTEZA_segmentado_frame30.jpg\n",
      "Frame guardado: SUJETO1_TRISTEZA_segmentado_frame60.jpg\n",
      "Frame guardado: SUJETO1_TRISTEZA_segmentado_frame90.jpg\n",
      "Frame guardado: SUJETO1_TRISTEZA_segmentado_frame120.jpg\n",
      "Frame guardado: SUJETO1_TRISTEZA_segmentado_frame150.jpg\n",
      "Frame guardado: SUJETO1_TRISTEZA_segmentado_frame180.jpg\n",
      "Frame guardado: SUJETO1_TRISTEZA_segmentado_frame210.jpg\n",
      "Frame guardado: SUJETO1_TRISTEZA_segmentado_frame240.jpg\n",
      "Frame guardado: SUJETO1_TRISTEZA_segmentado_frame270.jpg\n",
      "Frame guardado: SUJETO2_ENOJO_segmentado_frame0.jpg\n",
      "Frame guardado: SUJETO2_ENOJO_segmentado_frame30.jpg\n",
      "Frame guardado: SUJETO2_ENOJO_segmentado_frame60.jpg\n",
      "Frame guardado: SUJETO2_ENOJO_segmentado_frame90.jpg\n",
      "Frame guardado: SUJETO2_ENOJO_segmentado_frame120.jpg\n",
      "Frame guardado: SUJETO2_ENOJO_segmentado_frame150.jpg\n",
      "Frame guardado: SUJETO2_ENOJO_segmentado_frame180.jpg\n",
      "Frame guardado: SUJETO2_ENOJO_segmentado_frame210.jpg\n",
      "Frame guardado: SUJETO2_ENOJO_segmentado_frame240.jpg\n",
      "Frame guardado: SUJETO2_ENOJO_segmentado_frame270.jpg\n",
      "Frame guardado: SUJETO2_FELICIDAD_segmentado_frame0.jpg\n",
      "Frame guardado: SUJETO2_FELICIDAD_segmentado_frame30.jpg\n",
      "Frame guardado: SUJETO2_FELICIDAD_segmentado_frame60.jpg\n",
      "Frame guardado: SUJETO2_FELICIDAD_segmentado_frame90.jpg\n",
      "Frame guardado: SUJETO2_FELICIDAD_segmentado_frame120.jpg\n",
      "Frame guardado: SUJETO2_FELICIDAD_segmentado_frame150.jpg\n",
      "Frame guardado: SUJETO2_FELICIDAD_segmentado_frame180.jpg\n",
      "Frame guardado: SUJETO2_FELICIDAD_segmentado_frame210.jpg\n",
      "Frame guardado: SUJETO2_FELICIDAD_segmentado_frame240.jpg\n",
      "Frame guardado: SUJETO2_N1_segmentado_frame0.jpg\n",
      "Frame guardado: SUJETO2_N1_segmentado_frame30.jpg\n",
      "Frame guardado: SUJETO2_N1_segmentado_frame60.jpg\n",
      "Frame guardado: SUJETO2_N1_segmentado_frame90.jpg\n",
      "Frame guardado: SUJETO2_N1_segmentado_frame120.jpg\n",
      "Frame guardado: SUJETO2_N1_segmentado_frame150.jpg\n",
      "Frame guardado: SUJETO2_N1_segmentado_frame180.jpg\n",
      "Frame guardado: SUJETO2_N1_segmentado_frame210.jpg\n",
      "Frame guardado: SUJETO2_N1_segmentado_frame240.jpg\n",
      "Frame guardado: SUJETO2_N1_segmentado_frame270.jpg\n",
      "Frame guardado: SUJETO2_TRISTEZA_segmentado_frame0.jpg\n",
      "Frame guardado: SUJETO2_TRISTEZA_segmentado_frame30.jpg\n",
      "Frame guardado: SUJETO2_TRISTEZA_segmentado_frame60.jpg\n",
      "Frame guardado: SUJETO2_TRISTEZA_segmentado_frame90.jpg\n",
      "Frame guardado: SUJETO2_TRISTEZA_segmentado_frame120.jpg\n",
      "Frame guardado: SUJETO2_TRISTEZA_segmentado_frame150.jpg\n",
      "Frame guardado: SUJETO2_TRISTEZA_segmentado_frame180.jpg\n",
      "Frame guardado: SUJETO2_TRISTEZA_segmentado_frame210.jpg\n",
      "Frame guardado: SUJETO2_TRISTEZA_segmentado_frame240.jpg\n",
      "Frame guardado: SUJETO2_TRISTEZA_segmentado_frame270.jpg\n",
      "Frame guardado: SUJETO3_ENOJO_segmentado_frame0.jpg\n",
      "Frame guardado: SUJETO3_ENOJO_segmentado_frame30.jpg\n",
      "Frame guardado: SUJETO3_ENOJO_segmentado_frame60.jpg\n",
      "Frame guardado: SUJETO3_ENOJO_segmentado_frame90.jpg\n",
      "Frame guardado: SUJETO3_ENOJO_segmentado_frame120.jpg\n",
      "Frame guardado: SUJETO3_ENOJO_segmentado_frame150.jpg\n",
      "Frame guardado: SUJETO3_ENOJO_segmentado_frame180.jpg\n",
      "Frame guardado: SUJETO3_ENOJO_segmentado_frame210.jpg\n",
      "Frame guardado: SUJETO3_ENOJO_segmentado_frame240.jpg\n",
      "Frame guardado: SUJETO3_ENOJO_segmentado_frame270.jpg\n",
      "Frame guardado: SUJETO3_FELICIDAD_segmentado_frame0.jpg\n",
      "Frame guardado: SUJETO3_FELICIDAD_segmentado_frame30.jpg\n",
      "Frame guardado: SUJETO3_FELICIDAD_segmentado_frame60.jpg\n",
      "Frame guardado: SUJETO3_FELICIDAD_segmentado_frame90.jpg\n",
      "Frame guardado: SUJETO3_FELICIDAD_segmentado_frame120.jpg\n",
      "Frame guardado: SUJETO3_FELICIDAD_segmentado_frame150.jpg\n",
      "Frame guardado: SUJETO3_FELICIDAD_segmentado_frame180.jpg\n",
      "Frame guardado: SUJETO3_FELICIDAD_segmentado_frame210.jpg\n",
      "Frame guardado: SUJETO3_FELICIDAD_segmentado_frame240.jpg\n",
      "Frame guardado: SUJETO3_N1_segmentado_frame0.jpg\n",
      "Frame guardado: SUJETO3_N1_segmentado_frame30.jpg\n",
      "Frame guardado: SUJETO3_N1_segmentado_frame60.jpg\n",
      "Frame guardado: SUJETO3_N1_segmentado_frame90.jpg\n",
      "Frame guardado: SUJETO3_N1_segmentado_frame120.jpg\n",
      "Frame guardado: SUJETO3_N1_segmentado_frame150.jpg\n",
      "Frame guardado: SUJETO3_N1_segmentado_frame180.jpg\n",
      "Frame guardado: SUJETO3_N1_segmentado_frame210.jpg\n",
      "Frame guardado: SUJETO3_N1_segmentado_frame240.jpg\n",
      "Frame guardado: SUJETO3_N1_segmentado_frame270.jpg\n",
      "Frame guardado: SUJETO3_TRISTEZA_segmentado_frame0.jpg\n",
      "Frame guardado: SUJETO3_TRISTEZA_segmentado_frame30.jpg\n",
      "Frame guardado: SUJETO3_TRISTEZA_segmentado_frame60.jpg\n",
      "Frame guardado: SUJETO3_TRISTEZA_segmentado_frame90.jpg\n",
      "Frame guardado: SUJETO3_TRISTEZA_segmentado_frame120.jpg\n",
      "Frame guardado: SUJETO3_TRISTEZA_segmentado_frame150.jpg\n",
      "Frame guardado: SUJETO3_TRISTEZA_segmentado_frame180.jpg\n",
      "Frame guardado: SUJETO3_TRISTEZA_segmentado_frame210.jpg\n",
      "Frame guardado: SUJETO3_TRISTEZA_segmentado_frame240.jpg\n",
      "Frame guardado: SUJETO3_TRISTEZA_segmentado_frame270.jpg\n",
      "Frame guardado: SUJETO4_ENOJO_segmentado_frame0.jpg\n",
      "Frame guardado: SUJETO4_ENOJO_segmentado_frame30.jpg\n",
      "Frame guardado: SUJETO4_ENOJO_segmentado_frame60.jpg\n",
      "Frame guardado: SUJETO4_ENOJO_segmentado_frame90.jpg\n",
      "Frame guardado: SUJETO4_ENOJO_segmentado_frame120.jpg\n",
      "Frame guardado: SUJETO4_ENOJO_segmentado_frame150.jpg\n",
      "Frame guardado: SUJETO4_ENOJO_segmentado_frame180.jpg\n",
      "Frame guardado: SUJETO4_ENOJO_segmentado_frame210.jpg\n",
      "Frame guardado: SUJETO4_ENOJO_segmentado_frame240.jpg\n",
      "Frame guardado: SUJETO4_ENOJO_segmentado_frame270.jpg\n",
      "Frame guardado: SUJETO4_ENOJO_segmentado_frame300.jpg\n",
      "Frame guardado: SUJETO4_FELICIDAD_segmentado_frame0.jpg\n",
      "Frame guardado: SUJETO4_FELICIDAD_segmentado_frame30.jpg\n",
      "Frame guardado: SUJETO4_FELICIDAD_segmentado_frame60.jpg\n",
      "Frame guardado: SUJETO4_FELICIDAD_segmentado_frame90.jpg\n",
      "Frame guardado: SUJETO4_FELICIDAD_segmentado_frame120.jpg\n",
      "Frame guardado: SUJETO4_FELICIDAD_segmentado_frame150.jpg\n",
      "Frame guardado: SUJETO4_FELICIDAD_segmentado_frame180.jpg\n",
      "Frame guardado: SUJETO4_FELICIDAD_segmentado_frame210.jpg\n",
      "Frame guardado: SUJETO4_FELICIDAD_segmentado_frame240.jpg\n",
      "Frame guardado: SUJETO4_N1_segmentado_frame0.jpg\n",
      "Frame guardado: SUJETO4_N1_segmentado_frame30.jpg\n",
      "Frame guardado: SUJETO4_N1_segmentado_frame60.jpg\n",
      "Frame guardado: SUJETO4_N1_segmentado_frame90.jpg\n",
      "Frame guardado: SUJETO4_N1_segmentado_frame120.jpg\n",
      "Frame guardado: SUJETO4_N1_segmentado_frame150.jpg\n",
      "Frame guardado: SUJETO4_N1_segmentado_frame180.jpg\n",
      "Frame guardado: SUJETO4_N1_segmentado_frame210.jpg\n",
      "Frame guardado: SUJETO4_N1_segmentado_frame240.jpg\n",
      "Frame guardado: SUJETO4_N1_segmentado_frame270.jpg\n",
      "Frame guardado: SUJETO4_TRISTEZA_segmentado_frame0.jpg\n",
      "Frame guardado: SUJETO4_TRISTEZA_segmentado_frame30.jpg\n",
      "Frame guardado: SUJETO4_TRISTEZA_segmentado_frame60.jpg\n",
      "Frame guardado: SUJETO4_TRISTEZA_segmentado_frame90.jpg\n",
      "Frame guardado: SUJETO4_TRISTEZA_segmentado_frame120.jpg\n",
      "Frame guardado: SUJETO4_TRISTEZA_segmentado_frame150.jpg\n",
      "Frame guardado: SUJETO4_TRISTEZA_segmentado_frame180.jpg\n",
      "Frame guardado: SUJETO4_TRISTEZA_segmentado_frame210.jpg\n",
      "Frame guardado: SUJETO4_TRISTEZA_segmentado_frame240.jpg\n",
      "Frame guardado: SUJETO4_TRISTEZA_segmentado_frame270.jpg\n",
      "Frame guardado: SUJETO5_ENOJO_segmentado_frame0.jpg\n",
      "Frame guardado: SUJETO5_ENOJO_segmentado_frame30.jpg\n",
      "Frame guardado: SUJETO5_ENOJO_segmentado_frame60.jpg\n",
      "Frame guardado: SUJETO5_ENOJO_segmentado_frame90.jpg\n",
      "Frame guardado: SUJETO5_ENOJO_segmentado_frame120.jpg\n",
      "Frame guardado: SUJETO5_ENOJO_segmentado_frame150.jpg\n",
      "Frame guardado: SUJETO5_ENOJO_segmentado_frame180.jpg\n",
      "Frame guardado: SUJETO5_ENOJO_segmentado_frame210.jpg\n",
      "Frame guardado: SUJETO5_ENOJO_segmentado_frame240.jpg\n",
      "Frame guardado: SUJETO5_ENOJO_segmentado_frame270.jpg\n",
      "Frame guardado: SUJETO5_ENOJO_segmentado_frame300.jpg\n",
      "Frame guardado: SUJETO5_FELICIDAD_segmentado_frame0.jpg\n",
      "Frame guardado: SUJETO5_FELICIDAD_segmentado_frame30.jpg\n",
      "Frame guardado: SUJETO5_FELICIDAD_segmentado_frame60.jpg\n",
      "Frame guardado: SUJETO5_FELICIDAD_segmentado_frame90.jpg\n",
      "Frame guardado: SUJETO5_FELICIDAD_segmentado_frame120.jpg\n",
      "Frame guardado: SUJETO5_FELICIDAD_segmentado_frame150.jpg\n",
      "Frame guardado: SUJETO5_FELICIDAD_segmentado_frame180.jpg\n",
      "Frame guardado: SUJETO5_FELICIDAD_segmentado_frame210.jpg\n",
      "Frame guardado: SUJETO5_FELICIDAD_segmentado_frame240.jpg\n",
      "Frame guardado: SUJETO5_FELICIDAD_segmentado_frame270.jpg\n",
      "Frame guardado: SUJETO5_N1_segmentado_frame0.jpg\n",
      "Frame guardado: SUJETO5_N1_segmentado_frame30.jpg\n",
      "Frame guardado: SUJETO5_N1_segmentado_frame60.jpg\n",
      "Frame guardado: SUJETO5_N1_segmentado_frame90.jpg\n",
      "Frame guardado: SUJETO5_N1_segmentado_frame120.jpg\n",
      "Frame guardado: SUJETO5_N1_segmentado_frame150.jpg\n",
      "Frame guardado: SUJETO5_N1_segmentado_frame180.jpg\n",
      "Frame guardado: SUJETO5_N1_segmentado_frame210.jpg\n",
      "Frame guardado: SUJETO5_N1_segmentado_frame240.jpg\n",
      "Frame guardado: SUJETO5_N1_segmentado_frame270.jpg\n",
      "Frame guardado: SUJETO5_TRISTEZA_segmentado_frame0.jpg\n",
      "Frame guardado: SUJETO5_TRISTEZA_segmentado_frame30.jpg\n",
      "Frame guardado: SUJETO5_TRISTEZA_segmentado_frame60.jpg\n",
      "Frame guardado: SUJETO5_TRISTEZA_segmentado_frame90.jpg\n",
      "Frame guardado: SUJETO5_TRISTEZA_segmentado_frame120.jpg\n",
      "Frame guardado: SUJETO5_TRISTEZA_segmentado_frame150.jpg\n",
      "Frame guardado: SUJETO5_TRISTEZA_segmentado_frame180.jpg\n",
      "Frame guardado: SUJETO5_TRISTEZA_segmentado_frame210.jpg\n",
      "Frame guardado: SUJETO5_TRISTEZA_segmentado_frame240.jpg\n",
      "Frame guardado: SUJETO6_ENOJO_segmentado_frame0.jpg\n",
      "Frame guardado: SUJETO6_ENOJO_segmentado_frame30.jpg\n",
      "Frame guardado: SUJETO6_ENOJO_segmentado_frame60.jpg\n",
      "Frame guardado: SUJETO6_ENOJO_segmentado_frame90.jpg\n",
      "Frame guardado: SUJETO6_ENOJO_segmentado_frame120.jpg\n",
      "Frame guardado: SUJETO6_ENOJO_segmentado_frame150.jpg\n",
      "Frame guardado: SUJETO6_ENOJO_segmentado_frame180.jpg\n",
      "Frame guardado: SUJETO6_ENOJO_segmentado_frame210.jpg\n",
      "Frame guardado: SUJETO6_ENOJO_segmentado_frame240.jpg\n",
      "Frame guardado: SUJETO6_ENOJO_segmentado_frame270.jpg\n",
      "Frame guardado: SUJETO6_ENOJO_segmentado_frame300.jpg\n",
      "Frame guardado: SUJETO6_ENOJO_segmentado_frame330.jpg\n",
      "Frame guardado: SUJETO6_FELICIDAD_segmentado_frame0.jpg\n",
      "Frame guardado: SUJETO6_FELICIDAD_segmentado_frame30.jpg\n",
      "Frame guardado: SUJETO6_FELICIDAD_segmentado_frame60.jpg\n",
      "Frame guardado: SUJETO6_FELICIDAD_segmentado_frame90.jpg\n",
      "Frame guardado: SUJETO6_FELICIDAD_segmentado_frame120.jpg\n",
      "Frame guardado: SUJETO6_FELICIDAD_segmentado_frame150.jpg\n",
      "Frame guardado: SUJETO6_FELICIDAD_segmentado_frame180.jpg\n",
      "Frame guardado: SUJETO6_FELICIDAD_segmentado_frame210.jpg\n",
      "Frame guardado: SUJETO6_FELICIDAD_segmentado_frame240.jpg\n",
      "Frame guardado: SUJETO6_FELICIDAD_segmentado_frame270.jpg\n",
      "Frame guardado: SUJETO6_N1_segmentado_frame0.jpg\n",
      "Frame guardado: SUJETO6_N1_segmentado_frame30.jpg\n",
      "Frame guardado: SUJETO6_N1_segmentado_frame60.jpg\n",
      "Frame guardado: SUJETO6_N1_segmentado_frame90.jpg\n",
      "Frame guardado: SUJETO6_N1_segmentado_frame120.jpg\n",
      "Frame guardado: SUJETO6_N1_segmentado_frame150.jpg\n",
      "Frame guardado: SUJETO6_N1_segmentado_frame180.jpg\n",
      "Frame guardado: SUJETO6_N1_segmentado_frame210.jpg\n",
      "Frame guardado: SUJETO6_N1_segmentado_frame240.jpg\n",
      "Frame guardado: SUJETO6_N1_segmentado_frame270.jpg\n",
      "Frame guardado: SUJETO6_TRISTEZA_segmentado_frame0.jpg\n",
      "Frame guardado: SUJETO6_TRISTEZA_segmentado_frame30.jpg\n",
      "Frame guardado: SUJETO6_TRISTEZA_segmentado_frame60.jpg\n",
      "Frame guardado: SUJETO6_TRISTEZA_segmentado_frame90.jpg\n",
      "Frame guardado: SUJETO6_TRISTEZA_segmentado_frame120.jpg\n",
      "Frame guardado: SUJETO7_ENOJO_segmentado_frame0.jpg\n",
      "Frame guardado: SUJETO7_ENOJO_segmentado_frame30.jpg\n",
      "Frame guardado: SUJETO7_ENOJO_segmentado_frame60.jpg\n",
      "Frame guardado: SUJETO7_ENOJO_segmentado_frame90.jpg\n",
      "Frame guardado: SUJETO7_ENOJO_segmentado_frame120.jpg\n",
      "Frame guardado: SUJETO7_ENOJO_segmentado_frame150.jpg\n",
      "Frame guardado: SUJETO7_ENOJO_segmentado_frame180.jpg\n",
      "Frame guardado: SUJETO7_ENOJO_segmentado_frame210.jpg\n",
      "Frame guardado: SUJETO7_ENOJO_segmentado_frame240.jpg\n",
      "Frame guardado: SUJETO7_ENOJO_segmentado_frame270.jpg\n",
      "Frame guardado: SUJETO7_ENOJO_segmentado_frame300.jpg\n",
      "Frame guardado: SUJETO7_FELICIDAD_segmentado_frame0.jpg\n",
      "Frame guardado: SUJETO7_FELICIDAD_segmentado_frame30.jpg\n",
      "Frame guardado: SUJETO7_FELICIDAD_segmentado_frame60.jpg\n",
      "Frame guardado: SUJETO7_FELICIDAD_segmentado_frame90.jpg\n",
      "Frame guardado: SUJETO7_FELICIDAD_segmentado_frame120.jpg\n",
      "Frame guardado: SUJETO7_N1_segmentado_frame0.jpg\n",
      "Frame guardado: SUJETO7_N1_segmentado_frame30.jpg\n",
      "Frame guardado: SUJETO7_N1_segmentado_frame60.jpg\n",
      "Frame guardado: SUJETO7_N1_segmentado_frame90.jpg\n",
      "Frame guardado: SUJETO7_N1_segmentado_frame120.jpg\n",
      "Frame guardado: SUJETO7_N1_segmentado_frame150.jpg\n",
      "Frame guardado: SUJETO7_N1_segmentado_frame180.jpg\n",
      "Frame guardado: SUJETO7_N1_segmentado_frame210.jpg\n",
      "Frame guardado: SUJETO7_N1_segmentado_frame240.jpg\n",
      "Frame guardado: SUJETO7_N1_segmentado_frame270.jpg\n",
      "Frame guardado: SUJETO7_TRISTEZA_segmentado_frame0.jpg\n",
      "Frame guardado: SUJETO7_TRISTEZA_segmentado_frame30.jpg\n",
      "Frame guardado: SUJETO7_TRISTEZA_segmentado_frame60.jpg\n",
      "Frame guardado: SUJETO7_TRISTEZA_segmentado_frame90.jpg\n",
      "Frame guardado: SUJETO7_TRISTEZA_segmentado_frame120.jpg\n",
      "Frame guardado: SUJETO7_TRISTEZA_segmentado_frame150.jpg\n",
      "Frame guardado: SUJETO7_TRISTEZA_segmentado_frame180.jpg\n",
      "Frame guardado: SUJETO7_TRISTEZA_segmentado_frame210.jpg\n",
      "Frame guardado: SUJETO7_TRISTEZA_segmentado_frame240.jpg\n",
      "Frame guardado: SUJETO7_TRISTEZA_segmentado_frame270.jpg\n",
      "Frame guardado: SUJETO8_ENOJO_segmentado_frame0.jpg\n",
      "Frame guardado: SUJETO8_ENOJO_segmentado_frame30.jpg\n",
      "Frame guardado: SUJETO8_ENOJO_segmentado_frame60.jpg\n",
      "Frame guardado: SUJETO8_ENOJO_segmentado_frame90.jpg\n",
      "Frame guardado: SUJETO8_ENOJO_segmentado_frame120.jpg\n",
      "Frame guardado: SUJETO8_ENOJO_segmentado_frame150.jpg\n",
      "Frame guardado: SUJETO8_ENOJO_segmentado_frame180.jpg\n",
      "Frame guardado: SUJETO8_ENOJO_segmentado_frame210.jpg\n",
      "Frame guardado: SUJETO8_ENOJO_segmentado_frame240.jpg\n",
      "Frame guardado: SUJETO8_ENOJO_segmentado_frame270.jpg\n",
      "Frame guardado: SUJETO8_ENOJO_segmentado_frame300.jpg\n",
      "Frame guardado: SUJETO8_ENOJO_segmentado_frame330.jpg\n",
      "Frame guardado: SUJETO8_FELICIDAD_segmentado_frame0.jpg\n",
      "Frame guardado: SUJETO8_FELICIDAD_segmentado_frame30.jpg\n",
      "Frame guardado: SUJETO8_FELICIDAD_segmentado_frame60.jpg\n",
      "Frame guardado: SUJETO8_FELICIDAD_segmentado_frame90.jpg\n",
      "Frame guardado: SUJETO8_FELICIDAD_segmentado_frame120.jpg\n",
      "Frame guardado: SUJETO8_FELICIDAD_segmentado_frame150.jpg\n",
      "Frame guardado: SUJETO8_FELICIDAD_segmentado_frame180.jpg\n",
      "Frame guardado: SUJETO8_FELICIDAD_segmentado_frame210.jpg\n",
      "Frame guardado: SUJETO8_FELICIDAD_segmentado_frame240.jpg\n",
      "Frame guardado: SUJETO8_FELICIDAD_segmentado_frame270.jpg\n",
      "Frame guardado: SUJETO8_N1_segmentado_frame0.jpg\n",
      "Frame guardado: SUJETO8_N1_segmentado_frame30.jpg\n",
      "Frame guardado: SUJETO8_N1_segmentado_frame60.jpg\n",
      "Frame guardado: SUJETO8_N1_segmentado_frame90.jpg\n",
      "Frame guardado: SUJETO8_N1_segmentado_frame120.jpg\n",
      "Frame guardado: SUJETO8_N1_segmentado_frame150.jpg\n",
      "Frame guardado: SUJETO8_N1_segmentado_frame180.jpg\n",
      "Frame guardado: SUJETO8_N1_segmentado_frame210.jpg\n",
      "Frame guardado: SUJETO8_N1_segmentado_frame240.jpg\n",
      "Frame guardado: SUJETO8_N1_segmentado_frame270.jpg\n",
      "Frame guardado: SUJETO8_TRISTEZA_segmentado_frame0.jpg\n",
      "Frame guardado: SUJETO8_TRISTEZA_segmentado_frame30.jpg\n",
      "Frame guardado: SUJETO8_TRISTEZA_segmentado_frame60.jpg\n",
      "Frame guardado: SUJETO8_TRISTEZA_segmentado_frame90.jpg\n",
      "Frame guardado: SUJETO8_TRISTEZA_segmentado_frame120.jpg\n",
      "Frame guardado: SUJETO8_TRISTEZA_segmentado_frame150.jpg\n",
      "Frame guardado: SUJETO8_TRISTEZA_segmentado_frame180.jpg\n",
      "Frame guardado: SUJETO8_TRISTEZA_segmentado_frame210.jpg\n",
      "Frame guardado: SUJETO8_TRISTEZA_segmentado_frame240.jpg\n",
      "Frame guardado: SUJETO8_TRISTEZA_segmentado_frame270.jpg\n",
      "Frame guardado: SUJETO9_ENOJO_segmentado_frame0.jpg\n",
      "Frame guardado: SUJETO9_ENOJO_segmentado_frame30.jpg\n",
      "Frame guardado: SUJETO9_ENOJO_segmentado_frame60.jpg\n",
      "Frame guardado: SUJETO9_ENOJO_segmentado_frame90.jpg\n",
      "Frame guardado: SUJETO9_ENOJO_segmentado_frame120.jpg\n",
      "Frame guardado: SUJETO9_ENOJO_segmentado_frame150.jpg\n",
      "Frame guardado: SUJETO9_ENOJO_segmentado_frame180.jpg\n",
      "Frame guardado: SUJETO9_ENOJO_segmentado_frame210.jpg\n",
      "Frame guardado: SUJETO9_ENOJO_segmentado_frame240.jpg\n",
      "Frame guardado: SUJETO9_ENOJO_segmentado_frame270.jpg\n",
      "Frame guardado: SUJETO9_ENOJO_segmentado_frame300.jpg\n",
      "Frame guardado: SUJETO9_ENOJO_segmentado_frame330.jpg\n",
      "Frame guardado: SUJETO9_FELICIDAD_segmentado_frame0.jpg\n",
      "Frame guardado: SUJETO9_FELICIDAD_segmentado_frame30.jpg\n",
      "Frame guardado: SUJETO9_FELICIDAD_segmentado_frame60.jpg\n",
      "Frame guardado: SUJETO9_FELICIDAD_segmentado_frame90.jpg\n",
      "Frame guardado: SUJETO9_FELICIDAD_segmentado_frame120.jpg\n",
      "Frame guardado: SUJETO9_FELICIDAD_segmentado_frame150.jpg\n",
      "Frame guardado: SUJETO9_FELICIDAD_segmentado_frame180.jpg\n",
      "Frame guardado: SUJETO9_FELICIDAD_segmentado_frame210.jpg\n",
      "Frame guardado: SUJETO9_FELICIDAD_segmentado_frame240.jpg\n",
      "Frame guardado: SUJETO9_FELICIDAD_segmentado_frame270.jpg\n",
      "Frame guardado: SUJETO9_N1_segmentado_frame0.jpg\n",
      "Frame guardado: SUJETO9_N1_segmentado_frame30.jpg\n",
      "Frame guardado: SUJETO9_N1_segmentado_frame60.jpg\n",
      "Frame guardado: SUJETO9_N1_segmentado_frame90.jpg\n",
      "Frame guardado: SUJETO9_N1_segmentado_frame120.jpg\n",
      "Frame guardado: SUJETO9_N1_segmentado_frame150.jpg\n",
      "Frame guardado: SUJETO9_N1_segmentado_frame180.jpg\n",
      "Frame guardado: SUJETO9_N1_segmentado_frame210.jpg\n",
      "Frame guardado: SUJETO9_N1_segmentado_frame240.jpg\n",
      "Frame guardado: SUJETO9_N1_segmentado_frame270.jpg\n",
      "Frame guardado: SUJETO9_TRISTEZA_segmentado_frame0.jpg\n",
      "Frame guardado: SUJETO9_TRISTEZA_segmentado_frame30.jpg\n",
      "Frame guardado: SUJETO9_TRISTEZA_segmentado_frame60.jpg\n",
      "Frame guardado: SUJETO9_TRISTEZA_segmentado_frame90.jpg\n",
      "Frame guardado: SUJETO9_TRISTEZA_segmentado_frame120.jpg\n",
      "Frame guardado: SUJETO9_TRISTEZA_segmentado_frame150.jpg\n",
      "Frame guardado: SUJETO9_TRISTEZA_segmentado_frame180.jpg\n",
      "Frame guardado: SUJETO9_TRISTEZA_segmentado_frame210.jpg\n",
      "Frame guardado: SUJETO9_TRISTEZA_segmentado_frame240.jpg\n",
      "Frame guardado: SUJETO9_TRISTEZA_segmentado_frame270.jpg\n"
     ]
    }
   ],
   "source": [
    "# Ruta a la carpeta que contiene los videos\n",
    "videos_folder = './VideosSegmentados/'\n",
    "\n",
    "# Ruta a la carpeta donde se guardarán las imágenes\n",
    "images_folder = './Imagenes/'\n",
    "\n",
    "# Crea la carpeta para las imágenes si no existe\n",
    "if not os.path.exists(images_folder):\n",
    "    os.makedirs(images_folder)\n",
    "\n",
    "# Recorre todos los archivos en la carpeta de videos\n",
    "for video_file in os.listdir(videos_folder):\n",
    "    video_path = os.path.join(videos_folder, video_file)\n",
    "    \n",
    "    # Verifica si el archivo es un video abriéndolo con OpenCV\n",
    "    cap = cv2.VideoCapture(video_path)\n",
    "    if not cap.isOpened():\n",
    "        print(f\"No se pudo abrir el video {video_file}\")\n",
    "        continue\n",
    "\n",
    "    frame_count = 0\n",
    "    while cap.isOpened():\n",
    "        ret, frame = cap.read()\n",
    "        if not ret:\n",
    "            break\n",
    "\n",
    "        # Extrae un frame cada 30 frames\n",
    "        if frame_count % 30 == 0:\n",
    "            frame_filename = f\"{os.path.splitext(video_file)[0]}_frame{frame_count}.jpg\"\n",
    "            frame_path = os.path.join(images_folder, frame_filename)\n",
    "            cv2.imwrite(frame_path, frame)\n",
    "            print(f\"Frame guardado: {frame_filename}\")\n",
    "\n",
    "        frame_count += 1\n",
    "\n",
    "    # Libera el objeto cap y cierra todas las ventanas de OpenCV\n",
    "    cap.release()\n",
    "\n",
    "cv2.destroyAllWindows()\n"
   ]
  },
  {
   "cell_type": "markdown",
   "metadata": {},
   "source": [
    "Con la colección de imágenes derivadas de los fotogramas seleccionados anteriormente, se procedió a implementar la tecnología de FaceMesh sobre cada uno de los segmentos de vídeo. Esto implicó la detección y extracción de puntos clave faciales, abarcando la totalidad del rostro en cada imagen. Los datos obtenidos fueron registrados y almacenados en una estructura de datos tabular, es decir, un dataframe."
   ]
  },
  {
   "cell_type": "code",
   "execution_count": 6,
   "metadata": {},
   "outputs": [
    {
     "name": "stdout",
     "output_type": "stream",
     "text": [
      "                                    Image       K1X       K1Y       K2X  \\\n",
      "0    SUJETO10_ENOJO_segmentado_frame0.jpg  0.516717  0.862611  0.525122   \n",
      "1  SUJETO10_ENOJO_segmentado_frame120.jpg  0.522165  0.873315  0.534889   \n",
      "2  SUJETO10_ENOJO_segmentado_frame150.jpg  0.521257  0.869050  0.532735   \n",
      "3  SUJETO10_ENOJO_segmentado_frame180.jpg  0.519951  0.869113  0.532665   \n",
      "4  SUJETO10_ENOJO_segmentado_frame210.jpg  0.522861  0.869178  0.534696   \n",
      "\n",
      "        K2Y       K3X       K3Y       K4X       K4Y       K5X  ...     K474Y  \\\n",
      "0  0.781059  0.522194  0.800093  0.520307  0.707113  0.527029  ...  0.654642   \n",
      "1  0.798453  0.530828  0.816012  0.530545  0.722064  0.537171  ...  0.667019   \n",
      "2  0.793808  0.528710  0.811547  0.528189  0.717880  0.534973  ...  0.667484   \n",
      "3  0.793192  0.528782  0.810866  0.527933  0.718591  0.534852  ...  0.671306   \n",
      "4  0.794747  0.530758  0.812396  0.530206  0.719392  0.536961  ...  0.669738   \n",
      "\n",
      "      K475X     K475Y     K476X     K476Y     K477X     K477Y     K478X  \\\n",
      "0  0.597166  0.657380  0.587159  0.638631  0.575269  0.651748  0.585243   \n",
      "1  0.605121  0.669919  0.595619  0.650519  0.583513  0.663937  0.593000   \n",
      "2  0.604407  0.670765  0.594810  0.650166  0.582683  0.663929  0.592320   \n",
      "3  0.602347  0.674140  0.593610  0.656219  0.582534  0.668459  0.591239   \n",
      "4  0.605531  0.672815  0.596163  0.653849  0.584328  0.666554  0.593704   \n",
      "\n",
      "      K478Y  Label  \n",
      "0  0.670582  ENOJO  \n",
      "1  0.683557  ENOJO  \n",
      "2  0.684695  ENOJO  \n",
      "3  0.686257  ENOJO  \n",
      "4  0.685507  ENOJO  \n",
      "\n",
      "[5 rows x 958 columns]\n"
     ]
    }
   ],
   "source": [
    "mp_face_mesh = mp.solutions.face_mesh\n",
    "\n",
    "landmarks_data = []\n",
    "\n",
    "# Carpeta con las imagenes\n",
    "images_folder = './Imagenes/'\n",
    "\n",
    "# Inicializa FaceMesh con las opciones deseadas\n",
    "with mp_face_mesh.FaceMesh(\n",
    "        max_num_faces=1,\n",
    "        refine_landmarks=True,\n",
    "        min_detection_confidence=0.5,\n",
    "        min_tracking_confidence=0.5) as face_mesh:\n",
    "\n",
    "    # Lista todos los archivos en la carpeta de imágenes\n",
    "    image_files = [f for f in os.listdir(images_folder) if f.endswith('.jpg') or f.endswith('.png')]\n",
    "\n",
    "    # Procesa cada imagen que cumple con el criterio\n",
    "    for image_file in image_files:\n",
    "        image_path = os.path.join(images_folder, image_file)\n",
    "        image = cv2.imread(image_path)\n",
    "        \n",
    "        # Verifica si la imagen se cargó correctamente\n",
    "        if image is None:\n",
    "            print(f\"No se pudo cargar la imagen {image_file}\")\n",
    "            continue\n",
    "        \n",
    "        # Cambia la resolución de la imagen y la convierte a RGB\n",
    "        image_rgb = cv2.cvtColor(image, cv2.COLOR_BGR2RGB)\n",
    "        \n",
    "        # Procesa la imagen para obtener los landmarks\n",
    "        results = face_mesh.process(image_rgb)\n",
    "        \n",
    "        # Extrae landmarks faciales si están disponibles\n",
    "        if results.multi_face_landmarks:\n",
    "            # Cada imagen dará lugar a una sola fila con todos los landmarks\n",
    "            row = {'Image': image_file}\n",
    "            for landmark_id, landmark in enumerate(results.multi_face_landmarks[0].landmark):\n",
    "                # Añade las coordenadas x, y de cada landmark al diccionario de la fila\n",
    "                row[f'K{landmark_id + 1}X'] = landmark.x\n",
    "                row[f'K{landmark_id + 1}Y'] = landmark.y\n",
    "            \n",
    "            # Extrae el label del nombre del archivo\n",
    "            label = image_file.split('_')[1]  # Esto toma el elemento entre el primer y segundo '_'\n",
    "            if label == 'N1':  # Cambia 'N1' a 'NEUTRAL'\n",
    "                label = 'NEUTRAL'\n",
    "            row['Label'] = label\n",
    "            \n",
    "            landmarks_data.append(row)\n",
    "\n",
    "# Crea un DataFrame a partir de la lista de datos\n",
    "df_flat_landmarks = pd.DataFrame(landmarks_data)\n",
    "\n",
    "# Muestra los primeros registros del DataFrame\n",
    "print(df_flat_landmarks.head())\n"
   ]
  },
  {
   "cell_type": "markdown",
   "metadata": {},
   "source": [
    "Se muestra el dataframe resultante del proceso de extracción y catalogación de los puntos clave faciales obtenidos mediante la aplicación de FaceMesh a las imágenes seleccionadas de los segmentos de vídeo."
   ]
  },
  {
   "cell_type": "code",
   "execution_count": 31,
   "metadata": {},
   "outputs": [
    {
     "data": {
      "text/html": [
       "<div>\n",
       "<style scoped>\n",
       "    .dataframe tbody tr th:only-of-type {\n",
       "        vertical-align: middle;\n",
       "    }\n",
       "\n",
       "    .dataframe tbody tr th {\n",
       "        vertical-align: top;\n",
       "    }\n",
       "\n",
       "    .dataframe thead th {\n",
       "        text-align: right;\n",
       "    }\n",
       "</style>\n",
       "<table border=\"1\" class=\"dataframe\">\n",
       "  <thead>\n",
       "    <tr style=\"text-align: right;\">\n",
       "      <th></th>\n",
       "      <th>Image</th>\n",
       "      <th>K1X</th>\n",
       "      <th>K1Y</th>\n",
       "      <th>K2X</th>\n",
       "      <th>K2Y</th>\n",
       "      <th>K3X</th>\n",
       "      <th>K3Y</th>\n",
       "      <th>K4X</th>\n",
       "      <th>K4Y</th>\n",
       "      <th>K5X</th>\n",
       "      <th>...</th>\n",
       "      <th>K474Y</th>\n",
       "      <th>K475X</th>\n",
       "      <th>K475Y</th>\n",
       "      <th>K476X</th>\n",
       "      <th>K476Y</th>\n",
       "      <th>K477X</th>\n",
       "      <th>K477Y</th>\n",
       "      <th>K478X</th>\n",
       "      <th>K478Y</th>\n",
       "      <th>Label</th>\n",
       "    </tr>\n",
       "  </thead>\n",
       "  <tbody>\n",
       "    <tr>\n",
       "      <th>0</th>\n",
       "      <td>SUJETO10_ENOJO_segmentado_frame0.jpg</td>\n",
       "      <td>0.516717</td>\n",
       "      <td>0.862611</td>\n",
       "      <td>0.525122</td>\n",
       "      <td>0.781059</td>\n",
       "      <td>0.522194</td>\n",
       "      <td>0.800093</td>\n",
       "      <td>0.520307</td>\n",
       "      <td>0.707113</td>\n",
       "      <td>0.527029</td>\n",
       "      <td>...</td>\n",
       "      <td>0.654642</td>\n",
       "      <td>0.597166</td>\n",
       "      <td>0.657380</td>\n",
       "      <td>0.587159</td>\n",
       "      <td>0.638631</td>\n",
       "      <td>0.575269</td>\n",
       "      <td>0.651748</td>\n",
       "      <td>0.585243</td>\n",
       "      <td>0.670582</td>\n",
       "      <td>ENOJO</td>\n",
       "    </tr>\n",
       "    <tr>\n",
       "      <th>1</th>\n",
       "      <td>SUJETO10_ENOJO_segmentado_frame120.jpg</td>\n",
       "      <td>0.522165</td>\n",
       "      <td>0.873315</td>\n",
       "      <td>0.534889</td>\n",
       "      <td>0.798453</td>\n",
       "      <td>0.530828</td>\n",
       "      <td>0.816012</td>\n",
       "      <td>0.530545</td>\n",
       "      <td>0.722064</td>\n",
       "      <td>0.537171</td>\n",
       "      <td>...</td>\n",
       "      <td>0.667019</td>\n",
       "      <td>0.605121</td>\n",
       "      <td>0.669919</td>\n",
       "      <td>0.595619</td>\n",
       "      <td>0.650519</td>\n",
       "      <td>0.583513</td>\n",
       "      <td>0.663937</td>\n",
       "      <td>0.593000</td>\n",
       "      <td>0.683557</td>\n",
       "      <td>ENOJO</td>\n",
       "    </tr>\n",
       "    <tr>\n",
       "      <th>2</th>\n",
       "      <td>SUJETO10_ENOJO_segmentado_frame150.jpg</td>\n",
       "      <td>0.521257</td>\n",
       "      <td>0.869050</td>\n",
       "      <td>0.532735</td>\n",
       "      <td>0.793808</td>\n",
       "      <td>0.528710</td>\n",
       "      <td>0.811547</td>\n",
       "      <td>0.528189</td>\n",
       "      <td>0.717880</td>\n",
       "      <td>0.534973</td>\n",
       "      <td>...</td>\n",
       "      <td>0.667484</td>\n",
       "      <td>0.604407</td>\n",
       "      <td>0.670765</td>\n",
       "      <td>0.594810</td>\n",
       "      <td>0.650166</td>\n",
       "      <td>0.582683</td>\n",
       "      <td>0.663929</td>\n",
       "      <td>0.592320</td>\n",
       "      <td>0.684695</td>\n",
       "      <td>ENOJO</td>\n",
       "    </tr>\n",
       "    <tr>\n",
       "      <th>3</th>\n",
       "      <td>SUJETO10_ENOJO_segmentado_frame180.jpg</td>\n",
       "      <td>0.519951</td>\n",
       "      <td>0.869113</td>\n",
       "      <td>0.532665</td>\n",
       "      <td>0.793192</td>\n",
       "      <td>0.528782</td>\n",
       "      <td>0.810866</td>\n",
       "      <td>0.527933</td>\n",
       "      <td>0.718591</td>\n",
       "      <td>0.534852</td>\n",
       "      <td>...</td>\n",
       "      <td>0.671306</td>\n",
       "      <td>0.602347</td>\n",
       "      <td>0.674140</td>\n",
       "      <td>0.593610</td>\n",
       "      <td>0.656219</td>\n",
       "      <td>0.582534</td>\n",
       "      <td>0.668459</td>\n",
       "      <td>0.591239</td>\n",
       "      <td>0.686257</td>\n",
       "      <td>ENOJO</td>\n",
       "    </tr>\n",
       "    <tr>\n",
       "      <th>4</th>\n",
       "      <td>SUJETO10_ENOJO_segmentado_frame210.jpg</td>\n",
       "      <td>0.522861</td>\n",
       "      <td>0.869178</td>\n",
       "      <td>0.534696</td>\n",
       "      <td>0.794747</td>\n",
       "      <td>0.530758</td>\n",
       "      <td>0.812396</td>\n",
       "      <td>0.530206</td>\n",
       "      <td>0.719392</td>\n",
       "      <td>0.536961</td>\n",
       "      <td>...</td>\n",
       "      <td>0.669738</td>\n",
       "      <td>0.605531</td>\n",
       "      <td>0.672815</td>\n",
       "      <td>0.596163</td>\n",
       "      <td>0.653849</td>\n",
       "      <td>0.584328</td>\n",
       "      <td>0.666554</td>\n",
       "      <td>0.593704</td>\n",
       "      <td>0.685507</td>\n",
       "      <td>ENOJO</td>\n",
       "    </tr>\n",
       "    <tr>\n",
       "      <th>...</th>\n",
       "      <td>...</td>\n",
       "      <td>...</td>\n",
       "      <td>...</td>\n",
       "      <td>...</td>\n",
       "      <td>...</td>\n",
       "      <td>...</td>\n",
       "      <td>...</td>\n",
       "      <td>...</td>\n",
       "      <td>...</td>\n",
       "      <td>...</td>\n",
       "      <td>...</td>\n",
       "      <td>...</td>\n",
       "      <td>...</td>\n",
       "      <td>...</td>\n",
       "      <td>...</td>\n",
       "      <td>...</td>\n",
       "      <td>...</td>\n",
       "      <td>...</td>\n",
       "      <td>...</td>\n",
       "      <td>...</td>\n",
       "      <td>...</td>\n",
       "    </tr>\n",
       "    <tr>\n",
       "      <th>468</th>\n",
       "      <td>SUJETO9_TRISTEZA_segmentado_frame90.jpg</td>\n",
       "      <td>0.466474</td>\n",
       "      <td>0.795463</td>\n",
       "      <td>0.471724</td>\n",
       "      <td>0.722081</td>\n",
       "      <td>0.469866</td>\n",
       "      <td>0.742865</td>\n",
       "      <td>0.465500</td>\n",
       "      <td>0.650051</td>\n",
       "      <td>0.473138</td>\n",
       "      <td>...</td>\n",
       "      <td>0.608497</td>\n",
       "      <td>0.550433</td>\n",
       "      <td>0.611247</td>\n",
       "      <td>0.540197</td>\n",
       "      <td>0.591266</td>\n",
       "      <td>0.527597</td>\n",
       "      <td>0.605644</td>\n",
       "      <td>0.537758</td>\n",
       "      <td>0.625812</td>\n",
       "      <td>TRISTEZA</td>\n",
       "    </tr>\n",
       "    <tr>\n",
       "      <th>469</th>\n",
       "      <td>SUJETOBASELINE_ENOJO_.jpg</td>\n",
       "      <td>0.560945</td>\n",
       "      <td>0.688971</td>\n",
       "      <td>0.530364</td>\n",
       "      <td>0.628595</td>\n",
       "      <td>0.533198</td>\n",
       "      <td>0.660879</td>\n",
       "      <td>0.518769</td>\n",
       "      <td>0.565666</td>\n",
       "      <td>0.530013</td>\n",
       "      <td>...</td>\n",
       "      <td>0.527220</td>\n",
       "      <td>0.632946</td>\n",
       "      <td>0.532235</td>\n",
       "      <td>0.623366</td>\n",
       "      <td>0.512396</td>\n",
       "      <td>0.607285</td>\n",
       "      <td>0.521528</td>\n",
       "      <td>0.617144</td>\n",
       "      <td>0.540823</td>\n",
       "      <td>ENOJO</td>\n",
       "    </tr>\n",
       "    <tr>\n",
       "      <th>470</th>\n",
       "      <td>SUJETOBASELINE_FELICIDAD_.jpg</td>\n",
       "      <td>0.540443</td>\n",
       "      <td>0.696647</td>\n",
       "      <td>0.544350</td>\n",
       "      <td>0.629946</td>\n",
       "      <td>0.542824</td>\n",
       "      <td>0.660056</td>\n",
       "      <td>0.534408</td>\n",
       "      <td>0.550628</td>\n",
       "      <td>0.545698</td>\n",
       "      <td>...</td>\n",
       "      <td>0.508232</td>\n",
       "      <td>0.653438</td>\n",
       "      <td>0.510210</td>\n",
       "      <td>0.637066</td>\n",
       "      <td>0.486759</td>\n",
       "      <td>0.619192</td>\n",
       "      <td>0.506253</td>\n",
       "      <td>0.635599</td>\n",
       "      <td>0.529625</td>\n",
       "      <td>FELICIDAD</td>\n",
       "    </tr>\n",
       "    <tr>\n",
       "      <th>471</th>\n",
       "      <td>SUJETOBASELINE_NEUTRAL_.jpg</td>\n",
       "      <td>0.523542</td>\n",
       "      <td>0.599596</td>\n",
       "      <td>0.524195</td>\n",
       "      <td>0.508241</td>\n",
       "      <td>0.523063</td>\n",
       "      <td>0.550286</td>\n",
       "      <td>0.514287</td>\n",
       "      <td>0.440016</td>\n",
       "      <td>0.525274</td>\n",
       "      <td>...</td>\n",
       "      <td>0.423212</td>\n",
       "      <td>0.636259</td>\n",
       "      <td>0.426738</td>\n",
       "      <td>0.621623</td>\n",
       "      <td>0.403182</td>\n",
       "      <td>0.603425</td>\n",
       "      <td>0.419761</td>\n",
       "      <td>0.617948</td>\n",
       "      <td>0.443265</td>\n",
       "      <td>NEUTRAL</td>\n",
       "    </tr>\n",
       "    <tr>\n",
       "      <th>472</th>\n",
       "      <td>SUJETOBASELINE_TRISTEZA_.jpg</td>\n",
       "      <td>0.547243</td>\n",
       "      <td>0.601252</td>\n",
       "      <td>0.546019</td>\n",
       "      <td>0.528283</td>\n",
       "      <td>0.544474</td>\n",
       "      <td>0.562468</td>\n",
       "      <td>0.535940</td>\n",
       "      <td>0.452828</td>\n",
       "      <td>0.547163</td>\n",
       "      <td>...</td>\n",
       "      <td>0.417058</td>\n",
       "      <td>0.648758</td>\n",
       "      <td>0.418803</td>\n",
       "      <td>0.634641</td>\n",
       "      <td>0.395796</td>\n",
       "      <td>0.618431</td>\n",
       "      <td>0.415219</td>\n",
       "      <td>0.632560</td>\n",
       "      <td>0.438043</td>\n",
       "      <td>TRISTEZA</td>\n",
       "    </tr>\n",
       "  </tbody>\n",
       "</table>\n",
       "<p>473 rows × 958 columns</p>\n",
       "</div>"
      ],
      "text/plain": [
       "                                       Image       K1X       K1Y       K2X  \\\n",
       "0       SUJETO10_ENOJO_segmentado_frame0.jpg  0.516717  0.862611  0.525122   \n",
       "1     SUJETO10_ENOJO_segmentado_frame120.jpg  0.522165  0.873315  0.534889   \n",
       "2     SUJETO10_ENOJO_segmentado_frame150.jpg  0.521257  0.869050  0.532735   \n",
       "3     SUJETO10_ENOJO_segmentado_frame180.jpg  0.519951  0.869113  0.532665   \n",
       "4     SUJETO10_ENOJO_segmentado_frame210.jpg  0.522861  0.869178  0.534696   \n",
       "..                                       ...       ...       ...       ...   \n",
       "468  SUJETO9_TRISTEZA_segmentado_frame90.jpg  0.466474  0.795463  0.471724   \n",
       "469                SUJETOBASELINE_ENOJO_.jpg  0.560945  0.688971  0.530364   \n",
       "470            SUJETOBASELINE_FELICIDAD_.jpg  0.540443  0.696647  0.544350   \n",
       "471              SUJETOBASELINE_NEUTRAL_.jpg  0.523542  0.599596  0.524195   \n",
       "472             SUJETOBASELINE_TRISTEZA_.jpg  0.547243  0.601252  0.546019   \n",
       "\n",
       "          K2Y       K3X       K3Y       K4X       K4Y       K5X  ...  \\\n",
       "0    0.781059  0.522194  0.800093  0.520307  0.707113  0.527029  ...   \n",
       "1    0.798453  0.530828  0.816012  0.530545  0.722064  0.537171  ...   \n",
       "2    0.793808  0.528710  0.811547  0.528189  0.717880  0.534973  ...   \n",
       "3    0.793192  0.528782  0.810866  0.527933  0.718591  0.534852  ...   \n",
       "4    0.794747  0.530758  0.812396  0.530206  0.719392  0.536961  ...   \n",
       "..        ...       ...       ...       ...       ...       ...  ...   \n",
       "468  0.722081  0.469866  0.742865  0.465500  0.650051  0.473138  ...   \n",
       "469  0.628595  0.533198  0.660879  0.518769  0.565666  0.530013  ...   \n",
       "470  0.629946  0.542824  0.660056  0.534408  0.550628  0.545698  ...   \n",
       "471  0.508241  0.523063  0.550286  0.514287  0.440016  0.525274  ...   \n",
       "472  0.528283  0.544474  0.562468  0.535940  0.452828  0.547163  ...   \n",
       "\n",
       "        K474Y     K475X     K475Y     K476X     K476Y     K477X     K477Y  \\\n",
       "0    0.654642  0.597166  0.657380  0.587159  0.638631  0.575269  0.651748   \n",
       "1    0.667019  0.605121  0.669919  0.595619  0.650519  0.583513  0.663937   \n",
       "2    0.667484  0.604407  0.670765  0.594810  0.650166  0.582683  0.663929   \n",
       "3    0.671306  0.602347  0.674140  0.593610  0.656219  0.582534  0.668459   \n",
       "4    0.669738  0.605531  0.672815  0.596163  0.653849  0.584328  0.666554   \n",
       "..        ...       ...       ...       ...       ...       ...       ...   \n",
       "468  0.608497  0.550433  0.611247  0.540197  0.591266  0.527597  0.605644   \n",
       "469  0.527220  0.632946  0.532235  0.623366  0.512396  0.607285  0.521528   \n",
       "470  0.508232  0.653438  0.510210  0.637066  0.486759  0.619192  0.506253   \n",
       "471  0.423212  0.636259  0.426738  0.621623  0.403182  0.603425  0.419761   \n",
       "472  0.417058  0.648758  0.418803  0.634641  0.395796  0.618431  0.415219   \n",
       "\n",
       "        K478X     K478Y      Label  \n",
       "0    0.585243  0.670582      ENOJO  \n",
       "1    0.593000  0.683557      ENOJO  \n",
       "2    0.592320  0.684695      ENOJO  \n",
       "3    0.591239  0.686257      ENOJO  \n",
       "4    0.593704  0.685507      ENOJO  \n",
       "..        ...       ...        ...  \n",
       "468  0.537758  0.625812   TRISTEZA  \n",
       "469  0.617144  0.540823      ENOJO  \n",
       "470  0.635599  0.529625  FELICIDAD  \n",
       "471  0.617948  0.443265    NEUTRAL  \n",
       "472  0.632560  0.438043   TRISTEZA  \n",
       "\n",
       "[473 rows x 958 columns]"
      ]
     },
     "execution_count": 31,
     "metadata": {},
     "output_type": "execute_result"
    }
   ],
   "source": [
    "df_flat_landmarks"
   ]
  },
  {
   "cell_type": "markdown",
   "metadata": {},
   "source": [
    "Para garantizar la eficacia y conservación segura de los datos obtenidos, se tomó la decisión de exportar el dataframe conformado por los puntos clave faciales a un archivo en formato CSV. "
   ]
  },
  {
   "cell_type": "code",
   "execution_count": 7,
   "metadata": {},
   "outputs": [],
   "source": [
    "# Guarda el DataFrame a un archivo CSV\n",
    "df_flat_landmarks.to_csv('flat_landmarks_images_with_label.csv', index=False)"
   ]
  },
  {
   "cell_type": "markdown",
   "metadata": {},
   "source": [
    "## <span style=\"color:#EBBAF3;\">Ganancia de Informaci&oacute;n</span> "
   ]
  },
  {
   "cell_type": "markdown",
   "metadata": {},
   "source": [
    "Ante la amplia cantidad de características derivadas de los puntos clave faciales, se identificó la ganancia de información como una metodología para discernir la relevancia de cada atributo y utilizarlo en el modelo de evaluaci&oacute;n."
   ]
  },
  {
   "cell_type": "code",
   "execution_count": 2,
   "metadata": {},
   "outputs": [
    {
     "name": "stdout",
     "output_type": "stream",
     "text": [
      "                                    Image       K1X       K1Y       K2X  \\\n",
      "0    SUJETO10_ENOJO_segmentado_frame0.jpg  0.516717  0.862611  0.525122   \n",
      "1  SUJETO10_ENOJO_segmentado_frame120.jpg  0.522165  0.873315  0.534889   \n",
      "2  SUJETO10_ENOJO_segmentado_frame150.jpg  0.521257  0.869050  0.532735   \n",
      "3  SUJETO10_ENOJO_segmentado_frame180.jpg  0.519951  0.869113  0.532665   \n",
      "4  SUJETO10_ENOJO_segmentado_frame210.jpg  0.522861  0.869178  0.534696   \n",
      "\n",
      "        K2Y       K3X       K3Y       K4X       K4Y       K5X  ...     K474Y  \\\n",
      "0  0.781059  0.522194  0.800093  0.520307  0.707113  0.527029  ...  0.654642   \n",
      "1  0.798453  0.530828  0.816012  0.530545  0.722064  0.537171  ...  0.667019   \n",
      "2  0.793808  0.528710  0.811547  0.528189  0.717880  0.534973  ...  0.667484   \n",
      "3  0.793192  0.528782  0.810866  0.527933  0.718591  0.534852  ...  0.671306   \n",
      "4  0.794747  0.530758  0.812396  0.530206  0.719392  0.536961  ...  0.669738   \n",
      "\n",
      "      K475X     K475Y     K476X     K476Y     K477X     K477Y     K478X  \\\n",
      "0  0.597166  0.657380  0.587159  0.638631  0.575269  0.651748  0.585243   \n",
      "1  0.605121  0.669919  0.595619  0.650519  0.583513  0.663937  0.593000   \n",
      "2  0.604407  0.670765  0.594810  0.650166  0.582683  0.663929  0.592320   \n",
      "3  0.602347  0.674140  0.593610  0.656219  0.582534  0.668459  0.591239   \n",
      "4  0.605531  0.672815  0.596163  0.653849  0.584328  0.666554  0.593704   \n",
      "\n",
      "      K478Y  Label  \n",
      "0  0.670582  ENOJO  \n",
      "1  0.683557  ENOJO  \n",
      "2  0.684695  ENOJO  \n",
      "3  0.686257  ENOJO  \n",
      "4  0.685507  ENOJO  \n",
      "\n",
      "[5 rows x 958 columns]\n"
     ]
    }
   ],
   "source": [
    "# Se selecciono otro archivo csv ya que en este punto se excluye al participante 8.\n",
    "csv_file_path = 'nuevo_flat_landmarks_images_with_label.csv'\n",
    "df = pd.read_csv(csv_file_path)\n",
    "\n",
    "# Muestra las primeras 5 filas del DataFrame para verificar que se haya leído correctamente.\n",
    "print(df.head())"
   ]
  },
  {
   "cell_type": "markdown",
   "metadata": {},
   "source": [
    "En el proceso de aplicar ganancia de información para evaluar la relevancia de las distintas características extraídas de los puntos clave faciales, se tomó la decisión de excluir ciertas columnas del marco de datos. Específicamente, no se consideraron para el análisis las columnas que contenían el nombre del vídeo correspondiente ni las etiquetas de las emociones a las cuales los sujetos estaban reaccionando. Esto con el fin de asegurar que la evaluación de la importancia de las características se basara exclusivamente en la información cuantitativa derivada de las respuestas faciales."
   ]
  },
  {
   "cell_type": "code",
   "execution_count": 3,
   "metadata": {},
   "outputs": [],
   "source": [
    "X = df.iloc[:, 1:-1]\n",
    "Y = df.iloc[:, -1]"
   ]
  },
  {
   "cell_type": "markdown",
   "metadata": {},
   "source": [
    "En esta sección se procede con la aplicación de ganancia de información al conjunto de datos, con el propósito explícito de discernir cuáles de las características extraídas son más importantes para su inclusión en el modelo de evaluación."
   ]
  },
  {
   "cell_type": "code",
   "execution_count": 6,
   "metadata": {},
   "outputs": [
    {
     "data": {
      "image/png": "[encoded data removed]",
      "text/plain": [
       "<Figure size 1000x1500 with 1 Axes>"
      ]
     },
     "metadata": {},
     "output_type": "display_data"
    }
   ],
   "source": [
    "# Suponiendo que X y Y ya están definidos y son tu conjunto de datos y etiquetas, respectivamente\n",
    "X_new = mutual_info_classif(X, Y)\n",
    "\n",
    "# Ajusta las etiquetas de las columnas para que coincidan con las dimensiones de X\n",
    "feat_imp = pd.Series(X_new, df.columns[1:len(df.columns)-1])\n",
    "\n",
    "# Ordena las características por importancia y grafica\n",
    "feat_imp_sorted = feat_imp.sort_values()\n",
    "\n",
    "# Graficar la importancia de las características\n",
    "plt.figure(figsize=(10, 15))  # Ajusta el tamaño según sea necesario\n",
    "feat_imp_sorted.plot(kind='barh')\n",
    "\n",
    "# Rotar las etiquetas\n",
    "plt.gca().tick_params(axis='y', labelrotation=0)  # Cambia a 45 o 90 si es necesario\n",
    "\n",
    "# Mejora la legibilidad del gráfico\n",
    "plt.xlabel('Importancia')\n",
    "plt.ylabel('Características')\n",
    "plt.title('Importancia de las Características')\n",
    "plt.tight_layout()  # Asegura que todo encaje sin superponerse\n",
    "\n",
    "plt.show()\n"
   ]
  },
  {
   "cell_type": "markdown",
   "metadata": {},
   "source": [
    "Tras la evaluación detallada de la gráfica que ilustra la distribución de la ganancia de información para las diversas características extraídas, se estableció un umbral de selección entre 0.4 y 0.5. Este criterio se basa en que, dentro de este rango, se identifican las características que aportan un valor significativo al modelo de evaluación. Posteriormente estas características, consideradas como las más importantes para el modelo de evaluación, se imprimieron para su revisión y consideración detallada en la fase del modelo de evaluaci&oacute;n. "
   ]
  },
  {
   "cell_type": "code",
   "execution_count": 7,
   "metadata": {},
   "outputs": [
    {
     "name": "stdout",
     "output_type": "stream",
     "text": [
      "Características seleccionadas con valor mayor a 0.45 : ['K1X', 'K2X', 'K3X', 'K4X', 'K5X', 'K6X', 'K7X', 'K8X', 'K9X', 'K10X', 'K11X', 'K12X', 'K13X', 'K14X', 'K15X', 'K17X', 'K18X', 'K19X', 'K20X', 'K21X', 'K22X', 'K23X', 'K24X', 'K25X', 'K26X', 'K27X', 'K28X', 'K29X', 'K30X', 'K31X', 'K32X', 'K33X', 'K34X', 'K35X', 'K36X', 'K37X', 'K38X', 'K39X', 'K40X', 'K41X', 'K42X', 'K43X', 'K44X', 'K45X', 'K46X', 'K47X', 'K48X', 'K49X', 'K50X', 'K51X', 'K52X', 'K53X', 'K54X', 'K55X', 'K56X', 'K57X', 'K58X', 'K59X', 'K60X', 'K61X', 'K62X', 'K63X', 'K64X', 'K65X', 'K66X', 'K67X', 'K68X', 'K69X', 'K70X', 'K71X', 'K72X', 'K73X', 'K74X', 'K75X', 'K76X', 'K77X', 'K78X', 'K79X', 'K80X', 'K81X', 'K82X', 'K83X', 'K84X', 'K85X', 'K86X', 'K87X', 'K88X', 'K89X', 'K90X', 'K91X', 'K92X', 'K93X', 'K94X', 'K95X', 'K96X', 'K97X', 'K98X', 'K99X', 'K100X', 'K101X', 'K102X', 'K103X', 'K104X', 'K105X', 'K106X', 'K107X', 'K108X', 'K109X', 'K110X', 'K111X', 'K112X', 'K113X', 'K114X', 'K115X', 'K116X', 'K117X', 'K118X', 'K119X', 'K120X', 'K121X', 'K122X', 'K123X', 'K124X', 'K125X', 'K126X', 'K127X', 'K128X', 'K129X', 'K130X', 'K131X', 'K132X', 'K133X', 'K134X', 'K135X', 'K136X', 'K137X', 'K138X', 'K139X', 'K140X', 'K141X', 'K142X', 'K143X', 'K144X', 'K145X', 'K146X', 'K147X', 'K148X', 'K149X', 'K150X', 'K151X', 'K152X', 'K153X', 'K154X', 'K155X', 'K156X', 'K157X', 'K158X', 'K159X', 'K160X', 'K162X', 'K163X', 'K164X', 'K165X', 'K166X', 'K167X', 'K168X', 'K169X', 'K170X', 'K171X', 'K172X', 'K173X', 'K174X', 'K175X', 'K176X', 'K177X', 'K178X', 'K179X', 'K180X', 'K181X', 'K182X', 'K183X', 'K184X', 'K185X', 'K186X', 'K187X', 'K188X', 'K189X', 'K190X', 'K191X', 'K192X', 'K193X', 'K194X', 'K195X', 'K196X', 'K197X', 'K198X', 'K199X', 'K200X', 'K201X', 'K202X', 'K203X', 'K204X', 'K205X', 'K206X', 'K207X', 'K208X', 'K209X', 'K210X', 'K211X', 'K212X', 'K213X', 'K214X', 'K215X', 'K216X', 'K217X', 'K218X', 'K219X', 'K220X', 'K221X', 'K222X', 'K223X', 'K224X', 'K225X', 'K226X', 'K227X', 'K228X', 'K229X', 'K230X', 'K231X', 'K232X', 'K233X', 'K234X', 'K235X', 'K236X', 'K237X', 'K238X', 'K239X', 'K240X', 'K241X', 'K242X', 'K243X', 'K244X', 'K245X', 'K246X', 'K247X', 'K248X', 'K249X', 'K250X', 'K251X', 'K251Y', 'K252X', 'K253X', 'K254X', 'K255X', 'K256X', 'K257X', 'K258X', 'K259X', 'K260X', 'K261X', 'K262X', 'K263X', 'K264X', 'K264Y', 'K265X', 'K266X', 'K267X', 'K268X', 'K269X', 'K270X', 'K271X', 'K272X', 'K273X', 'K274X', 'K275X', 'K276X', 'K277X', 'K278X', 'K279X', 'K280X', 'K281X', 'K282X', 'K283X', 'K284X', 'K285X', 'K286X', 'K287X', 'K288X', 'K289X', 'K290X', 'K291X', 'K292X', 'K293X', 'K294X', 'K295X', 'K296X', 'K297X', 'K298X', 'K299X', 'K300X', 'K301X', 'K302X', 'K303X', 'K304X', 'K305X', 'K306X', 'K307X', 'K308X', 'K309X', 'K310X', 'K311X', 'K312X', 'K313X', 'K314X', 'K315X', 'K316X', 'K319X', 'K320X', 'K321X', 'K322X', 'K323X', 'K324X', 'K325X', 'K326X', 'K327X', 'K328X', 'K329X', 'K330X', 'K331X', 'K332X', 'K333X', 'K334X', 'K335X', 'K336X', 'K337X', 'K338X', 'K339X', 'K340X', 'K341X', 'K342X', 'K343X', 'K344X', 'K345X', 'K345Y', 'K346X', 'K347X', 'K348X', 'K349X', 'K350X', 'K351X', 'K352X', 'K353X', 'K354X', 'K355X', 'K356X', 'K357X', 'K358X', 'K359X', 'K360X', 'K361X', 'K362X', 'K363X', 'K364X', 'K365X', 'K366X', 'K367X', 'K368X', 'K368Y', 'K369X', 'K370X', 'K371X', 'K372X', 'K373X', 'K374X', 'K375X', 'K376X', 'K377X', 'K378X', 'K379X', 'K380X', 'K381X', 'K382X', 'K383X', 'K384X', 'K385X', 'K386X', 'K389X', 'K389Y', 'K390X', 'K391X', 'K392X', 'K393X', 'K394X', 'K395X', 'K396X', 'K397X', 'K398X', 'K399X', 'K400X', 'K401X', 'K402X', 'K403X', 'K404X', 'K405X', 'K406X', 'K407X', 'K408X', 'K409X', 'K411X', 'K412X', 'K413X', 'K414X', 'K415X', 'K416X', 'K417X', 'K418X', 'K419X', 'K420X', 'K421X', 'K422X', 'K423X', 'K424X', 'K425X', 'K426X', 'K427X', 'K428X', 'K429X', 'K430X', 'K431X', 'K432X', 'K433X', 'K434X', 'K435X', 'K436X', 'K437X', 'K438X', 'K439X', 'K440X', 'K441X', 'K442X', 'K443X', 'K444X', 'K445X', 'K446X', 'K447X', 'K448X', 'K449X', 'K450X', 'K451X', 'K452X', 'K453X', 'K454X', 'K455X', 'K456X', 'K457X', 'K458X', 'K459X', 'K460X', 'K461X', 'K462X', 'K463X', 'K464X', 'K465X', 'K466X', 'K467X', 'K468X', 'K469X', 'K470X', 'K471X', 'K472X', 'K473X', 'K474X', 'K475X', 'K476X', 'K477X', 'K478X']\n"
     ]
    },
    {
     "data": {
      "text/html": [
       "<div>\n",
       "<style scoped>\n",
       "    .dataframe tbody tr th:only-of-type {\n",
       "        vertical-align: middle;\n",
       "    }\n",
       "\n",
       "    .dataframe tbody tr th {\n",
       "        vertical-align: top;\n",
       "    }\n",
       "\n",
       "    .dataframe thead th {\n",
       "        text-align: right;\n",
       "    }\n",
       "</style>\n",
       "<table border=\"1\" class=\"dataframe\">\n",
       "  <thead>\n",
       "    <tr style=\"text-align: right;\">\n",
       "      <th></th>\n",
       "      <th>Image</th>\n",
       "      <th>K1X</th>\n",
       "      <th>K2X</th>\n",
       "      <th>K3X</th>\n",
       "      <th>K4X</th>\n",
       "      <th>K5X</th>\n",
       "      <th>K6X</th>\n",
       "      <th>K7X</th>\n",
       "      <th>K8X</th>\n",
       "      <th>K9X</th>\n",
       "      <th>...</th>\n",
       "      <th>K469X</th>\n",
       "      <th>K470X</th>\n",
       "      <th>K471X</th>\n",
       "      <th>K472X</th>\n",
       "      <th>K473X</th>\n",
       "      <th>K474X</th>\n",
       "      <th>K475X</th>\n",
       "      <th>K476X</th>\n",
       "      <th>K477X</th>\n",
       "      <th>K478X</th>\n",
       "    </tr>\n",
       "  </thead>\n",
       "  <tbody>\n",
       "    <tr>\n",
       "      <th>0</th>\n",
       "      <td>SUJETO10_ENOJO_segmentado_frame0.jpg</td>\n",
       "      <td>0.516717</td>\n",
       "      <td>0.525122</td>\n",
       "      <td>0.522194</td>\n",
       "      <td>0.520307</td>\n",
       "      <td>0.527029</td>\n",
       "      <td>0.528918</td>\n",
       "      <td>0.533020</td>\n",
       "      <td>0.452462</td>\n",
       "      <td>0.535847</td>\n",
       "      <td>...</td>\n",
       "      <td>0.470921</td>\n",
       "      <td>0.482739</td>\n",
       "      <td>0.472407</td>\n",
       "      <td>0.459043</td>\n",
       "      <td>0.469388</td>\n",
       "      <td>0.586153</td>\n",
       "      <td>0.597166</td>\n",
       "      <td>0.587159</td>\n",
       "      <td>0.575269</td>\n",
       "      <td>0.585243</td>\n",
       "    </tr>\n",
       "    <tr>\n",
       "      <th>1</th>\n",
       "      <td>SUJETO10_ENOJO_segmentado_frame120.jpg</td>\n",
       "      <td>0.522165</td>\n",
       "      <td>0.534889</td>\n",
       "      <td>0.530828</td>\n",
       "      <td>0.530545</td>\n",
       "      <td>0.537171</td>\n",
       "      <td>0.539290</td>\n",
       "      <td>0.543733</td>\n",
       "      <td>0.461720</td>\n",
       "      <td>0.547566</td>\n",
       "      <td>...</td>\n",
       "      <td>0.481572</td>\n",
       "      <td>0.493419</td>\n",
       "      <td>0.483559</td>\n",
       "      <td>0.469564</td>\n",
       "      <td>0.479480</td>\n",
       "      <td>0.594279</td>\n",
       "      <td>0.605121</td>\n",
       "      <td>0.595619</td>\n",
       "      <td>0.583513</td>\n",
       "      <td>0.593000</td>\n",
       "    </tr>\n",
       "    <tr>\n",
       "      <th>2</th>\n",
       "      <td>SUJETO10_ENOJO_segmentado_frame150.jpg</td>\n",
       "      <td>0.521257</td>\n",
       "      <td>0.532735</td>\n",
       "      <td>0.528710</td>\n",
       "      <td>0.528189</td>\n",
       "      <td>0.534973</td>\n",
       "      <td>0.536958</td>\n",
       "      <td>0.540957</td>\n",
       "      <td>0.460520</td>\n",
       "      <td>0.544457</td>\n",
       "      <td>...</td>\n",
       "      <td>0.479952</td>\n",
       "      <td>0.491748</td>\n",
       "      <td>0.481892</td>\n",
       "      <td>0.467997</td>\n",
       "      <td>0.477911</td>\n",
       "      <td>0.593558</td>\n",
       "      <td>0.604407</td>\n",
       "      <td>0.594810</td>\n",
       "      <td>0.582683</td>\n",
       "      <td>0.592320</td>\n",
       "    </tr>\n",
       "    <tr>\n",
       "      <th>3</th>\n",
       "      <td>SUJETO10_ENOJO_segmentado_frame180.jpg</td>\n",
       "      <td>0.519951</td>\n",
       "      <td>0.532665</td>\n",
       "      <td>0.528782</td>\n",
       "      <td>0.527933</td>\n",
       "      <td>0.534852</td>\n",
       "      <td>0.536787</td>\n",
       "      <td>0.540639</td>\n",
       "      <td>0.457588</td>\n",
       "      <td>0.544010</td>\n",
       "      <td>...</td>\n",
       "      <td>0.477036</td>\n",
       "      <td>0.488321</td>\n",
       "      <td>0.478554</td>\n",
       "      <td>0.465583</td>\n",
       "      <td>0.475401</td>\n",
       "      <td>0.592393</td>\n",
       "      <td>0.602347</td>\n",
       "      <td>0.593610</td>\n",
       "      <td>0.582534</td>\n",
       "      <td>0.591239</td>\n",
       "    </tr>\n",
       "    <tr>\n",
       "      <th>4</th>\n",
       "      <td>SUJETO10_ENOJO_segmentado_frame210.jpg</td>\n",
       "      <td>0.522861</td>\n",
       "      <td>0.534696</td>\n",
       "      <td>0.530758</td>\n",
       "      <td>0.530206</td>\n",
       "      <td>0.536961</td>\n",
       "      <td>0.538989</td>\n",
       "      <td>0.543086</td>\n",
       "      <td>0.461393</td>\n",
       "      <td>0.546634</td>\n",
       "      <td>...</td>\n",
       "      <td>0.479272</td>\n",
       "      <td>0.490770</td>\n",
       "      <td>0.480933</td>\n",
       "      <td>0.467618</td>\n",
       "      <td>0.477526</td>\n",
       "      <td>0.594907</td>\n",
       "      <td>0.605531</td>\n",
       "      <td>0.596163</td>\n",
       "      <td>0.584328</td>\n",
       "      <td>0.593704</td>\n",
       "    </tr>\n",
       "    <tr>\n",
       "      <th>...</th>\n",
       "      <td>...</td>\n",
       "      <td>...</td>\n",
       "      <td>...</td>\n",
       "      <td>...</td>\n",
       "      <td>...</td>\n",
       "      <td>...</td>\n",
       "      <td>...</td>\n",
       "      <td>...</td>\n",
       "      <td>...</td>\n",
       "      <td>...</td>\n",
       "      <td>...</td>\n",
       "      <td>...</td>\n",
       "      <td>...</td>\n",
       "      <td>...</td>\n",
       "      <td>...</td>\n",
       "      <td>...</td>\n",
       "      <td>...</td>\n",
       "      <td>...</td>\n",
       "      <td>...</td>\n",
       "      <td>...</td>\n",
       "      <td>...</td>\n",
       "    </tr>\n",
       "    <tr>\n",
       "      <th>426</th>\n",
       "      <td>SUJETO9_TRISTEZA_segmentado_frame90.jpg</td>\n",
       "      <td>0.466482</td>\n",
       "      <td>0.471708</td>\n",
       "      <td>0.469852</td>\n",
       "      <td>0.465488</td>\n",
       "      <td>0.473121</td>\n",
       "      <td>0.474592</td>\n",
       "      <td>0.477786</td>\n",
       "      <td>0.395964</td>\n",
       "      <td>0.480180</td>\n",
       "      <td>...</td>\n",
       "      <td>0.414909</td>\n",
       "      <td>0.427527</td>\n",
       "      <td>0.415739</td>\n",
       "      <td>0.402280</td>\n",
       "      <td>0.414082</td>\n",
       "      <td>0.539010</td>\n",
       "      <td>0.550449</td>\n",
       "      <td>0.540197</td>\n",
       "      <td>0.527578</td>\n",
       "      <td>0.537758</td>\n",
       "    </tr>\n",
       "    <tr>\n",
       "      <th>427</th>\n",
       "      <td>SUJETOBASELINE_ENOJO_.jpg</td>\n",
       "      <td>0.561024</td>\n",
       "      <td>0.530492</td>\n",
       "      <td>0.533249</td>\n",
       "      <td>0.518866</td>\n",
       "      <td>0.530152</td>\n",
       "      <td>0.530412</td>\n",
       "      <td>0.532334</td>\n",
       "      <td>0.443150</td>\n",
       "      <td>0.531158</td>\n",
       "      <td>...</td>\n",
       "      <td>0.487858</td>\n",
       "      <td>0.501044</td>\n",
       "      <td>0.487480</td>\n",
       "      <td>0.474189</td>\n",
       "      <td>0.488068</td>\n",
       "      <td>0.620444</td>\n",
       "      <td>0.632968</td>\n",
       "      <td>0.623370</td>\n",
       "      <td>0.607300</td>\n",
       "      <td>0.617171</td>\n",
       "    </tr>\n",
       "    <tr>\n",
       "      <th>428</th>\n",
       "      <td>SUJETOBASELINE_FELICIDAD_.jpg</td>\n",
       "      <td>0.541608</td>\n",
       "      <td>0.544632</td>\n",
       "      <td>0.543088</td>\n",
       "      <td>0.534596</td>\n",
       "      <td>0.545955</td>\n",
       "      <td>0.547600</td>\n",
       "      <td>0.551336</td>\n",
       "      <td>0.433186</td>\n",
       "      <td>0.554227</td>\n",
       "      <td>...</td>\n",
       "      <td>0.461482</td>\n",
       "      <td>0.477428</td>\n",
       "      <td>0.462335</td>\n",
       "      <td>0.445347</td>\n",
       "      <td>0.460594</td>\n",
       "      <td>0.636094</td>\n",
       "      <td>0.653138</td>\n",
       "      <td>0.636881</td>\n",
       "      <td>0.619083</td>\n",
       "      <td>0.635373</td>\n",
       "    </tr>\n",
       "    <tr>\n",
       "      <th>429</th>\n",
       "      <td>SUJETOBASELINE_NEUTRAL_.jpg</td>\n",
       "      <td>0.522203</td>\n",
       "      <td>0.523489</td>\n",
       "      <td>0.522433</td>\n",
       "      <td>0.513654</td>\n",
       "      <td>0.524579</td>\n",
       "      <td>0.526227</td>\n",
       "      <td>0.530402</td>\n",
       "      <td>0.413202</td>\n",
       "      <td>0.532774</td>\n",
       "      <td>...</td>\n",
       "      <td>0.443750</td>\n",
       "      <td>0.459844</td>\n",
       "      <td>0.443672</td>\n",
       "      <td>0.427459</td>\n",
       "      <td>0.443787</td>\n",
       "      <td>0.619942</td>\n",
       "      <td>0.636537</td>\n",
       "      <td>0.621765</td>\n",
       "      <td>0.603456</td>\n",
       "      <td>0.618157</td>\n",
       "    </tr>\n",
       "    <tr>\n",
       "      <th>430</th>\n",
       "      <td>SUJETOBASELINE_TRISTEZA_.jpg</td>\n",
       "      <td>0.547871</td>\n",
       "      <td>0.546659</td>\n",
       "      <td>0.545035</td>\n",
       "      <td>0.536497</td>\n",
       "      <td>0.547820</td>\n",
       "      <td>0.549132</td>\n",
       "      <td>0.551970</td>\n",
       "      <td>0.437622</td>\n",
       "      <td>0.554428</td>\n",
       "      <td>...</td>\n",
       "      <td>0.466052</td>\n",
       "      <td>0.481961</td>\n",
       "      <td>0.466712</td>\n",
       "      <td>0.449942</td>\n",
       "      <td>0.465346</td>\n",
       "      <td>0.633783</td>\n",
       "      <td>0.649414</td>\n",
       "      <td>0.634868</td>\n",
       "      <td>0.618100</td>\n",
       "      <td>0.632687</td>\n",
       "    </tr>\n",
       "  </tbody>\n",
       "</table>\n",
       "<p>431 rows × 477 columns</p>\n",
       "</div>"
      ],
      "text/plain": [
       "                                       Image       K1X       K2X       K3X  \\\n",
       "0       SUJETO10_ENOJO_segmentado_frame0.jpg  0.516717  0.525122  0.522194   \n",
       "1     SUJETO10_ENOJO_segmentado_frame120.jpg  0.522165  0.534889  0.530828   \n",
       "2     SUJETO10_ENOJO_segmentado_frame150.jpg  0.521257  0.532735  0.528710   \n",
       "3     SUJETO10_ENOJO_segmentado_frame180.jpg  0.519951  0.532665  0.528782   \n",
       "4     SUJETO10_ENOJO_segmentado_frame210.jpg  0.522861  0.534696  0.530758   \n",
       "..                                       ...       ...       ...       ...   \n",
       "426  SUJETO9_TRISTEZA_segmentado_frame90.jpg  0.466482  0.471708  0.469852   \n",
       "427                SUJETOBASELINE_ENOJO_.jpg  0.561024  0.530492  0.533249   \n",
       "428            SUJETOBASELINE_FELICIDAD_.jpg  0.541608  0.544632  0.543088   \n",
       "429              SUJETOBASELINE_NEUTRAL_.jpg  0.522203  0.523489  0.522433   \n",
       "430             SUJETOBASELINE_TRISTEZA_.jpg  0.547871  0.546659  0.545035   \n",
       "\n",
       "          K4X       K5X       K6X       K7X       K8X       K9X  ...  \\\n",
       "0    0.520307  0.527029  0.528918  0.533020  0.452462  0.535847  ...   \n",
       "1    0.530545  0.537171  0.539290  0.543733  0.461720  0.547566  ...   \n",
       "2    0.528189  0.534973  0.536958  0.540957  0.460520  0.544457  ...   \n",
       "3    0.527933  0.534852  0.536787  0.540639  0.457588  0.544010  ...   \n",
       "4    0.530206  0.536961  0.538989  0.543086  0.461393  0.546634  ...   \n",
       "..        ...       ...       ...       ...       ...       ...  ...   \n",
       "426  0.465488  0.473121  0.474592  0.477786  0.395964  0.480180  ...   \n",
       "427  0.518866  0.530152  0.530412  0.532334  0.443150  0.531158  ...   \n",
       "428  0.534596  0.545955  0.547600  0.551336  0.433186  0.554227  ...   \n",
       "429  0.513654  0.524579  0.526227  0.530402  0.413202  0.532774  ...   \n",
       "430  0.536497  0.547820  0.549132  0.551970  0.437622  0.554428  ...   \n",
       "\n",
       "        K469X     K470X     K471X     K472X     K473X     K474X     K475X  \\\n",
       "0    0.470921  0.482739  0.472407  0.459043  0.469388  0.586153  0.597166   \n",
       "1    0.481572  0.493419  0.483559  0.469564  0.479480  0.594279  0.605121   \n",
       "2    0.479952  0.491748  0.481892  0.467997  0.477911  0.593558  0.604407   \n",
       "3    0.477036  0.488321  0.478554  0.465583  0.475401  0.592393  0.602347   \n",
       "4    0.479272  0.490770  0.480933  0.467618  0.477526  0.594907  0.605531   \n",
       "..        ...       ...       ...       ...       ...       ...       ...   \n",
       "426  0.414909  0.427527  0.415739  0.402280  0.414082  0.539010  0.550449   \n",
       "427  0.487858  0.501044  0.487480  0.474189  0.488068  0.620444  0.632968   \n",
       "428  0.461482  0.477428  0.462335  0.445347  0.460594  0.636094  0.653138   \n",
       "429  0.443750  0.459844  0.443672  0.427459  0.443787  0.619942  0.636537   \n",
       "430  0.466052  0.481961  0.466712  0.449942  0.465346  0.633783  0.649414   \n",
       "\n",
       "        K476X     K477X     K478X  \n",
       "0    0.587159  0.575269  0.585243  \n",
       "1    0.595619  0.583513  0.593000  \n",
       "2    0.594810  0.582683  0.592320  \n",
       "3    0.593610  0.582534  0.591239  \n",
       "4    0.596163  0.584328  0.593704  \n",
       "..        ...       ...       ...  \n",
       "426  0.540197  0.527578  0.537758  \n",
       "427  0.623370  0.607300  0.617171  \n",
       "428  0.636881  0.619083  0.635373  \n",
       "429  0.621765  0.603456  0.618157  \n",
       "430  0.634868  0.618100  0.632687  \n",
       "\n",
       "[431 rows x 477 columns]"
      ]
     },
     "execution_count": 7,
     "metadata": {},
     "output_type": "execute_result"
    }
   ],
   "source": [
    "# Calcular el valor medio entre 0.4 y 0.5\n",
    "umbral = (0.4 + 0.5) / 2\n",
    "\n",
    "# Filtrar las características con valores mayores al umbral\n",
    "selected_features = df.columns[np.where(X_new > umbral)].tolist()\n",
    "\n",
    "# Mostrar las características seleccionadas\n",
    "print(\"Características seleccionadas con valor mayor a\", umbral, \":\", selected_features)\n",
    "features_df_info_gain = df[[\"Image\"] + selected_features]\n",
    "features_df_info_gain"
   ]
  },
  {
   "cell_type": "markdown",
   "metadata": {},
   "source": [
    "Para facilitar la interpretación de las características más importantes identificadas a través del análisis de ganancia de información, se tomó la decisión de visualizar gráficamente las imágenes correspondientes, anotadas con los puntos clave faciales relevantes. La impresión de estas imágenes proporciona una referencia visual que facilita el entendimiento de las dinámicas faciales que el modelo considera más críticas."
   ]
  },
  {
   "cell_type": "code",
   "execution_count": 5,
   "metadata": {},
   "outputs": [],
   "source": [
    "df = pd.read_csv('./nuevo_flat_landmarks_images_with_label.csv')\n",
    "# Define una función para dibujar keypoints.\n",
    "def draw_keypoints(image, row):\n",
    "    for i in range(1, 469):\n",
    "        # Los keypoints están en las columnas 'K{i}X' y 'K{i}Y'\n",
    "        x = int(row[f'K{i}X'] * image.shape[1])\n",
    "        y = int(row[f'K{i}Y'] * image.shape[0])\n",
    "        cv2.circle(image, (x, y), 8, (240, 255, 100), -1)\n",
    "    return image\n",
    "\n",
    "# Recorre cada fila en el DataFrame.\n",
    "for index, row in df.iterrows():\n",
    "    image_path = './Imagenes/' + row['Image']  # Asegúrate de que la ruta es correcta.\n",
    "    image = cv2.imread(image_path)\n",
    "    \n",
    "    # Verifica si la imagen fue cargada exitosamente.\n",
    "    if image is None:\n",
    "        print(f\"No se pudo cargar la imagen {row['Image']}\")\n",
    "        continue\n",
    "    \n",
    "    # Dibuja los keypoints en la imagen.\n",
    "    image_with_keypoints = draw_keypoints(image, row)\n",
    "    \n",
    "    image_720p = cv2.resize(image_with_keypoints, (640, 480))\n",
    "    # Muestra la imagen con los keypoints.\n",
    "    cv2.imshow('Image with Keypoints', image_720p)\n",
    "    cv2.waitKey(0)  # Espera a que se presione una tecla para continuar con la siguiente imagen.\n",
    "\n",
    "cv2.destroyAllWindows()\n"
   ]
  },
  {
   "cell_type": "markdown",
   "metadata": {},
   "source": [
    "## <span style=\"color:#EBBAF3;\">Modelos a Evaluar</span> "
   ]
  },
  {
   "cell_type": "markdown",
   "metadata": {},
   "source": [
    "Para iniciar la evaluación de las características, se procede definiendo la matriz de características X, excluyendo las columnas que contienen el nombre del video y las etiquetas correspondientes a las emociones observadas. Esto garantiza que el análisis se centre únicamente en las variables numéricas que representan los puntos clave faciales, sin influencia de variables categóricas o identificativas que no contribuyen al proceso de modelado predictivo. "
   ]
  },
  {
   "cell_type": "code",
   "execution_count": 9,
   "metadata": {},
   "outputs": [],
   "source": [
    "X= features_df_info_gain.iloc[:, 1:-1]"
   ]
  },
  {
   "cell_type": "markdown",
   "metadata": {},
   "source": [
    "Posteriormente, se realiza la impresión de la matriz X para ofrecer una vista preliminar de los datos que están siendo considerados para el análisis."
   ]
  },
  {
   "cell_type": "code",
   "execution_count": 10,
   "metadata": {},
   "outputs": [
    {
     "data": {
      "text/html": [
       "<div>\n",
       "<style scoped>\n",
       "    .dataframe tbody tr th:only-of-type {\n",
       "        vertical-align: middle;\n",
       "    }\n",
       "\n",
       "    .dataframe tbody tr th {\n",
       "        vertical-align: top;\n",
       "    }\n",
       "\n",
       "    .dataframe thead th {\n",
       "        text-align: right;\n",
       "    }\n",
       "</style>\n",
       "<table border=\"1\" class=\"dataframe\">\n",
       "  <thead>\n",
       "    <tr style=\"text-align: right;\">\n",
       "      <th></th>\n",
       "      <th>K1X</th>\n",
       "      <th>K2X</th>\n",
       "      <th>K3X</th>\n",
       "      <th>K4X</th>\n",
       "      <th>K5X</th>\n",
       "      <th>K6X</th>\n",
       "      <th>K7X</th>\n",
       "      <th>K8X</th>\n",
       "      <th>K9X</th>\n",
       "      <th>K10X</th>\n",
       "      <th>...</th>\n",
       "      <th>K468X</th>\n",
       "      <th>K469X</th>\n",
       "      <th>K470X</th>\n",
       "      <th>K471X</th>\n",
       "      <th>K472X</th>\n",
       "      <th>K473X</th>\n",
       "      <th>K474X</th>\n",
       "      <th>K475X</th>\n",
       "      <th>K476X</th>\n",
       "      <th>K477X</th>\n",
       "    </tr>\n",
       "  </thead>\n",
       "  <tbody>\n",
       "    <tr>\n",
       "      <th>0</th>\n",
       "      <td>0.516717</td>\n",
       "      <td>0.525122</td>\n",
       "      <td>0.522194</td>\n",
       "      <td>0.520307</td>\n",
       "      <td>0.527029</td>\n",
       "      <td>0.528918</td>\n",
       "      <td>0.533020</td>\n",
       "      <td>0.452462</td>\n",
       "      <td>0.535847</td>\n",
       "      <td>0.538001</td>\n",
       "      <td>...</td>\n",
       "      <td>0.616480</td>\n",
       "      <td>0.470921</td>\n",
       "      <td>0.482739</td>\n",
       "      <td>0.472407</td>\n",
       "      <td>0.459043</td>\n",
       "      <td>0.469388</td>\n",
       "      <td>0.586153</td>\n",
       "      <td>0.597166</td>\n",
       "      <td>0.587159</td>\n",
       "      <td>0.575269</td>\n",
       "    </tr>\n",
       "    <tr>\n",
       "      <th>1</th>\n",
       "      <td>0.522165</td>\n",
       "      <td>0.534889</td>\n",
       "      <td>0.530828</td>\n",
       "      <td>0.530545</td>\n",
       "      <td>0.537171</td>\n",
       "      <td>0.539290</td>\n",
       "      <td>0.543733</td>\n",
       "      <td>0.461720</td>\n",
       "      <td>0.547566</td>\n",
       "      <td>0.550350</td>\n",
       "      <td>...</td>\n",
       "      <td>0.623925</td>\n",
       "      <td>0.481572</td>\n",
       "      <td>0.493419</td>\n",
       "      <td>0.483559</td>\n",
       "      <td>0.469564</td>\n",
       "      <td>0.479480</td>\n",
       "      <td>0.594279</td>\n",
       "      <td>0.605121</td>\n",
       "      <td>0.595619</td>\n",
       "      <td>0.583513</td>\n",
       "    </tr>\n",
       "    <tr>\n",
       "      <th>2</th>\n",
       "      <td>0.521257</td>\n",
       "      <td>0.532735</td>\n",
       "      <td>0.528710</td>\n",
       "      <td>0.528189</td>\n",
       "      <td>0.534973</td>\n",
       "      <td>0.536958</td>\n",
       "      <td>0.540957</td>\n",
       "      <td>0.460520</td>\n",
       "      <td>0.544457</td>\n",
       "      <td>0.547091</td>\n",
       "      <td>...</td>\n",
       "      <td>0.622753</td>\n",
       "      <td>0.479952</td>\n",
       "      <td>0.491748</td>\n",
       "      <td>0.481892</td>\n",
       "      <td>0.467997</td>\n",
       "      <td>0.477911</td>\n",
       "      <td>0.593558</td>\n",
       "      <td>0.604407</td>\n",
       "      <td>0.594810</td>\n",
       "      <td>0.582683</td>\n",
       "    </tr>\n",
       "    <tr>\n",
       "      <th>3</th>\n",
       "      <td>0.519951</td>\n",
       "      <td>0.532665</td>\n",
       "      <td>0.528782</td>\n",
       "      <td>0.527933</td>\n",
       "      <td>0.534852</td>\n",
       "      <td>0.536787</td>\n",
       "      <td>0.540639</td>\n",
       "      <td>0.457588</td>\n",
       "      <td>0.544010</td>\n",
       "      <td>0.546568</td>\n",
       "      <td>...</td>\n",
       "      <td>0.623212</td>\n",
       "      <td>0.477036</td>\n",
       "      <td>0.488321</td>\n",
       "      <td>0.478554</td>\n",
       "      <td>0.465583</td>\n",
       "      <td>0.475401</td>\n",
       "      <td>0.592393</td>\n",
       "      <td>0.602347</td>\n",
       "      <td>0.593610</td>\n",
       "      <td>0.582534</td>\n",
       "    </tr>\n",
       "    <tr>\n",
       "      <th>4</th>\n",
       "      <td>0.522861</td>\n",
       "      <td>0.534696</td>\n",
       "      <td>0.530758</td>\n",
       "      <td>0.530206</td>\n",
       "      <td>0.536961</td>\n",
       "      <td>0.538989</td>\n",
       "      <td>0.543086</td>\n",
       "      <td>0.461393</td>\n",
       "      <td>0.546634</td>\n",
       "      <td>0.549291</td>\n",
       "      <td>...</td>\n",
       "      <td>0.625705</td>\n",
       "      <td>0.479272</td>\n",
       "      <td>0.490770</td>\n",
       "      <td>0.480933</td>\n",
       "      <td>0.467618</td>\n",
       "      <td>0.477526</td>\n",
       "      <td>0.594907</td>\n",
       "      <td>0.605531</td>\n",
       "      <td>0.596163</td>\n",
       "      <td>0.584328</td>\n",
       "    </tr>\n",
       "    <tr>\n",
       "      <th>...</th>\n",
       "      <td>...</td>\n",
       "      <td>...</td>\n",
       "      <td>...</td>\n",
       "      <td>...</td>\n",
       "      <td>...</td>\n",
       "      <td>...</td>\n",
       "      <td>...</td>\n",
       "      <td>...</td>\n",
       "      <td>...</td>\n",
       "      <td>...</td>\n",
       "      <td>...</td>\n",
       "      <td>...</td>\n",
       "      <td>...</td>\n",
       "      <td>...</td>\n",
       "      <td>...</td>\n",
       "      <td>...</td>\n",
       "      <td>...</td>\n",
       "      <td>...</td>\n",
       "      <td>...</td>\n",
       "      <td>...</td>\n",
       "      <td>...</td>\n",
       "    </tr>\n",
       "    <tr>\n",
       "      <th>426</th>\n",
       "      <td>0.466482</td>\n",
       "      <td>0.471708</td>\n",
       "      <td>0.469852</td>\n",
       "      <td>0.465488</td>\n",
       "      <td>0.473121</td>\n",
       "      <td>0.474592</td>\n",
       "      <td>0.477786</td>\n",
       "      <td>0.395964</td>\n",
       "      <td>0.480180</td>\n",
       "      <td>0.481841</td>\n",
       "      <td>...</td>\n",
       "      <td>0.567972</td>\n",
       "      <td>0.414909</td>\n",
       "      <td>0.427527</td>\n",
       "      <td>0.415739</td>\n",
       "      <td>0.402280</td>\n",
       "      <td>0.414082</td>\n",
       "      <td>0.539010</td>\n",
       "      <td>0.550449</td>\n",
       "      <td>0.540197</td>\n",
       "      <td>0.527578</td>\n",
       "    </tr>\n",
       "    <tr>\n",
       "      <th>427</th>\n",
       "      <td>0.561024</td>\n",
       "      <td>0.530492</td>\n",
       "      <td>0.533249</td>\n",
       "      <td>0.518866</td>\n",
       "      <td>0.530152</td>\n",
       "      <td>0.530412</td>\n",
       "      <td>0.532334</td>\n",
       "      <td>0.443150</td>\n",
       "      <td>0.531158</td>\n",
       "      <td>0.530427</td>\n",
       "      <td>...</td>\n",
       "      <td>0.658335</td>\n",
       "      <td>0.487858</td>\n",
       "      <td>0.501044</td>\n",
       "      <td>0.487480</td>\n",
       "      <td>0.474189</td>\n",
       "      <td>0.488068</td>\n",
       "      <td>0.620444</td>\n",
       "      <td>0.632968</td>\n",
       "      <td>0.623370</td>\n",
       "      <td>0.607300</td>\n",
       "    </tr>\n",
       "    <tr>\n",
       "      <th>428</th>\n",
       "      <td>0.541608</td>\n",
       "      <td>0.544632</td>\n",
       "      <td>0.543088</td>\n",
       "      <td>0.534596</td>\n",
       "      <td>0.545955</td>\n",
       "      <td>0.547600</td>\n",
       "      <td>0.551336</td>\n",
       "      <td>0.433186</td>\n",
       "      <td>0.554227</td>\n",
       "      <td>0.555783</td>\n",
       "      <td>...</td>\n",
       "      <td>0.680875</td>\n",
       "      <td>0.461482</td>\n",
       "      <td>0.477428</td>\n",
       "      <td>0.462335</td>\n",
       "      <td>0.445347</td>\n",
       "      <td>0.460594</td>\n",
       "      <td>0.636094</td>\n",
       "      <td>0.653138</td>\n",
       "      <td>0.636881</td>\n",
       "      <td>0.619083</td>\n",
       "    </tr>\n",
       "    <tr>\n",
       "      <th>429</th>\n",
       "      <td>0.522203</td>\n",
       "      <td>0.523489</td>\n",
       "      <td>0.522433</td>\n",
       "      <td>0.513654</td>\n",
       "      <td>0.524579</td>\n",
       "      <td>0.526227</td>\n",
       "      <td>0.530402</td>\n",
       "      <td>0.413202</td>\n",
       "      <td>0.532774</td>\n",
       "      <td>0.534236</td>\n",
       "      <td>...</td>\n",
       "      <td>0.663445</td>\n",
       "      <td>0.443750</td>\n",
       "      <td>0.459844</td>\n",
       "      <td>0.443672</td>\n",
       "      <td>0.427459</td>\n",
       "      <td>0.443787</td>\n",
       "      <td>0.619942</td>\n",
       "      <td>0.636537</td>\n",
       "      <td>0.621765</td>\n",
       "      <td>0.603456</td>\n",
       "    </tr>\n",
       "    <tr>\n",
       "      <th>430</th>\n",
       "      <td>0.547871</td>\n",
       "      <td>0.546659</td>\n",
       "      <td>0.545035</td>\n",
       "      <td>0.536497</td>\n",
       "      <td>0.547820</td>\n",
       "      <td>0.549132</td>\n",
       "      <td>0.551970</td>\n",
       "      <td>0.437622</td>\n",
       "      <td>0.554428</td>\n",
       "      <td>0.555965</td>\n",
       "      <td>...</td>\n",
       "      <td>0.674301</td>\n",
       "      <td>0.466052</td>\n",
       "      <td>0.481961</td>\n",
       "      <td>0.466712</td>\n",
       "      <td>0.449942</td>\n",
       "      <td>0.465346</td>\n",
       "      <td>0.633783</td>\n",
       "      <td>0.649414</td>\n",
       "      <td>0.634868</td>\n",
       "      <td>0.618100</td>\n",
       "    </tr>\n",
       "  </tbody>\n",
       "</table>\n",
       "<p>431 rows × 475 columns</p>\n",
       "</div>"
      ],
      "text/plain": [
       "          K1X       K2X       K3X       K4X       K5X       K6X       K7X  \\\n",
       "0    0.516717  0.525122  0.522194  0.520307  0.527029  0.528918  0.533020   \n",
       "1    0.522165  0.534889  0.530828  0.530545  0.537171  0.539290  0.543733   \n",
       "2    0.521257  0.532735  0.528710  0.528189  0.534973  0.536958  0.540957   \n",
       "3    0.519951  0.532665  0.528782  0.527933  0.534852  0.536787  0.540639   \n",
       "4    0.522861  0.534696  0.530758  0.530206  0.536961  0.538989  0.543086   \n",
       "..        ...       ...       ...       ...       ...       ...       ...   \n",
       "426  0.466482  0.471708  0.469852  0.465488  0.473121  0.474592  0.477786   \n",
       "427  0.561024  0.530492  0.533249  0.518866  0.530152  0.530412  0.532334   \n",
       "428  0.541608  0.544632  0.543088  0.534596  0.545955  0.547600  0.551336   \n",
       "429  0.522203  0.523489  0.522433  0.513654  0.524579  0.526227  0.530402   \n",
       "430  0.547871  0.546659  0.545035  0.536497  0.547820  0.549132  0.551970   \n",
       "\n",
       "          K8X       K9X      K10X  ...     K468X     K469X     K470X  \\\n",
       "0    0.452462  0.535847  0.538001  ...  0.616480  0.470921  0.482739   \n",
       "1    0.461720  0.547566  0.550350  ...  0.623925  0.481572  0.493419   \n",
       "2    0.460520  0.544457  0.547091  ...  0.622753  0.479952  0.491748   \n",
       "3    0.457588  0.544010  0.546568  ...  0.623212  0.477036  0.488321   \n",
       "4    0.461393  0.546634  0.549291  ...  0.625705  0.479272  0.490770   \n",
       "..        ...       ...       ...  ...       ...       ...       ...   \n",
       "426  0.395964  0.480180  0.481841  ...  0.567972  0.414909  0.427527   \n",
       "427  0.443150  0.531158  0.530427  ...  0.658335  0.487858  0.501044   \n",
       "428  0.433186  0.554227  0.555783  ...  0.680875  0.461482  0.477428   \n",
       "429  0.413202  0.532774  0.534236  ...  0.663445  0.443750  0.459844   \n",
       "430  0.437622  0.554428  0.555965  ...  0.674301  0.466052  0.481961   \n",
       "\n",
       "        K471X     K472X     K473X     K474X     K475X     K476X     K477X  \n",
       "0    0.472407  0.459043  0.469388  0.586153  0.597166  0.587159  0.575269  \n",
       "1    0.483559  0.469564  0.479480  0.594279  0.605121  0.595619  0.583513  \n",
       "2    0.481892  0.467997  0.477911  0.593558  0.604407  0.594810  0.582683  \n",
       "3    0.478554  0.465583  0.475401  0.592393  0.602347  0.593610  0.582534  \n",
       "4    0.480933  0.467618  0.477526  0.594907  0.605531  0.596163  0.584328  \n",
       "..        ...       ...       ...       ...       ...       ...       ...  \n",
       "426  0.415739  0.402280  0.414082  0.539010  0.550449  0.540197  0.527578  \n",
       "427  0.487480  0.474189  0.488068  0.620444  0.632968  0.623370  0.607300  \n",
       "428  0.462335  0.445347  0.460594  0.636094  0.653138  0.636881  0.619083  \n",
       "429  0.443672  0.427459  0.443787  0.619942  0.636537  0.621765  0.603456  \n",
       "430  0.466712  0.449942  0.465346  0.633783  0.649414  0.634868  0.618100  \n",
       "\n",
       "[431 rows x 475 columns]"
      ]
     },
     "execution_count": 10,
     "metadata": {},
     "output_type": "execute_result"
    }
   ],
   "source": [
    "X"
   ]
  },
  {
   "cell_type": "markdown",
   "metadata": {},
   "source": [
    "Antes de proceder ingresar las características al modelo de evaluación, es importante codificar las etiquetas de las clases en un formato adecuado para el análisis. Esto implica la transformación de las etiquetas categóricas en una serie de valores numéricos discretos, que oscilan entre 0 y el número total de clases menos uno. Esta codificación se realiza para garantizar la compatibilidad con los algoritmos de aprendizaje automático, que requieren entradas numéricas para realizar cálculos efectivos."
   ]
  },
  {
   "cell_type": "code",
   "execution_count": 11,
   "metadata": {},
   "outputs": [
    {
     "data": {
      "text/plain": [
       "array([0, 0, 0, 0, 0, 0, 0, 0, 0, 0, 0, 1, 1, 1, 1, 1, 1, 1, 1, 1, 1, 2,\n",
       "       2, 2, 2, 2, 2, 2, 2, 2, 2, 3, 3, 3, 3, 3, 3, 3, 3, 3, 0, 0, 0, 0,\n",
       "       0, 0, 0, 0, 0, 0, 0, 1, 1, 1, 1, 1, 1, 1, 2, 2, 2, 2, 2, 2, 2, 2,\n",
       "       2, 2, 3, 3, 3, 3, 3, 3, 3, 3, 3, 3, 0, 0, 0, 0, 0, 0, 0, 0, 0, 0,\n",
       "       1, 1, 1, 1, 1, 1, 1, 1, 1, 1, 2, 2, 2, 2, 2, 2, 2, 2, 2, 2, 3, 3,\n",
       "       3, 3, 3, 3, 3, 3, 3, 3, 0, 0, 0, 0, 0, 0, 0, 0, 0, 0, 1, 1, 1, 1,\n",
       "       1, 1, 1, 2, 2, 2, 2, 2, 2, 2, 2, 2, 2, 3, 3, 3, 3, 3, 3, 3, 3, 3,\n",
       "       3, 0, 0, 0, 0, 0, 0, 0, 0, 0, 0, 1, 1, 1, 1, 1, 1, 1, 1, 1, 2, 2,\n",
       "       2, 2, 2, 2, 2, 2, 2, 2, 3, 3, 3, 3, 3, 3, 3, 3, 3, 3, 0, 0, 0, 0,\n",
       "       0, 0, 0, 0, 0, 0, 1, 1, 1, 1, 1, 1, 1, 1, 1, 2, 2, 2, 2, 2, 2, 2,\n",
       "       2, 2, 2, 3, 3, 3, 3, 3, 3, 3, 3, 3, 3, 0, 0, 0, 0, 0, 0, 0, 0, 0,\n",
       "       0, 1, 1, 1, 1, 1, 1, 1, 1, 1, 2, 2, 2, 2, 2, 2, 2, 2, 2, 2, 3, 3,\n",
       "       3, 3, 3, 3, 3, 3, 3, 3, 0, 0, 0, 0, 0, 0, 0, 0, 0, 0, 0, 1, 1, 1,\n",
       "       1, 1, 1, 1, 1, 1, 1, 2, 2, 2, 2, 2, 2, 2, 2, 2, 2, 3, 3, 3, 3, 3,\n",
       "       3, 3, 3, 3, 0, 0, 0, 0, 0, 0, 0, 0, 0, 0, 0, 0, 1, 1, 1, 1, 1, 1,\n",
       "       1, 1, 1, 1, 2, 2, 2, 2, 2, 2, 2, 2, 2, 2, 3, 3, 3, 3, 3, 0, 0, 0,\n",
       "       0, 0, 0, 0, 0, 0, 0, 0, 1, 1, 1, 1, 1, 2, 2, 2, 2, 2, 2, 2, 2, 2,\n",
       "       2, 3, 3, 3, 3, 3, 3, 3, 3, 3, 3, 0, 0, 0, 0, 0, 0, 0, 0, 0, 0, 0,\n",
       "       0, 1, 1, 1, 1, 1, 1, 1, 1, 1, 1, 2, 2, 2, 2, 2, 2, 2, 2, 2, 2, 3,\n",
       "       3, 3, 3, 3, 3, 3, 3, 3, 3, 0, 1, 2, 3])"
      ]
     },
     "execution_count": 11,
     "metadata": {},
     "output_type": "execute_result"
    }
   ],
   "source": [
    "encoder = LabelEncoder()\n",
    "y_encode = encoder.fit_transform(Y)\n",
    "y_encode"
   ]
  },
  {
   "cell_type": "markdown",
   "metadata": {},
   "source": [
    "Para determinar el clasificador más adecuado para el modelo final de evaluación, se optó por la implementación y comparación de cinco clasificadores distintos, los cuales son los siguientes:"
   ]
  },
  {
   "cell_type": "code",
   "execution_count": 12,
   "metadata": {},
   "outputs": [],
   "source": [
    "names = [\n",
    "    \"Nearest Neighbors\",\n",
    "    \"Naive Bayes\",\n",
    "    \"AdaBoost\",\n",
    "    \"Gradient Boosting\",\n",
    "    \"Random Forest\"\n",
    "]\n",
    "modelos = [\n",
    "    KNeighborsClassifier(n_neighbors=6),\n",
    "    GaussianNB(),\n",
    "    AdaBoostClassifier(),\n",
    "    GradientBoostingClassifier(n_estimators=100, learning_rate=1.0, max_depth=1, random_state=42),\n",
    "    RandomForestClassifier(n_estimators=100, random_state=24)\n",
    "]"
   ]
  },
  {
   "cell_type": "markdown",
   "metadata": {},
   "source": [
    "Para asegurar una evaluación rigurosa y objetiva de la efectividad de los clasificadores seleccionados, se implementó un procedimiento de validación cruzada."
   ]
  },
  {
   "cell_type": "code",
   "execution_count": 13,
   "metadata": {},
   "outputs": [],
   "source": [
    "def validacion_cruzada(model, X, y):\n",
    "    kfold = KFold(n_splits=5, shuffle=True, random_state=42)\n",
    "\n",
    "    precision_scores = []\n",
    "    recall_scores = []\n",
    "    f1_scores = []\n",
    "    accuracies = []\n",
    "\n",
    "    for train_index, test_index in kfold.split(X):\n",
    "        X_train, X_test = X.iloc[train_index], X.iloc[test_index]\n",
    "        y_train, y_test = y[train_index], y[test_index]\n",
    "\n",
    "        model.fit(X_train, y_train)\n",
    "\n",
    "        X_test_np = X_test.values\n",
    "        y_pred = model.predict(X_test_np)\n",
    "\n",
    "        precision = precision_score(y_test, y_pred, average='weighted')\n",
    "        precision_scores.append(precision)\n",
    "\n",
    "        recall = recall_score(y_test, y_pred, average='weighted')\n",
    "        recall_scores.append(recall)\n",
    "\n",
    "        f1 = f1_score(y_test, y_pred, average='weighted')\n",
    "        f1_scores.append(f1)\n",
    "\n",
    "        accuracy = model.score(X_test, y_test)\n",
    "        accuracies.append(accuracy)\n",
    "\n",
    "    return np.mean(precision_scores), np.mean(recall_scores), np.mean(f1_scores), np.mean(accuracies)\n",
    "\n",
    "resultados = []\n",
    "\n",
    "for nombre, modelo in zip(names, modelos):\n",
    "    precision, recall, f1, accuracy = validacion_cruzada(model=modelo, X=X, y=y_encode)\n",
    "    resultados.append({\"nombre\": nombre, \"precision\": precision, \"recall\": recall, \"f1_score\": f1, \"accuracy\": accuracy})\n",
    "\n",
    "df_resultados = pd.DataFrame(resultados)"
   ]
  },
  {
   "cell_type": "markdown",
   "metadata": {},
   "source": [
    "Tras la aplicación de los clasificadores y la subsiguiente implementación de la validación cruzada, se procedió a la compilación y presentación de los resultados obtenidos para cada modelo. La evaluación reveló que el modelo Gradient Boosting exhibió el desempeño más destacado, superando a los demás clasificadores, incluido el Random Forest, que mostró resultados competitivos y fue el segundo mejor en términos de efectividad. \n",
    "Dada su rendimiento y la eficacia demostrada en la clasificación precisa de las respuestas emocionales basadas en las características faciales, se tomó la decisión de adoptar el modelo Gradient Boosting como el evaluador principal en el contexto de este estudio."
   ]
  },
  {
   "cell_type": "code",
   "execution_count": 14,
   "metadata": {},
   "outputs": [
    {
     "data": {
      "text/html": [
       "<div>\n",
       "<style scoped>\n",
       "    .dataframe tbody tr th:only-of-type {\n",
       "        vertical-align: middle;\n",
       "    }\n",
       "\n",
       "    .dataframe tbody tr th {\n",
       "        vertical-align: top;\n",
       "    }\n",
       "\n",
       "    .dataframe thead th {\n",
       "        text-align: right;\n",
       "    }\n",
       "</style>\n",
       "<table border=\"1\" class=\"dataframe\">\n",
       "  <thead>\n",
       "    <tr style=\"text-align: right;\">\n",
       "      <th></th>\n",
       "      <th>nombre</th>\n",
       "      <th>precision</th>\n",
       "      <th>recall</th>\n",
       "      <th>f1_score</th>\n",
       "      <th>accuracy</th>\n",
       "    </tr>\n",
       "  </thead>\n",
       "  <tbody>\n",
       "    <tr>\n",
       "      <th>0</th>\n",
       "      <td>Nearest Neighbors</td>\n",
       "      <td>0.801170</td>\n",
       "      <td>0.779685</td>\n",
       "      <td>0.778973</td>\n",
       "      <td>0.779685</td>\n",
       "    </tr>\n",
       "    <tr>\n",
       "      <th>1</th>\n",
       "      <td>Naive Bayes</td>\n",
       "      <td>0.225733</td>\n",
       "      <td>0.290083</td>\n",
       "      <td>0.219993</td>\n",
       "      <td>0.290083</td>\n",
       "    </tr>\n",
       "    <tr>\n",
       "      <th>2</th>\n",
       "      <td>AdaBoost</td>\n",
       "      <td>0.577681</td>\n",
       "      <td>0.521946</td>\n",
       "      <td>0.520565</td>\n",
       "      <td>0.521946</td>\n",
       "    </tr>\n",
       "    <tr>\n",
       "      <th>3</th>\n",
       "      <td>Gradient Boosting</td>\n",
       "      <td>0.858363</td>\n",
       "      <td>0.849051</td>\n",
       "      <td>0.849374</td>\n",
       "      <td>0.849051</td>\n",
       "    </tr>\n",
       "    <tr>\n",
       "      <th>4</th>\n",
       "      <td>Random Forest</td>\n",
       "      <td>0.855128</td>\n",
       "      <td>0.846913</td>\n",
       "      <td>0.847480</td>\n",
       "      <td>0.846913</td>\n",
       "    </tr>\n",
       "  </tbody>\n",
       "</table>\n",
       "</div>"
      ],
      "text/plain": [
       "              nombre  precision    recall  f1_score  accuracy\n",
       "0  Nearest Neighbors   0.801170  0.779685  0.778973  0.779685\n",
       "1        Naive Bayes   0.225733  0.290083  0.219993  0.290083\n",
       "2           AdaBoost   0.577681  0.521946  0.520565  0.521946\n",
       "3  Gradient Boosting   0.858363  0.849051  0.849374  0.849051\n",
       "4      Random Forest   0.855128  0.846913  0.847480  0.846913"
      ]
     },
     "execution_count": 14,
     "metadata": {},
     "output_type": "execute_result"
    }
   ],
   "source": [
    "df_resultados"
   ]
  },
  {
   "cell_type": "markdown",
   "metadata": {},
   "source": [
    "## <span style=\"color:#EBBAF3;\">Seleccionando el Mejor Modelo </span> "
   ]
  },
  {
   "cell_type": "markdown",
   "metadata": {},
   "source": [
    "Tras la selección del modelo Gradient Boosting como el clasificador óptimo para este estudio, se procede a la fase de entrenamiento y prueba del modelo utilizando el conjunto de datos segregado. "
   ]
  },
  {
   "cell_type": "code",
   "execution_count": 15,
   "metadata": {},
   "outputs": [
    {
     "data": {
      "text/html": [
       "<style>#sk-container-id-1 {color: black;}#sk-container-id-1 pre{padding: 0;}#sk-container-id-1 div.sk-toggleable {background-color: white;}#sk-container-id-1 label.sk-toggleable__label {cursor: pointer;display: block;width: 100%;margin-bottom: 0;padding: 0.3em;box-sizing: border-box;text-align: center;}#sk-container-id-1 label.sk-toggleable__label-arrow:before {content: \"▸\";float: left;margin-right: 0.25em;color: #696969;}#sk-container-id-1 label.sk-toggleable__label-arrow:hover:before {color: black;}#sk-container-id-1 div.sk-estimator:hover label.sk-toggleable__label-arrow:before {color: black;}#sk-container-id-1 div.sk-toggleable__content {max-height: 0;max-width: 0;overflow: hidden;text-align: left;background-color: #f0f8ff;}#sk-container-id-1 div.sk-toggleable__content pre {margin: 0.2em;color: black;border-radius: 0.25em;background-color: #f0f8ff;}#sk-container-id-1 input.sk-toggleable__control:checked~div.sk-toggleable__content {max-height: 200px;max-width: 100%;overflow: auto;}#sk-container-id-1 input.sk-toggleable__control:checked~label.sk-toggleable__label-arrow:before {content: \"▾\";}#sk-container-id-1 div.sk-estimator input.sk-toggleable__control:checked~label.sk-toggleable__label {background-color: #d4ebff;}#sk-container-id-1 div.sk-label input.sk-toggleable__control:checked~label.sk-toggleable__label {background-color: #d4ebff;}#sk-container-id-1 input.sk-hidden--visually {border: 0;clip: rect(1px 1px 1px 1px);clip: rect(1px, 1px, 1px, 1px);height: 1px;margin: -1px;overflow: hidden;padding: 0;position: absolute;width: 1px;}#sk-container-id-1 div.sk-estimator {font-family: monospace;background-color: #f0f8ff;border: 1px dotted black;border-radius: 0.25em;box-sizing: border-box;margin-bottom: 0.5em;}#sk-container-id-1 div.sk-estimator:hover {background-color: #d4ebff;}#sk-container-id-1 div.sk-parallel-item::after {content: \"\";width: 100%;border-bottom: 1px solid gray;flex-grow: 1;}#sk-container-id-1 div.sk-label:hover label.sk-toggleable__label {background-color: #d4ebff;}#sk-container-id-1 div.sk-serial::before {content: \"\";position: absolute;border-left: 1px solid gray;box-sizing: border-box;top: 0;bottom: 0;left: 50%;z-index: 0;}#sk-container-id-1 div.sk-serial {display: flex;flex-direction: column;align-items: center;background-color: white;padding-right: 0.2em;padding-left: 0.2em;position: relative;}#sk-container-id-1 div.sk-item {position: relative;z-index: 1;}#sk-container-id-1 div.sk-parallel {display: flex;align-items: stretch;justify-content: center;background-color: white;position: relative;}#sk-container-id-1 div.sk-item::before, #sk-container-id-1 div.sk-parallel-item::before {content: \"\";position: absolute;border-left: 1px solid gray;box-sizing: border-box;top: 0;bottom: 0;left: 50%;z-index: -1;}#sk-container-id-1 div.sk-parallel-item {display: flex;flex-direction: column;z-index: 1;position: relative;background-color: white;}#sk-container-id-1 div.sk-parallel-item:first-child::after {align-self: flex-end;width: 50%;}#sk-container-id-1 div.sk-parallel-item:last-child::after {align-self: flex-start;width: 50%;}#sk-container-id-1 div.sk-parallel-item:only-child::after {width: 0;}#sk-container-id-1 div.sk-dashed-wrapped {border: 1px dashed gray;margin: 0 0.4em 0.5em 0.4em;box-sizing: border-box;padding-bottom: 0.4em;background-color: white;}#sk-container-id-1 div.sk-label label {font-family: monospace;font-weight: bold;display: inline-block;line-height: 1.2em;}#sk-container-id-1 div.sk-label-container {text-align: center;}#sk-container-id-1 div.sk-container {/* jupyter's `normalize.less` sets `[hidden] { display: none; }` but bootstrap.min.css set `[hidden] { display: none !important; }` so we also need the `!important` here to be able to override the default hidden behavior on the sphinx rendered scikit-learn.org. See: https://github.com/scikit-learn/scikit-learn/issues/21755 */display: inline-block !important;position: relative;}#sk-container-id-1 div.sk-text-repr-fallback {display: none;}</style><div id=\"sk-container-id-1\" class=\"sk-top-container\"><div class=\"sk-text-repr-fallback\"><pre>GradientBoostingClassifier(learning_rate=1.0, max_depth=1, random_state=42)</pre><b>In a Jupyter environment, please rerun this cell to show the HTML representation or trust the notebook. <br />On GitHub, the HTML representation is unable to render, please try loading this page with nbviewer.org.</b></div><div class=\"sk-container\" hidden><div class=\"sk-item\"><div class=\"sk-estimator sk-toggleable\"><input class=\"sk-toggleable__control sk-hidden--visually\" id=\"sk-estimator-id-1\" type=\"checkbox\" checked><label for=\"sk-estimator-id-1\" class=\"sk-toggleable__label sk-toggleable__label-arrow\">GradientBoostingClassifier</label><div class=\"sk-toggleable__content\"><pre>GradientBoostingClassifier(learning_rate=1.0, max_depth=1, random_state=42)</pre></div></div></div></div></div>"
      ],
      "text/plain": [
       "GradientBoostingClassifier(learning_rate=1.0, max_depth=1, random_state=42)"
      ]
     },
     "execution_count": 15,
     "metadata": {},
     "output_type": "execute_result"
    }
   ],
   "source": [
    "X_train, X_test, y_train, y_test = train_test_split(X, y_encode, test_size=0.2, random_state=42)\n",
    "model = GradientBoostingClassifier(n_estimators=100, learning_rate=1.0, max_depth=1, random_state=42)\n",
    "model.fit(X_train, y_train)"
   ]
  },
  {
   "cell_type": "markdown",
   "metadata": {},
   "source": [
    "Una vez completada la división de los datos en conjuntos de entrenamiento y prueba, se procede a la evaluación cuantitativa del rendimiento del modelo. Para ello, se calculan métricas clave que incluyen el F1 score, la sensibilidad (recall), la exactitud (accuracy) y la especificidad. \n",
    "Adicionalmente, se presenta la matriz de confusión, la cual no solo permite corroborar las métricas calculadas, sino también entender mejor cómo el modelo se comporta en la clasificación de diferentes categorías, y en qué áreas podría estar confundiendo una clase con otra."
   ]
  },
  {
   "cell_type": "code",
   "execution_count": 16,
   "metadata": {},
   "outputs": [
    {
     "data": {
      "image/png": "[encoded data removed]",
      "text/plain": [
       "<Figure size 800x600 with 1 Axes>"
      ]
     },
     "metadata": {},
     "output_type": "display_data"
    },
    {
     "name": "stdout",
     "output_type": "stream",
     "text": [
      "F1 Score: 0.9085291284828998\n",
      "Sensibilidad (Recall): 0.9080459770114943\n",
      "Especificidad por clase: [1.0, 0.96875, 0.9855072463768116, 0.921875]\n",
      "Exactitud: 0.9080459770114943\n"
     ]
    }
   ],
   "source": [
    "# Obtener predicciones del modelo\n",
    "y_pred = model.predict(X_test)\n",
    "\n",
    "# Calcular la matriz de confusión multiclase\n",
    "conf_matrix = confusion_matrix(y_test, y_pred)\n",
    "\n",
    "# Calcular métricas adicionales\n",
    "f1 = f1_score(y_test, y_pred, average='weighted')\n",
    "sensibilidad = recall_score(y_test, y_pred, average='weighted')\n",
    "exactitud = accuracy_score(y_test, y_pred)\n",
    "\n",
    "# Calcular especificidad para cada clase\n",
    "especificidad = []\n",
    "for i in range(len(conf_matrix)):\n",
    "    true_negative = np.sum(np.delete(np.delete(conf_matrix, i, 0), i, 1))\n",
    "    total_negative = np.sum(np.delete(conf_matrix, i, 0))\n",
    "    especificidad.append(true_negative / total_negative)\n",
    "\n",
    "# Visualizar la matriz de confusión con un mapa de calor\n",
    "plt.figure(figsize=(8, 6))\n",
    "sns.heatmap(conf_matrix, annot=True, cmap=\"Blues\", fmt=\"d\", cbar=False)\n",
    "\n",
    "# Resaltar los valores donde el modelo se confundió\n",
    "for i in range(len(conf_matrix)):\n",
    "    for j in range(len(conf_matrix)):\n",
    "        if i != j:\n",
    "            plt.text(j + 0.5, i + 0.5, conf_matrix[i, j], ha=\"center\", va=\"center\", color=\"red\")\n",
    "\n",
    "plt.xlabel('Predicted labels')\n",
    "plt.ylabel('True labels')\n",
    "plt.title('Confusion Matrix')\n",
    "plt.show()\n",
    "\n",
    "# Imprimir métricas\n",
    "print(\"F1 Score:\", f1)\n",
    "print(\"Sensibilidad (Recall):\", sensibilidad)\n",
    "print(\"Especificidad por clase:\", especificidad)\n",
    "print(\"Exactitud:\", exactitud)"
   ]
  },
  {
   "cell_type": "markdown",
   "metadata": {},
   "source": [
    "Para complementar los resultados obtenidos a partir de la matriz de confusión y proporcionar una perspectiva más general del rendimiento del modelo Gradient Boosting, es útil comparar las predicciones del modelo con los autoinformes proporcionados por los participantes. Esta comparación permite evaluar la concordancia entre las respuestas emocionales predichas por el modelo y la percepción subjetiva de las emociones experimentadas por los individuos."
   ]
  },
  {
   "cell_type": "code",
   "execution_count": 6,
   "metadata": {},
   "outputs": [
    {
     "data": {
      "image/png": "[encoded data removed]",
      "text/plain": [
       "<Figure size 1300x700 with 1 Axes>"
      ]
     },
     "metadata": {},
     "output_type": "display_data"
    }
   ],
   "source": [
    "df = pd.DataFrame(datos)\n",
    "\n",
    "# Ahora, creamos un boxplot con Seaborn para cada categoría en 'Emoción'\n",
    "plt.figure(figsize=(13,7))\n",
    "sns.boxplot(x='Emoción', y='Calificación', data=df, palette=\"Set2\")\n",
    "\n",
    "# Adicionalmente, podemos superponer un 'swarmplot' para ver todas las calificaciones individuales\n",
    "sns.swarmplot(x='Emoción', y='Calificación', data=df, color=\".25\", dodge=True)\n",
    "\n",
    "# Establecemos el título y mostramos el gráfico\n",
    "plt.title('Distribución de Calificaciones por Emoción para 12 Sujetos de Prueba')\n",
    "plt.show()"
   ]
  },
  {
   "cell_type": "markdown",
   "metadata": {},
   "source": [
    "Se anexa otra gr&aacute;fica para ver la comparativa en las califiaciones de los participantes en su auto reporte."
   ]
  },
  {
   "cell_type": "code",
   "execution_count": 27,
   "metadata": {},
   "outputs": [
    {
     "data": {
      "image/png": "[encoded data removed]",
      "text/plain": [
       "<Figure size 1400x800 with 1 Axes>"
      ]
     },
     "metadata": {},
     "output_type": "display_data"
    }
   ],
   "source": [
    "df_datos = pd.DataFrame(datos)\n",
    "\n",
    "# Establecer el estilo de Seaborn\n",
    "sns.set_style(\"whitegrid\")\n",
    "\n",
    "# Crear una paleta de colores personalizada con tonos de rosa distintos\n",
    "custom_pink_palette = [\n",
    "    \"#65D271\",  \n",
    "    \"#DE1D1D\", \n",
    "    \"#1FD0B3\",  \n",
    "    \"#7810CE\",  \n",
    "    \"#3552B5\",  \n",
    "    \"#963DEF\",  \n",
    "    \"#D7EB57\",  \n",
    "    \"#6E90B0\",  \n",
    "    \"#1F9507\",  \n",
    "    \"#A50E0E\",  \n",
    "    \"#A50E8C\"   \n",
    "]\n",
    "\n",
    "# Gráfica de barras con la paleta de colores personalizada\n",
    "plt.figure(figsize=(14, 8))\n",
    "barplot = sns.barplot(\n",
    "    x='Emoción',\n",
    "    y='Calificación',\n",
    "    hue='Sujeto',\n",
    "    data=df_datos,\n",
    "    palette=custom_pink_palette[:len(df_datos['Sujeto'].unique())]  # Usa solo los colores necesarios\n",
    ")\n",
    "\n",
    "# Añadir título y etiquetas para los ejes\n",
    "plt.title('Distribución de Calificaciones por Emoción para 11 Sujetos', fontsize=20)\n",
    "plt.xlabel('Emoción', fontsize=16)\n",
    "plt.ylabel('Calificación', fontsize=16)\n",
    "\n",
    "# Ajustar la leyenda\n",
    "plt.legend(title='Sujeto', bbox_to_anchor=(1.05, 1), loc='upper left')\n",
    "\n",
    "# Ajustar layout y mostrar la gráfica\n",
    "plt.tight_layout()\n",
    "plt.show()"
   ]
  },
  {
   "cell_type": "markdown",
   "metadata": {},
   "source": [
    "## <span style=\"color:#EBBAF3;\">Conclusiones</span> "
   ]
  },
  {
   "cell_type": "markdown",
   "metadata": {},
   "source": [
    "El estudio realizado proporciona evidencia de que los estímulos visuales, específicamente los vídeos, pueden influir significativamente en las emociones de los individuos, tal como se refleja tanto en los autoinformes como en las expresiones faciales capturadas. Aunque no se alcanzó una eficacia del 100%, un éxito del 85% es notable y sugiere que los vídeos seleccionados fueron generalmente efectivos en la inducción de las emociones deseadas.\n",
    "\n",
    "Se tomo la decisión de analizar el rostro completo, debido a que al centrarse en las características específicas como los ojos, cejas, nariz y boca, no resultó en una mejora sustancial de la efectividad, incrementándola solo en un 1%. Además, esta aproximación condujo a una mayor confusión en la matriz de confusión, sin ofrecer diferencias significativas adicionales. Este resultado sugiere que la inclusión del rostro completo proporciona una visión más representativa de las expresiones emocionales, aunque el potencial para optimizar el análisis mediante la focalización en características específicas aún podría explorarse con ajustes adicionales en el código y una mayor precisión en la selección de los puntos de datos.\n",
    "\n",
    "La elección de los vídeos neutrales, realizada de manera aleatoria con el único criterio de duración, puede no haber sido óptima para inducir un estado verdaderamente neutral en los participantes. La selección de vídeos con contenido específicamente diseñado para promover la relajación podría mejorar la eficacia de esta condición y, por ende, la precisión general del estudio.\n",
    "\n",
    "Se excluyeron los datos de un participante del análisis final, reduciendo el número total de sujetos de 12 a 11, siendo una decisión metodológica significativa que refleja la importancia de la calidad y la relevancia de los datos en la construcción de modelos predictivos. En este caso, el sujeto excluido reportó no experimentar ninguna emoción en respuesta a los estímulos presentados, lo cual podría indicar una falta de compromiso o una desconexión con el contenido de los vídeos que podría sesgar o diluir las tendencias observadas en el conjunto de datos, por lo cual se decidi&oacute; no incluirlo.\n",
    "\n",
    "En conclusión, los resultados obtenidos son prometedores y presentan oportunidades para futuras mejoras, incluyendo la incorporación de datos multimodales, como audio y medidas fisiológicas, que podrían enriquecer el análisis. Una investigación más profunda sobre el tipo de vídeos más efectivos para inducir emociones específicas también podría contribuir a optimizar la metodología.\n",
    "\n",
    "Este estudio también resalta el valor educativo de realizar investigaciones de este tipo, ofreciendo experiencias prácticas en la recolección y análisis de datos emocionales. Futuras investigaciones podrían expandirse para incluir un espectro más amplio de emociones, como las propuestas por Ekman, con el objetivo de mejorar aún más la capacidad de detección de emociones a través de expresiones faciales."
   ]
  }
 ],
 "metadata": {
  "kernelspec": {
   "display_name": "Python 3",
   "language": "python",
   "name": "python3"
  },
  "language_info": {
   "codemirror_mode": {
    "name": "ipython",
    "version": 3
   },
   "file_extension": ".py",
   "mimetype": "text/x-python",
   "name": "python",
   "nbconvert_exporter": "python",
   "pygments_lexer": "ipython3",
   "version": "3.11.5"
  }
 },
 "nbformat": 4,
 "nbformat_minor": 2
}
